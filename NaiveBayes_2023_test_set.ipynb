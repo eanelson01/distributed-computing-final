{
 "cells": [
  {
   "cell_type": "markdown",
   "id": "dc445894-a5bd-4768-8672-bcebea5aebfa",
   "metadata": {},
   "source": [
    "### Creating Model 3\n",
    "\n",
    "* Creating a 3rd model for the NFL Play data. The goal is to predict the play type on 4th down.\n",
    "* Logistic Regression & Random Forest have been completed, so the next step is a Naive Bayes model, adjusting the smoothing parameters as well as whether the data are sampled relative to their regular distribution or by over and undersampling accordingly."
   ]
  },
  {
   "cell_type": "code",
   "execution_count": 2,
   "id": "6e1acab1-8e72-4add-9c2c-1798b8967ec2",
   "metadata": {},
   "outputs": [],
   "source": [
    "from pyspark.ml import Pipeline  \n",
    "from pyspark.ml.feature import *  \n",
    "import nfl_data_py as nfl\n",
    "import numpy as np\n",
    "from pyspark.sql import SparkSession\n",
    "from pyspark.sql.functions import col\n",
    "from imblearn.under_sampling import RandomUnderSampler\n",
    "from imblearn.over_sampling import SMOTENC\n",
    "import pandas as pd\n",
    "from imblearn.combine import SMOTEENN\n",
    "from DataPipelineFxn import *\n",
    "from pyspark.ml.evaluation import MulticlassClassificationEvaluator\n",
    "from pyspark.ml.tuning import TrainValidationSplit, ParamGridBuilder\n",
    "import seaborn as sns\n",
    "import matplotlib.pyplot as plt\n",
    "from pyspark.sql import functions as F"
   ]
  },
  {
   "cell_type": "code",
   "execution_count": null,
   "id": "c28b6116-fab9-4cfd-be1c-8000d1a6292b",
   "metadata": {},
   "outputs": [
    {
     "name": "stdout",
     "output_type": "stream",
     "text": [
      "2000 done.\n",
      "2001 done.\n",
      "2002 done.\n",
      "2003 done.\n",
      "2004 done.\n",
      "2005 done.\n",
      "2006 done.\n",
      "2007 done.\n",
      "2008 done.\n",
      "2009 done.\n",
      "2010 done.\n",
      "2011 done.\n",
      "2012 done.\n",
      "2013 done.\n",
      "2014 done.\n",
      "2015 done.\n",
      "2016 done.\n",
      "2017 done.\n",
      "2018 done.\n",
      "2019 done.\n",
      "2020 done.\n",
      "2021 done.\n",
      "2022 done.\n"
     ]
    },
    {
     "name": "stderr",
     "output_type": "stream",
     "text": [
      "/opt/conda/lib/python3.7/site-packages/pyspark/bin/load-spark-env.sh: line 68: ps: command not found\n",
      "Setting default log level to \"WARN\".\n",
      "To adjust logging level use sc.setLogLevel(newLevel). For SparkR, use setLogLevel(newLevel).\n"
     ]
    },
    {
     "name": "stdout",
     "output_type": "stream",
     "text": [
      "24/12/07 22:49:18 WARN NativeCodeLoader: Unable to load native-hadoop library for your platform... using builtin-java classes where applicable\n",
      "24/12/07 22:49:19 WARN Utils: Service 'SparkUI' could not bind on port 4040. Attempting port 4041.\n"
     ]
    }
   ],
   "source": [
    "# get the spark session and data frame\n",
    "data = GetSparkDF(end_year = 2023, include_undersample = True)"
   ]
  },
  {
   "cell_type": "code",
   "execution_count": 4,
   "id": "36d77955-b84d-49e8-9f84-c307e14c236d",
   "metadata": {},
   "outputs": [],
   "source": [
    "spark, df, test_df, undersample_df = data"
   ]
  },
  {
   "cell_type": "code",
   "execution_count": 5,
   "id": "20895ce8-39c0-4500-b9bd-6e9491c2de58",
   "metadata": {},
   "outputs": [
    {
     "name": "stdout",
     "output_type": "stream",
     "text": [
      "2023 done.\n"
     ]
    }
   ],
   "source": [
    "# get 2023 season data that was withheld to use as another test set\n",
    "test_df_2023 = get_2023_season_test_df()"
   ]
  },
  {
   "cell_type": "code",
   "execution_count": 6,
   "id": "5807b25c-aa6e-42a3-9ed0-aa0ea2c44b22",
   "metadata": {},
   "outputs": [],
   "source": [
    "df = df.drop('season')\n",
    "test_df_2023 = test_df_2023.drop('season')"
   ]
  },
  {
   "cell_type": "markdown",
   "id": "8968cfd5-3a1e-4df9-a459-a18f88dfebb4",
   "metadata": {},
   "source": [
    "### Create the Model Pipeline"
   ]
  },
  {
   "cell_type": "code",
   "execution_count": 7,
   "id": "84eaa2e8-7fb1-478e-86eb-ee6fec29cc7f",
   "metadata": {},
   "outputs": [],
   "source": [
    "from pyspark.ml.classification import NaiveBayes"
   ]
  },
  {
   "cell_type": "code",
   "execution_count": 8,
   "id": "a1bc846e-e84f-4728-933c-a2bb5d8f2968",
   "metadata": {},
   "outputs": [],
   "source": [
    "numeric_cols = []\n",
    "# negative_cols = ['score_differential', 'epa', 'ep', 'temp', 'posteam_timeouts_remaining', 'defteam_timeouts_remaining']\n",
    "negative_cols = []\n",
    "for field in df.schema.fields:\n",
    "    if str(field.dataType) != \"StringType()\" and (field.name not in negative_cols):\n",
    "        numeric_cols.append(field.name)\n",
    "        \n",
    "numeric_cols.remove(\"week\")"
   ]
  },
  {
   "cell_type": "code",
   "execution_count": 9,
   "id": "eee0fd6a-0322-4cb1-ba56-ab40c1f574de",
   "metadata": {},
   "outputs": [],
   "source": [
    "str_col = [\"home_team\", \"away_team\", \"season_type\", \"posteam\", \"posteam_type\", \"defteam\", \"side_of_field\", \"game_half\", \"week\",\n",
    "        \"play_type\", 'roof', 'surface']\n",
    "str_col_output = [\"home_team_idx\", \"away_team_idx\", \"season_type_idx\", \"posteam_idx\", \"posteam_type_idx\", \"defteam_idx\", \"week_idx\",\n",
    "                  \"side_of_field_idx\", \"game_half_idx\", \"play_type_idx\", 'roof_idx', 'surface_idx']\n",
    "ohe_col_input = [\"home_team_idx\", \"away_team_idx\", \"season_type_idx\", \"posteam_idx\", \"posteam_type_idx\", \"defteam_idx\", \"week_idx\",\n",
    "                  \"side_of_field_idx\", \"game_half_idx\", 'roof_idx', 'surface_idx']\n",
    "ohe_col_vec = [\"home_team_vec\", \"away_team_vec\", \"season_type_vec\", \"posteam_vec\", \"posteam_type_vec\", \"defteam_vec\", \"week_vec\",\n",
    "                  \"side_of_field_vec\", \"game_half_ivec\", 'roof_vec', 'surface_vec']\n",
    "\n",
    "\n",
    "\n",
    "# Combine numeric and one-hot encoded columns\n",
    "va_input_cols = numeric_cols + ohe_col_vec\n",
    "\n",
    "# process using string indexer first for catgeorical features  \n",
    "stringIndexer = StringIndexer(inputCols=str_col, outputCols=str_col_output)\n",
    "\n",
    "# process rating data into second feature\n",
    "ohe = OneHotEncoder(inputCols=ohe_col_input, outputCols=ohe_col_vec) \n",
    "\n",
    "# Assemble features column\n",
    "va = VectorAssembler(inputCols=va_input_cols, outputCol=\"features\", handleInvalid = \"skip\")\n",
    "\n",
    "# process data using maxabs scaler, not necessarily important for trees but consistency\n",
    "scaler = MinMaxScaler(min = 1, max = 2, inputCol=\"features\", outputCol=\"scaledFeatures\")\n",
    "\n",
    "# define the model\n",
    "nb = NaiveBayes(\n",
    "    featuresCol = 'scaledFeatures', labelCol = 'play_type_idx'\n",
    ")\n",
    "\n",
    "# Fit the pipeline\n",
    "pipeline = Pipeline(stages=[stringIndexer, ohe, va, scaler,  nb])"
   ]
  },
  {
   "cell_type": "code",
   "execution_count": 10,
   "id": "23916e45-b255-4d3d-81a7-6ea8711d2e01",
   "metadata": {},
   "outputs": [],
   "source": [
    "# hyperparameter search across max depth, bins, and iterations\n",
    "# paramGrid = ParamGridBuilder()\\\n",
    "#     .addGrid(gbt.maxDepth, np.arange(10, 100, step = 10)) \\\n",
    "#     .addGrid(gbt.maxIter, [20, 50, 100, 200])\\\n",
    "#     .addGrid(gbt.maxBins, np.arange(10, 100, step = 10))\\\n",
    "#     .build()\n",
    "\n",
    "paramGrid = ParamGridBuilder()\\\n",
    "    .addGrid(nb.smoothing, np.arange(0.05, 1, step = 0.05)) \\\n",
    "    .build()\n",
    "\n",
    "# build the evaluator\n",
    "evaluator = MulticlassClassificationEvaluator(\n",
    "    predictionCol=\"prediction\",\n",
    "    labelCol=\"play_type_idx\",\n",
    "    metricName=\"accuracy\"\n",
    ")\n",
    "\n",
    "# set up the train validation split\n",
    "tvs = TrainValidationSplit(\n",
    "    estimator=pipeline,\n",
    "    evaluator=evaluator,\n",
    "    estimatorParamMaps=paramGrid,\n",
    "    # 80% of the data will be used for training, 20% for validation.\n",
    "    trainRatio=0.8\n",
    ")"
   ]
  },
  {
   "cell_type": "code",
   "execution_count": 11,
   "id": "99dff5e2-13eb-48ba-bd30-8d7095cf5251",
   "metadata": {
    "scrolled": true
   },
   "outputs": [
    {
     "name": "stdout",
     "output_type": "stream",
     "text": [
      "24/12/07 22:34:33 WARN TaskSetManager: Stage 6 contains a task of very large size (9052 KiB). The maximum recommended task size is 1000 KiB.\n"
     ]
    },
    {
     "name": "stderr",
     "output_type": "stream",
     "text": [
      "                                                                                \r"
     ]
    },
    {
     "name": "stdout",
     "output_type": "stream",
     "text": [
      "24/12/07 22:34:36 WARN TaskSetManager: Stage 9 contains a task of very large size (9052 KiB). The maximum recommended task size is 1000 KiB.\n"
     ]
    },
    {
     "name": "stderr",
     "output_type": "stream",
     "text": [
      "                                                                                \r"
     ]
    },
    {
     "name": "stdout",
     "output_type": "stream",
     "text": [
      "24/12/07 22:34:39 WARN TaskSetManager: Stage 12 contains a task of very large size (9052 KiB). The maximum recommended task size is 1000 KiB.\n"
     ]
    },
    {
     "name": "stderr",
     "output_type": "stream",
     "text": [
      "                                                                                \r"
     ]
    },
    {
     "name": "stdout",
     "output_type": "stream",
     "text": [
      "24/12/07 22:34:43 WARN TaskSetManager: Stage 15 contains a task of very large size (9052 KiB). The maximum recommended task size is 1000 KiB.\n"
     ]
    },
    {
     "name": "stderr",
     "output_type": "stream",
     "text": [
      "                                                                                \r"
     ]
    },
    {
     "name": "stdout",
     "output_type": "stream",
     "text": [
      "24/12/07 22:34:44 WARN TaskSetManager: Stage 17 contains a task of very large size (9052 KiB). The maximum recommended task size is 1000 KiB.\n",
      "24/12/07 22:34:45 WARN TaskSetManager: Stage 20 contains a task of very large size (9052 KiB). The maximum recommended task size is 1000 KiB.\n"
     ]
    },
    {
     "name": "stderr",
     "output_type": "stream",
     "text": [
      "                                                                                \r"
     ]
    },
    {
     "name": "stdout",
     "output_type": "stream",
     "text": [
      "24/12/07 22:34:46 WARN TaskSetManager: Stage 23 contains a task of very large size (9052 KiB). The maximum recommended task size is 1000 KiB.\n"
     ]
    },
    {
     "name": "stderr",
     "output_type": "stream",
     "text": [
      "                                                                                \r"
     ]
    },
    {
     "name": "stdout",
     "output_type": "stream",
     "text": [
      "24/12/07 22:34:48 WARN TaskSetManager: Stage 26 contains a task of very large size (9052 KiB). The maximum recommended task size is 1000 KiB.\n",
      "24/12/07 22:34:49 WARN TaskSetManager: Stage 28 contains a task of very large size (9052 KiB). The maximum recommended task size is 1000 KiB.\n",
      "24/12/07 22:34:49 WARN TaskSetManager: Stage 31 contains a task of very large size (9052 KiB). The maximum recommended task size is 1000 KiB.\n"
     ]
    },
    {
     "name": "stderr",
     "output_type": "stream",
     "text": [
      "                                                                                \r"
     ]
    },
    {
     "name": "stdout",
     "output_type": "stream",
     "text": [
      "24/12/07 22:34:50 WARN TaskSetManager: Stage 34 contains a task of very large size (9052 KiB). The maximum recommended task size is 1000 KiB.\n"
     ]
    },
    {
     "name": "stderr",
     "output_type": "stream",
     "text": [
      "                                                                                \r"
     ]
    },
    {
     "name": "stdout",
     "output_type": "stream",
     "text": [
      "24/12/07 22:34:52 WARN TaskSetManager: Stage 37 contains a task of very large size (9052 KiB). The maximum recommended task size is 1000 KiB.\n",
      "24/12/07 22:34:53 WARN TaskSetManager: Stage 39 contains a task of very large size (9052 KiB). The maximum recommended task size is 1000 KiB.\n",
      "24/12/07 22:34:53 WARN TaskSetManager: Stage 42 contains a task of very large size (9052 KiB). The maximum recommended task size is 1000 KiB.\n"
     ]
    },
    {
     "name": "stderr",
     "output_type": "stream",
     "text": [
      "                                                                                \r"
     ]
    },
    {
     "name": "stdout",
     "output_type": "stream",
     "text": [
      "24/12/07 22:34:54 WARN TaskSetManager: Stage 45 contains a task of very large size (9052 KiB). The maximum recommended task size is 1000 KiB.\n"
     ]
    },
    {
     "name": "stderr",
     "output_type": "stream",
     "text": [
      "                                                                                \r"
     ]
    },
    {
     "name": "stdout",
     "output_type": "stream",
     "text": [
      "24/12/07 22:34:56 WARN TaskSetManager: Stage 48 contains a task of very large size (9052 KiB). The maximum recommended task size is 1000 KiB.\n",
      "24/12/07 22:34:56 WARN TaskSetManager: Stage 50 contains a task of very large size (9052 KiB). The maximum recommended task size is 1000 KiB.\n",
      "24/12/07 22:34:57 WARN TaskSetManager: Stage 53 contains a task of very large size (9052 KiB). The maximum recommended task size is 1000 KiB.\n",
      "24/12/07 22:34:58 WARN TaskSetManager: Stage 56 contains a task of very large size (9052 KiB). The maximum recommended task size is 1000 KiB.\n"
     ]
    },
    {
     "name": "stderr",
     "output_type": "stream",
     "text": [
      "                                                                                \r"
     ]
    },
    {
     "name": "stdout",
     "output_type": "stream",
     "text": [
      "24/12/07 22:34:59 WARN TaskSetManager: Stage 59 contains a task of very large size (9052 KiB). The maximum recommended task size is 1000 KiB.\n",
      "24/12/07 22:34:59 WARN TaskSetManager: Stage 61 contains a task of very large size (9052 KiB). The maximum recommended task size is 1000 KiB.\n",
      "24/12/07 22:35:00 WARN TaskSetManager: Stage 64 contains a task of very large size (9052 KiB). The maximum recommended task size is 1000 KiB.\n",
      "24/12/07 22:35:01 WARN TaskSetManager: Stage 67 contains a task of very large size (9052 KiB). The maximum recommended task size is 1000 KiB.\n"
     ]
    },
    {
     "name": "stderr",
     "output_type": "stream",
     "text": [
      "                                                                                \r"
     ]
    },
    {
     "name": "stdout",
     "output_type": "stream",
     "text": [
      "24/12/07 22:35:02 WARN TaskSetManager: Stage 70 contains a task of very large size (9052 KiB). The maximum recommended task size is 1000 KiB.\n",
      "24/12/07 22:35:02 WARN TaskSetManager: Stage 72 contains a task of very large size (9052 KiB). The maximum recommended task size is 1000 KiB.\n",
      "24/12/07 22:35:02 WARN TaskSetManager: Stage 75 contains a task of very large size (9052 KiB). The maximum recommended task size is 1000 KiB.\n",
      "24/12/07 22:35:03 WARN TaskSetManager: Stage 78 contains a task of very large size (9052 KiB). The maximum recommended task size is 1000 KiB.\n"
     ]
    },
    {
     "name": "stderr",
     "output_type": "stream",
     "text": [
      "                                                                                \r"
     ]
    },
    {
     "name": "stdout",
     "output_type": "stream",
     "text": [
      "24/12/07 22:35:04 WARN TaskSetManager: Stage 81 contains a task of very large size (9052 KiB). The maximum recommended task size is 1000 KiB.\n",
      "24/12/07 22:35:05 WARN TaskSetManager: Stage 83 contains a task of very large size (9052 KiB). The maximum recommended task size is 1000 KiB.\n",
      "24/12/07 22:35:05 WARN TaskSetManager: Stage 86 contains a task of very large size (9052 KiB). The maximum recommended task size is 1000 KiB.\n",
      "24/12/07 22:35:06 WARN TaskSetManager: Stage 89 contains a task of very large size (9052 KiB). The maximum recommended task size is 1000 KiB.\n"
     ]
    },
    {
     "name": "stderr",
     "output_type": "stream",
     "text": [
      "                                                                                \r"
     ]
    },
    {
     "name": "stdout",
     "output_type": "stream",
     "text": [
      "24/12/07 22:35:07 WARN TaskSetManager: Stage 92 contains a task of very large size (9052 KiB). The maximum recommended task size is 1000 KiB.\n",
      "24/12/07 22:35:07 WARN TaskSetManager: Stage 94 contains a task of very large size (9052 KiB). The maximum recommended task size is 1000 KiB.\n",
      "24/12/07 22:35:08 WARN TaskSetManager: Stage 97 contains a task of very large size (9052 KiB). The maximum recommended task size is 1000 KiB.\n",
      "24/12/07 22:35:08 WARN TaskSetManager: Stage 100 contains a task of very large size (9052 KiB). The maximum recommended task size is 1000 KiB.\n"
     ]
    },
    {
     "name": "stderr",
     "output_type": "stream",
     "text": [
      "                                                                                \r"
     ]
    },
    {
     "name": "stdout",
     "output_type": "stream",
     "text": [
      "24/12/07 22:35:09 WARN TaskSetManager: Stage 103 contains a task of very large size (9052 KiB). The maximum recommended task size is 1000 KiB.\n",
      "24/12/07 22:35:10 WARN TaskSetManager: Stage 105 contains a task of very large size (9052 KiB). The maximum recommended task size is 1000 KiB.\n",
      "24/12/07 22:35:10 WARN TaskSetManager: Stage 108 contains a task of very large size (9052 KiB). The maximum recommended task size is 1000 KiB.\n",
      "24/12/07 22:35:11 WARN TaskSetManager: Stage 111 contains a task of very large size (9052 KiB). The maximum recommended task size is 1000 KiB.\n"
     ]
    },
    {
     "name": "stderr",
     "output_type": "stream",
     "text": [
      "                                                                                \r"
     ]
    },
    {
     "name": "stdout",
     "output_type": "stream",
     "text": [
      "24/12/07 22:35:12 WARN TaskSetManager: Stage 114 contains a task of very large size (9052 KiB). The maximum recommended task size is 1000 KiB.\n",
      "24/12/07 22:35:12 WARN TaskSetManager: Stage 116 contains a task of very large size (9052 KiB). The maximum recommended task size is 1000 KiB.\n",
      "24/12/07 22:35:13 WARN TaskSetManager: Stage 119 contains a task of very large size (9052 KiB). The maximum recommended task size is 1000 KiB.\n",
      "24/12/07 22:35:13 WARN TaskSetManager: Stage 122 contains a task of very large size (9052 KiB). The maximum recommended task size is 1000 KiB.\n"
     ]
    },
    {
     "name": "stderr",
     "output_type": "stream",
     "text": [
      "                                                                                \r"
     ]
    },
    {
     "name": "stdout",
     "output_type": "stream",
     "text": [
      "24/12/07 22:35:14 WARN TaskSetManager: Stage 125 contains a task of very large size (9052 KiB). The maximum recommended task size is 1000 KiB.\n",
      "24/12/07 22:35:15 WARN TaskSetManager: Stage 127 contains a task of very large size (9052 KiB). The maximum recommended task size is 1000 KiB.\n",
      "24/12/07 22:35:15 WARN TaskSetManager: Stage 130 contains a task of very large size (9052 KiB). The maximum recommended task size is 1000 KiB.\n",
      "24/12/07 22:35:16 WARN TaskSetManager: Stage 133 contains a task of very large size (9052 KiB). The maximum recommended task size is 1000 KiB.\n"
     ]
    },
    {
     "name": "stderr",
     "output_type": "stream",
     "text": [
      "                                                                                \r"
     ]
    },
    {
     "name": "stdout",
     "output_type": "stream",
     "text": [
      "24/12/07 22:35:17 WARN TaskSetManager: Stage 136 contains a task of very large size (9052 KiB). The maximum recommended task size is 1000 KiB.\n",
      "24/12/07 22:35:17 WARN TaskSetManager: Stage 138 contains a task of very large size (9052 KiB). The maximum recommended task size is 1000 KiB.\n",
      "24/12/07 22:35:17 WARN TaskSetManager: Stage 141 contains a task of very large size (9052 KiB). The maximum recommended task size is 1000 KiB.\n",
      "24/12/07 22:35:18 WARN TaskSetManager: Stage 144 contains a task of very large size (9052 KiB). The maximum recommended task size is 1000 KiB.\n"
     ]
    },
    {
     "name": "stderr",
     "output_type": "stream",
     "text": [
      "                                                                                \r"
     ]
    },
    {
     "name": "stdout",
     "output_type": "stream",
     "text": [
      "24/12/07 22:35:19 WARN TaskSetManager: Stage 147 contains a task of very large size (9052 KiB). The maximum recommended task size is 1000 KiB.\n",
      "24/12/07 22:35:19 WARN TaskSetManager: Stage 149 contains a task of very large size (9052 KiB). The maximum recommended task size is 1000 KiB.\n",
      "24/12/07 22:35:20 WARN TaskSetManager: Stage 152 contains a task of very large size (9052 KiB). The maximum recommended task size is 1000 KiB.\n",
      "24/12/07 22:35:20 WARN TaskSetManager: Stage 155 contains a task of very large size (9052 KiB). The maximum recommended task size is 1000 KiB.\n"
     ]
    },
    {
     "name": "stderr",
     "output_type": "stream",
     "text": [
      "                                                                                \r"
     ]
    },
    {
     "name": "stdout",
     "output_type": "stream",
     "text": [
      "24/12/07 22:35:21 WARN TaskSetManager: Stage 158 contains a task of very large size (9052 KiB). The maximum recommended task size is 1000 KiB.\n",
      "24/12/07 22:35:22 WARN TaskSetManager: Stage 160 contains a task of very large size (9052 KiB). The maximum recommended task size is 1000 KiB.\n",
      "24/12/07 22:35:22 WARN TaskSetManager: Stage 163 contains a task of very large size (9052 KiB). The maximum recommended task size is 1000 KiB.\n",
      "24/12/07 22:35:23 WARN TaskSetManager: Stage 166 contains a task of very large size (9052 KiB). The maximum recommended task size is 1000 KiB.\n"
     ]
    },
    {
     "name": "stderr",
     "output_type": "stream",
     "text": [
      "                                                                                \r"
     ]
    },
    {
     "name": "stdout",
     "output_type": "stream",
     "text": [
      "24/12/07 22:35:23 WARN TaskSetManager: Stage 169 contains a task of very large size (9052 KiB). The maximum recommended task size is 1000 KiB.\n",
      "24/12/07 22:35:24 WARN TaskSetManager: Stage 171 contains a task of very large size (9052 KiB). The maximum recommended task size is 1000 KiB.\n",
      "24/12/07 22:35:24 WARN TaskSetManager: Stage 174 contains a task of very large size (9052 KiB). The maximum recommended task size is 1000 KiB.\n",
      "24/12/07 22:35:25 WARN TaskSetManager: Stage 177 contains a task of very large size (9052 KiB). The maximum recommended task size is 1000 KiB.\n"
     ]
    },
    {
     "name": "stderr",
     "output_type": "stream",
     "text": [
      "                                                                                \r"
     ]
    },
    {
     "name": "stdout",
     "output_type": "stream",
     "text": [
      "24/12/07 22:35:26 WARN TaskSetManager: Stage 180 contains a task of very large size (9052 KiB). The maximum recommended task size is 1000 KiB.\n",
      "24/12/07 22:35:26 WARN TaskSetManager: Stage 182 contains a task of very large size (9052 KiB). The maximum recommended task size is 1000 KiB.\n",
      "24/12/07 22:35:27 WARN TaskSetManager: Stage 185 contains a task of very large size (9052 KiB). The maximum recommended task size is 1000 KiB.\n",
      "24/12/07 22:35:27 WARN TaskSetManager: Stage 188 contains a task of very large size (9052 KiB). The maximum recommended task size is 1000 KiB.\n"
     ]
    },
    {
     "name": "stderr",
     "output_type": "stream",
     "text": [
      "                                                                                \r"
     ]
    },
    {
     "name": "stdout",
     "output_type": "stream",
     "text": [
      "24/12/07 22:35:28 WARN TaskSetManager: Stage 191 contains a task of very large size (9052 KiB). The maximum recommended task size is 1000 KiB.\n",
      "24/12/07 22:35:29 WARN TaskSetManager: Stage 193 contains a task of very large size (9052 KiB). The maximum recommended task size is 1000 KiB.\n",
      "24/12/07 22:35:29 WARN TaskSetManager: Stage 196 contains a task of very large size (9052 KiB). The maximum recommended task size is 1000 KiB.\n",
      "24/12/07 22:35:29 WARN TaskSetManager: Stage 199 contains a task of very large size (9052 KiB). The maximum recommended task size is 1000 KiB.\n"
     ]
    },
    {
     "name": "stderr",
     "output_type": "stream",
     "text": [
      "                                                                                \r"
     ]
    },
    {
     "name": "stdout",
     "output_type": "stream",
     "text": [
      "24/12/07 22:35:30 WARN TaskSetManager: Stage 202 contains a task of very large size (9052 KiB). The maximum recommended task size is 1000 KiB.\n",
      "24/12/07 22:35:31 WARN TaskSetManager: Stage 204 contains a task of very large size (9052 KiB). The maximum recommended task size is 1000 KiB.\n",
      "24/12/07 22:35:31 WARN TaskSetManager: Stage 207 contains a task of very large size (9052 KiB). The maximum recommended task size is 1000 KiB.\n",
      "24/12/07 22:35:32 WARN TaskSetManager: Stage 210 contains a task of very large size (9052 KiB). The maximum recommended task size is 1000 KiB.\n"
     ]
    },
    {
     "name": "stderr",
     "output_type": "stream",
     "text": [
      "                                                                                \r"
     ]
    },
    {
     "name": "stdout",
     "output_type": "stream",
     "text": [
      "24/12/07 22:35:33 WARN TaskSetManager: Stage 213 contains a task of very large size (9052 KiB). The maximum recommended task size is 1000 KiB.\n",
      "24/12/07 22:35:33 WARN TaskSetManager: Stage 215 contains a task of very large size (9052 KiB). The maximum recommended task size is 1000 KiB.\n",
      "24/12/07 22:35:34 WARN TaskSetManager: Stage 218 contains a task of very large size (9052 KiB). The maximum recommended task size is 1000 KiB.\n"
     ]
    },
    {
     "name": "stderr",
     "output_type": "stream",
     "text": [
      "                                                                                \r"
     ]
    },
    {
     "name": "stdout",
     "output_type": "stream",
     "text": [
      "24/12/07 22:35:35 WARN TaskSetManager: Stage 221 contains a task of very large size (9052 KiB). The maximum recommended task size is 1000 KiB.\n"
     ]
    },
    {
     "name": "stderr",
     "output_type": "stream",
     "text": [
      "                                                                                \r"
     ]
    }
   ],
   "source": [
    "# need to replace the empty string in surface\n",
    "df = df.withColumn(\n",
    "    'surface',\n",
    "    F.when(df.surface == '', 'Undefined').otherwise(df.surface)\n",
    ")\n",
    "\n",
    "undersample_df = undersample_df.withColumn(\n",
    "    'surface',\n",
    "    F.when(undersample_df.surface == '', 'Undefined').otherwise(undersample_df.surface)\n",
    ")\n",
    "\n",
    "# fit the model with the hyperparameter search\n",
    "nb_model = tvs.fit(df)\n"
   ]
  },
  {
   "cell_type": "markdown",
   "id": "1fa9c326-f0aa-4c4e-8602-e0afd32af9bc",
   "metadata": {},
   "source": [
    "### Evaluate the Models"
   ]
  },
  {
   "cell_type": "markdown",
   "id": "a2b3d943-6ee7-4713-9569-a085572419e8",
   "metadata": {},
   "source": [
    "#### Non-Undersample"
   ]
  },
  {
   "cell_type": "code",
   "execution_count": 12,
   "id": "379fa92e-0041-48d1-bb80-ba5012951bbd",
   "metadata": {},
   "outputs": [
    {
     "name": "stdout",
     "output_type": "stream",
     "text": [
      "Tuned Parameters of the Best Model:\n",
      "featuresCol: scaledFeatures\n",
      "labelCol: play_type_idx\n",
      "modelType: multinomial\n",
      "predictionCol: prediction\n",
      "probabilityCol: probability\n",
      "rawPredictionCol: rawPrediction\n",
      "smoothing: 0.05\n"
     ]
    }
   ],
   "source": [
    "best_model = nb_model.bestModel\n",
    "\n",
    "# Extract the parameter map of the best model\n",
    "best_params = best_model.stages[-1].extractParamMap()\n",
    "\n",
    "# Print the parameters values\n",
    "print(\"Tuned Parameters of the Best Model:\")\n",
    "for param, value in best_params.items():\n",
    "    print(f\"{param.name}: {value}\")"
   ]
  },
  {
   "cell_type": "code",
   "execution_count": 13,
   "id": "b35437ee-aa32-456f-b6cb-c4f3925686d7",
   "metadata": {},
   "outputs": [],
   "source": [
    "# have to change test df instance\n",
    "test_df = test_df.withColumn(\n",
    "    'surface',\n",
    "    F.when(test_df.surface == '', 'Undefined').otherwise(test_df.surface)\n",
    ")\n",
    "\n",
    "test_df_2023 = test_df_2023.withColumn(\n",
    "    'surface',\n",
    "    F.when(test_df_2023.surface == '', 'Undefined').otherwise(test_df_2023.surface)\n",
    ")\n",
    "\n",
    "prediction = best_model.transform(test_df)\n",
    "prediction2 = best_model.transform(test_df_2023)"
   ]
  },
  {
   "cell_type": "code",
   "execution_count": 14,
   "id": "4c7a9720-fe4d-4c2c-bdd0-02adf1f269e9",
   "metadata": {},
   "outputs": [
    {
     "name": "stdout",
     "output_type": "stream",
     "text": [
      "24/12/07 22:36:02 WARN TaskSetManager: Stage 224 contains a task of very large size (9052 KiB). The maximum recommended task size is 1000 KiB.\n"
     ]
    },
    {
     "name": "stderr",
     "output_type": "stream",
     "text": [
      "[Stage 224:>                (0 + 2) / 2][Stage 225:>                (0 + 0) / 2]\r"
     ]
    },
    {
     "name": "stdout",
     "output_type": "stream",
     "text": [
      "24/12/07 22:36:02 WARN TaskSetManager: Stage 225 contains a task of very large size (9052 KiB). The maximum recommended task size is 1000 KiB.\n"
     ]
    },
    {
     "name": "stderr",
     "output_type": "stream",
     "text": [
      "                                                                                \r"
     ]
    },
    {
     "name": "stdout",
     "output_type": "stream",
     "text": [
      "24/12/07 22:36:07 WARN TaskSetManager: Stage 234 contains a task of very large size (9052 KiB). The maximum recommended task size is 1000 KiB.\n"
     ]
    },
    {
     "name": "stderr",
     "output_type": "stream",
     "text": [
      "[Stage 234:>                (0 + 2) / 2][Stage 235:>                (0 + 0) / 2]\r"
     ]
    },
    {
     "name": "stdout",
     "output_type": "stream",
     "text": [
      "24/12/07 22:36:08 WARN TaskSetManager: Stage 235 contains a task of very large size (9052 KiB). The maximum recommended task size is 1000 KiB.\n"
     ]
    },
    {
     "name": "stderr",
     "output_type": "stream",
     "text": [
      "                                                                                \r"
     ]
    },
    {
     "name": "stdout",
     "output_type": "stream",
     "text": [
      "24/12/07 22:36:11 WARN TaskSetManager: Stage 244 contains a task of very large size (9052 KiB). The maximum recommended task size is 1000 KiB.\n",
      "24/12/07 22:36:12 WARN TaskSetManager: Stage 245 contains a task of very large size (9052 KiB). The maximum recommended task size is 1000 KiB.\n"
     ]
    },
    {
     "name": "stderr",
     "output_type": "stream",
     "text": [
      "                                                                                \r"
     ]
    },
    {
     "name": "stdout",
     "output_type": "stream",
     "text": [
      "24/12/07 22:36:15 WARN TaskSetManager: Stage 254 contains a task of very large size (9052 KiB). The maximum recommended task size is 1000 KiB.\n"
     ]
    },
    {
     "name": "stderr",
     "output_type": "stream",
     "text": [
      "[Stage 254:>                (0 + 2) / 2][Stage 255:>                (0 + 0) / 2]\r"
     ]
    },
    {
     "name": "stdout",
     "output_type": "stream",
     "text": [
      "24/12/07 22:36:15 WARN TaskSetManager: Stage 255 contains a task of very large size (9052 KiB). The maximum recommended task size is 1000 KiB.\n"
     ]
    },
    {
     "name": "stderr",
     "output_type": "stream",
     "text": [
      "                                                                                \r"
     ]
    },
    {
     "name": "stdout",
     "output_type": "stream",
     "text": [
      "24/12/07 22:36:18 WARN TaskSetManager: Stage 264 contains a task of very large size (9052 KiB). The maximum recommended task size is 1000 KiB.\n",
      "24/12/07 22:36:18 WARN TaskSetManager: Stage 265 contains a task of very large size (9052 KiB). The maximum recommended task size is 1000 KiB.\n"
     ]
    },
    {
     "name": "stderr",
     "output_type": "stream",
     "text": [
      "[Stage 268:>                                                        (0 + 2) / 2]\r"
     ]
    },
    {
     "name": "stdout",
     "output_type": "stream",
     "text": [
      "\n",
      "F1: 0.5732954336304947\n",
      "Accuracy: 0.6975705951631015\n",
      "Precision by Label: 0.6975705951631015\n",
      "Weighted Precision: 0.4866047352362037\n",
      "Weighted Recall: 0.6975705951631015\n",
      "\n"
     ]
    },
    {
     "name": "stderr",
     "output_type": "stream",
     "text": [
      "                                                                                \r"
     ]
    }
   ],
   "source": [
    "f1_evaluator = MulticlassClassificationEvaluator(\n",
    "    labelCol='play_type_idx', predictionCol=\"prediction\",\n",
    "    metricName='f1'\n",
    ")\n",
    "\n",
    "accuracy_evaluator = MulticlassClassificationEvaluator(\n",
    "    labelCol='play_type_idx', predictionCol=\"prediction\",\n",
    "    metricName='accuracy'\n",
    ")\n",
    "\n",
    "precision_by_label_eval = MulticlassClassificationEvaluator(\n",
    "    labelCol='play_type_idx', predictionCol=\"prediction\",\n",
    "    metricName='precisionByLabel'\n",
    ")\n",
    "\n",
    "weighted_precision_eval = MulticlassClassificationEvaluator(\n",
    "    labelCol='play_type_idx', predictionCol=\"prediction\",\n",
    "    metricName='weightedPrecision'\n",
    ")\n",
    "\n",
    "\n",
    "weighted_recall_eval = MulticlassClassificationEvaluator(\n",
    "    labelCol='play_type_idx', predictionCol=\"prediction\",\n",
    "    metricName='weightedRecall'\n",
    ")\n",
    "\n",
    "f1_score = f1_evaluator.evaluate(prediction)\n",
    "accuracy = accuracy_evaluator.evaluate(prediction)\n",
    "precision_by_label = precision_by_label_eval.evaluate(prediction)\n",
    "precision = weighted_precision_eval.evaluate(prediction)\n",
    "recall = weighted_recall_eval.evaluate(prediction)\n",
    "\n",
    "results = f'''\n",
    "F1: {f1_score}\n",
    "Accuracy: {accuracy}\n",
    "Precision by Label: {precision_by_label}\n",
    "Weighted Precision: {precision}\n",
    "Weighted Recall: {recall}\n",
    "'''\n",
    "\n",
    "print(results)"
   ]
  },
  {
   "cell_type": "markdown",
   "id": "ab65079e-74dc-4d5c-8ed2-29fa2f202fb3",
   "metadata": {},
   "source": [
    "### 2023 Season Test Set Analysis"
   ]
  },
  {
   "cell_type": "code",
   "execution_count": 15,
   "id": "54082823-6013-4610-bc0a-29768e34e6ef",
   "metadata": {},
   "outputs": [
    {
     "name": "stdout",
     "output_type": "stream",
     "text": [
      "\n",
      "F1: 0.3859501676857933\n",
      "Accuracy: 0.5462485113140135\n",
      "Precision by Label: 0.5462485113140135\n",
      "Weighted Precision: 0.29838743611277596\n",
      "Weighted Recall: 0.5462485113140135\n",
      "\n"
     ]
    }
   ],
   "source": [
    "f1_evaluator = MulticlassClassificationEvaluator(\n",
    "    labelCol='play_type_idx', predictionCol=\"prediction\",\n",
    "    metricName='f1'\n",
    ")\n",
    "\n",
    "accuracy_evaluator = MulticlassClassificationEvaluator(\n",
    "    labelCol='play_type_idx', predictionCol=\"prediction\",\n",
    "    metricName='accuracy'\n",
    ")\n",
    "\n",
    "precision_by_label_eval = MulticlassClassificationEvaluator(\n",
    "    labelCol='play_type_idx', predictionCol=\"prediction\",\n",
    "    metricName='precisionByLabel'\n",
    ")\n",
    "\n",
    "weighted_precision_eval = MulticlassClassificationEvaluator(\n",
    "    labelCol='play_type_idx', predictionCol=\"prediction\",\n",
    "    metricName='weightedPrecision'\n",
    ")\n",
    "\n",
    "\n",
    "weighted_recall_eval = MulticlassClassificationEvaluator(\n",
    "    labelCol='play_type_idx', predictionCol=\"prediction\",\n",
    "    metricName='weightedRecall'\n",
    ")\n",
    "\n",
    "f1_score = f1_evaluator.evaluate(prediction2)\n",
    "accuracy = accuracy_evaluator.evaluate(prediction2)\n",
    "precision_by_label = precision_by_label_eval.evaluate(prediction2)\n",
    "precision = weighted_precision_eval.evaluate(prediction2)\n",
    "recall = weighted_recall_eval.evaluate(prediction2)\n",
    "\n",
    "results = f'''\n",
    "F1: {f1_score}\n",
    "Accuracy: {accuracy}\n",
    "Precision by Label: {precision_by_label}\n",
    "Weighted Precision: {precision}\n",
    "Weighted Recall: {recall}\n",
    "'''\n",
    "\n",
    "print(results)"
   ]
  },
  {
   "cell_type": "code",
   "execution_count": 16,
   "id": "93762d04-5930-4435-b6ea-89b4a7410b16",
   "metadata": {},
   "outputs": [
    {
     "name": "stdout",
     "output_type": "stream",
     "text": [
      "+----------+-----+\n",
      "|prediction|count|\n",
      "+----------+-----+\n",
      "|       0.0| 2519|\n",
      "+----------+-----+\n",
      "\n"
     ]
    }
   ],
   "source": [
    "prediction2.groupby(prediction2.prediction).count().show()"
   ]
  },
  {
   "cell_type": "code",
   "execution_count": 17,
   "id": "21cd6c86-2b93-44f5-b611-f4dec6a3fba5",
   "metadata": {},
   "outputs": [
    {
     "name": "stdout",
     "output_type": "stream",
     "text": [
      "+-------------+-----+\n",
      "|play_type_idx|count|\n",
      "+-------------+-----+\n",
      "|          0.0| 1376|\n",
      "|          1.0|  555|\n",
      "|          4.0|  144|\n",
      "|          3.0|  167|\n",
      "|          2.0|  277|\n",
      "+-------------+-----+\n",
      "\n"
     ]
    }
   ],
   "source": [
    "prediction2.groupby(prediction2.play_type_idx).count().show()"
   ]
  },
  {
   "cell_type": "code",
   "execution_count": 18,
   "id": "fdf18220-4093-4635-ab84-ddfd9284d579",
   "metadata": {},
   "outputs": [],
   "source": [
    "labels = prediction2.select([prediction2.play_type, prediction2.play_type_idx]).distinct().orderBy(prediction2.play_type_idx).select(prediction2.play_type).collect()\n",
    "labels = [x[0] for x in labels]"
   ]
  },
  {
   "cell_type": "code",
   "execution_count": 19,
   "id": "9b00f9b4-0009-4294-9d5d-1ab0d2f1adbc",
   "metadata": {},
   "outputs": [
    {
     "name": "stderr",
     "output_type": "stream",
     "text": [
      "/opt/conda/lib/python3.7/site-packages/pyspark/sql/context.py:159: FutureWarning: Deprecated in 3.0.0. Use SparkSession.builder.getOrCreate() instead.\n",
      "  FutureWarning,\n"
     ]
    },
    {
     "name": "stdout",
     "output_type": "stream",
     "text": [
      "[[1376.    0.    0.    0.    0.]\n",
      " [ 555.    0.    0.    0.    0.]\n",
      " [ 277.    0.    0.    0.    0.]\n",
      " [ 167.    0.    0.    0.    0.]\n",
      " [ 144.    0.    0.    0.    0.]]\n"
     ]
    }
   ],
   "source": [
    "from pyspark.sql.types import FloatType\n",
    "from pyspark.mllib.evaluation import MulticlassMetrics\n",
    "\n",
    "#Adapting code from https://www.kaggle.com/code/ashokkumarpalivela/multiclass-classification-using-pyspark for confusion matrix\n",
    "preds_and_labels = prediction2.select(['prediction','play_type_idx'])\\\n",
    "                              .withColumn('play_type_idx', col('play_type_idx')\\\n",
    "                              .cast(FloatType()))\\\n",
    "                              .orderBy('prediction')\n",
    "    \n",
    "metrics = MulticlassMetrics(preds_and_labels.rdd.map(tuple))\n",
    "\n",
    "print(metrics.confusionMatrix().toArray())"
   ]
  },
  {
   "cell_type": "code",
   "execution_count": 20,
   "id": "dcf723f4-ec66-4858-89ac-098050470fe0",
   "metadata": {},
   "outputs": [
    {
     "data": {
      "text/plain": [
       "Text(95.58159722222221, 0.5, 'Actual')"
      ]
     },
     "execution_count": 20,
     "metadata": {},
     "output_type": "execute_result"
    },
    {
     "data": {
      "image/png": "[encoded data removed]",
      "text/plain": [
       "<Figure size 1000x1000 with 1 Axes>"
      ]
     },
     "metadata": {},
     "output_type": "display_data"
    }
   ],
   "source": [
    "# labels = [\"field_goal\", \"no_play\", \"pass\", \"punt\", \"run\"]\n",
    "_ = plt.figure(figsize=(10, 10))\n",
    "ax = sns.heatmap(metrics.confusionMatrix().toArray(),\n",
    "            cmap='viridis',\n",
    "            annot=True,fmt='0',\n",
    "            cbar=False, \n",
    "            xticklabels=labels,\n",
    "            yticklabels=labels)\n",
    "\n",
    "plt.title('Naive Bayes 2023 Season Test Set Confusion Matrix', fontsize = 20) # title with fontsize 20\n",
    "plt.xlabel('Predicted', fontsize = 15) # x-axis label with fontsize 15\n",
    "plt.ylabel('Actual', fontsize = 15) # y-axis label with fontsize 15\n",
    "#plt.savefig('naive-bayes-normal-confusion-matrix.png')"
   ]
  },
  {
   "cell_type": "markdown",
   "id": "7866da5a-0f72-4ee7-baf3-6233698931c3",
   "metadata": {},
   "source": [
    "### Conclusions"
   ]
  },
  {
   "cell_type": "markdown",
   "id": "6e28d1a6-06c7-4524-a4d4-f5fb9f8c2e48",
   "metadata": {},
   "source": [
    "Listed are some general observations\n",
    "* We achieve a much better performance across all metrics when we sample from the regular distribution rather than applying undersampling and oversampling. The accuracy normally is ~65% compared to ~25% when changing the sampling method. One downside is that the model predicts \"punt\" much more frequently than any other classes when regular sampling is used. Though this follows the general distribtuion of the training data, it does not account for the other classes well.\n",
    "* When comapred to the other tested models, the Naive Bayes does neither substantially better or worse. It is in line with the Logistic Regression and Random Forest methods used. "
   ]
  }
 ],
 "metadata": {
  "kernelspec": {
   "display_name": "DS7200 Spark 3.3",
   "language": "python",
   "name": "ds5110_spark3.3"
  },
  "language_info": {
   "codemirror_mode": {
    "name": "ipython",
    "version": 3
   },
   "file_extension": ".py",
   "mimetype": "text/x-python",
   "name": "python",
   "nbconvert_exporter": "python",
   "pygments_lexer": "ipython3",
   "version": "3.7.12"
  }
 },
 "nbformat": 4,
 "nbformat_minor": 5
}
