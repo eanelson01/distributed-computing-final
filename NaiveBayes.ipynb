{
 "cells": [
  {
   "cell_type": "markdown",
   "id": "dc445894-a5bd-4768-8672-bcebea5aebfa",
   "metadata": {},
   "source": [
    "### Creating Model 3\n",
    "\n",
    "* Creating a 3rd model for the NFL Play data. The goal is to predict the play type on 4th down.\n",
    "* Logistic Regression & Random Forest have been completed, so the next step is a Naive Bayes model, adjusting the smoothing parameters as well as whether the data are sampled relative to their regular distribution or by over and undersampling accordingly."
   ]
  },
  {
   "cell_type": "code",
   "execution_count": 1,
   "id": "6e1acab1-8e72-4add-9c2c-1798b8967ec2",
   "metadata": {},
   "outputs": [],
   "source": [
    "from pyspark.ml import Pipeline  \n",
    "from pyspark.ml.feature import *  \n",
    "from pyspark.ml.classification import LogisticRegression\n",
    "import nfl_data_py as nfl\n",
    "import numpy as np\n",
    "from pyspark.sql import SparkSession\n",
    "from pyspark.sql.functions import col\n",
    "from imblearn.under_sampling import RandomUnderSampler\n",
    "from imblearn.over_sampling import SMOTENC\n",
    "import pandas as pd\n",
    "from imblearn.combine import SMOTEENN\n",
    "from DataPipelineFxn import *\n",
    "from pyspark.ml.evaluation import MulticlassClassificationEvaluator\n",
    "from pyspark.ml.tuning import TrainValidationSplit, ParamGridBuilder\n",
    "import seaborn as sns\n",
    "import matplotlib.pyplot as plt\n",
    "from pyspark.sql import functions as F"
   ]
  },
  {
   "cell_type": "code",
   "execution_count": 2,
   "id": "c28b6116-fab9-4cfd-be1c-8000d1a6292b",
   "metadata": {},
   "outputs": [
    {
     "name": "stdout",
     "output_type": "stream",
     "text": [
      "2000 done.\n",
      "2001 done.\n",
      "2002 done.\n",
      "2003 done.\n",
      "2004 done.\n",
      "2005 done.\n",
      "2006 done.\n",
      "2007 done.\n",
      "2008 done.\n",
      "2009 done.\n",
      "2010 done.\n",
      "2011 done.\n",
      "2012 done.\n",
      "2013 done.\n",
      "2014 done.\n",
      "2015 done.\n",
      "2016 done.\n",
      "2017 done.\n",
      "2018 done.\n",
      "2019 done.\n",
      "2020 done.\n",
      "2021 done.\n",
      "2022 done.\n",
      "2023 done.\n"
     ]
    },
    {
     "name": "stderr",
     "output_type": "stream",
     "text": [
      "Setting default log level to \"WARN\".\n",
      "To adjust logging level use sc.setLogLevel(newLevel). For SparkR, use setLogLevel(newLevel).\n",
      "24/12/02 20:00:46 WARN NativeCodeLoader: Unable to load native-hadoop library for your platform... using builtin-java classes where applicable\n",
      "24/12/02 20:00:47 WARN Utils: Service 'SparkUI' could not bind on port 4040. Attempting port 4041.\n",
      "24/12/02 20:01:01 WARN package: Truncated the string representation of a plan since it was too large. This behavior can be adjusted by setting 'spark.sql.debug.maxToStringFields'.\n",
      "24/12/02 20:01:02 WARN TaskSetManager: Stage 0 contains a task of very large size (9437 KiB). The maximum recommended task size is 1000 KiB.\n",
      "24/12/02 20:01:10 WARN TaskSetManager: Stage 3 contains a task of very large size (9437 KiB). The maximum recommended task size is 1000 KiB.\n",
      "24/12/02 20:01:15 WARN TaskSetManager: Stage 4 contains a task of very large size (3174 KiB). The maximum recommended task size is 1000 KiB.\n",
      "24/12/02 20:01:18 WARN TaskSetManager: Stage 5 contains a task of very large size (1934 KiB). The maximum recommended task size is 1000 KiB.\n"
     ]
    }
   ],
   "source": [
    "# get the spark session and data frame\n",
    "data = GetSparkDF(include_undersample = True)"
   ]
  },
  {
   "cell_type": "code",
   "execution_count": 3,
   "id": "36d77955-b84d-49e8-9f84-c307e14c236d",
   "metadata": {},
   "outputs": [],
   "source": [
    "spark, df, test_df, undersample_df = data"
   ]
  },
  {
   "cell_type": "markdown",
   "id": "8968cfd5-3a1e-4df9-a459-a18f88dfebb4",
   "metadata": {},
   "source": [
    "### Create the Model Pipeline"
   ]
  },
  {
   "cell_type": "code",
   "execution_count": 4,
   "id": "84eaa2e8-7fb1-478e-86eb-ee6fec29cc7f",
   "metadata": {},
   "outputs": [],
   "source": [
    "from pyspark.ml.classification import NaiveBayes"
   ]
  },
  {
   "cell_type": "code",
   "execution_count": 5,
   "id": "eee0fd6a-0322-4cb1-ba56-ab40c1f574de",
   "metadata": {},
   "outputs": [],
   "source": [
    "str_col = [\"home_team\", \"away_team\", \"season_type\", \"posteam\", \"posteam_type\", \"defteam\", \"side_of_field\", \"game_half\",\n",
    "        \"play_type\", \"season\", 'roof', 'surface']\n",
    "str_col_output = [\"home_team_idx\", \"away_team_idx\", \"season_type_idx\", \"posteam_idx\", \"posteam_type_idx\", \"defteam_idx\",\n",
    "                  \"side_of_field_idx\", \"game_half_idx\", \"play_type_idx\", \"season_idx\", 'roof_idx', 'surface_idx']\n",
    "ohe_col_input = [\"home_team_idx\", \"away_team_idx\", \"season_type_idx\", \"posteam_idx\", \"posteam_type_idx\", \"defteam_idx\",\n",
    "                  \"side_of_field_idx\", \"game_half_idx\", \"season_idx\", 'roof_idx', 'surface_idx']\n",
    "ohe_col_vec = [\"home_team_vec\", \"away_team_vec\", \"season_type_vec\", \"posteam_vec\", \"posteam_type_vec\", \"defteam_vec\",\n",
    "                  \"side_of_field_vec\", \"game_half_ivec\", \"season_vec\", 'roof_vec', 'surface_vec']\n",
    "\n",
    "\n",
    "# process using string indexer first for catgeorical features  \n",
    "stringIndexer = StringIndexer(inputCols=str_col, outputCols=str_col_output)\n",
    "\n",
    "# process rating data into second feature\n",
    "ohe = OneHotEncoder(inputCols=ohe_col_input, outputCols=ohe_col_vec) \n",
    "\n",
    "# Assemble features column\n",
    "va = VectorAssembler(inputCols=ohe_col_vec, outputCol=\"features\") \n",
    "\n",
    "# process data using maxabs scaler, not necessarily important for trees but consistency\n",
    "scaler = MaxAbsScaler(inputCol=\"features\", outputCol=\"scaledFeatures\")\n",
    "\n",
    "# define the model\n",
    "nb = NaiveBayes(\n",
    "    featuresCol = 'features', labelCol = 'play_type_idx'\n",
    ")\n",
    "\n",
    "# Fit the pipeline\n",
    "pipeline = Pipeline(stages=[stringIndexer, ohe, va, scaler, nb])"
   ]
  },
  {
   "cell_type": "code",
   "execution_count": 6,
   "id": "23916e45-b255-4d3d-81a7-6ea8711d2e01",
   "metadata": {},
   "outputs": [],
   "source": [
    "# hyperparameter search across max depth, bins, and iterations\n",
    "# paramGrid = ParamGridBuilder()\\\n",
    "#     .addGrid(gbt.maxDepth, np.arange(10, 100, step = 10)) \\\n",
    "#     .addGrid(gbt.maxIter, [20, 50, 100, 200])\\\n",
    "#     .addGrid(gbt.maxBins, np.arange(10, 100, step = 10))\\\n",
    "#     .build()\n",
    "\n",
    "paramGrid = ParamGridBuilder()\\\n",
    "    .addGrid(nb.smoothing, np.arange(0.05, 1, step = 0.05)) \\\n",
    "    .build()\n",
    "\n",
    "# build the evaluator\n",
    "evaluator = MulticlassClassificationEvaluator(\n",
    "    predictionCol=\"prediction\",\n",
    "    labelCol=\"play_type_idx\",\n",
    "    metricName=\"accuracy\"\n",
    ")\n",
    "\n",
    "# set up the train validation split\n",
    "tvs = TrainValidationSplit(\n",
    "    estimator=pipeline,\n",
    "    evaluator=evaluator,\n",
    "    estimatorParamMaps=paramGrid,\n",
    "    # 80% of the data will be used for training, 20% for validation.\n",
    "    trainRatio=0.8\n",
    ")"
   ]
  },
  {
   "cell_type": "code",
   "execution_count": 7,
   "id": "1a924059-9309-4b93-b118-caa25f5c0360",
   "metadata": {},
   "outputs": [
    {
     "name": "stderr",
     "output_type": "stream",
     "text": [
      "24/12/02 20:01:27 WARN TaskSetManager: Stage 6 contains a task of very large size (9437 KiB). The maximum recommended task size is 1000 KiB.\n",
      "                                                                                \r"
     ]
    },
    {
     "name": "stdout",
     "output_type": "stream",
     "text": [
      "+--------+\n",
      "|    roof|\n",
      "+--------+\n",
      "|outdoors|\n",
      "|  closed|\n",
      "|    open|\n",
      "|    dome|\n",
      "+--------+\n",
      "\n"
     ]
    }
   ],
   "source": [
    "df.select(df.roof).distinct().show()"
   ]
  },
  {
   "cell_type": "code",
   "execution_count": 28,
   "id": "99dff5e2-13eb-48ba-bd30-8d7095cf5251",
   "metadata": {
    "scrolled": true
   },
   "outputs": [
    {
     "name": "stderr",
     "output_type": "stream",
     "text": [
      "24/12/02 20:10:52 WARN TaskSetManager: Stage 1122 contains a task of very large size (9437 KiB). The maximum recommended task size is 1000 KiB.\n",
      "24/12/02 20:10:53 WARN TaskSetManager: Stage 1125 contains a task of very large size (9437 KiB). The maximum recommended task size is 1000 KiB.\n",
      "24/12/02 20:10:54 WARN TaskSetManager: Stage 1128 contains a task of very large size (9437 KiB). The maximum recommended task size is 1000 KiB.\n",
      "24/12/02 20:10:54 WARN TaskSetManager: Stage 1131 contains a task of very large size (9437 KiB). The maximum recommended task size is 1000 KiB.\n",
      "24/12/02 20:10:55 WARN TaskSetManager: Stage 1133 contains a task of very large size (9437 KiB). The maximum recommended task size is 1000 KiB.\n",
      "24/12/02 20:10:56 WARN TaskSetManager: Stage 1136 contains a task of very large size (9437 KiB). The maximum recommended task size is 1000 KiB.\n",
      "24/12/02 20:10:56 WARN TaskSetManager: Stage 1139 contains a task of very large size (9437 KiB). The maximum recommended task size is 1000 KiB.\n",
      "24/12/02 20:10:56 WARN TaskSetManager: Stage 1142 contains a task of very large size (9437 KiB). The maximum recommended task size is 1000 KiB.\n",
      "24/12/02 20:10:57 WARN TaskSetManager: Stage 1144 contains a task of very large size (9437 KiB). The maximum recommended task size is 1000 KiB.\n",
      "24/12/02 20:10:57 WARN TaskSetManager: Stage 1147 contains a task of very large size (9437 KiB). The maximum recommended task size is 1000 KiB.\n",
      "24/12/02 20:10:58 WARN TaskSetManager: Stage 1150 contains a task of very large size (9437 KiB). The maximum recommended task size is 1000 KiB.\n",
      "24/12/02 20:10:58 WARN TaskSetManager: Stage 1153 contains a task of very large size (9437 KiB). The maximum recommended task size is 1000 KiB.\n",
      "24/12/02 20:10:58 WARN TaskSetManager: Stage 1155 contains a task of very large size (9437 KiB). The maximum recommended task size is 1000 KiB.\n",
      "24/12/02 20:10:58 WARN TaskSetManager: Stage 1158 contains a task of very large size (9437 KiB). The maximum recommended task size is 1000 KiB.\n",
      "24/12/02 20:10:59 WARN TaskSetManager: Stage 1161 contains a task of very large size (9437 KiB). The maximum recommended task size is 1000 KiB.\n",
      "24/12/02 20:10:59 WARN TaskSetManager: Stage 1164 contains a task of very large size (9437 KiB). The maximum recommended task size is 1000 KiB.\n",
      "24/12/02 20:11:00 WARN TaskSetManager: Stage 1166 contains a task of very large size (9437 KiB). The maximum recommended task size is 1000 KiB.\n",
      "24/12/02 20:11:00 WARN TaskSetManager: Stage 1169 contains a task of very large size (9437 KiB). The maximum recommended task size is 1000 KiB.\n",
      "24/12/02 20:11:01 WARN TaskSetManager: Stage 1172 contains a task of very large size (9437 KiB). The maximum recommended task size is 1000 KiB.\n",
      "24/12/02 20:11:01 WARN TaskSetManager: Stage 1175 contains a task of very large size (9437 KiB). The maximum recommended task size is 1000 KiB.\n",
      "24/12/02 20:11:02 WARN TaskSetManager: Stage 1177 contains a task of very large size (9437 KiB). The maximum recommended task size is 1000 KiB.\n",
      "24/12/02 20:11:02 WARN TaskSetManager: Stage 1180 contains a task of very large size (9437 KiB). The maximum recommended task size is 1000 KiB.\n",
      "24/12/02 20:11:02 WARN TaskSetManager: Stage 1183 contains a task of very large size (9437 KiB). The maximum recommended task size is 1000 KiB.\n",
      "24/12/02 20:11:03 WARN TaskSetManager: Stage 1186 contains a task of very large size (9437 KiB). The maximum recommended task size is 1000 KiB.\n",
      "24/12/02 20:11:03 WARN TaskSetManager: Stage 1188 contains a task of very large size (9437 KiB). The maximum recommended task size is 1000 KiB.\n",
      "24/12/02 20:11:03 WARN TaskSetManager: Stage 1191 contains a task of very large size (9437 KiB). The maximum recommended task size is 1000 KiB.\n",
      "24/12/02 20:11:04 WARN TaskSetManager: Stage 1194 contains a task of very large size (9437 KiB). The maximum recommended task size is 1000 KiB.\n",
      "24/12/02 20:11:04 WARN TaskSetManager: Stage 1197 contains a task of very large size (9437 KiB). The maximum recommended task size is 1000 KiB.\n",
      "24/12/02 20:11:04 WARN TaskSetManager: Stage 1199 contains a task of very large size (9437 KiB). The maximum recommended task size is 1000 KiB.\n",
      "24/12/02 20:11:05 WARN TaskSetManager: Stage 1202 contains a task of very large size (9437 KiB). The maximum recommended task size is 1000 KiB.\n",
      "24/12/02 20:11:05 WARN TaskSetManager: Stage 1205 contains a task of very large size (9437 KiB). The maximum recommended task size is 1000 KiB.\n",
      "24/12/02 20:11:06 WARN TaskSetManager: Stage 1208 contains a task of very large size (9437 KiB). The maximum recommended task size is 1000 KiB.\n",
      "24/12/02 20:11:06 WARN TaskSetManager: Stage 1210 contains a task of very large size (9437 KiB). The maximum recommended task size is 1000 KiB.\n",
      "24/12/02 20:11:06 WARN TaskSetManager: Stage 1213 contains a task of very large size (9437 KiB). The maximum recommended task size is 1000 KiB.\n",
      "24/12/02 20:11:07 WARN TaskSetManager: Stage 1216 contains a task of very large size (9437 KiB). The maximum recommended task size is 1000 KiB.\n",
      "24/12/02 20:11:07 WARN TaskSetManager: Stage 1219 contains a task of very large size (9437 KiB). The maximum recommended task size is 1000 KiB.\n",
      "24/12/02 20:11:07 WARN TaskSetManager: Stage 1221 contains a task of very large size (9437 KiB). The maximum recommended task size is 1000 KiB.\n",
      "24/12/02 20:11:08 WARN TaskSetManager: Stage 1224 contains a task of very large size (9437 KiB). The maximum recommended task size is 1000 KiB.\n",
      "24/12/02 20:11:08 WARN TaskSetManager: Stage 1227 contains a task of very large size (9437 KiB). The maximum recommended task size is 1000 KiB.\n",
      "24/12/02 20:11:09 WARN TaskSetManager: Stage 1230 contains a task of very large size (9437 KiB). The maximum recommended task size is 1000 KiB.\n",
      "24/12/02 20:11:09 WARN TaskSetManager: Stage 1232 contains a task of very large size (9437 KiB). The maximum recommended task size is 1000 KiB.\n",
      "24/12/02 20:11:09 WARN TaskSetManager: Stage 1235 contains a task of very large size (9437 KiB). The maximum recommended task size is 1000 KiB.\n",
      "24/12/02 20:11:10 WARN TaskSetManager: Stage 1238 contains a task of very large size (9437 KiB). The maximum recommended task size is 1000 KiB.\n",
      "24/12/02 20:11:10 WARN TaskSetManager: Stage 1241 contains a task of very large size (9437 KiB). The maximum recommended task size is 1000 KiB.\n",
      "24/12/02 20:11:10 WARN TaskSetManager: Stage 1243 contains a task of very large size (9437 KiB). The maximum recommended task size is 1000 KiB.\n",
      "24/12/02 20:11:11 WARN TaskSetManager: Stage 1246 contains a task of very large size (9437 KiB). The maximum recommended task size is 1000 KiB.\n",
      "24/12/02 20:11:11 WARN TaskSetManager: Stage 1249 contains a task of very large size (9437 KiB). The maximum recommended task size is 1000 KiB.\n",
      "24/12/02 20:11:11 WARN TaskSetManager: Stage 1252 contains a task of very large size (9437 KiB). The maximum recommended task size is 1000 KiB.\n",
      "24/12/02 20:11:12 WARN TaskSetManager: Stage 1254 contains a task of very large size (9437 KiB). The maximum recommended task size is 1000 KiB.\n",
      "24/12/02 20:11:12 WARN TaskSetManager: Stage 1257 contains a task of very large size (9437 KiB). The maximum recommended task size is 1000 KiB.\n",
      "24/12/02 20:11:13 WARN TaskSetManager: Stage 1260 contains a task of very large size (9437 KiB). The maximum recommended task size is 1000 KiB.\n",
      "24/12/02 20:11:13 WARN TaskSetManager: Stage 1263 contains a task of very large size (9437 KiB). The maximum recommended task size is 1000 KiB.\n",
      "24/12/02 20:11:13 WARN TaskSetManager: Stage 1265 contains a task of very large size (9437 KiB). The maximum recommended task size is 1000 KiB.\n",
      "24/12/02 20:11:13 WARN TaskSetManager: Stage 1268 contains a task of very large size (9437 KiB). The maximum recommended task size is 1000 KiB.\n",
      "24/12/02 20:11:14 WARN TaskSetManager: Stage 1271 contains a task of very large size (9437 KiB). The maximum recommended task size is 1000 KiB.\n",
      "24/12/02 20:11:14 WARN TaskSetManager: Stage 1274 contains a task of very large size (9437 KiB). The maximum recommended task size is 1000 KiB.\n",
      "24/12/02 20:11:15 WARN TaskSetManager: Stage 1276 contains a task of very large size (9437 KiB). The maximum recommended task size is 1000 KiB.\n",
      "24/12/02 20:11:15 WARN TaskSetManager: Stage 1279 contains a task of very large size (9437 KiB). The maximum recommended task size is 1000 KiB.\n",
      "24/12/02 20:11:15 WARN TaskSetManager: Stage 1282 contains a task of very large size (9437 KiB). The maximum recommended task size is 1000 KiB.\n",
      "24/12/02 20:11:16 WARN TaskSetManager: Stage 1285 contains a task of very large size (9437 KiB). The maximum recommended task size is 1000 KiB.\n",
      "24/12/02 20:11:16 WARN TaskSetManager: Stage 1287 contains a task of very large size (9437 KiB). The maximum recommended task size is 1000 KiB.\n",
      "24/12/02 20:11:16 WARN TaskSetManager: Stage 1290 contains a task of very large size (9437 KiB). The maximum recommended task size is 1000 KiB.\n",
      "24/12/02 20:11:17 WARN TaskSetManager: Stage 1293 contains a task of very large size (9437 KiB). The maximum recommended task size is 1000 KiB.\n",
      "24/12/02 20:11:17 WARN TaskSetManager: Stage 1296 contains a task of very large size (9437 KiB). The maximum recommended task size is 1000 KiB.\n",
      "24/12/02 20:11:18 WARN TaskSetManager: Stage 1298 contains a task of very large size (9437 KiB). The maximum recommended task size is 1000 KiB.\n",
      "24/12/02 20:11:18 WARN TaskSetManager: Stage 1301 contains a task of very large size (9437 KiB). The maximum recommended task size is 1000 KiB.\n",
      "24/12/02 20:11:18 WARN TaskSetManager: Stage 1304 contains a task of very large size (9437 KiB). The maximum recommended task size is 1000 KiB.\n",
      "24/12/02 20:11:19 WARN TaskSetManager: Stage 1307 contains a task of very large size (9437 KiB). The maximum recommended task size is 1000 KiB.\n",
      "24/12/02 20:11:19 WARN TaskSetManager: Stage 1309 contains a task of very large size (9437 KiB). The maximum recommended task size is 1000 KiB.\n",
      "24/12/02 20:11:19 WARN TaskSetManager: Stage 1312 contains a task of very large size (9437 KiB). The maximum recommended task size is 1000 KiB.\n",
      "24/12/02 20:11:20 WARN TaskSetManager: Stage 1315 contains a task of very large size (9437 KiB). The maximum recommended task size is 1000 KiB.\n",
      "24/12/02 20:11:20 WARN TaskSetManager: Stage 1318 contains a task of very large size (9437 KiB). The maximum recommended task size is 1000 KiB.\n",
      "24/12/02 20:11:20 WARN TaskSetManager: Stage 1320 contains a task of very large size (9437 KiB). The maximum recommended task size is 1000 KiB.\n",
      "24/12/02 20:11:21 WARN TaskSetManager: Stage 1323 contains a task of very large size (9437 KiB). The maximum recommended task size is 1000 KiB.\n",
      "24/12/02 20:11:21 WARN TaskSetManager: Stage 1326 contains a task of very large size (9437 KiB). The maximum recommended task size is 1000 KiB.\n",
      "24/12/02 20:11:22 WARN TaskSetManager: Stage 1329 contains a task of very large size (9437 KiB). The maximum recommended task size is 1000 KiB.\n",
      "24/12/02 20:11:22 WARN TaskSetManager: Stage 1331 contains a task of very large size (9437 KiB). The maximum recommended task size is 1000 KiB.\n",
      "24/12/02 20:11:22 WARN TaskSetManager: Stage 1334 contains a task of very large size (9437 KiB). The maximum recommended task size is 1000 KiB.\n",
      "24/12/02 20:11:24 WARN TaskSetManager: Stage 1337 contains a task of very large size (9437 KiB). The maximum recommended task size is 1000 KiB.\n",
      "24/12/02 20:11:25 WARN TaskSetManager: Stage 1340 contains a task of very large size (2332 KiB). The maximum recommended task size is 1000 KiB.\n",
      "24/12/02 20:11:26 WARN TaskSetManager: Stage 1343 contains a task of very large size (2332 KiB). The maximum recommended task size is 1000 KiB.\n",
      "24/12/02 20:11:26 WARN TaskSetManager: Stage 1346 contains a task of very large size (2332 KiB). The maximum recommended task size is 1000 KiB.\n",
      "24/12/02 20:11:26 WARN TaskSetManager: Stage 1349 contains a task of very large size (2332 KiB). The maximum recommended task size is 1000 KiB.\n",
      "24/12/02 20:11:27 WARN TaskSetManager: Stage 1351 contains a task of very large size (2332 KiB). The maximum recommended task size is 1000 KiB.\n",
      "24/12/02 20:11:27 WARN TaskSetManager: Stage 1354 contains a task of very large size (2332 KiB). The maximum recommended task size is 1000 KiB.\n",
      "24/12/02 20:11:27 WARN TaskSetManager: Stage 1357 contains a task of very large size (2332 KiB). The maximum recommended task size is 1000 KiB.\n",
      "24/12/02 20:11:28 WARN TaskSetManager: Stage 1360 contains a task of very large size (2332 KiB). The maximum recommended task size is 1000 KiB.\n",
      "24/12/02 20:11:28 WARN TaskSetManager: Stage 1362 contains a task of very large size (2332 KiB). The maximum recommended task size is 1000 KiB.\n",
      "24/12/02 20:11:28 WARN TaskSetManager: Stage 1365 contains a task of very large size (2332 KiB). The maximum recommended task size is 1000 KiB.\n",
      "24/12/02 20:11:28 WARN TaskSetManager: Stage 1368 contains a task of very large size (2332 KiB). The maximum recommended task size is 1000 KiB.\n",
      "24/12/02 20:11:28 WARN TaskSetManager: Stage 1371 contains a task of very large size (2332 KiB). The maximum recommended task size is 1000 KiB.\n",
      "24/12/02 20:11:29 WARN TaskSetManager: Stage 1373 contains a task of very large size (2332 KiB). The maximum recommended task size is 1000 KiB.\n",
      "24/12/02 20:11:29 WARN TaskSetManager: Stage 1376 contains a task of very large size (2332 KiB). The maximum recommended task size is 1000 KiB.\n",
      "24/12/02 20:11:29 WARN TaskSetManager: Stage 1379 contains a task of very large size (2332 KiB). The maximum recommended task size is 1000 KiB.\n",
      "24/12/02 20:11:29 WARN TaskSetManager: Stage 1382 contains a task of very large size (2332 KiB). The maximum recommended task size is 1000 KiB.\n",
      "24/12/02 20:11:30 WARN TaskSetManager: Stage 1384 contains a task of very large size (2332 KiB). The maximum recommended task size is 1000 KiB.\n",
      "24/12/02 20:11:30 WARN TaskSetManager: Stage 1387 contains a task of very large size (2332 KiB). The maximum recommended task size is 1000 KiB.\n",
      "24/12/02 20:11:30 WARN TaskSetManager: Stage 1390 contains a task of very large size (2332 KiB). The maximum recommended task size is 1000 KiB.\n",
      "24/12/02 20:11:30 WARN TaskSetManager: Stage 1393 contains a task of very large size (2332 KiB). The maximum recommended task size is 1000 KiB.\n",
      "24/12/02 20:11:31 WARN TaskSetManager: Stage 1395 contains a task of very large size (2332 KiB). The maximum recommended task size is 1000 KiB.\n",
      "24/12/02 20:11:31 WARN TaskSetManager: Stage 1398 contains a task of very large size (2332 KiB). The maximum recommended task size is 1000 KiB.\n",
      "24/12/02 20:11:31 WARN TaskSetManager: Stage 1401 contains a task of very large size (2332 KiB). The maximum recommended task size is 1000 KiB.\n",
      "24/12/02 20:11:31 WARN TaskSetManager: Stage 1404 contains a task of very large size (2332 KiB). The maximum recommended task size is 1000 KiB.\n",
      "24/12/02 20:11:32 WARN TaskSetManager: Stage 1406 contains a task of very large size (2332 KiB). The maximum recommended task size is 1000 KiB.\n",
      "24/12/02 20:11:32 WARN TaskSetManager: Stage 1409 contains a task of very large size (2332 KiB). The maximum recommended task size is 1000 KiB.\n",
      "24/12/02 20:11:32 WARN TaskSetManager: Stage 1412 contains a task of very large size (2332 KiB). The maximum recommended task size is 1000 KiB.\n",
      "24/12/02 20:11:32 WARN TaskSetManager: Stage 1415 contains a task of very large size (2332 KiB). The maximum recommended task size is 1000 KiB.\n",
      "24/12/02 20:11:32 WARN TaskSetManager: Stage 1417 contains a task of very large size (2332 KiB). The maximum recommended task size is 1000 KiB.\n",
      "24/12/02 20:11:33 WARN TaskSetManager: Stage 1420 contains a task of very large size (2332 KiB). The maximum recommended task size is 1000 KiB.\n",
      "24/12/02 20:11:33 WARN TaskSetManager: Stage 1423 contains a task of very large size (2332 KiB). The maximum recommended task size is 1000 KiB.\n",
      "24/12/02 20:11:33 WARN TaskSetManager: Stage 1426 contains a task of very large size (2332 KiB). The maximum recommended task size is 1000 KiB.\n",
      "24/12/02 20:11:33 WARN TaskSetManager: Stage 1428 contains a task of very large size (2332 KiB). The maximum recommended task size is 1000 KiB.\n",
      "24/12/02 20:11:34 WARN TaskSetManager: Stage 1431 contains a task of very large size (2332 KiB). The maximum recommended task size is 1000 KiB.\n",
      "24/12/02 20:11:34 WARN TaskSetManager: Stage 1434 contains a task of very large size (2332 KiB). The maximum recommended task size is 1000 KiB.\n",
      "24/12/02 20:11:34 WARN TaskSetManager: Stage 1437 contains a task of very large size (2332 KiB). The maximum recommended task size is 1000 KiB.\n",
      "24/12/02 20:11:34 WARN TaskSetManager: Stage 1439 contains a task of very large size (2332 KiB). The maximum recommended task size is 1000 KiB.\n",
      "24/12/02 20:11:35 WARN TaskSetManager: Stage 1442 contains a task of very large size (2332 KiB). The maximum recommended task size is 1000 KiB.\n",
      "24/12/02 20:11:35 WARN TaskSetManager: Stage 1445 contains a task of very large size (2332 KiB). The maximum recommended task size is 1000 KiB.\n",
      "24/12/02 20:11:35 WARN TaskSetManager: Stage 1448 contains a task of very large size (2332 KiB). The maximum recommended task size is 1000 KiB.\n",
      "24/12/02 20:11:35 WARN TaskSetManager: Stage 1450 contains a task of very large size (2332 KiB). The maximum recommended task size is 1000 KiB.\n",
      "24/12/02 20:11:35 WARN TaskSetManager: Stage 1453 contains a task of very large size (2332 KiB). The maximum recommended task size is 1000 KiB.\n",
      "24/12/02 20:11:36 WARN TaskSetManager: Stage 1456 contains a task of very large size (2332 KiB). The maximum recommended task size is 1000 KiB.\n",
      "24/12/02 20:11:36 WARN TaskSetManager: Stage 1459 contains a task of very large size (2332 KiB). The maximum recommended task size is 1000 KiB.\n",
      "24/12/02 20:11:36 WARN TaskSetManager: Stage 1461 contains a task of very large size (2332 KiB). The maximum recommended task size is 1000 KiB.\n",
      "24/12/02 20:11:36 WARN TaskSetManager: Stage 1464 contains a task of very large size (2332 KiB). The maximum recommended task size is 1000 KiB.\n",
      "24/12/02 20:11:37 WARN TaskSetManager: Stage 1467 contains a task of very large size (2332 KiB). The maximum recommended task size is 1000 KiB.\n",
      "24/12/02 20:11:37 WARN TaskSetManager: Stage 1470 contains a task of very large size (2332 KiB). The maximum recommended task size is 1000 KiB.\n",
      "24/12/02 20:11:37 WARN TaskSetManager: Stage 1472 contains a task of very large size (2332 KiB). The maximum recommended task size is 1000 KiB.\n",
      "24/12/02 20:11:37 WARN TaskSetManager: Stage 1475 contains a task of very large size (2332 KiB). The maximum recommended task size is 1000 KiB.\n",
      "24/12/02 20:11:38 WARN TaskSetManager: Stage 1478 contains a task of very large size (2332 KiB). The maximum recommended task size is 1000 KiB.\n",
      "24/12/02 20:11:38 WARN TaskSetManager: Stage 1481 contains a task of very large size (2332 KiB). The maximum recommended task size is 1000 KiB.\n",
      "24/12/02 20:11:38 WARN TaskSetManager: Stage 1483 contains a task of very large size (2332 KiB). The maximum recommended task size is 1000 KiB.\n",
      "24/12/02 20:11:38 WARN TaskSetManager: Stage 1486 contains a task of very large size (2332 KiB). The maximum recommended task size is 1000 KiB.\n",
      "24/12/02 20:11:39 WARN TaskSetManager: Stage 1489 contains a task of very large size (2332 KiB). The maximum recommended task size is 1000 KiB.\n",
      "24/12/02 20:11:39 WARN TaskSetManager: Stage 1492 contains a task of very large size (2332 KiB). The maximum recommended task size is 1000 KiB.\n",
      "24/12/02 20:11:39 WARN TaskSetManager: Stage 1494 contains a task of very large size (2332 KiB). The maximum recommended task size is 1000 KiB.\n",
      "24/12/02 20:11:39 WARN TaskSetManager: Stage 1497 contains a task of very large size (2332 KiB). The maximum recommended task size is 1000 KiB.\n",
      "24/12/02 20:11:40 WARN TaskSetManager: Stage 1500 contains a task of very large size (2332 KiB). The maximum recommended task size is 1000 KiB.\n",
      "24/12/02 20:11:40 WARN TaskSetManager: Stage 1503 contains a task of very large size (2332 KiB). The maximum recommended task size is 1000 KiB.\n",
      "24/12/02 20:11:40 WARN TaskSetManager: Stage 1505 contains a task of very large size (2332 KiB). The maximum recommended task size is 1000 KiB.\n",
      "24/12/02 20:11:40 WARN TaskSetManager: Stage 1508 contains a task of very large size (2332 KiB). The maximum recommended task size is 1000 KiB.\n",
      "24/12/02 20:11:40 WARN TaskSetManager: Stage 1511 contains a task of very large size (2332 KiB). The maximum recommended task size is 1000 KiB.\n",
      "24/12/02 20:11:41 WARN TaskSetManager: Stage 1514 contains a task of very large size (2332 KiB). The maximum recommended task size is 1000 KiB.\n",
      "24/12/02 20:11:41 WARN TaskSetManager: Stage 1516 contains a task of very large size (2332 KiB). The maximum recommended task size is 1000 KiB.\n",
      "24/12/02 20:11:41 WARN TaskSetManager: Stage 1519 contains a task of very large size (2332 KiB). The maximum recommended task size is 1000 KiB.\n",
      "24/12/02 20:11:41 WARN TaskSetManager: Stage 1522 contains a task of very large size (2332 KiB). The maximum recommended task size is 1000 KiB.\n",
      "24/12/02 20:11:42 WARN TaskSetManager: Stage 1525 contains a task of very large size (2332 KiB). The maximum recommended task size is 1000 KiB.\n",
      "24/12/02 20:11:42 WARN TaskSetManager: Stage 1527 contains a task of very large size (2332 KiB). The maximum recommended task size is 1000 KiB.\n",
      "24/12/02 20:11:42 WARN TaskSetManager: Stage 1530 contains a task of very large size (2332 KiB). The maximum recommended task size is 1000 KiB.\n",
      "24/12/02 20:11:42 WARN TaskSetManager: Stage 1533 contains a task of very large size (2332 KiB). The maximum recommended task size is 1000 KiB.\n",
      "24/12/02 20:11:43 WARN TaskSetManager: Stage 1536 contains a task of very large size (2332 KiB). The maximum recommended task size is 1000 KiB.\n",
      "24/12/02 20:11:43 WARN TaskSetManager: Stage 1538 contains a task of very large size (2332 KiB). The maximum recommended task size is 1000 KiB.\n",
      "24/12/02 20:11:43 WARN TaskSetManager: Stage 1541 contains a task of very large size (2332 KiB). The maximum recommended task size is 1000 KiB.\n",
      "24/12/02 20:11:43 WARN TaskSetManager: Stage 1544 contains a task of very large size (2332 KiB). The maximum recommended task size is 1000 KiB.\n",
      "24/12/02 20:11:44 WARN TaskSetManager: Stage 1547 contains a task of very large size (2332 KiB). The maximum recommended task size is 1000 KiB.\n",
      "24/12/02 20:11:44 WARN TaskSetManager: Stage 1549 contains a task of very large size (2332 KiB). The maximum recommended task size is 1000 KiB.\n",
      "24/12/02 20:11:44 WARN TaskSetManager: Stage 1552 contains a task of very large size (2332 KiB). The maximum recommended task size is 1000 KiB.\n",
      "24/12/02 20:11:45 WARN TaskSetManager: Stage 1555 contains a task of very large size (2332 KiB). The maximum recommended task size is 1000 KiB.\n"
     ]
    }
   ],
   "source": [
    "# need to replace the empty string in surface\n",
    "df = df.withColumn(\n",
    "    'surface',\n",
    "    F.when(df.surface == '', 'Undefined').otherwise(df.surface)\n",
    ")\n",
    "\n",
    "undersample_df = undersample_df.withColumn(\n",
    "    'surface',\n",
    "    F.when(undersample_df.surface == '', 'Undefined').otherwise(undersample_df.surface)\n",
    ")\n",
    "\n",
    "# fit the model with the hyperparameter search\n",
    "nb_model = tvs.fit(df)\n",
    "\n",
    "# fit to undersample as well\n",
    "nb_undersample_model = tvs.fit(undersample_df)"
   ]
  },
  {
   "cell_type": "markdown",
   "id": "1fa9c326-f0aa-4c4e-8602-e0afd32af9bc",
   "metadata": {},
   "source": [
    "### Evaluate the Models"
   ]
  },
  {
   "cell_type": "markdown",
   "id": "a2b3d943-6ee7-4713-9569-a085572419e8",
   "metadata": {},
   "source": [
    "#### Non-Undersample"
   ]
  },
  {
   "cell_type": "code",
   "execution_count": 29,
   "id": "379fa92e-0041-48d1-bb80-ba5012951bbd",
   "metadata": {},
   "outputs": [
    {
     "name": "stdout",
     "output_type": "stream",
     "text": [
      "Tuned Parameters of the Best Model:\n",
      "featuresCol: features\n",
      "labelCol: play_type_idx\n",
      "modelType: multinomial\n",
      "predictionCol: prediction\n",
      "probabilityCol: probability\n",
      "rawPredictionCol: rawPrediction\n",
      "smoothing: 0.1\n"
     ]
    }
   ],
   "source": [
    "best_model = nb_model.bestModel\n",
    "\n",
    "# Extract the parameter map of the best model\n",
    "best_params = best_model.stages[-1].extractParamMap()\n",
    "\n",
    "# Print the parameters values\n",
    "print(\"Tuned Parameters of the Best Model:\")\n",
    "for param, value in best_params.items():\n",
    "    print(f\"{param.name}: {value}\")"
   ]
  },
  {
   "cell_type": "code",
   "execution_count": 30,
   "id": "b35437ee-aa32-456f-b6cb-c4f3925686d7",
   "metadata": {},
   "outputs": [],
   "source": [
    "# have to change test df instance\n",
    "test_df = test_df.withColumn(\n",
    "    'surface',\n",
    "    F.when(test_df.surface == '', 'Undefined').otherwise(test_df.surface)\n",
    ")\n",
    "\n",
    "prediction = best_model.transform(test_df)"
   ]
  },
  {
   "cell_type": "code",
   "execution_count": 31,
   "id": "4c7a9720-fe4d-4c2c-bdd0-02adf1f269e9",
   "metadata": {},
   "outputs": [
    {
     "name": "stderr",
     "output_type": "stream",
     "text": [
      "24/12/02 20:11:58 WARN TaskSetManager: Stage 1558 contains a task of very large size (9437 KiB). The maximum recommended task size is 1000 KiB.\n",
      "24/12/02 20:11:59 WARN TaskSetManager: Stage 1559 contains a task of very large size (9437 KiB). The maximum recommended task size is 1000 KiB.\n",
      "24/12/02 20:12:02 WARN TaskSetManager: Stage 1568 contains a task of very large size (9437 KiB). The maximum recommended task size is 1000 KiB.\n",
      "24/12/02 20:12:02 WARN TaskSetManager: Stage 1569 contains a task of very large size (9437 KiB). The maximum recommended task size is 1000 KiB.\n",
      "24/12/02 20:12:04 WARN TaskSetManager: Stage 1578 contains a task of very large size (9437 KiB). The maximum recommended task size is 1000 KiB.\n",
      "24/12/02 20:12:05 WARN TaskSetManager: Stage 1579 contains a task of very large size (9437 KiB). The maximum recommended task size is 1000 KiB.\n",
      "24/12/02 20:12:07 WARN TaskSetManager: Stage 1588 contains a task of very large size (9437 KiB). The maximum recommended task size is 1000 KiB.\n",
      "24/12/02 20:12:07 WARN TaskSetManager: Stage 1589 contains a task of very large size (9437 KiB). The maximum recommended task size is 1000 KiB.\n",
      "24/12/02 20:12:10 WARN TaskSetManager: Stage 1598 contains a task of very large size (9437 KiB). The maximum recommended task size is 1000 KiB.\n",
      "24/12/02 20:12:10 WARN TaskSetManager: Stage 1599 contains a task of very large size (9437 KiB). The maximum recommended task size is 1000 KiB.\n",
      "                                                                                \r"
     ]
    }
   ],
   "source": [
    "f1_evaluator = MulticlassClassificationEvaluator(\n",
    "    labelCol='play_type_idx', predictionCol=\"prediction\",\n",
    "    metricName='f1'\n",
    ")\n",
    "\n",
    "accuracy_evaluator = MulticlassClassificationEvaluator(\n",
    "    labelCol='play_type_idx', predictionCol=\"prediction\",\n",
    "    metricName='accuracy'\n",
    ")\n",
    "\n",
    "precision_by_label_eval = MulticlassClassificationEvaluator(\n",
    "    labelCol='play_type_idx', predictionCol=\"prediction\",\n",
    "    metricName='precisionByLabel'\n",
    ")\n",
    "\n",
    "weighted_precision_eval = MulticlassClassificationEvaluator(\n",
    "    labelCol='play_type_idx', predictionCol=\"prediction\",\n",
    "    metricName='weightedPrecision'\n",
    ")\n",
    "\n",
    "\n",
    "weighted_recall_eval = MulticlassClassificationEvaluator(\n",
    "    labelCol='play_type_idx', predictionCol=\"prediction\",\n",
    "    metricName='weightedRecall'\n",
    ")\n",
    "\n",
    "f1_score = f1_evaluator.evaluate(prediction)\n",
    "accuracy = accuracy_evaluator.evaluate(prediction)\n",
    "precision_by_label = precision_by_label_eval.evaluate(prediction)\n",
    "precision = weighted_precision_eval.evaluate(prediction)\n",
    "recall = weighted_recall_eval.evaluate(prediction)"
   ]
  },
  {
   "cell_type": "code",
   "execution_count": 32,
   "id": "93762d04-5930-4435-b6ea-89b4a7410b16",
   "metadata": {},
   "outputs": [
    {
     "name": "stderr",
     "output_type": "stream",
     "text": [
      "24/12/02 20:12:33 WARN TaskSetManager: Stage 1608 contains a task of very large size (9437 KiB). The maximum recommended task size is 1000 KiB.\n",
      "24/12/02 20:12:33 WARN TaskSetManager: Stage 1609 contains a task of very large size (9437 KiB). The maximum recommended task size is 1000 KiB.\n",
      "[Stage 1616:============================>                           (1 + 1) / 2]\r"
     ]
    },
    {
     "name": "stdout",
     "output_type": "stream",
     "text": [
      "+----------+-----+\n",
      "|prediction|count|\n",
      "+----------+-----+\n",
      "|       0.0|62708|\n",
      "|       1.0| 1362|\n",
      "|       3.0|    1|\n",
      "|       2.0|  538|\n",
      "+----------+-----+\n",
      "\n"
     ]
    },
    {
     "name": "stderr",
     "output_type": "stream",
     "text": [
      "                                                                                \r"
     ]
    }
   ],
   "source": [
    "prediction.groupby(prediction.prediction).count().show()"
   ]
  },
  {
   "cell_type": "code",
   "execution_count": 33,
   "id": "21cd6c86-2b93-44f5-b611-f4dec6a3fba5",
   "metadata": {},
   "outputs": [
    {
     "name": "stderr",
     "output_type": "stream",
     "text": [
      "24/12/02 20:12:38 WARN TaskSetManager: Stage 1622 contains a task of very large size (9437 KiB). The maximum recommended task size is 1000 KiB.\n",
      "24/12/02 20:12:38 WARN TaskSetManager: Stage 1623 contains a task of very large size (9437 KiB). The maximum recommended task size is 1000 KiB.\n",
      "[Stage 1626:>                                                       (0 + 2) / 2]\r"
     ]
    },
    {
     "name": "stdout",
     "output_type": "stream",
     "text": [
      "+-------------+-----+\n",
      "|play_type_idx|count|\n",
      "+-------------+-----+\n",
      "|          0.0|41679|\n",
      "|          1.0|12679|\n",
      "|          4.0| 2760|\n",
      "|          3.0| 2813|\n",
      "|          2.0| 4678|\n",
      "+-------------+-----+\n",
      "\n"
     ]
    },
    {
     "name": "stderr",
     "output_type": "stream",
     "text": [
      "                                                                                \r"
     ]
    }
   ],
   "source": [
    "prediction.groupby(prediction.play_type_idx).count().show()"
   ]
  },
  {
   "cell_type": "code",
   "execution_count": 34,
   "id": "fdf18220-4093-4635-ab84-ddfd9284d579",
   "metadata": {},
   "outputs": [
    {
     "name": "stderr",
     "output_type": "stream",
     "text": [
      "24/12/02 20:12:41 WARN TaskSetManager: Stage 1636 contains a task of very large size (9437 KiB). The maximum recommended task size is 1000 KiB.\n",
      "24/12/02 20:12:42 WARN TaskSetManager: Stage 1637 contains a task of very large size (9437 KiB). The maximum recommended task size is 1000 KiB.\n",
      "                                                                                \r"
     ]
    }
   ],
   "source": [
    "labels = prediction.select([prediction.play_type, prediction.play_type_idx]).distinct().orderBy(prediction.play_type_idx).select(prediction.play_type).collect()\n",
    "labels = [x[0] for x in labels]"
   ]
  },
  {
   "cell_type": "code",
   "execution_count": 35,
   "id": "23165c0a-c5b9-42c9-9786-fecd21c7df65",
   "metadata": {},
   "outputs": [
    {
     "name": "stdout",
     "output_type": "stream",
     "text": [
      "\n",
      "F1: 0.5157640802196016\n",
      "Accuracy: 0.6369391261279388\n",
      "Precision by Label: 0.648928366396632\n",
      "Weighted Precision: 0.4837862010943764\n",
      "Weighted Recall: 0.6369391261279389\n",
      "\n"
     ]
    }
   ],
   "source": [
    "results = f'''\n",
    "F1: {f1_score}\n",
    "Accuracy: {accuracy}\n",
    "Precision by Label: {precision_by_label}\n",
    "Weighted Precision: {precision}\n",
    "Weighted Recall: {recall}\n",
    "'''\n",
    "\n",
    "print(results)"
   ]
  },
  {
   "cell_type": "code",
   "execution_count": 36,
   "id": "9b00f9b4-0009-4294-9d5d-1ab0d2f1adbc",
   "metadata": {},
   "outputs": [
    {
     "name": "stderr",
     "output_type": "stream",
     "text": [
      "24/12/02 20:12:48 WARN TaskSetManager: Stage 1661 contains a task of very large size (9437 KiB). The maximum recommended task size is 1000 KiB.\n",
      "24/12/02 20:12:48 WARN TaskSetManager: Stage 1662 contains a task of very large size (9437 KiB). The maximum recommended task size is 1000 KiB.\n",
      "/sfs/gpfs/tardis/home/ean8fr/distributed-computing-final/env/lib/python3.11/site-packages/pyspark/sql/context.py:157: FutureWarning: Deprecated in 3.0.0. Use SparkSession.builder.getOrCreate() instead.\n",
      "  warnings.warn(\n"
     ]
    },
    {
     "name": "stdout",
     "output_type": "stream",
     "text": [
      "[[4.0693e+04 7.3500e+02 2.5100e+02 0.0000e+00 0.0000e+00]\n",
      " [1.2210e+04 3.5700e+02 1.1100e+02 1.0000e+00 0.0000e+00]\n",
      " [4.4500e+03 1.2600e+02 1.0200e+02 0.0000e+00 0.0000e+00]\n",
      " [2.7000e+03 7.1000e+01 4.2000e+01 0.0000e+00 0.0000e+00]\n",
      " [2.6550e+03 7.3000e+01 3.2000e+01 0.0000e+00 0.0000e+00]]\n"
     ]
    }
   ],
   "source": [
    "from pyspark.sql.types import FloatType\n",
    "from pyspark.mllib.evaluation import MulticlassMetrics\n",
    "\n",
    "#Adapting code from https://www.kaggle.com/code/ashokkumarpalivela/multiclass-classification-using-pyspark for confusion matrix\n",
    "preds_and_labels = prediction.select(['prediction','play_type_idx'])\\\n",
    "                              .withColumn('play_type_idx', col('play_type_idx')\\\n",
    "                              .cast(FloatType()))\\\n",
    "                              .orderBy('prediction')\n",
    "    \n",
    "metrics = MulticlassMetrics(preds_and_labels.rdd.map(tuple))\n",
    "\n",
    "print(metrics.confusionMatrix().toArray())"
   ]
  },
  {
   "cell_type": "code",
   "execution_count": 38,
   "id": "dcf723f4-ec66-4858-89ac-098050470fe0",
   "metadata": {},
   "outputs": [
    {
     "data": {
      "image/png": "[encoded data removed]",
      "text/plain": [
       "<Figure size 1000x1000 with 1 Axes>"
      ]
     },
     "metadata": {},
     "output_type": "display_data"
    }
   ],
   "source": [
    "# labels = [\"field_goal\", \"no_play\", \"pass\", \"punt\", \"run\"]\n",
    "_ = plt.figure(figsize=(10, 10))\n",
    "ax = sns.heatmap(metrics.confusionMatrix().toArray(),\n",
    "            cmap='viridis',\n",
    "            annot=True,fmt='0',\n",
    "            cbar=False, \n",
    "            xticklabels=labels,\n",
    "            yticklabels=labels)\n",
    "\n",
    "plt.title('Naive Bayes Regular Sampling Confusion Matrix', fontsize = 20) # title with fontsize 20\n",
    "plt.xlabel('Predicted', fontsize = 15) # x-axis label with fontsize 15\n",
    "plt.ylabel('Actual', fontsize = 15) # y-axis label with fontsize 15\n",
    "plt.savefig('figures/naive-bayes-normal-confusion-matrix.png')"
   ]
  },
  {
   "cell_type": "markdown",
   "id": "ea092910-556c-426f-bd40-23c328815390",
   "metadata": {},
   "source": [
    "#### Undersample"
   ]
  },
  {
   "cell_type": "code",
   "execution_count": 39,
   "id": "1d9d7b96-5586-46c5-9453-7c60821b047b",
   "metadata": {},
   "outputs": [
    {
     "name": "stdout",
     "output_type": "stream",
     "text": [
      "Tuned Parameters of the Best Model:\n",
      "featuresCol: features\n",
      "labelCol: play_type_idx\n",
      "modelType: multinomial\n",
      "predictionCol: prediction\n",
      "probabilityCol: probability\n",
      "rawPredictionCol: rawPrediction\n",
      "smoothing: 0.05\n"
     ]
    },
    {
     "name": "stderr",
     "output_type": "stream",
     "text": [
      "24/12/02 20:14:12 WARN TaskSetManager: Stage 1685 contains a task of very large size (9437 KiB). The maximum recommended task size is 1000 KiB.\n",
      "24/12/02 20:14:12 WARN TaskSetManager: Stage 1686 contains a task of very large size (9437 KiB). The maximum recommended task size is 1000 KiB.\n",
      "24/12/02 20:14:15 WARN TaskSetManager: Stage 1695 contains a task of very large size (9437 KiB). The maximum recommended task size is 1000 KiB.\n",
      "24/12/02 20:14:15 WARN TaskSetManager: Stage 1696 contains a task of very large size (9437 KiB). The maximum recommended task size is 1000 KiB.\n",
      "24/12/02 20:14:17 WARN TaskSetManager: Stage 1705 contains a task of very large size (9437 KiB). The maximum recommended task size is 1000 KiB.\n",
      "24/12/02 20:14:18 WARN TaskSetManager: Stage 1706 contains a task of very large size (9437 KiB). The maximum recommended task size is 1000 KiB.\n",
      "24/12/02 20:14:20 WARN TaskSetManager: Stage 1715 contains a task of very large size (9437 KiB). The maximum recommended task size is 1000 KiB.\n",
      "24/12/02 20:14:21 WARN TaskSetManager: Stage 1716 contains a task of very large size (9437 KiB). The maximum recommended task size is 1000 KiB.\n",
      "24/12/02 20:14:23 WARN TaskSetManager: Stage 1725 contains a task of very large size (9437 KiB). The maximum recommended task size is 1000 KiB.\n",
      "24/12/02 20:14:23 WARN TaskSetManager: Stage 1726 contains a task of very large size (9437 KiB). The maximum recommended task size is 1000 KiB.\n",
      "24/12/02 20:14:26 WARN TaskSetManager: Stage 1735 contains a task of very large size (9437 KiB). The maximum recommended task size is 1000 KiB.\n"
     ]
    },
    {
     "name": "stdout",
     "output_type": "stream",
     "text": [
      "\n",
      "F1: 0.3047152241286471\n",
      "Accuracy: 0.2546549242365615\n",
      "Precision by Label: 0.21598509863686394\n",
      "Weighted Precision: 0.5071762822502063\n",
      "Weighted Recall: 0.25465492423656144\n",
      "\n"
     ]
    },
    {
     "name": "stderr",
     "output_type": "stream",
     "text": [
      "24/12/02 20:14:26 WARN TaskSetManager: Stage 1736 contains a task of very large size (9437 KiB). The maximum recommended task size is 1000 KiB.\n",
      "24/12/02 20:14:28 WARN TaskSetManager: Stage 1760 contains a task of very large size (9437 KiB). The maximum recommended task size is 1000 KiB.\n",
      "24/12/02 20:14:29 WARN TaskSetManager: Stage 1761 contains a task of very large size (9437 KiB). The maximum recommended task size is 1000 KiB.\n",
      "/sfs/gpfs/tardis/home/ean8fr/distributed-computing-final/env/lib/python3.11/site-packages/pyspark/sql/context.py:157: FutureWarning: Deprecated in 3.0.0. Use SparkSession.builder.getOrCreate() instead.\n",
      "  warnings.warn(\n"
     ]
    },
    {
     "name": "stdout",
     "output_type": "stream",
     "text": [
      "[[ 2551.  2117.  3228.  2940.  1843.]\n",
      " [  437.   559.   858.   544.   362.]\n",
      " [  480.   747.  2153.   584.   714.]\n",
      " [ 7878.  7304. 10119. 10728.  5650.]\n",
      " [  465.   487.   863.   536.   462.]]\n"
     ]
    },
    {
     "data": {
      "image/png": "[encoded data removed]",
      "text/plain": [
       "<Figure size 1000x1000 with 1 Axes>"
      ]
     },
     "metadata": {},
     "output_type": "display_data"
    }
   ],
   "source": [
    "best_model = nb_undersample_model.bestModel\n",
    "\n",
    "# Extract the parameter map of the best model\n",
    "best_params = best_model.stages[-1].extractParamMap()\n",
    "\n",
    "# Print the parameters values\n",
    "print(\"Tuned Parameters of the Best Model:\")\n",
    "for param, value in best_params.items():\n",
    "    print(f\"{param.name}: {value}\")\n",
    "\n",
    "# get prediction\n",
    "prediction = best_model.transform(test_df)\n",
    "\n",
    "# use same evaluators\n",
    "f1_score = f1_evaluator.evaluate(prediction)\n",
    "accuracy = accuracy_evaluator.evaluate(prediction)\n",
    "precision_by_label = precision_by_label_eval.evaluate(prediction)\n",
    "precision = weighted_precision_eval.evaluate(prediction)\n",
    "recall = weighted_recall_eval.evaluate(prediction)\n",
    "\n",
    "results = f'''\n",
    "F1: {f1_score}\n",
    "Accuracy: {accuracy}\n",
    "Precision by Label: {precision_by_label}\n",
    "Weighted Precision: {precision}\n",
    "Weighted Recall: {recall}\n",
    "'''\n",
    "print(results)\n",
    "\n",
    "labels = prediction.select([prediction.play_type, prediction.play_type_idx]).distinct().orderBy(prediction.play_type_idx).select(prediction.play_type).collect()\n",
    "labels = [x[0] for x in labels]\n",
    "\n",
    "preds_and_labels = prediction.select(['prediction','play_type_idx'])\\\n",
    "                              .withColumn('play_type_idx', col('play_type_idx')\\\n",
    "                              .cast(FloatType()))\\\n",
    "                              .orderBy('prediction')\n",
    "    \n",
    "metrics = MulticlassMetrics(preds_and_labels.rdd.map(tuple))\n",
    "\n",
    "print(metrics.confusionMatrix().toArray())\n",
    "\n",
    "_ = plt.figure(figsize=(10, 10))\n",
    "ax = sns.heatmap(metrics.confusionMatrix().toArray(),\n",
    "            cmap='viridis',\n",
    "            annot=True,fmt='0',\n",
    "            cbar=False, \n",
    "            xticklabels=labels,\n",
    "            yticklabels=labels)\n",
    "\n",
    "plt.title('Naive Bayes Weighted Sampling Confusion Matrix', fontsize = 20) # title with fontsize 20\n",
    "plt.xlabel('Predicted', fontsize = 15) # x-axis label with fontsize 15\n",
    "plt.ylabel('Actual', fontsize = 15) # y-axis label with fontsize 15\n",
    "plt.savefig('figures/naive-bayes-undersample-confusion-matrix.png')"
   ]
  },
  {
   "cell_type": "markdown",
   "id": "7866da5a-0f72-4ee7-baf3-6233698931c3",
   "metadata": {},
   "source": [
    "### Conclusions"
   ]
  },
  {
   "cell_type": "markdown",
   "id": "6e28d1a6-06c7-4524-a4d4-f5fb9f8c2e48",
   "metadata": {},
   "source": [
    "Listed are some general observations\n",
    "* We achieve a much better performance across all metrics when we sample from the regular distribution rather than applying undersampling and oversampling. The accuracy normally is ~65% compared to ~25% when changing the sampling method. One downside is that the model predicts \"punt\" much more frequently than any other classes when regular sampling is used. Though this follows the general distribtuion of the training data, it does not account for the other classes well.\n",
    "* When comapred to the other tested models, the Naive Bayes does neither substantially better or worse. It is in line with the Logistic Regression and Random Forest methods used. "
   ]
  }
 ],
 "metadata": {
  "kernelspec": {
   "display_name": "distributed-computing",
   "language": "python",
   "name": "distributed-computing"
  },
  "language_info": {
   "codemirror_mode": {
    "name": "ipython",
    "version": 3
   },
   "file_extension": ".py",
   "mimetype": "text/x-python",
   "name": "python",
   "nbconvert_exporter": "python",
   "pygments_lexer": "ipython3",
   "version": "3.11.5"
  }
 },
 "nbformat": 4,
 "nbformat_minor": 5
}
