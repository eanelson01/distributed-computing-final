{
 "cells": [
  {
   "cell_type": "markdown",
   "id": "dc445894-a5bd-4768-8672-bcebea5aebfa",
   "metadata": {},
   "source": [
    "### Creating Model 3\n",
    "\n",
    "* Creating a 3rd model for the NFL Play data. The goal is to predict the play type on 4th down.\n",
    "* Logistic Regression & Random Forest have been completed, so the next step is gradient boosted trees."
   ]
  },
  {
   "cell_type": "code",
   "execution_count": 1,
   "id": "6e1acab1-8e72-4add-9c2c-1798b8967ec2",
   "metadata": {},
   "outputs": [],
   "source": [
    "from pyspark.ml import Pipeline  \n",
    "from pyspark.ml.feature import *  \n",
    "from pyspark.ml.classification import LogisticRegression\n",
    "import nfl_data_py as nfl\n",
    "import numpy as np\n",
    "from pyspark.sql import SparkSession\n",
    "from pyspark.sql.functions import col\n",
    "from imblearn.under_sampling import RandomUnderSampler\n",
    "from imblearn.over_sampling import SMOTENC\n",
    "import pandas as pd\n",
    "from imblearn.combine import SMOTEENN\n",
    "from DataPipelineFxn import *\n",
    "from pyspark.ml.evaluation import MulticlassClassificationEvaluator\n",
    "from pyspark.ml.tuning import TrainValidationSplit, ParamGridBuilder\n",
    "import seaborn as sns\n",
    "import matplotlib.pyplot as plt\n",
    "from pyspark.sql import functions as F"
   ]
  },
  {
   "cell_type": "code",
   "execution_count": 2,
   "id": "c28b6116-fab9-4cfd-be1c-8000d1a6292b",
   "metadata": {},
   "outputs": [
    {
     "name": "stdout",
     "output_type": "stream",
     "text": [
      "2000 done.\n",
      "2001 done.\n",
      "2002 done.\n",
      "2003 done.\n",
      "2004 done.\n",
      "2005 done.\n",
      "2006 done.\n",
      "2007 done.\n",
      "2008 done.\n",
      "2009 done.\n",
      "2010 done.\n",
      "2011 done.\n",
      "2012 done.\n",
      "2013 done.\n",
      "2014 done.\n",
      "2015 done.\n",
      "2016 done.\n",
      "2017 done.\n",
      "2018 done.\n",
      "2019 done.\n",
      "2020 done.\n",
      "2021 done.\n",
      "2022 done.\n",
      "2023 done.\n"
     ]
    },
    {
     "name": "stderr",
     "output_type": "stream",
     "text": [
      "Setting default log level to \"WARN\".\n",
      "To adjust logging level use sc.setLogLevel(newLevel). For SparkR, use setLogLevel(newLevel).\n",
      "24/12/02 16:28:59 WARN NativeCodeLoader: Unable to load native-hadoop library for your platform... using builtin-java classes where applicable\n",
      "24/12/02 16:29:13 WARN package: Truncated the string representation of a plan since it was too large. This behavior can be adjusted by setting 'spark.sql.debug.maxToStringFields'.\n",
      "24/12/02 16:29:14 WARN TaskSetManager: Stage 0 contains a task of very large size (9437 KiB). The maximum recommended task size is 1000 KiB.\n",
      "24/12/02 16:29:16 WARN TaskSetManager: Stage 3 contains a task of very large size (9437 KiB). The maximum recommended task size is 1000 KiB.\n",
      "24/12/02 16:29:21 WARN TaskSetManager: Stage 4 contains a task of very large size (3174 KiB). The maximum recommended task size is 1000 KiB.\n",
      "24/12/02 16:29:23 WARN TaskSetManager: Stage 5 contains a task of very large size (1934 KiB). The maximum recommended task size is 1000 KiB.\n"
     ]
    }
   ],
   "source": [
    "# get the spark session and data frame\n",
    "data = GetSparkDF(include_undersample = True)"
   ]
  },
  {
   "cell_type": "code",
   "execution_count": 3,
   "id": "36d77955-b84d-49e8-9f84-c307e14c236d",
   "metadata": {},
   "outputs": [],
   "source": [
    "spark, df, test_df, undersample_df = data"
   ]
  },
  {
   "cell_type": "markdown",
   "id": "8968cfd5-3a1e-4df9-a459-a18f88dfebb4",
   "metadata": {},
   "source": [
    "### Create the Model Pipeline"
   ]
  },
  {
   "cell_type": "code",
   "execution_count": 4,
   "id": "84eaa2e8-7fb1-478e-86eb-ee6fec29cc7f",
   "metadata": {},
   "outputs": [],
   "source": [
    "from pyspark.ml.classification import NaiveBayes"
   ]
  },
  {
   "cell_type": "code",
   "execution_count": 5,
   "id": "eee0fd6a-0322-4cb1-ba56-ab40c1f574de",
   "metadata": {},
   "outputs": [],
   "source": [
    "str_col = [\"home_team\", \"away_team\", \"season_type\", \"posteam\", \"posteam_type\", \"defteam\", \"side_of_field\", \"game_half\",\n",
    "        \"play_type\", \"season\", 'roof', 'surface']\n",
    "str_col_output = [\"home_team_idx\", \"away_team_idx\", \"season_type_idx\", \"posteam_idx\", \"posteam_type_idx\", \"defteam_idx\",\n",
    "                  \"side_of_field_idx\", \"game_half_idx\", \"play_type_idx\", \"season_idx\", 'roof_idx', 'surface_idx']\n",
    "ohe_col_input = [\"home_team_idx\", \"away_team_idx\", \"season_type_idx\", \"posteam_idx\", \"posteam_type_idx\", \"defteam_idx\",\n",
    "                  \"side_of_field_idx\", \"game_half_idx\", \"season_idx\", 'roof_idx', 'surface_idx']\n",
    "ohe_col_vec = [\"home_team_vec\", \"away_team_vec\", \"season_type_vec\", \"posteam_vec\", \"posteam_type_vec\", \"defteam_vec\",\n",
    "                  \"side_of_field_vec\", \"game_half_ivec\", \"season_vec\", 'roof_vec', 'surface_vec']\n",
    "\n",
    "\n",
    "# process using string indexer first for catgeorical features  \n",
    "stringIndexer = StringIndexer(inputCols=str_col, outputCols=str_col_output)\n",
    "\n",
    "# process rating data into second feature\n",
    "ohe = OneHotEncoder(inputCols=ohe_col_input, outputCols=ohe_col_vec) \n",
    "\n",
    "# Assemble features column\n",
    "va = VectorAssembler(inputCols=ohe_col_vec, outputCol=\"features\") \n",
    "\n",
    "# process data using maxabs scaler, not necessarily important for trees but consistency\n",
    "scaler = MaxAbsScaler(inputCol=\"features\", outputCol=\"scaledFeatures\")\n",
    "\n",
    "# define the model\n",
    "nb = NaiveBayes(\n",
    "    featuresCol = 'features', labelCol = 'play_type_idx'\n",
    ")\n",
    "\n",
    "# Fit the pipeline\n",
    "pipeline = Pipeline(stages=[stringIndexer, ohe, va, scaler, nb])"
   ]
  },
  {
   "cell_type": "code",
   "execution_count": 6,
   "id": "23916e45-b255-4d3d-81a7-6ea8711d2e01",
   "metadata": {},
   "outputs": [],
   "source": [
    "# hyperparameter search across max depth, bins, and iterations\n",
    "# paramGrid = ParamGridBuilder()\\\n",
    "#     .addGrid(gbt.maxDepth, np.arange(10, 100, step = 10)) \\\n",
    "#     .addGrid(gbt.maxIter, [20, 50, 100, 200])\\\n",
    "#     .addGrid(gbt.maxBins, np.arange(10, 100, step = 10))\\\n",
    "#     .build()\n",
    "\n",
    "paramGrid = ParamGridBuilder()\\\n",
    "    .addGrid(nb.smoothing, np.arange(0.05, 1, step = 0.05)) \\\n",
    "    .build()\n",
    "\n",
    "# build the evaluator\n",
    "evaluator = MulticlassClassificationEvaluator(\n",
    "    predictionCol=\"prediction\",\n",
    "    labelCol=\"play_type_idx\",\n",
    "    metricName=\"accuracy\"\n",
    ")\n",
    "\n",
    "# set up the train validation split\n",
    "tvs = TrainValidationSplit(\n",
    "    estimator=pipeline,\n",
    "    evaluator=evaluator,\n",
    "    estimatorParamMaps=paramGrid,\n",
    "    # 80% of the data will be used for training, 20% for validation.\n",
    "    trainRatio=0.8\n",
    ")"
   ]
  },
  {
   "cell_type": "code",
   "execution_count": 7,
   "id": "1a924059-9309-4b93-b118-caa25f5c0360",
   "metadata": {},
   "outputs": [
    {
     "name": "stderr",
     "output_type": "stream",
     "text": [
      "24/12/02 16:29:32 WARN TaskSetManager: Stage 6 contains a task of very large size (9437 KiB). The maximum recommended task size is 1000 KiB.\n",
      "[Stage 6:>                                                          (0 + 2) / 2]\r"
     ]
    },
    {
     "name": "stdout",
     "output_type": "stream",
     "text": [
      "+--------+\n",
      "|    roof|\n",
      "+--------+\n",
      "|outdoors|\n",
      "|  closed|\n",
      "|    open|\n",
      "|    dome|\n",
      "+--------+\n",
      "\n"
     ]
    },
    {
     "name": "stderr",
     "output_type": "stream",
     "text": [
      "                                                                                \r"
     ]
    }
   ],
   "source": [
    "df.select(df.roof).distinct().show()"
   ]
  },
  {
   "cell_type": "code",
   "execution_count": 8,
   "id": "99dff5e2-13eb-48ba-bd30-8d7095cf5251",
   "metadata": {
    "scrolled": true
   },
   "outputs": [
    {
     "name": "stderr",
     "output_type": "stream",
     "text": [
      "24/12/02 16:29:33 WARN TaskSetManager: Stage 9 contains a task of very large size (9437 KiB). The maximum recommended task size is 1000 KiB.\n",
      "24/12/02 16:29:35 WARN TaskSetManager: Stage 12 contains a task of very large size (9437 KiB). The maximum recommended task size is 1000 KiB.\n",
      "24/12/02 16:29:37 WARN TaskSetManager: Stage 15 contains a task of very large size (9437 KiB). The maximum recommended task size is 1000 KiB.\n",
      "24/12/02 16:29:38 WARN TaskSetManager: Stage 18 contains a task of very large size (9437 KiB). The maximum recommended task size is 1000 KiB.\n",
      "24/12/02 16:29:39 WARN InstanceBuilder: Failed to load implementation from:dev.ludovic.netlib.blas.JNIBLAS\n",
      "24/12/02 16:29:39 WARN TaskSetManager: Stage 20 contains a task of very large size (9437 KiB). The maximum recommended task size is 1000 KiB.\n",
      "24/12/02 16:29:39 WARN TaskSetManager: Stage 23 contains a task of very large size (9437 KiB). The maximum recommended task size is 1000 KiB.\n",
      "24/12/02 16:29:40 WARN TaskSetManager: Stage 26 contains a task of very large size (9437 KiB). The maximum recommended task size is 1000 KiB.\n",
      "24/12/02 16:29:41 WARN TaskSetManager: Stage 29 contains a task of very large size (9437 KiB). The maximum recommended task size is 1000 KiB.\n",
      "24/12/02 16:29:42 WARN TaskSetManager: Stage 31 contains a task of very large size (9437 KiB). The maximum recommended task size is 1000 KiB.\n",
      "24/12/02 16:29:42 WARN TaskSetManager: Stage 34 contains a task of very large size (9437 KiB). The maximum recommended task size is 1000 KiB.\n",
      "24/12/02 16:29:43 WARN TaskSetManager: Stage 37 contains a task of very large size (9437 KiB). The maximum recommended task size is 1000 KiB.\n",
      "24/12/02 16:29:44 WARN TaskSetManager: Stage 40 contains a task of very large size (9437 KiB). The maximum recommended task size is 1000 KiB.\n",
      "24/12/02 16:29:44 WARN TaskSetManager: Stage 42 contains a task of very large size (9437 KiB). The maximum recommended task size is 1000 KiB.\n",
      "24/12/02 16:29:44 WARN TaskSetManager: Stage 45 contains a task of very large size (9437 KiB). The maximum recommended task size is 1000 KiB.\n",
      "24/12/02 16:29:45 WARN TaskSetManager: Stage 48 contains a task of very large size (9437 KiB). The maximum recommended task size is 1000 KiB.\n",
      "24/12/02 16:29:46 WARN TaskSetManager: Stage 51 contains a task of very large size (9437 KiB). The maximum recommended task size is 1000 KiB.\n",
      "24/12/02 16:29:46 WARN TaskSetManager: Stage 53 contains a task of very large size (9437 KiB). The maximum recommended task size is 1000 KiB.\n",
      "24/12/02 16:29:46 WARN TaskSetManager: Stage 56 contains a task of very large size (9437 KiB). The maximum recommended task size is 1000 KiB.\n",
      "24/12/02 16:29:47 WARN TaskSetManager: Stage 59 contains a task of very large size (9437 KiB). The maximum recommended task size is 1000 KiB.\n",
      "24/12/02 16:29:48 WARN TaskSetManager: Stage 62 contains a task of very large size (9437 KiB). The maximum recommended task size is 1000 KiB.\n",
      "24/12/02 16:29:48 WARN TaskSetManager: Stage 64 contains a task of very large size (9437 KiB). The maximum recommended task size is 1000 KiB.\n",
      "24/12/02 16:29:48 WARN TaskSetManager: Stage 67 contains a task of very large size (9437 KiB). The maximum recommended task size is 1000 KiB.\n",
      "24/12/02 16:29:49 WARN TaskSetManager: Stage 70 contains a task of very large size (9437 KiB). The maximum recommended task size is 1000 KiB.\n",
      "24/12/02 16:29:49 WARN TaskSetManager: Stage 73 contains a task of very large size (9437 KiB). The maximum recommended task size is 1000 KiB.\n",
      "24/12/02 16:29:50 WARN TaskSetManager: Stage 75 contains a task of very large size (9437 KiB). The maximum recommended task size is 1000 KiB.\n",
      "24/12/02 16:29:50 WARN TaskSetManager: Stage 78 contains a task of very large size (9437 KiB). The maximum recommended task size is 1000 KiB.\n",
      "24/12/02 16:29:51 WARN TaskSetManager: Stage 81 contains a task of very large size (9437 KiB). The maximum recommended task size is 1000 KiB.\n",
      "24/12/02 16:29:51 WARN TaskSetManager: Stage 84 contains a task of very large size (9437 KiB). The maximum recommended task size is 1000 KiB.\n",
      "24/12/02 16:29:52 WARN TaskSetManager: Stage 86 contains a task of very large size (9437 KiB). The maximum recommended task size is 1000 KiB.\n",
      "24/12/02 16:29:52 WARN TaskSetManager: Stage 89 contains a task of very large size (9437 KiB). The maximum recommended task size is 1000 KiB.\n",
      "24/12/02 16:29:52 WARN TaskSetManager: Stage 92 contains a task of very large size (9437 KiB). The maximum recommended task size is 1000 KiB.\n",
      "24/12/02 16:29:53 WARN TaskSetManager: Stage 95 contains a task of very large size (9437 KiB). The maximum recommended task size is 1000 KiB.\n",
      "24/12/02 16:29:53 WARN TaskSetManager: Stage 97 contains a task of very large size (9437 KiB). The maximum recommended task size is 1000 KiB.\n",
      "24/12/02 16:29:53 WARN TaskSetManager: Stage 100 contains a task of very large size (9437 KiB). The maximum recommended task size is 1000 KiB.\n",
      "24/12/02 16:29:54 WARN TaskSetManager: Stage 103 contains a task of very large size (9437 KiB). The maximum recommended task size is 1000 KiB.\n",
      "24/12/02 16:29:54 WARN TaskSetManager: Stage 106 contains a task of very large size (9437 KiB). The maximum recommended task size is 1000 KiB.\n",
      "24/12/02 16:29:55 WARN TaskSetManager: Stage 108 contains a task of very large size (9437 KiB). The maximum recommended task size is 1000 KiB.\n",
      "24/12/02 16:29:55 WARN TaskSetManager: Stage 111 contains a task of very large size (9437 KiB). The maximum recommended task size is 1000 KiB.\n",
      "24/12/02 16:29:56 WARN TaskSetManager: Stage 114 contains a task of very large size (9437 KiB). The maximum recommended task size is 1000 KiB.\n",
      "24/12/02 16:29:56 WARN TaskSetManager: Stage 117 contains a task of very large size (9437 KiB). The maximum recommended task size is 1000 KiB.\n",
      "24/12/02 16:29:56 WARN TaskSetManager: Stage 119 contains a task of very large size (9437 KiB). The maximum recommended task size is 1000 KiB.\n",
      "24/12/02 16:29:57 WARN TaskSetManager: Stage 122 contains a task of very large size (9437 KiB). The maximum recommended task size is 1000 KiB.\n",
      "24/12/02 16:29:57 WARN TaskSetManager: Stage 125 contains a task of very large size (9437 KiB). The maximum recommended task size is 1000 KiB.\n",
      "24/12/02 16:29:58 WARN TaskSetManager: Stage 128 contains a task of very large size (9437 KiB). The maximum recommended task size is 1000 KiB.\n",
      "24/12/02 16:29:58 WARN TaskSetManager: Stage 130 contains a task of very large size (9437 KiB). The maximum recommended task size is 1000 KiB.\n",
      "24/12/02 16:29:58 WARN TaskSetManager: Stage 133 contains a task of very large size (9437 KiB). The maximum recommended task size is 1000 KiB.\n",
      "24/12/02 16:29:59 WARN TaskSetManager: Stage 136 contains a task of very large size (9437 KiB). The maximum recommended task size is 1000 KiB.\n",
      "24/12/02 16:29:59 WARN TaskSetManager: Stage 139 contains a task of very large size (9437 KiB). The maximum recommended task size is 1000 KiB.\n",
      "24/12/02 16:30:00 WARN TaskSetManager: Stage 141 contains a task of very large size (9437 KiB). The maximum recommended task size is 1000 KiB.\n",
      "24/12/02 16:30:00 WARN TaskSetManager: Stage 144 contains a task of very large size (9437 KiB). The maximum recommended task size is 1000 KiB.\n",
      "24/12/02 16:30:00 WARN TaskSetManager: Stage 147 contains a task of very large size (9437 KiB). The maximum recommended task size is 1000 KiB.\n",
      "24/12/02 16:30:01 WARN TaskSetManager: Stage 150 contains a task of very large size (9437 KiB). The maximum recommended task size is 1000 KiB.\n",
      "24/12/02 16:30:01 WARN TaskSetManager: Stage 152 contains a task of very large size (9437 KiB). The maximum recommended task size is 1000 KiB.\n",
      "24/12/02 16:30:01 WARN TaskSetManager: Stage 155 contains a task of very large size (9437 KiB). The maximum recommended task size is 1000 KiB.\n",
      "24/12/02 16:30:02 WARN TaskSetManager: Stage 158 contains a task of very large size (9437 KiB). The maximum recommended task size is 1000 KiB.\n",
      "24/12/02 16:30:02 WARN TaskSetManager: Stage 161 contains a task of very large size (9437 KiB). The maximum recommended task size is 1000 KiB.\n",
      "24/12/02 16:30:02 WARN TaskSetManager: Stage 163 contains a task of very large size (9437 KiB). The maximum recommended task size is 1000 KiB.\n",
      "24/12/02 16:30:03 WARN TaskSetManager: Stage 166 contains a task of very large size (9437 KiB). The maximum recommended task size is 1000 KiB.\n",
      "24/12/02 16:30:03 WARN TaskSetManager: Stage 169 contains a task of very large size (9437 KiB). The maximum recommended task size is 1000 KiB.\n",
      "24/12/02 16:30:04 WARN TaskSetManager: Stage 172 contains a task of very large size (9437 KiB). The maximum recommended task size is 1000 KiB.\n",
      "24/12/02 16:30:04 WARN TaskSetManager: Stage 174 contains a task of very large size (9437 KiB). The maximum recommended task size is 1000 KiB.\n",
      "24/12/02 16:30:04 WARN TaskSetManager: Stage 177 contains a task of very large size (9437 KiB). The maximum recommended task size is 1000 KiB.\n",
      "24/12/02 16:30:05 WARN TaskSetManager: Stage 180 contains a task of very large size (9437 KiB). The maximum recommended task size is 1000 KiB.\n",
      "24/12/02 16:30:05 WARN TaskSetManager: Stage 183 contains a task of very large size (9437 KiB). The maximum recommended task size is 1000 KiB.\n",
      "24/12/02 16:30:06 WARN TaskSetManager: Stage 185 contains a task of very large size (9437 KiB). The maximum recommended task size is 1000 KiB.\n",
      "24/12/02 16:30:06 WARN TaskSetManager: Stage 188 contains a task of very large size (9437 KiB). The maximum recommended task size is 1000 KiB.\n",
      "24/12/02 16:30:06 WARN TaskSetManager: Stage 191 contains a task of very large size (9437 KiB). The maximum recommended task size is 1000 KiB.\n",
      "24/12/02 16:30:07 WARN TaskSetManager: Stage 194 contains a task of very large size (9437 KiB). The maximum recommended task size is 1000 KiB.\n",
      "24/12/02 16:30:07 WARN TaskSetManager: Stage 196 contains a task of very large size (9437 KiB). The maximum recommended task size is 1000 KiB.\n",
      "24/12/02 16:30:07 WARN TaskSetManager: Stage 199 contains a task of very large size (9437 KiB). The maximum recommended task size is 1000 KiB.\n",
      "24/12/02 16:30:07 WARN TaskSetManager: Stage 202 contains a task of very large size (9437 KiB). The maximum recommended task size is 1000 KiB.\n",
      "24/12/02 16:30:08 WARN TaskSetManager: Stage 205 contains a task of very large size (9437 KiB). The maximum recommended task size is 1000 KiB.\n",
      "24/12/02 16:30:08 WARN TaskSetManager: Stage 207 contains a task of very large size (9437 KiB). The maximum recommended task size is 1000 KiB.\n",
      "24/12/02 16:30:08 WARN TaskSetManager: Stage 210 contains a task of very large size (9437 KiB). The maximum recommended task size is 1000 KiB.\n",
      "24/12/02 16:30:09 WARN TaskSetManager: Stage 213 contains a task of very large size (9437 KiB). The maximum recommended task size is 1000 KiB.\n",
      "24/12/02 16:30:09 WARN TaskSetManager: Stage 216 contains a task of very large size (9437 KiB). The maximum recommended task size is 1000 KiB.\n",
      "24/12/02 16:30:10 WARN TaskSetManager: Stage 218 contains a task of very large size (9437 KiB). The maximum recommended task size is 1000 KiB.\n",
      "24/12/02 16:30:10 WARN TaskSetManager: Stage 221 contains a task of very large size (9437 KiB). The maximum recommended task size is 1000 KiB.\n",
      "24/12/02 16:30:12 WARN TaskSetManager: Stage 224 contains a task of very large size (9437 KiB). The maximum recommended task size is 1000 KiB.\n",
      "24/12/02 16:30:13 WARN TaskSetManager: Stage 227 contains a task of very large size (2332 KiB). The maximum recommended task size is 1000 KiB.\n",
      "24/12/02 16:30:13 WARN TaskSetManager: Stage 230 contains a task of very large size (2332 KiB). The maximum recommended task size is 1000 KiB.\n",
      "24/12/02 16:30:14 WARN TaskSetManager: Stage 233 contains a task of very large size (2332 KiB). The maximum recommended task size is 1000 KiB.\n",
      "24/12/02 16:30:14 WARN TaskSetManager: Stage 236 contains a task of very large size (2332 KiB). The maximum recommended task size is 1000 KiB.\n",
      "24/12/02 16:30:15 WARN TaskSetManager: Stage 238 contains a task of very large size (2332 KiB). The maximum recommended task size is 1000 KiB.\n",
      "24/12/02 16:30:15 WARN TaskSetManager: Stage 241 contains a task of very large size (2332 KiB). The maximum recommended task size is 1000 KiB.\n",
      "24/12/02 16:30:15 WARN TaskSetManager: Stage 244 contains a task of very large size (2332 KiB). The maximum recommended task size is 1000 KiB.\n",
      "24/12/02 16:30:16 WARN TaskSetManager: Stage 247 contains a task of very large size (2332 KiB). The maximum recommended task size is 1000 KiB.\n",
      "24/12/02 16:30:16 WARN TaskSetManager: Stage 249 contains a task of very large size (2332 KiB). The maximum recommended task size is 1000 KiB.\n",
      "24/12/02 16:30:16 WARN TaskSetManager: Stage 252 contains a task of very large size (2332 KiB). The maximum recommended task size is 1000 KiB.\n",
      "24/12/02 16:30:16 WARN TaskSetManager: Stage 255 contains a task of very large size (2332 KiB). The maximum recommended task size is 1000 KiB.\n",
      "24/12/02 16:30:17 WARN TaskSetManager: Stage 258 contains a task of very large size (2332 KiB). The maximum recommended task size is 1000 KiB.\n",
      "24/12/02 16:30:17 WARN TaskSetManager: Stage 260 contains a task of very large size (2332 KiB). The maximum recommended task size is 1000 KiB.\n",
      "24/12/02 16:30:17 WARN TaskSetManager: Stage 263 contains a task of very large size (2332 KiB). The maximum recommended task size is 1000 KiB.\n",
      "24/12/02 16:30:17 WARN TaskSetManager: Stage 266 contains a task of very large size (2332 KiB). The maximum recommended task size is 1000 KiB.\n",
      "24/12/02 16:30:18 WARN TaskSetManager: Stage 269 contains a task of very large size (2332 KiB). The maximum recommended task size is 1000 KiB.\n",
      "24/12/02 16:30:18 WARN TaskSetManager: Stage 271 contains a task of very large size (2332 KiB). The maximum recommended task size is 1000 KiB.\n",
      "24/12/02 16:30:18 WARN TaskSetManager: Stage 274 contains a task of very large size (2332 KiB). The maximum recommended task size is 1000 KiB.\n",
      "24/12/02 16:30:19 WARN TaskSetManager: Stage 277 contains a task of very large size (2332 KiB). The maximum recommended task size is 1000 KiB.\n",
      "24/12/02 16:30:19 WARN TaskSetManager: Stage 280 contains a task of very large size (2332 KiB). The maximum recommended task size is 1000 KiB.\n",
      "24/12/02 16:30:19 WARN TaskSetManager: Stage 282 contains a task of very large size (2332 KiB). The maximum recommended task size is 1000 KiB.\n",
      "24/12/02 16:30:19 WARN TaskSetManager: Stage 285 contains a task of very large size (2332 KiB). The maximum recommended task size is 1000 KiB.\n",
      "24/12/02 16:30:19 WARN TaskSetManager: Stage 288 contains a task of very large size (2332 KiB). The maximum recommended task size is 1000 KiB.\n",
      "24/12/02 16:30:20 WARN TaskSetManager: Stage 291 contains a task of very large size (2332 KiB). The maximum recommended task size is 1000 KiB.\n",
      "24/12/02 16:30:20 WARN TaskSetManager: Stage 293 contains a task of very large size (2332 KiB). The maximum recommended task size is 1000 KiB.\n",
      "24/12/02 16:30:20 WARN TaskSetManager: Stage 296 contains a task of very large size (2332 KiB). The maximum recommended task size is 1000 KiB.\n",
      "24/12/02 16:30:20 WARN TaskSetManager: Stage 299 contains a task of very large size (2332 KiB). The maximum recommended task size is 1000 KiB.\n",
      "24/12/02 16:30:21 WARN TaskSetManager: Stage 302 contains a task of very large size (2332 KiB). The maximum recommended task size is 1000 KiB.\n",
      "24/12/02 16:30:21 WARN TaskSetManager: Stage 304 contains a task of very large size (2332 KiB). The maximum recommended task size is 1000 KiB.\n",
      "24/12/02 16:30:21 WARN TaskSetManager: Stage 307 contains a task of very large size (2332 KiB). The maximum recommended task size is 1000 KiB.\n",
      "24/12/02 16:30:21 WARN TaskSetManager: Stage 310 contains a task of very large size (2332 KiB). The maximum recommended task size is 1000 KiB.\n",
      "24/12/02 16:30:22 WARN TaskSetManager: Stage 313 contains a task of very large size (2332 KiB). The maximum recommended task size is 1000 KiB.\n",
      "24/12/02 16:30:22 WARN TaskSetManager: Stage 315 contains a task of very large size (2332 KiB). The maximum recommended task size is 1000 KiB.\n",
      "24/12/02 16:30:22 WARN TaskSetManager: Stage 318 contains a task of very large size (2332 KiB). The maximum recommended task size is 1000 KiB.\n",
      "24/12/02 16:30:23 WARN TaskSetManager: Stage 321 contains a task of very large size (2332 KiB). The maximum recommended task size is 1000 KiB.\n",
      "24/12/02 16:30:23 WARN TaskSetManager: Stage 324 contains a task of very large size (2332 KiB). The maximum recommended task size is 1000 KiB.\n",
      "24/12/02 16:30:23 WARN TaskSetManager: Stage 326 contains a task of very large size (2332 KiB). The maximum recommended task size is 1000 KiB.\n",
      "24/12/02 16:30:23 WARN TaskSetManager: Stage 329 contains a task of very large size (2332 KiB). The maximum recommended task size is 1000 KiB.\n",
      "24/12/02 16:30:24 WARN TaskSetManager: Stage 332 contains a task of very large size (2332 KiB). The maximum recommended task size is 1000 KiB.\n",
      "24/12/02 16:30:24 WARN TaskSetManager: Stage 335 contains a task of very large size (2332 KiB). The maximum recommended task size is 1000 KiB.\n",
      "24/12/02 16:30:25 WARN TaskSetManager: Stage 337 contains a task of very large size (2332 KiB). The maximum recommended task size is 1000 KiB.\n",
      "24/12/02 16:30:25 WARN TaskSetManager: Stage 340 contains a task of very large size (2332 KiB). The maximum recommended task size is 1000 KiB.\n",
      "24/12/02 16:30:25 WARN TaskSetManager: Stage 343 contains a task of very large size (2332 KiB). The maximum recommended task size is 1000 KiB.\n",
      "24/12/02 16:30:26 WARN TaskSetManager: Stage 346 contains a task of very large size (2332 KiB). The maximum recommended task size is 1000 KiB.\n",
      "24/12/02 16:30:26 WARN TaskSetManager: Stage 348 contains a task of very large size (2332 KiB). The maximum recommended task size is 1000 KiB.\n",
      "24/12/02 16:30:26 WARN TaskSetManager: Stage 351 contains a task of very large size (2332 KiB). The maximum recommended task size is 1000 KiB.\n",
      "24/12/02 16:30:26 WARN TaskSetManager: Stage 354 contains a task of very large size (2332 KiB). The maximum recommended task size is 1000 KiB.\n",
      "24/12/02 16:30:27 WARN TaskSetManager: Stage 357 contains a task of very large size (2332 KiB). The maximum recommended task size is 1000 KiB.\n",
      "24/12/02 16:30:27 WARN TaskSetManager: Stage 359 contains a task of very large size (2332 KiB). The maximum recommended task size is 1000 KiB.\n",
      "24/12/02 16:30:27 WARN TaskSetManager: Stage 362 contains a task of very large size (2332 KiB). The maximum recommended task size is 1000 KiB.\n",
      "24/12/02 16:30:28 WARN TaskSetManager: Stage 365 contains a task of very large size (2332 KiB). The maximum recommended task size is 1000 KiB.\n",
      "24/12/02 16:30:28 WARN TaskSetManager: Stage 368 contains a task of very large size (2332 KiB). The maximum recommended task size is 1000 KiB.\n",
      "24/12/02 16:30:28 WARN TaskSetManager: Stage 370 contains a task of very large size (2332 KiB). The maximum recommended task size is 1000 KiB.\n",
      "24/12/02 16:30:29 WARN TaskSetManager: Stage 373 contains a task of very large size (2332 KiB). The maximum recommended task size is 1000 KiB.\n",
      "24/12/02 16:30:29 WARN TaskSetManager: Stage 376 contains a task of very large size (2332 KiB). The maximum recommended task size is 1000 KiB.\n",
      "24/12/02 16:30:29 WARN TaskSetManager: Stage 379 contains a task of very large size (2332 KiB). The maximum recommended task size is 1000 KiB.\n",
      "24/12/02 16:30:30 WARN TaskSetManager: Stage 381 contains a task of very large size (2332 KiB). The maximum recommended task size is 1000 KiB.\n",
      "24/12/02 16:30:30 WARN TaskSetManager: Stage 384 contains a task of very large size (2332 KiB). The maximum recommended task size is 1000 KiB.\n",
      "24/12/02 16:30:30 WARN TaskSetManager: Stage 387 contains a task of very large size (2332 KiB). The maximum recommended task size is 1000 KiB.\n",
      "24/12/02 16:30:31 WARN TaskSetManager: Stage 390 contains a task of very large size (2332 KiB). The maximum recommended task size is 1000 KiB.\n",
      "24/12/02 16:30:31 WARN TaskSetManager: Stage 392 contains a task of very large size (2332 KiB). The maximum recommended task size is 1000 KiB.\n",
      "24/12/02 16:30:31 WARN TaskSetManager: Stage 395 contains a task of very large size (2332 KiB). The maximum recommended task size is 1000 KiB.\n",
      "24/12/02 16:30:32 WARN TaskSetManager: Stage 398 contains a task of very large size (2332 KiB). The maximum recommended task size is 1000 KiB.\n",
      "24/12/02 16:30:32 WARN TaskSetManager: Stage 401 contains a task of very large size (2332 KiB). The maximum recommended task size is 1000 KiB.\n",
      "24/12/02 16:30:33 WARN TaskSetManager: Stage 403 contains a task of very large size (2332 KiB). The maximum recommended task size is 1000 KiB.\n",
      "24/12/02 16:30:33 WARN TaskSetManager: Stage 406 contains a task of very large size (2332 KiB). The maximum recommended task size is 1000 KiB.\n",
      "24/12/02 16:30:33 WARN TaskSetManager: Stage 409 contains a task of very large size (2332 KiB). The maximum recommended task size is 1000 KiB.\n",
      "24/12/02 16:30:33 WARN TaskSetManager: Stage 412 contains a task of very large size (2332 KiB). The maximum recommended task size is 1000 KiB.\n",
      "24/12/02 16:30:34 WARN TaskSetManager: Stage 414 contains a task of very large size (2332 KiB). The maximum recommended task size is 1000 KiB.\n",
      "24/12/02 16:30:34 WARN TaskSetManager: Stage 417 contains a task of very large size (2332 KiB). The maximum recommended task size is 1000 KiB.\n",
      "24/12/02 16:30:34 WARN TaskSetManager: Stage 420 contains a task of very large size (2332 KiB). The maximum recommended task size is 1000 KiB.\n",
      "24/12/02 16:30:35 WARN TaskSetManager: Stage 423 contains a task of very large size (2332 KiB). The maximum recommended task size is 1000 KiB.\n",
      "24/12/02 16:30:35 WARN TaskSetManager: Stage 425 contains a task of very large size (2332 KiB). The maximum recommended task size is 1000 KiB.\n",
      "24/12/02 16:30:35 WARN TaskSetManager: Stage 428 contains a task of very large size (2332 KiB). The maximum recommended task size is 1000 KiB.\n",
      "24/12/02 16:30:35 WARN TaskSetManager: Stage 431 contains a task of very large size (2332 KiB). The maximum recommended task size is 1000 KiB.\n",
      "24/12/02 16:30:36 WARN TaskSetManager: Stage 434 contains a task of very large size (2332 KiB). The maximum recommended task size is 1000 KiB.\n",
      "24/12/02 16:30:36 WARN TaskSetManager: Stage 436 contains a task of very large size (2332 KiB). The maximum recommended task size is 1000 KiB.\n",
      "24/12/02 16:30:36 WARN TaskSetManager: Stage 439 contains a task of very large size (2332 KiB). The maximum recommended task size is 1000 KiB.\n",
      "24/12/02 16:30:37 WARN TaskSetManager: Stage 442 contains a task of very large size (2332 KiB). The maximum recommended task size is 1000 KiB.\n"
     ]
    }
   ],
   "source": [
    "# need to replace the empty string in surface\n",
    "df = df.withColumn(\n",
    "    'surface',\n",
    "    F.when(df.surface == '', 'Undefined').otherwise(df.surface)\n",
    ")\n",
    "\n",
    "undersample_df = undersample_df.withColumn(\n",
    "    'surface',\n",
    "    F.when(undersample_df.surface == '', 'Undefined').otherwise(undersample_df.surface)\n",
    ")\n",
    "\n",
    "# fit the model with the hyperparameter search\n",
    "nb_model = tvs.fit(df)\n",
    "\n",
    "# fit to undersample as well\n",
    "nb_undersample_model = tvs.fit(undersample_df)"
   ]
  },
  {
   "cell_type": "markdown",
   "id": "1fa9c326-f0aa-4c4e-8602-e0afd32af9bc",
   "metadata": {},
   "source": [
    "### Evaluate the Models"
   ]
  },
  {
   "cell_type": "markdown",
   "id": "a2b3d943-6ee7-4713-9569-a085572419e8",
   "metadata": {},
   "source": [
    "#### Non-Undersample"
   ]
  },
  {
   "cell_type": "code",
   "execution_count": 9,
   "id": "379fa92e-0041-48d1-bb80-ba5012951bbd",
   "metadata": {},
   "outputs": [
    {
     "name": "stdout",
     "output_type": "stream",
     "text": [
      "Tuned Parameters of the Best Model:\n",
      "featuresCol: features\n",
      "labelCol: play_type_idx\n",
      "modelType: multinomial\n",
      "predictionCol: prediction\n",
      "probabilityCol: probability\n",
      "rawPredictionCol: rawPrediction\n",
      "smoothing: 0.05\n"
     ]
    }
   ],
   "source": [
    "best_model = nb_model.bestModel\n",
    "\n",
    "# Extract the parameter map of the best model\n",
    "best_params = best_model.stages[-1].extractParamMap()\n",
    "\n",
    "# Print the parameters values\n",
    "print(\"Tuned Parameters of the Best Model:\")\n",
    "for param, value in best_params.items():\n",
    "    print(f\"{param.name}: {value}\")"
   ]
  },
  {
   "cell_type": "code",
   "execution_count": 10,
   "id": "b35437ee-aa32-456f-b6cb-c4f3925686d7",
   "metadata": {},
   "outputs": [],
   "source": [
    "# have to change test df instance\n",
    "test_df = test_df.withColumn(\n",
    "    'surface',\n",
    "    F.when(test_df.surface == '', 'Undefined').otherwise(test_df.surface)\n",
    ")\n",
    "\n",
    "prediction = best_model.transform(test_df)"
   ]
  },
  {
   "cell_type": "code",
   "execution_count": 11,
   "id": "4c7a9720-fe4d-4c2c-bdd0-02adf1f269e9",
   "metadata": {},
   "outputs": [
    {
     "name": "stderr",
     "output_type": "stream",
     "text": [
      "24/12/02 16:30:38 WARN TaskSetManager: Stage 445 contains a task of very large size (9437 KiB). The maximum recommended task size is 1000 KiB.\n",
      "24/12/02 16:30:39 WARN TaskSetManager: Stage 446 contains a task of very large size (9437 KiB). The maximum recommended task size is 1000 KiB.\n",
      "24/12/02 16:30:43 WARN TaskSetManager: Stage 455 contains a task of very large size (9437 KiB). The maximum recommended task size is 1000 KiB.\n",
      "24/12/02 16:30:44 WARN TaskSetManager: Stage 456 contains a task of very large size (9437 KiB). The maximum recommended task size is 1000 KiB.\n",
      "24/12/02 16:30:47 WARN TaskSetManager: Stage 465 contains a task of very large size (9437 KiB). The maximum recommended task size is 1000 KiB.\n",
      "24/12/02 16:30:48 WARN TaskSetManager: Stage 466 contains a task of very large size (9437 KiB). The maximum recommended task size is 1000 KiB.\n",
      "                                                                                \r"
     ]
    }
   ],
   "source": [
    "f1_evaluator = MulticlassClassificationEvaluator(\n",
    "    labelCol='play_type_idx', predictionCol=\"prediction\",\n",
    "    metricName='f1'\n",
    ")\n",
    "\n",
    "accuracy_evaluator = MulticlassClassificationEvaluator(\n",
    "    labelCol='play_type_idx', predictionCol=\"prediction\",\n",
    "    metricName='accuracy'\n",
    ")\n",
    "\n",
    "precision_by_label_eval = MulticlassClassificationEvaluator(\n",
    "    labelCol='play_type_idx', predictionCol=\"prediction\",\n",
    "    metricName='precisionByLabel'\n",
    ")\n",
    "\n",
    "f1_score = f1_evaluator.evaluate(prediction)\n",
    "accuracy = accuracy_evaluator.evaluate(prediction)\n",
    "precision_by_label = precision_by_label_eval.evaluate(prediction)"
   ]
  },
  {
   "cell_type": "code",
   "execution_count": 12,
   "id": "373d502c-6f99-40a5-8c04-13dd353c9cc0",
   "metadata": {},
   "outputs": [
    {
     "name": "stderr",
     "output_type": "stream",
     "text": [
      "24/12/02 16:30:50 WARN TaskSetManager: Stage 475 contains a task of very large size (9437 KiB). The maximum recommended task size is 1000 KiB.\n",
      "24/12/02 16:30:51 WARN TaskSetManager: Stage 476 contains a task of very large size (9437 KiB). The maximum recommended task size is 1000 KiB.\n",
      "[Stage 479:>                                                        (0 + 2) / 2]\r"
     ]
    },
    {
     "name": "stdout",
     "output_type": "stream",
     "text": [
      "+-------------+----------+\n",
      "|play_type_idx|prediction|\n",
      "+-------------+----------+\n",
      "|          1.0|       0.0|\n",
      "|          0.0|       0.0|\n",
      "|          0.0|       0.0|\n",
      "|          0.0|       0.0|\n",
      "|          0.0|       0.0|\n",
      "|          0.0|       0.0|\n",
      "|          4.0|       0.0|\n",
      "|          1.0|       0.0|\n",
      "|          0.0|       0.0|\n",
      "|          0.0|       0.0|\n",
      "+-------------+----------+\n",
      "only showing top 10 rows\n",
      "\n"
     ]
    },
    {
     "name": "stderr",
     "output_type": "stream",
     "text": [
      "                                                                                \r"
     ]
    }
   ],
   "source": [
    "prediction.select([prediction.play_type_idx, prediction.prediction]).show(10)"
   ]
  },
  {
   "cell_type": "code",
   "execution_count": 13,
   "id": "93762d04-5930-4435-b6ea-89b4a7410b16",
   "metadata": {},
   "outputs": [
    {
     "name": "stderr",
     "output_type": "stream",
     "text": [
      "24/12/02 16:30:53 WARN TaskSetManager: Stage 484 contains a task of very large size (9437 KiB). The maximum recommended task size is 1000 KiB.\n",
      "24/12/02 16:30:54 WARN TaskSetManager: Stage 485 contains a task of very large size (9437 KiB). The maximum recommended task size is 1000 KiB.\n",
      "[Stage 492:>                                                        (0 + 2) / 2]\r"
     ]
    },
    {
     "name": "stdout",
     "output_type": "stream",
     "text": [
      "+----------+-----+\n",
      "|prediction|count|\n",
      "+----------+-----+\n",
      "|       0.0|62706|\n",
      "|       1.0| 1364|\n",
      "|       3.0|    1|\n",
      "|       2.0|  538|\n",
      "+----------+-----+\n",
      "\n"
     ]
    },
    {
     "name": "stderr",
     "output_type": "stream",
     "text": [
      "                                                                                \r"
     ]
    }
   ],
   "source": [
    "prediction.groupby(prediction.prediction).count().show()"
   ]
  },
  {
   "cell_type": "code",
   "execution_count": 14,
   "id": "21cd6c86-2b93-44f5-b611-f4dec6a3fba5",
   "metadata": {},
   "outputs": [
    {
     "name": "stderr",
     "output_type": "stream",
     "text": [
      "24/12/02 16:30:56 WARN TaskSetManager: Stage 498 contains a task of very large size (9437 KiB). The maximum recommended task size is 1000 KiB.\n",
      "24/12/02 16:30:57 WARN TaskSetManager: Stage 499 contains a task of very large size (9437 KiB). The maximum recommended task size is 1000 KiB.\n",
      "[Stage 502:>                                                        (0 + 2) / 2]\r"
     ]
    },
    {
     "name": "stdout",
     "output_type": "stream",
     "text": [
      "+-------------+-----+\n",
      "|play_type_idx|count|\n",
      "+-------------+-----+\n",
      "|          0.0|41679|\n",
      "|          1.0|12679|\n",
      "|          4.0| 2760|\n",
      "|          3.0| 2813|\n",
      "|          2.0| 4678|\n",
      "+-------------+-----+\n",
      "\n"
     ]
    },
    {
     "name": "stderr",
     "output_type": "stream",
     "text": [
      "                                                                                \r"
     ]
    }
   ],
   "source": [
    "prediction.groupby(prediction.play_type_idx).count().show()"
   ]
  },
  {
   "cell_type": "code",
   "execution_count": 15,
   "id": "fdf18220-4093-4635-ab84-ddfd9284d579",
   "metadata": {},
   "outputs": [
    {
     "name": "stderr",
     "output_type": "stream",
     "text": [
      "24/12/02 16:30:59 WARN TaskSetManager: Stage 512 contains a task of very large size (9437 KiB). The maximum recommended task size is 1000 KiB.\n",
      "24/12/02 16:31:00 WARN TaskSetManager: Stage 513 contains a task of very large size (9437 KiB). The maximum recommended task size is 1000 KiB.\n",
      "                                                                                \r"
     ]
    }
   ],
   "source": [
    "labels = prediction.select([prediction.play_type, prediction.play_type_idx]).distinct().orderBy(prediction.play_type_idx).select(prediction.play_type).collect()\n",
    "labels = [x[0][0] for x in labels]"
   ]
  },
  {
   "cell_type": "code",
   "execution_count": 16,
   "id": "e231c8d6-1f67-469b-a6f3-755d82f0ddad",
   "metadata": {},
   "outputs": [
    {
     "name": "stderr",
     "output_type": "stream",
     "text": [
      "24/12/02 16:31:02 WARN TaskSetManager: Stage 537 contains a task of very large size (9437 KiB). The maximum recommended task size is 1000 KiB.\n",
      "24/12/02 16:31:02 WARN TaskSetManager: Stage 538 contains a task of very large size (9437 KiB). The maximum recommended task size is 1000 KiB.\n",
      "[Stage 541:============================>                            (1 + 1) / 2]\r"
     ]
    },
    {
     "name": "stdout",
     "output_type": "stream",
     "text": [
      "+----------+-----+\n",
      "| play_type|count|\n",
      "+----------+-----+\n",
      "|field_goal|12679|\n",
      "|   no_play| 2760|\n",
      "|       run| 2813|\n",
      "|      punt|41679|\n",
      "|      pass| 4678|\n",
      "+----------+-----+\n",
      "\n"
     ]
    },
    {
     "name": "stderr",
     "output_type": "stream",
     "text": [
      "                                                                                \r"
     ]
    }
   ],
   "source": [
    "test_df.groupby(test_df.play_type).count().show()"
   ]
  },
  {
   "cell_type": "code",
   "execution_count": 17,
   "id": "23165c0a-c5b9-42c9-9786-fecd21c7df65",
   "metadata": {},
   "outputs": [
    {
     "name": "stdout",
     "output_type": "stream",
     "text": [
      "\n",
      "F1: 0.5157475756303482\n",
      "Accuracy: 0.6369081706882942\n",
      "Precision by Label: 0.64891716901094\n",
      "\n"
     ]
    }
   ],
   "source": [
    "results = f'''\n",
    "F1: {f1_score}\n",
    "Accuracy: {accuracy}\n",
    "Precision by Label: {precision_by_label}\n",
    "'''\n",
    "\n",
    "print(results)"
   ]
  },
  {
   "cell_type": "code",
   "execution_count": 18,
   "id": "9b00f9b4-0009-4294-9d5d-1ab0d2f1adbc",
   "metadata": {},
   "outputs": [
    {
     "name": "stderr",
     "output_type": "stream",
     "text": [
      "24/12/02 16:31:05 WARN TaskSetManager: Stage 551 contains a task of very large size (9437 KiB). The maximum recommended task size is 1000 KiB.\n",
      "24/12/02 16:31:05 WARN TaskSetManager: Stage 552 contains a task of very large size (9437 KiB). The maximum recommended task size is 1000 KiB.\n",
      "/sfs/gpfs/tardis/home/ean8fr/distributed-computing-final/env/lib/python3.11/site-packages/pyspark/sql/context.py:157: FutureWarning: Deprecated in 3.0.0. Use SparkSession.builder.getOrCreate() instead.\n",
      "  warnings.warn(\n"
     ]
    },
    {
     "name": "stdout",
     "output_type": "stream",
     "text": [
      "[[4.0691e+04 7.3700e+02 2.5100e+02 0.0000e+00 0.0000e+00]\n",
      " [1.2210e+04 3.5700e+02 1.1100e+02 1.0000e+00 0.0000e+00]\n",
      " [4.4500e+03 1.2600e+02 1.0200e+02 0.0000e+00 0.0000e+00]\n",
      " [2.7000e+03 7.1000e+01 4.2000e+01 0.0000e+00 0.0000e+00]\n",
      " [2.6550e+03 7.3000e+01 3.2000e+01 0.0000e+00 0.0000e+00]]\n"
     ]
    }
   ],
   "source": [
    "from pyspark.sql.types import FloatType\n",
    "from pyspark.mllib.evaluation import MulticlassMetrics\n",
    "\n",
    "#Adapting code from https://www.kaggle.com/code/ashokkumarpalivela/multiclass-classification-using-pyspark for confusion matrix\n",
    "preds_and_labels = prediction.select(['prediction','play_type_idx'])\\\n",
    "                              .withColumn('play_type_idx', col('play_type_idx')\\\n",
    "                              .cast(FloatType()))\\\n",
    "                              .orderBy('prediction')\n",
    "    \n",
    "metrics = MulticlassMetrics(preds_and_labels.rdd.map(tuple))\n",
    "\n",
    "print(metrics.confusionMatrix().toArray())"
   ]
  },
  {
   "cell_type": "code",
   "execution_count": 19,
   "id": "dcf723f4-ec66-4858-89ac-098050470fe0",
   "metadata": {},
   "outputs": [
    {
     "data": {
      "text/plain": [
       "Text(95.72222222222221, 0.5, 'Actual')"
      ]
     },
     "execution_count": 19,
     "metadata": {},
     "output_type": "execute_result"
    },
    {
     "data": {
      "image/png": "[encoded data removed]",
      "text/plain": [
       "<Figure size 1000x1000 with 1 Axes>"
      ]
     },
     "metadata": {},
     "output_type": "display_data"
    }
   ],
   "source": [
    "# labels = [\"field_goal\", \"no_play\", \"pass\", \"punt\", \"run\"]\n",
    "_ = plt.figure(figsize=(10, 10))\n",
    "ax = sns.heatmap(metrics.confusionMatrix().toArray(),\n",
    "            cmap='viridis',\n",
    "            annot=True,fmt='0',\n",
    "            cbar=False, \n",
    "            xticklabels=labels,\n",
    "            yticklabels=labels)\n",
    "\n",
    "plt.title('Confusion Matrix', fontsize = 20) # title with fontsize 20\n",
    "plt.xlabel('Predicted', fontsize = 15) # x-axis label with fontsize 15\n",
    "plt.ylabel('Actual', fontsize = 15) # y-axis label with fontsize 15"
   ]
  },
  {
   "cell_type": "markdown",
   "id": "ea092910-556c-426f-bd40-23c328815390",
   "metadata": {},
   "source": [
    "#### Undersample"
   ]
  },
  {
   "cell_type": "code",
   "execution_count": 20,
   "id": "1d9d7b96-5586-46c5-9453-7c60821b047b",
   "metadata": {},
   "outputs": [
    {
     "name": "stdout",
     "output_type": "stream",
     "text": [
      "Tuned Parameters of the Best Model:\n",
      "featuresCol: features\n",
      "labelCol: play_type_idx\n",
      "modelType: multinomial\n",
      "predictionCol: prediction\n",
      "probabilityCol: probability\n",
      "rawPredictionCol: rawPrediction\n",
      "smoothing: 0.8\n"
     ]
    },
    {
     "name": "stderr",
     "output_type": "stream",
     "text": [
      "24/12/02 16:31:10 WARN TaskSetManager: Stage 575 contains a task of very large size (9437 KiB). The maximum recommended task size is 1000 KiB.\n",
      "24/12/02 16:31:11 WARN TaskSetManager: Stage 576 contains a task of very large size (9437 KiB). The maximum recommended task size is 1000 KiB.\n",
      "24/12/02 16:31:13 WARN TaskSetManager: Stage 585 contains a task of very large size (9437 KiB). The maximum recommended task size is 1000 KiB.\n",
      "24/12/02 16:31:14 WARN TaskSetManager: Stage 586 contains a task of very large size (9437 KiB). The maximum recommended task size is 1000 KiB.\n",
      "24/12/02 16:31:16 WARN TaskSetManager: Stage 595 contains a task of very large size (9437 KiB). The maximum recommended task size is 1000 KiB.\n",
      "24/12/02 16:31:17 WARN TaskSetManager: Stage 596 contains a task of very large size (9437 KiB). The maximum recommended task size is 1000 KiB.\n",
      "24/12/02 16:31:19 WARN TaskSetManager: Stage 605 contains a task of very large size (9437 KiB). The maximum recommended task size is 1000 KiB.\n"
     ]
    },
    {
     "name": "stdout",
     "output_type": "stream",
     "text": [
      "\n",
      "F1: 0.3049015542298733\n",
      "Accuracy: 0.2548716123140739\n",
      "Precision by Label: 0.21649746192893402\n",
      "\n"
     ]
    },
    {
     "name": "stderr",
     "output_type": "stream",
     "text": [
      "24/12/02 16:31:20 WARN TaskSetManager: Stage 606 contains a task of very large size (9437 KiB). The maximum recommended task size is 1000 KiB.\n",
      "24/12/02 16:31:22 WARN TaskSetManager: Stage 630 contains a task of very large size (9437 KiB). The maximum recommended task size is 1000 KiB.\n",
      "24/12/02 16:31:22 WARN TaskSetManager: Stage 631 contains a task of very large size (9437 KiB). The maximum recommended task size is 1000 KiB.\n",
      "/sfs/gpfs/tardis/home/ean8fr/distributed-computing-final/env/lib/python3.11/site-packages/pyspark/sql/context.py:157: FutureWarning: Deprecated in 3.0.0. Use SparkSession.builder.getOrCreate() instead.\n",
      "  warnings.warn(\n"
     ]
    },
    {
     "name": "stdout",
     "output_type": "stream",
     "text": [
      "[[ 2559.  2110.  3229.  2939.  1842.]\n",
      " [  436.   558.   859.   545.   362.]\n",
      " [  481.   743.  2157.   584.   713.]\n",
      " [ 7878.  7294. 10126. 10731.  5650.]\n",
      " [  466.   486.   863.   536.   462.]]\n"
     ]
    },
    {
     "data": {
      "text/plain": [
       "Text(95.72222222222221, 0.5, 'Actual')"
      ]
     },
     "execution_count": 20,
     "metadata": {},
     "output_type": "execute_result"
    },
    {
     "data": {
      "image/png": "[encoded data removed]",
      "text/plain": [
       "<Figure size 1000x1000 with 1 Axes>"
      ]
     },
     "metadata": {},
     "output_type": "display_data"
    }
   ],
   "source": [
    "best_model = nb_undersample_model.bestModel\n",
    "\n",
    "# Extract the parameter map of the best model\n",
    "best_params = best_model.stages[-1].extractParamMap()\n",
    "\n",
    "# Print the parameters values\n",
    "print(\"Tuned Parameters of the Best Model:\")\n",
    "for param, value in best_params.items():\n",
    "    print(f\"{param.name}: {value}\")\n",
    "\n",
    "# get prediction\n",
    "prediction = best_model.transform(test_df)\n",
    "\n",
    "# use same evaluators\n",
    "f1_score = f1_evaluator.evaluate(prediction)\n",
    "accuracy = accuracy_evaluator.evaluate(prediction)\n",
    "precision_by_label = precision_by_label_eval.evaluate(prediction)\n",
    "\n",
    "results = f'''\n",
    "F1: {f1_score}\n",
    "Accuracy: {accuracy}\n",
    "Precision by Label: {precision_by_label}\n",
    "'''\n",
    "\n",
    "print(results)\n",
    "\n",
    "labels = prediction.select([prediction.play_type, prediction.play_type_idx]).distinct().orderBy(prediction.play_type_idx).select(prediction.play_type).collect()\n",
    "labels = [x[0][0] for x in labels]\n",
    "\n",
    "preds_and_labels = prediction.select(['prediction','play_type_idx'])\\\n",
    "                              .withColumn('play_type_idx', col('play_type_idx')\\\n",
    "                              .cast(FloatType()))\\\n",
    "                              .orderBy('prediction')\n",
    "    \n",
    "metrics = MulticlassMetrics(preds_and_labels.rdd.map(tuple))\n",
    "\n",
    "print(metrics.confusionMatrix().toArray())\n",
    "\n",
    "_ = plt.figure(figsize=(10, 10))\n",
    "ax = sns.heatmap(metrics.confusionMatrix().toArray(),\n",
    "            cmap='viridis',\n",
    "            annot=True,fmt='0',\n",
    "            cbar=False, \n",
    "            xticklabels=labels,\n",
    "            yticklabels=labels)\n",
    "\n",
    "plt.title('Confusion Matrix', fontsize = 20) # title with fontsize 20\n",
    "plt.xlabel('Predicted', fontsize = 15) # x-axis label with fontsize 15\n",
    "plt.ylabel('Actual', fontsize = 15) # y-axis label with fontsize 15"
   ]
  },
  {
   "cell_type": "markdown",
   "id": "7866da5a-0f72-4ee7-baf3-6233698931c3",
   "metadata": {},
   "source": [
    "### Conclusions"
   ]
  },
  {
   "cell_type": "markdown",
   "id": "6e28d1a6-06c7-4524-a4d4-f5fb9f8c2e48",
   "metadata": {},
   "source": [
    "Some quick observations:\n",
    "\n",
    "* Much better performance when we don't undersample, could be because everything is a punt\n",
    "* We need to be careful with the labels for the confusion matrix. They were not intially lining up properly with what the idxs are.\n",
    "* I added temp, wind, roof, surface to the predictors"
   ]
  }
 ],
 "metadata": {
  "kernelspec": {
   "display_name": "distributed-computing",
   "language": "python",
   "name": "distributed-computing"
  },
  "language_info": {
   "codemirror_mode": {
    "name": "ipython",
    "version": 3
   },
   "file_extension": ".py",
   "mimetype": "text/x-python",
   "name": "python",
   "nbconvert_exporter": "python",
   "pygments_lexer": "ipython3",
   "version": "3.11.5"
  }
 },
 "nbformat": 4,
 "nbformat_minor": 5
}
