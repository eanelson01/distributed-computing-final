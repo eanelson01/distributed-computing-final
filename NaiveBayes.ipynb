{
 "cells": [
  {
   "cell_type": "markdown",
   "id": "dc445894-a5bd-4768-8672-bcebea5aebfa",
   "metadata": {},
   "source": [
    "### Creating Model 3\n",
    "\n",
    "* Creating a 3rd model for the NFL Play data. The goal is to predict the play type on 4th down.\n",
    "* Logistic Regression & Random Forest have been completed, so the next step is gradient boosted trees."
   ]
  },
  {
   "cell_type": "code",
   "execution_count": 15,
   "id": "6e1acab1-8e72-4add-9c2c-1798b8967ec2",
   "metadata": {},
   "outputs": [],
   "source": [
    "from pyspark.ml import Pipeline  \n",
    "from pyspark.ml.feature import *  \n",
    "from pyspark.ml.classification import LogisticRegression\n",
    "import nfl_data_py as nfl\n",
    "import numpy as np\n",
    "from pyspark.sql import SparkSession\n",
    "from pyspark.sql.functions import col\n",
    "from imblearn.under_sampling import RandomUnderSampler\n",
    "from imblearn.over_sampling import SMOTENC\n",
    "import pandas as pd\n",
    "from imblearn.combine import SMOTEENN\n",
    "from DataPipelineFxn import *\n",
    "from pyspark.ml.evaluation import MulticlassClassificationEvaluator\n",
    "from pyspark.ml.tuning import TrainValidationSplit, ParamGridBuilder\n",
    "import seaborn as sns\n",
    "import matplotlib.pyplot as plt\n",
    "from pyspark.sql import functions as F"
   ]
  },
  {
   "cell_type": "code",
   "execution_count": 2,
   "id": "c28b6116-fab9-4cfd-be1c-8000d1a6292b",
   "metadata": {},
   "outputs": [
    {
     "name": "stdout",
     "output_type": "stream",
     "text": [
      "2000 done.\n",
      "2001 done.\n",
      "2002 done.\n",
      "2003 done.\n",
      "2004 done.\n",
      "2005 done.\n",
      "2006 done.\n",
      "2007 done.\n",
      "2008 done.\n",
      "2009 done.\n",
      "2010 done.\n",
      "2011 done.\n",
      "2012 done.\n",
      "2013 done.\n",
      "2014 done.\n",
      "2015 done.\n",
      "2016 done.\n",
      "2017 done.\n",
      "2018 done.\n",
      "2019 done.\n",
      "2020 done.\n",
      "2021 done.\n",
      "2022 done.\n",
      "2023 done.\n"
     ]
    },
    {
     "name": "stderr",
     "output_type": "stream",
     "text": [
      "Setting default log level to \"WARN\".\n",
      "To adjust logging level use sc.setLogLevel(newLevel). For SparkR, use setLogLevel(newLevel).\n",
      "24/12/02 11:02:26 WARN NativeCodeLoader: Unable to load native-hadoop library for your platform... using builtin-java classes where applicable\n"
     ]
    }
   ],
   "source": [
    "# get the spark session and data frame\n",
    "spark, df, test_df = GetSparkDF(undersample = False)"
   ]
  },
  {
   "cell_type": "markdown",
   "id": "8968cfd5-3a1e-4df9-a459-a18f88dfebb4",
   "metadata": {},
   "source": [
    "### Create the Model Pipeline"
   ]
  },
  {
   "cell_type": "code",
   "execution_count": 4,
   "id": "84eaa2e8-7fb1-478e-86eb-ee6fec29cc7f",
   "metadata": {},
   "outputs": [],
   "source": [
    "from pyspark.ml.classification import NaiveBayes"
   ]
  },
  {
   "cell_type": "code",
   "execution_count": 5,
   "id": "eee0fd6a-0322-4cb1-ba56-ab40c1f574de",
   "metadata": {},
   "outputs": [],
   "source": [
    "str_col = [\"home_team\", \"away_team\", \"season_type\", \"posteam\", \"posteam_type\", \"defteam\", \"side_of_field\", \"game_half\",\n",
    "        \"play_type\", \"season\", 'roof', 'surface']\n",
    "str_col_output = [\"home_team_idx\", \"away_team_idx\", \"season_type_idx\", \"posteam_idx\", \"posteam_type_idx\", \"defteam_idx\",\n",
    "                  \"side_of_field_idx\", \"game_half_idx\", \"play_type_idx\", \"season_idx\", 'roof_idx', 'surface_idx']\n",
    "ohe_col_input = [\"home_team_idx\", \"away_team_idx\", \"season_type_idx\", \"posteam_idx\", \"posteam_type_idx\", \"defteam_idx\",\n",
    "                  \"side_of_field_idx\", \"game_half_idx\", \"season_idx\", 'roof_idx', 'surface_idx']\n",
    "ohe_col_vec = [\"home_team_vec\", \"away_team_vec\", \"season_type_vec\", \"posteam_vec\", \"posteam_type_vec\", \"defteam_vec\",\n",
    "                  \"side_of_field_vec\", \"game_half_ivec\", \"season_vec\", 'roof_vec', 'surface_vec']\n",
    "\n",
    "\n",
    "# process using string indexer first for catgeorical features  \n",
    "stringIndexer = StringIndexer(inputCols=str_col, outputCols=str_col_output)\n",
    "\n",
    "# process rating data into second feature\n",
    "ohe = OneHotEncoder(inputCols=ohe_col_input, outputCols=ohe_col_vec) \n",
    "\n",
    "# Assemble features column\n",
    "va = VectorAssembler(inputCols=ohe_col_vec, outputCol=\"features\") \n",
    "\n",
    "# process data using maxabs scaler, not necessarily important for trees but consistency\n",
    "scaler = MaxAbsScaler(inputCol=\"features\", outputCol=\"scaledFeatures\")\n",
    "\n",
    "# define the model\n",
    "nb = NaiveBayes(\n",
    "    featuresCol = 'features', labelCol = 'play_type_idx'\n",
    ")\n",
    "\n",
    "# Fit the pipeline\n",
    "pipeline = Pipeline(stages=[stringIndexer, ohe, va, scaler, nb])"
   ]
  },
  {
   "cell_type": "code",
   "execution_count": 18,
   "id": "ba4b5afe-db36-407f-a5ed-23b7241b1b60",
   "metadata": {},
   "outputs": [],
   "source": []
  },
  {
   "cell_type": "code",
   "execution_count": null,
   "id": "380ff962-cfa5-4fc8-b101-ad09982e61e6",
   "metadata": {},
   "outputs": [],
   "source": [
    "# help(gbt)"
   ]
  },
  {
   "cell_type": "code",
   "execution_count": 6,
   "id": "23916e45-b255-4d3d-81a7-6ea8711d2e01",
   "metadata": {},
   "outputs": [],
   "source": [
    "# hyperparameter search across max depth, bins, and iterations\n",
    "# paramGrid = ParamGridBuilder()\\\n",
    "#     .addGrid(gbt.maxDepth, np.arange(10, 100, step = 10)) \\\n",
    "#     .addGrid(gbt.maxIter, [20, 50, 100, 200])\\\n",
    "#     .addGrid(gbt.maxBins, np.arange(10, 100, step = 10))\\\n",
    "#     .build()\n",
    "\n",
    "paramGrid = ParamGridBuilder()\\\n",
    "    .addGrid(nb.smoothing, np.arange(0.05, 1, step = 0.05)) \\\n",
    "    .build()\n",
    "\n",
    "# build the evaluator\n",
    "evaluator = MulticlassClassificationEvaluator(\n",
    "    predictionCol=\"prediction\",\n",
    "    labelCol=\"play_type_idx\",\n",
    "    metricName=\"accuracy\"\n",
    ")\n",
    "\n",
    "# set up the train validation split\n",
    "tvs = TrainValidationSplit(\n",
    "    estimator=pipeline,\n",
    "    evaluator=evaluator,\n",
    "    estimatorParamMaps=paramGrid,\n",
    "    # 80% of the data will be used for training, 20% for validation.\n",
    "    trainRatio=0.8\n",
    ")"
   ]
  },
  {
   "cell_type": "code",
   "execution_count": 21,
   "id": "99dff5e2-13eb-48ba-bd30-8d7095cf5251",
   "metadata": {
    "scrolled": true
   },
   "outputs": [
    {
     "name": "stderr",
     "output_type": "stream",
     "text": [
      "24/12/02 11:11:39 WARN TaskSetManager: Stage 76 contains a task of very large size (9437 KiB). The maximum recommended task size is 1000 KiB.\n",
      "24/12/02 11:11:40 WARN TaskSetManager: Stage 79 contains a task of very large size (9437 KiB). The maximum recommended task size is 1000 KiB.\n",
      "24/12/02 11:11:42 WARN TaskSetManager: Stage 82 contains a task of very large size (9437 KiB). The maximum recommended task size is 1000 KiB.\n",
      "24/12/02 11:11:43 WARN TaskSetManager: Stage 85 contains a task of very large size (9437 KiB). The maximum recommended task size is 1000 KiB.\n",
      "24/12/02 11:11:44 WARN InstanceBuilder: Failed to load implementation from:dev.ludovic.netlib.blas.JNIBLAS\n",
      "24/12/02 11:11:44 WARN TaskSetManager: Stage 87 contains a task of very large size (9437 KiB). The maximum recommended task size is 1000 KiB.\n",
      "24/12/02 11:11:45 WARN TaskSetManager: Stage 90 contains a task of very large size (9437 KiB). The maximum recommended task size is 1000 KiB.\n",
      "24/12/02 11:11:46 WARN TaskSetManager: Stage 93 contains a task of very large size (9437 KiB). The maximum recommended task size is 1000 KiB.\n",
      "24/12/02 11:11:46 WARN TaskSetManager: Stage 96 contains a task of very large size (9437 KiB). The maximum recommended task size is 1000 KiB.\n",
      "24/12/02 11:11:47 WARN TaskSetManager: Stage 98 contains a task of very large size (9437 KiB). The maximum recommended task size is 1000 KiB.\n",
      "24/12/02 11:11:47 WARN TaskSetManager: Stage 101 contains a task of very large size (9437 KiB). The maximum recommended task size is 1000 KiB.\n",
      "24/12/02 11:11:48 WARN TaskSetManager: Stage 104 contains a task of very large size (9437 KiB). The maximum recommended task size is 1000 KiB.\n",
      "24/12/02 11:11:49 WARN TaskSetManager: Stage 107 contains a task of very large size (9437 KiB). The maximum recommended task size is 1000 KiB.\n",
      "24/12/02 11:11:49 WARN TaskSetManager: Stage 109 contains a task of very large size (9437 KiB). The maximum recommended task size is 1000 KiB.\n",
      "24/12/02 11:11:49 WARN TaskSetManager: Stage 112 contains a task of very large size (9437 KiB). The maximum recommended task size is 1000 KiB.\n",
      "24/12/02 11:11:50 WARN TaskSetManager: Stage 115 contains a task of very large size (9437 KiB). The maximum recommended task size is 1000 KiB.\n",
      "24/12/02 11:11:51 WARN TaskSetManager: Stage 118 contains a task of very large size (9437 KiB). The maximum recommended task size is 1000 KiB.\n",
      "24/12/02 11:11:51 WARN TaskSetManager: Stage 120 contains a task of very large size (9437 KiB). The maximum recommended task size is 1000 KiB.\n",
      "24/12/02 11:11:51 WARN TaskSetManager: Stage 123 contains a task of very large size (9437 KiB). The maximum recommended task size is 1000 KiB.\n",
      "24/12/02 11:11:52 WARN TaskSetManager: Stage 126 contains a task of very large size (9437 KiB). The maximum recommended task size is 1000 KiB.\n",
      "24/12/02 11:11:52 WARN TaskSetManager: Stage 129 contains a task of very large size (9437 KiB). The maximum recommended task size is 1000 KiB.\n",
      "24/12/02 11:11:53 WARN TaskSetManager: Stage 131 contains a task of very large size (9437 KiB). The maximum recommended task size is 1000 KiB.\n",
      "24/12/02 11:11:53 WARN TaskSetManager: Stage 134 contains a task of very large size (9437 KiB). The maximum recommended task size is 1000 KiB.\n",
      "24/12/02 11:11:54 WARN TaskSetManager: Stage 137 contains a task of very large size (9437 KiB). The maximum recommended task size is 1000 KiB.\n",
      "24/12/02 11:11:55 WARN TaskSetManager: Stage 140 contains a task of very large size (9437 KiB). The maximum recommended task size is 1000 KiB.\n",
      "24/12/02 11:11:55 WARN TaskSetManager: Stage 142 contains a task of very large size (9437 KiB). The maximum recommended task size is 1000 KiB.\n",
      "24/12/02 11:11:55 WARN TaskSetManager: Stage 145 contains a task of very large size (9437 KiB). The maximum recommended task size is 1000 KiB.\n",
      "24/12/02 11:11:56 WARN TaskSetManager: Stage 148 contains a task of very large size (9437 KiB). The maximum recommended task size is 1000 KiB.\n",
      "24/12/02 11:11:56 WARN TaskSetManager: Stage 151 contains a task of very large size (9437 KiB). The maximum recommended task size is 1000 KiB.\n",
      "24/12/02 11:11:56 WARN TaskSetManager: Stage 153 contains a task of very large size (9437 KiB). The maximum recommended task size is 1000 KiB.\n",
      "24/12/02 11:11:57 WARN TaskSetManager: Stage 156 contains a task of very large size (9437 KiB). The maximum recommended task size is 1000 KiB.\n",
      "24/12/02 11:11:57 WARN TaskSetManager: Stage 159 contains a task of very large size (9437 KiB). The maximum recommended task size is 1000 KiB.\n",
      "24/12/02 11:11:58 WARN TaskSetManager: Stage 162 contains a task of very large size (9437 KiB). The maximum recommended task size is 1000 KiB.\n",
      "24/12/02 11:11:58 WARN TaskSetManager: Stage 164 contains a task of very large size (9437 KiB). The maximum recommended task size is 1000 KiB.\n",
      "24/12/02 11:11:58 WARN TaskSetManager: Stage 167 contains a task of very large size (9437 KiB). The maximum recommended task size is 1000 KiB.\n",
      "24/12/02 11:11:59 WARN TaskSetManager: Stage 170 contains a task of very large size (9437 KiB). The maximum recommended task size is 1000 KiB.\n",
      "24/12/02 11:12:00 WARN TaskSetManager: Stage 173 contains a task of very large size (9437 KiB). The maximum recommended task size is 1000 KiB.\n",
      "24/12/02 11:12:00 WARN TaskSetManager: Stage 175 contains a task of very large size (9437 KiB). The maximum recommended task size is 1000 KiB.\n",
      "24/12/02 11:12:00 WARN TaskSetManager: Stage 178 contains a task of very large size (9437 KiB). The maximum recommended task size is 1000 KiB.\n",
      "24/12/02 11:12:01 WARN TaskSetManager: Stage 181 contains a task of very large size (9437 KiB). The maximum recommended task size is 1000 KiB.\n",
      "24/12/02 11:12:02 WARN TaskSetManager: Stage 184 contains a task of very large size (9437 KiB). The maximum recommended task size is 1000 KiB.\n",
      "24/12/02 11:12:02 WARN TaskSetManager: Stage 186 contains a task of very large size (9437 KiB). The maximum recommended task size is 1000 KiB.\n",
      "24/12/02 11:12:02 WARN TaskSetManager: Stage 189 contains a task of very large size (9437 KiB). The maximum recommended task size is 1000 KiB.\n",
      "24/12/02 11:12:03 WARN TaskSetManager: Stage 192 contains a task of very large size (9437 KiB). The maximum recommended task size is 1000 KiB.\n",
      "24/12/02 11:12:03 WARN TaskSetManager: Stage 195 contains a task of very large size (9437 KiB). The maximum recommended task size is 1000 KiB.\n",
      "24/12/02 11:12:04 WARN TaskSetManager: Stage 197 contains a task of very large size (9437 KiB). The maximum recommended task size is 1000 KiB.\n",
      "24/12/02 11:12:04 WARN TaskSetManager: Stage 200 contains a task of very large size (9437 KiB). The maximum recommended task size is 1000 KiB.\n",
      "24/12/02 11:12:04 WARN TaskSetManager: Stage 203 contains a task of very large size (9437 KiB). The maximum recommended task size is 1000 KiB.\n",
      "24/12/02 11:12:05 WARN TaskSetManager: Stage 206 contains a task of very large size (9437 KiB). The maximum recommended task size is 1000 KiB.\n",
      "24/12/02 11:12:05 WARN TaskSetManager: Stage 208 contains a task of very large size (9437 KiB). The maximum recommended task size is 1000 KiB.\n",
      "24/12/02 11:12:05 WARN TaskSetManager: Stage 211 contains a task of very large size (9437 KiB). The maximum recommended task size is 1000 KiB.\n",
      "24/12/02 11:12:06 WARN TaskSetManager: Stage 214 contains a task of very large size (9437 KiB). The maximum recommended task size is 1000 KiB.\n",
      "24/12/02 11:12:07 WARN TaskSetManager: Stage 217 contains a task of very large size (9437 KiB). The maximum recommended task size is 1000 KiB.\n",
      "24/12/02 11:12:07 WARN TaskSetManager: Stage 219 contains a task of very large size (9437 KiB). The maximum recommended task size is 1000 KiB.\n",
      "24/12/02 11:12:07 WARN TaskSetManager: Stage 222 contains a task of very large size (9437 KiB). The maximum recommended task size is 1000 KiB.\n",
      "24/12/02 11:12:08 WARN TaskSetManager: Stage 225 contains a task of very large size (9437 KiB). The maximum recommended task size is 1000 KiB.\n",
      "24/12/02 11:12:08 WARN TaskSetManager: Stage 228 contains a task of very large size (9437 KiB). The maximum recommended task size is 1000 KiB.\n",
      "24/12/02 11:12:08 WARN TaskSetManager: Stage 230 contains a task of very large size (9437 KiB). The maximum recommended task size is 1000 KiB.\n",
      "24/12/02 11:12:08 WARN TaskSetManager: Stage 233 contains a task of very large size (9437 KiB). The maximum recommended task size is 1000 KiB.\n",
      "24/12/02 11:12:09 WARN TaskSetManager: Stage 236 contains a task of very large size (9437 KiB). The maximum recommended task size is 1000 KiB.\n",
      "24/12/02 11:12:10 WARN TaskSetManager: Stage 239 contains a task of very large size (9437 KiB). The maximum recommended task size is 1000 KiB.\n",
      "24/12/02 11:12:10 WARN TaskSetManager: Stage 241 contains a task of very large size (9437 KiB). The maximum recommended task size is 1000 KiB.\n",
      "24/12/02 11:12:10 WARN TaskSetManager: Stage 244 contains a task of very large size (9437 KiB). The maximum recommended task size is 1000 KiB.\n",
      "24/12/02 11:12:11 WARN TaskSetManager: Stage 247 contains a task of very large size (9437 KiB). The maximum recommended task size is 1000 KiB.\n",
      "24/12/02 11:12:11 WARN TaskSetManager: Stage 250 contains a task of very large size (9437 KiB). The maximum recommended task size is 1000 KiB.\n",
      "24/12/02 11:12:11 WARN TaskSetManager: Stage 252 contains a task of very large size (9437 KiB). The maximum recommended task size is 1000 KiB.\n",
      "24/12/02 11:12:12 WARN TaskSetManager: Stage 255 contains a task of very large size (9437 KiB). The maximum recommended task size is 1000 KiB.\n",
      "24/12/02 11:12:12 WARN TaskSetManager: Stage 258 contains a task of very large size (9437 KiB). The maximum recommended task size is 1000 KiB.\n",
      "24/12/02 11:12:13 WARN TaskSetManager: Stage 261 contains a task of very large size (9437 KiB). The maximum recommended task size is 1000 KiB.\n",
      "24/12/02 11:12:13 WARN TaskSetManager: Stage 263 contains a task of very large size (9437 KiB). The maximum recommended task size is 1000 KiB.\n",
      "24/12/02 11:12:13 WARN TaskSetManager: Stage 266 contains a task of very large size (9437 KiB). The maximum recommended task size is 1000 KiB.\n",
      "24/12/02 11:12:14 WARN TaskSetManager: Stage 269 contains a task of very large size (9437 KiB). The maximum recommended task size is 1000 KiB.\n",
      "24/12/02 11:12:14 WARN TaskSetManager: Stage 272 contains a task of very large size (9437 KiB). The maximum recommended task size is 1000 KiB.\n",
      "24/12/02 11:12:14 WARN TaskSetManager: Stage 274 contains a task of very large size (9437 KiB). The maximum recommended task size is 1000 KiB.\n",
      "24/12/02 11:12:15 WARN TaskSetManager: Stage 277 contains a task of very large size (9437 KiB). The maximum recommended task size is 1000 KiB.\n",
      "24/12/02 11:12:15 WARN TaskSetManager: Stage 280 contains a task of very large size (9437 KiB). The maximum recommended task size is 1000 KiB.\n",
      "24/12/02 11:12:16 WARN TaskSetManager: Stage 283 contains a task of very large size (9437 KiB). The maximum recommended task size is 1000 KiB.\n",
      "24/12/02 11:12:16 WARN TaskSetManager: Stage 285 contains a task of very large size (9437 KiB). The maximum recommended task size is 1000 KiB.\n",
      "24/12/02 11:12:17 WARN TaskSetManager: Stage 288 contains a task of very large size (9437 KiB). The maximum recommended task size is 1000 KiB.\n",
      "24/12/02 11:12:18 WARN TaskSetManager: Stage 291 contains a task of very large size (9437 KiB). The maximum recommended task size is 1000 KiB.\n",
      "                                                                                \r"
     ]
    }
   ],
   "source": [
    "# need to replace the empty string in surface\n",
    "df = df.withColumn(\n",
    "    'surface',\n",
    "    F.when(df.surface == '', 'Undefined').otherwise(df.surface)\n",
    ")\n",
    "\n",
    "# fit the model with the hyperparameter search\n",
    "nb_model = tvs.fit(df)"
   ]
  },
  {
   "cell_type": "markdown",
   "id": "1fa9c326-f0aa-4c4e-8602-e0afd32af9bc",
   "metadata": {},
   "source": [
    "### Evaluate the Model"
   ]
  },
  {
   "cell_type": "code",
   "execution_count": 22,
   "id": "379fa92e-0041-48d1-bb80-ba5012951bbd",
   "metadata": {},
   "outputs": [
    {
     "name": "stdout",
     "output_type": "stream",
     "text": [
      "Tuned Parameters of the Best Model:\n",
      "featuresCol: features\n",
      "labelCol: play_type_idx\n",
      "modelType: multinomial\n",
      "predictionCol: prediction\n",
      "probabilityCol: probability\n",
      "rawPredictionCol: rawPrediction\n",
      "smoothing: 0.6000000000000001\n"
     ]
    }
   ],
   "source": [
    "best_model = nb_model.bestModel\n",
    "\n",
    "# Extract the parameter map of the best model\n",
    "best_params = best_model.stages[-1].extractParamMap()\n",
    "\n",
    "# Print the parameters values\n",
    "print(\"Tuned Parameters of the Best Model:\")\n",
    "for param, value in best_params.items():\n",
    "    print(f\"{param.name}: {value}\")"
   ]
  },
  {
   "cell_type": "code",
   "execution_count": 25,
   "id": "b35437ee-aa32-456f-b6cb-c4f3925686d7",
   "metadata": {},
   "outputs": [],
   "source": [
    "# have to change test df instance\n",
    "test_df = test_df.withColumn(\n",
    "    'surface',\n",
    "    F.when(test_df.surface == '', 'Undefined').otherwise(test_df.surface)\n",
    ")\n",
    "\n",
    "prediction = best_model.transform(test_df)"
   ]
  },
  {
   "cell_type": "code",
   "execution_count": 26,
   "id": "4c7a9720-fe4d-4c2c-bdd0-02adf1f269e9",
   "metadata": {},
   "outputs": [
    {
     "name": "stderr",
     "output_type": "stream",
     "text": [
      "24/12/02 11:13:15 WARN TaskSetManager: Stage 304 contains a task of very large size (9437 KiB). The maximum recommended task size is 1000 KiB.\n",
      "24/12/02 11:13:16 WARN TaskSetManager: Stage 305 contains a task of very large size (9437 KiB). The maximum recommended task size is 1000 KiB.\n",
      "24/12/02 11:13:19 WARN TaskSetManager: Stage 314 contains a task of very large size (9437 KiB). The maximum recommended task size is 1000 KiB.\n",
      "24/12/02 11:13:20 WARN TaskSetManager: Stage 315 contains a task of very large size (9437 KiB). The maximum recommended task size is 1000 KiB.\n",
      "24/12/02 11:13:22 WARN TaskSetManager: Stage 324 contains a task of very large size (9437 KiB). The maximum recommended task size is 1000 KiB.\n",
      "24/12/02 11:13:23 WARN TaskSetManager: Stage 325 contains a task of very large size (9437 KiB). The maximum recommended task size is 1000 KiB.\n",
      "                                                                                \r"
     ]
    }
   ],
   "source": [
    "f1_evaluator = MulticlassClassificationEvaluator(\n",
    "    labelCol='play_type_idx', predictionCol=\"prediction\",\n",
    "    metricName='f1'\n",
    ")\n",
    "\n",
    "accuracy_evaluator = MulticlassClassificationEvaluator(\n",
    "    labelCol='play_type_idx', predictionCol=\"prediction\",\n",
    "    metricName='accuracy'\n",
    ")\n",
    "\n",
    "precision_by_label_eval = MulticlassClassificationEvaluator(\n",
    "    labelCol='play_type_idx', predictionCol=\"prediction\",\n",
    "    metricName='precisionByLabel'\n",
    ")\n",
    "\n",
    "f1_score = f1_evaluator.evaluate(prediction)\n",
    "accuracy = accuracy_evaluator.evaluate(prediction)\n",
    "precision_by_label = precision_by_label_eval.evaluate(prediction)"
   ]
  },
  {
   "cell_type": "code",
   "execution_count": 28,
   "id": "373d502c-6f99-40a5-8c04-13dd353c9cc0",
   "metadata": {},
   "outputs": [
    {
     "name": "stderr",
     "output_type": "stream",
     "text": [
      "24/12/02 11:13:57 WARN TaskSetManager: Stage 343 contains a task of very large size (9437 KiB). The maximum recommended task size is 1000 KiB.\n",
      "24/12/02 11:13:57 WARN TaskSetManager: Stage 344 contains a task of very large size (9437 KiB). The maximum recommended task size is 1000 KiB.\n",
      "[Stage 347:============================>                            (1 + 1) / 2]\r"
     ]
    },
    {
     "name": "stdout",
     "output_type": "stream",
     "text": [
      "+-------------+----------+\n",
      "|play_type_idx|prediction|\n",
      "+-------------+----------+\n",
      "|          1.0|       0.0|\n",
      "|          0.0|       0.0|\n",
      "|          0.0|       0.0|\n",
      "|          0.0|       0.0|\n",
      "|          1.0|       0.0|\n",
      "|          0.0|       0.0|\n",
      "|          0.0|       0.0|\n",
      "|          0.0|       0.0|\n",
      "|          0.0|       0.0|\n",
      "|          0.0|       0.0|\n",
      "+-------------+----------+\n",
      "only showing top 10 rows\n",
      "\n"
     ]
    },
    {
     "name": "stderr",
     "output_type": "stream",
     "text": [
      "                                                                                \r"
     ]
    }
   ],
   "source": [
    "prediction.select([prediction.play_type_idx, prediction.prediction]).show(10)"
   ]
  },
  {
   "cell_type": "code",
   "execution_count": 29,
   "id": "93762d04-5930-4435-b6ea-89b4a7410b16",
   "metadata": {},
   "outputs": [
    {
     "name": "stderr",
     "output_type": "stream",
     "text": [
      "24/12/02 11:14:13 WARN TaskSetManager: Stage 352 contains a task of very large size (9437 KiB). The maximum recommended task size is 1000 KiB.\n",
      "24/12/02 11:14:14 WARN TaskSetManager: Stage 353 contains a task of very large size (9437 KiB). The maximum recommended task size is 1000 KiB.\n",
      "[Stage 356:============================>                            (1 + 1) / 2]\r"
     ]
    },
    {
     "name": "stdout",
     "output_type": "stream",
     "text": [
      "+----------+-----+\n",
      "|prediction|count|\n",
      "+----------+-----+\n",
      "|       0.0|50530|\n",
      "|       1.0|  744|\n",
      "|       3.0|    1|\n",
      "|       2.0|  371|\n",
      "+----------+-----+\n",
      "\n"
     ]
    },
    {
     "name": "stderr",
     "output_type": "stream",
     "text": [
      "                                                                                \r"
     ]
    }
   ],
   "source": [
    "prediction.groupby(prediction.prediction).count().show()"
   ]
  },
  {
   "cell_type": "code",
   "execution_count": 30,
   "id": "21cd6c86-2b93-44f5-b611-f4dec6a3fba5",
   "metadata": {},
   "outputs": [
    {
     "name": "stderr",
     "output_type": "stream",
     "text": [
      "24/12/02 11:16:01 WARN TaskSetManager: Stage 366 contains a task of very large size (9437 KiB). The maximum recommended task size is 1000 KiB.\n",
      "24/12/02 11:16:02 WARN TaskSetManager: Stage 367 contains a task of very large size (9437 KiB). The maximum recommended task size is 1000 KiB.\n",
      "[Stage 370:============================>                            (1 + 1) / 2]\r"
     ]
    },
    {
     "name": "stdout",
     "output_type": "stream",
     "text": [
      "+-------------+-----+\n",
      "|play_type_idx|count|\n",
      "+-------------+-----+\n",
      "|          0.0|35490|\n",
      "|          1.0| 8931|\n",
      "|          4.0| 1945|\n",
      "|          3.0| 1999|\n",
      "|          2.0| 3281|\n",
      "+-------------+-----+\n",
      "\n"
     ]
    },
    {
     "name": "stderr",
     "output_type": "stream",
     "text": [
      "                                                                                \r"
     ]
    }
   ],
   "source": [
    "prediction.groupby(prediction.play_type_idx).count().show()"
   ]
  },
  {
   "cell_type": "code",
   "execution_count": 31,
   "id": "fdf18220-4093-4635-ab84-ddfd9284d579",
   "metadata": {},
   "outputs": [
    {
     "name": "stderr",
     "output_type": "stream",
     "text": [
      "24/12/02 11:16:05 WARN TaskSetManager: Stage 380 contains a task of very large size (9437 KiB). The maximum recommended task size is 1000 KiB.\n",
      "24/12/02 11:16:06 WARN TaskSetManager: Stage 381 contains a task of very large size (9437 KiB). The maximum recommended task size is 1000 KiB.\n",
      "                                                                                \r"
     ]
    }
   ],
   "source": [
    "labels = prediction.select([prediction.play_type, prediction.play_type_idx]).distinct().orderBy(prediction.play_type_idx).select(prediction.play_type).collect()"
   ]
  },
  {
   "cell_type": "code",
   "execution_count": 32,
   "id": "e231c8d6-1f67-469b-a6f3-755d82f0ddad",
   "metadata": {},
   "outputs": [
    {
     "name": "stderr",
     "output_type": "stream",
     "text": [
      "24/12/02 11:16:14 WARN TaskSetManager: Stage 405 contains a task of very large size (9437 KiB). The maximum recommended task size is 1000 KiB.\n",
      "24/12/02 11:16:14 WARN TaskSetManager: Stage 406 contains a task of very large size (9437 KiB). The maximum recommended task size is 1000 KiB.\n",
      "[Stage 409:>                                                        (0 + 2) / 2]\r"
     ]
    },
    {
     "name": "stdout",
     "output_type": "stream",
     "text": [
      "+----------+-----+\n",
      "| play_type|count|\n",
      "+----------+-----+\n",
      "|field_goal| 8931|\n",
      "|   no_play| 1945|\n",
      "|       run| 1999|\n",
      "|      punt|35490|\n",
      "|      pass| 3281|\n",
      "+----------+-----+\n",
      "\n"
     ]
    },
    {
     "name": "stderr",
     "output_type": "stream",
     "text": [
      "                                                                                \r"
     ]
    }
   ],
   "source": [
    "test_df.groupby(test_df.play_type).count().show()"
   ]
  },
  {
   "cell_type": "code",
   "execution_count": 33,
   "id": "23165c0a-c5b9-42c9-9786-fecd21c7df65",
   "metadata": {},
   "outputs": [
    {
     "name": "stdout",
     "output_type": "stream",
     "text": [
      "\n",
      "F1: 0.5630071509057196\n",
      "Accuracy: 0.6777485187623437\n",
      "Precision by Label: 0.6888976845438354\n",
      "\n"
     ]
    }
   ],
   "source": [
    "results = f'''\n",
    "F1: {f1_score}\n",
    "Accuracy: {accuracy}\n",
    "Precision by Label: {precision_by_label}\n",
    "'''\n",
    "\n",
    "print(results)"
   ]
  },
  {
   "cell_type": "code",
   "execution_count": 34,
   "id": "9b00f9b4-0009-4294-9d5d-1ab0d2f1adbc",
   "metadata": {},
   "outputs": [
    {
     "name": "stderr",
     "output_type": "stream",
     "text": [
      "24/12/02 11:16:28 WARN TaskSetManager: Stage 419 contains a task of very large size (9437 KiB). The maximum recommended task size is 1000 KiB.\n",
      "24/12/02 11:16:29 WARN TaskSetManager: Stage 420 contains a task of very large size (9437 KiB). The maximum recommended task size is 1000 KiB.\n",
      "/sfs/gpfs/tardis/home/ean8fr/distributed-computing-final/env/lib/python3.11/site-packages/pyspark/sql/context.py:157: FutureWarning: Deprecated in 3.0.0. Use SparkSession.builder.getOrCreate() instead.\n",
      "  warnings.warn(\n"
     ]
    },
    {
     "name": "stdout",
     "output_type": "stream",
     "text": [
      "[[3.481e+04 4.820e+02 1.980e+02 0.000e+00 0.000e+00]\n",
      " [8.727e+03 1.330e+02 7.000e+01 1.000e+00 0.000e+00]\n",
      " [3.163e+03 5.800e+01 6.000e+01 0.000e+00 0.000e+00]\n",
      " [1.943e+03 3.200e+01 2.400e+01 0.000e+00 0.000e+00]\n",
      " [1.887e+03 3.900e+01 1.900e+01 0.000e+00 0.000e+00]]\n"
     ]
    }
   ],
   "source": [
    "from pyspark.sql.types import FloatType\n",
    "from pyspark.mllib.evaluation import MulticlassMetrics\n",
    "\n",
    "#Adapting code from https://www.kaggle.com/code/ashokkumarpalivela/multiclass-classification-using-pyspark for confusion matrix\n",
    "preds_and_labels = prediction.select(['prediction','play_type_idx'])\\\n",
    "                              .withColumn('play_type_idx', col('play_type_idx')\\\n",
    "                              .cast(FloatType()))\\\n",
    "                              .orderBy('prediction')\n",
    "    \n",
    "metrics = MulticlassMetrics(preds_and_labels.rdd.map(tuple))\n",
    "\n",
    "print(metrics.confusionMatrix().toArray())"
   ]
  },
  {
   "cell_type": "code",
   "execution_count": 35,
   "id": "dcf723f4-ec66-4858-89ac-098050470fe0",
   "metadata": {},
   "outputs": [
    {
     "data": {
      "text/plain": [
       "Text(95.5815972222222, 0.5, 'Actual')"
      ]
     },
     "execution_count": 35,
     "metadata": {},
     "output_type": "execute_result"
    },
    {
     "data": {
      "image/png": "[encoded data removed]",
      "text/plain": [
       "<Figure size 1000x1000 with 1 Axes>"
      ]
     },
     "metadata": {},
     "output_type": "display_data"
    }
   ],
   "source": [
    "# labels = [\"field_goal\", \"no_play\", \"pass\", \"punt\", \"run\"]\n",
    "_ = plt.figure(figsize=(10, 10))\n",
    "ax = sns.heatmap(metrics.confusionMatrix().toArray(),\n",
    "            cmap='viridis',\n",
    "            annot=True,fmt='0',\n",
    "            cbar=False, \n",
    "            xticklabels=labels,\n",
    "            yticklabels=labels)\n",
    "\n",
    "plt.title('Confusion Matrix', fontsize = 20) # title with fontsize 20\n",
    "plt.xlabel('Predicted', fontsize = 15) # x-axis label with fontsize 15\n",
    "plt.ylabel('Actual', fontsize = 15) # y-axis label with fontsize 15"
   ]
  },
  {
   "cell_type": "markdown",
   "id": "7866da5a-0f72-4ee7-baf3-6233698931c3",
   "metadata": {},
   "source": [
    "### Conclusions"
   ]
  },
  {
   "cell_type": "markdown",
   "id": "6e28d1a6-06c7-4524-a4d4-f5fb9f8c2e48",
   "metadata": {},
   "source": [
    "Some quick observations:\n",
    "\n",
    "* Much better performance when we don't undersample, could be because everything is a punt\n",
    "* We need to be careful with the labels for the confusion matrix. They were not intially lining up properly with what the idxs are.\n",
    "* I added temp, wind, roof, surface to the predictors"
   ]
  }
 ],
 "metadata": {
  "kernelspec": {
   "display_name": "distributed-computing",
   "language": "python",
   "name": "distributed-computing"
  },
  "language_info": {
   "codemirror_mode": {
    "name": "ipython",
    "version": 3
   },
   "file_extension": ".py",
   "mimetype": "text/x-python",
   "name": "python",
   "nbconvert_exporter": "python",
   "pygments_lexer": "ipython3",
   "version": "3.11.5"
  }
 },
 "nbformat": 4,
 "nbformat_minor": 5
}
