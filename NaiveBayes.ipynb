{
 "cells": [
  {
   "cell_type": "markdown",
   "id": "dc445894-a5bd-4768-8672-bcebea5aebfa",
   "metadata": {},
   "source": [
    "### Creating Model 3\n",
    "\n",
    "* Creating a 3rd model for the NFL Play data. The goal is to predict the play type on 4th down.\n",
    "* Logistic Regression & Random Forest have been completed, so the next step is a Naive Bayes model, adjusting the smoothing parameters as well as whether the data are sampled relative to their regular distribution or by over and undersampling accordingly."
   ]
  },
  {
   "cell_type": "code",
   "execution_count": 1,
   "id": "6e1acab1-8e72-4add-9c2c-1798b8967ec2",
   "metadata": {},
   "outputs": [],
   "source": [
    "from pyspark.ml import Pipeline  \n",
    "from pyspark.ml.feature import *  \n",
    "from pyspark.ml.classification import LogisticRegression\n",
    "import nfl_data_py as nfl\n",
    "import numpy as np\n",
    "from pyspark.sql import SparkSession\n",
    "from pyspark.sql.functions import col\n",
    "from imblearn.under_sampling import RandomUnderSampler\n",
    "from imblearn.over_sampling import SMOTENC\n",
    "import pandas as pd\n",
    "from imblearn.combine import SMOTEENN\n",
    "from DataPipelineFxn import *\n",
    "from pyspark.ml.evaluation import MulticlassClassificationEvaluator\n",
    "from pyspark.ml.tuning import TrainValidationSplit, ParamGridBuilder\n",
    "import seaborn as sns\n",
    "import matplotlib.pyplot as plt\n",
    "from pyspark.sql import functions as F"
   ]
  },
  {
   "cell_type": "code",
   "execution_count": 2,
   "id": "c28b6116-fab9-4cfd-be1c-8000d1a6292b",
   "metadata": {},
   "outputs": [
    {
     "name": "stdout",
     "output_type": "stream",
     "text": [
      "2000 done.\n",
      "2001 done.\n",
      "2002 done.\n",
      "2003 done.\n",
      "2004 done.\n",
      "2005 done.\n",
      "2006 done.\n",
      "2007 done.\n",
      "2008 done.\n",
      "2009 done.\n",
      "2010 done.\n",
      "2011 done.\n",
      "2012 done.\n",
      "2013 done.\n",
      "2014 done.\n",
      "2015 done.\n",
      "2016 done.\n",
      "2017 done.\n",
      "2018 done.\n",
      "2019 done.\n",
      "2020 done.\n",
      "2021 done.\n",
      "2022 done.\n",
      "2023 done.\n"
     ]
    },
    {
     "name": "stderr",
     "output_type": "stream",
     "text": [
      "Setting default log level to \"WARN\".\n",
      "To adjust logging level use sc.setLogLevel(newLevel). For SparkR, use setLogLevel(newLevel).\n",
      "24/12/03 17:53:02 WARN NativeCodeLoader: Unable to load native-hadoop library for your platform... using builtin-java classes where applicable\n",
      "24/12/03 17:53:16 WARN package: Truncated the string representation of a plan since it was too large. This behavior can be adjusted by setting 'spark.sql.debug.maxToStringFields'.\n",
      "24/12/03 17:53:16 WARN TaskSetManager: Stage 0 contains a task of very large size (4642 KiB). The maximum recommended task size is 1000 KiB.\n",
      "24/12/03 17:53:19 WARN TaskSetManager: Stage 3 contains a task of very large size (4642 KiB). The maximum recommended task size is 1000 KiB.\n",
      "24/12/03 17:53:23 WARN TaskSetManager: Stage 4 contains a task of very large size (1469 KiB). The maximum recommended task size is 1000 KiB.\n",
      "24/12/03 17:53:26 WARN TaskSetManager: Stage 5 contains a task of very large size (1057 KiB). The maximum recommended task size is 1000 KiB.\n"
     ]
    }
   ],
   "source": [
    "# get the spark session and data frame\n",
    "data = GetSparkDF(include_undersample = True)"
   ]
  },
  {
   "cell_type": "code",
   "execution_count": 3,
   "id": "36d77955-b84d-49e8-9f84-c307e14c236d",
   "metadata": {},
   "outputs": [],
   "source": [
    "spark, df, test_df, undersample_df = data"
   ]
  },
  {
   "cell_type": "markdown",
   "id": "8968cfd5-3a1e-4df9-a459-a18f88dfebb4",
   "metadata": {},
   "source": [
    "### Create the Model Pipeline"
   ]
  },
  {
   "cell_type": "code",
   "execution_count": 4,
   "id": "84eaa2e8-7fb1-478e-86eb-ee6fec29cc7f",
   "metadata": {},
   "outputs": [],
   "source": [
    "from pyspark.ml.classification import NaiveBayes"
   ]
  },
  {
   "cell_type": "code",
   "execution_count": 5,
   "id": "a1bc846e-e84f-4728-933c-a2bb5d8f2968",
   "metadata": {},
   "outputs": [],
   "source": [
    "numeric_cols = []\n",
    "# negative_cols = ['score_differential', 'epa', 'ep', 'temp', 'posteam_timeouts_remaining', 'defteam_timeouts_remaining']\n",
    "negative_cols = []\n",
    "for field in df.schema.fields:\n",
    "    if str(field.dataType) != \"StringType()\" and (field.name not in negative_cols):\n",
    "        numeric_cols.append(field.name)\n",
    "        \n",
    "numeric_cols.remove(\"season\")\n",
    "numeric_cols.remove(\"week\")"
   ]
  },
  {
   "cell_type": "code",
   "execution_count": 23,
   "id": "eee0fd6a-0322-4cb1-ba56-ab40c1f574de",
   "metadata": {},
   "outputs": [],
   "source": [
    "str_col = [\"home_team\", \"away_team\", \"season_type\", \"posteam\", \"posteam_type\", \"defteam\", \"side_of_field\", \"game_half\", \"week\",\n",
    "        \"play_type\", \"season\", 'roof', 'surface']\n",
    "str_col_output = [\"home_team_idx\", \"away_team_idx\", \"season_type_idx\", \"posteam_idx\", \"posteam_type_idx\", \"defteam_idx\", \"week_idx\",\n",
    "                  \"side_of_field_idx\", \"game_half_idx\", \"play_type_idx\", \"season_idx\", 'roof_idx', 'surface_idx']\n",
    "ohe_col_input = [\"home_team_idx\", \"away_team_idx\", \"season_type_idx\", \"posteam_idx\", \"posteam_type_idx\", \"defteam_idx\", \"week_idx\",\n",
    "                  \"side_of_field_idx\", \"game_half_idx\", \"season_idx\", 'roof_idx', 'surface_idx']\n",
    "ohe_col_vec = [\"home_team_vec\", \"away_team_vec\", \"season_type_vec\", \"posteam_vec\", \"posteam_type_vec\", \"defteam_vec\", \"week_vec\",\n",
    "                  \"side_of_field_vec\", \"game_half_ivec\", \"season_vec\", 'roof_vec', 'surface_vec']\n",
    "\n",
    "# Combine numeric and one-hot encoded columns\n",
    "va_input_cols = numeric_cols + ohe_col_vec\n",
    "\n",
    "# process using string indexer first for catgeorical features  \n",
    "stringIndexer = StringIndexer(inputCols=str_col, outputCols=str_col_output)\n",
    "\n",
    "# process rating data into second feature\n",
    "ohe = OneHotEncoder(inputCols=ohe_col_input, outputCols=ohe_col_vec) \n",
    "\n",
    "# Assemble features column\n",
    "va = VectorAssembler(inputCols=va_input_cols, outputCol=\"features\", handleInvalid = \"skip\")\n",
    "\n",
    "# process data using maxabs scaler, not necessarily important for trees but consistency\n",
    "scaler = MinMaxScaler(min = 1, max = 2, inputCol=\"features\", outputCol=\"scaledFeatures\")\n",
    "\n",
    "# define the model\n",
    "nb = NaiveBayes(\n",
    "    featuresCol = 'scaledFeatures', labelCol = 'play_type_idx'\n",
    ")\n",
    "\n",
    "# Fit the pipeline\n",
    "pipeline = Pipeline(stages=[stringIndexer, ohe, va, scaler,  nb])"
   ]
  },
  {
   "cell_type": "code",
   "execution_count": 26,
   "id": "23916e45-b255-4d3d-81a7-6ea8711d2e01",
   "metadata": {},
   "outputs": [],
   "source": [
    "# hyperparameter search across max depth, bins, and iterations\n",
    "# paramGrid = ParamGridBuilder()\\\n",
    "#     .addGrid(gbt.maxDepth, np.arange(10, 100, step = 10)) \\\n",
    "#     .addGrid(gbt.maxIter, [20, 50, 100, 200])\\\n",
    "#     .addGrid(gbt.maxBins, np.arange(10, 100, step = 10))\\\n",
    "#     .build()\n",
    "\n",
    "paramGrid = ParamGridBuilder()\\\n",
    "    .addGrid(nb.smoothing, np.arange(0.05, 1, step = 0.05)) \\\n",
    "    .build()\n",
    "\n",
    "# build the evaluator\n",
    "evaluator = MulticlassClassificationEvaluator(\n",
    "    predictionCol=\"prediction\",\n",
    "    labelCol=\"play_type_idx\",\n",
    "    metricName=\"accuracy\"\n",
    ")\n",
    "\n",
    "# set up the train validation split\n",
    "tvs = TrainValidationSplit(\n",
    "    estimator=pipeline,\n",
    "    evaluator=evaluator,\n",
    "    estimatorParamMaps=paramGrid,\n",
    "    # 80% of the data will be used for training, 20% for validation.\n",
    "    trainRatio=0.8\n",
    ")"
   ]
  },
  {
   "cell_type": "code",
   "execution_count": 27,
   "id": "99dff5e2-13eb-48ba-bd30-8d7095cf5251",
   "metadata": {
    "scrolled": true
   },
   "outputs": [
    {
     "name": "stderr",
     "output_type": "stream",
     "text": [
      "24/12/03 17:59:56 WARN TaskSetManager: Stage 1313 contains a task of very large size (4642 KiB). The maximum recommended task size is 1000 KiB.\n",
      "24/12/03 17:59:57 WARN TaskSetManager: Stage 1316 contains a task of very large size (4642 KiB). The maximum recommended task size is 1000 KiB.\n",
      "24/12/03 17:59:57 WARN TaskSetManager: Stage 1319 contains a task of very large size (4642 KiB). The maximum recommended task size is 1000 KiB.\n",
      "24/12/03 17:59:58 WARN TaskSetManager: Stage 1322 contains a task of very large size (4642 KiB). The maximum recommended task size is 1000 KiB.\n",
      "24/12/03 17:59:59 WARN TaskSetManager: Stage 1324 contains a task of very large size (4642 KiB). The maximum recommended task size is 1000 KiB.\n",
      "24/12/03 17:59:59 WARN TaskSetManager: Stage 1327 contains a task of very large size (4642 KiB). The maximum recommended task size is 1000 KiB.\n",
      "24/12/03 17:59:59 WARN TaskSetManager: Stage 1330 contains a task of very large size (4642 KiB). The maximum recommended task size is 1000 KiB.\n",
      "24/12/03 18:00:00 WARN TaskSetManager: Stage 1333 contains a task of very large size (4642 KiB). The maximum recommended task size is 1000 KiB.\n",
      "24/12/03 18:00:00 WARN TaskSetManager: Stage 1335 contains a task of very large size (4642 KiB). The maximum recommended task size is 1000 KiB.\n",
      "24/12/03 18:00:00 WARN TaskSetManager: Stage 1338 contains a task of very large size (4642 KiB). The maximum recommended task size is 1000 KiB.\n",
      "24/12/03 18:00:01 WARN TaskSetManager: Stage 1341 contains a task of very large size (4642 KiB). The maximum recommended task size is 1000 KiB.\n",
      "24/12/03 18:00:02 WARN TaskSetManager: Stage 1344 contains a task of very large size (4642 KiB). The maximum recommended task size is 1000 KiB.\n",
      "24/12/03 18:00:02 WARN TaskSetManager: Stage 1346 contains a task of very large size (4642 KiB). The maximum recommended task size is 1000 KiB.\n",
      "24/12/03 18:00:02 WARN TaskSetManager: Stage 1349 contains a task of very large size (4642 KiB). The maximum recommended task size is 1000 KiB.\n",
      "24/12/03 18:00:03 WARN TaskSetManager: Stage 1352 contains a task of very large size (4642 KiB). The maximum recommended task size is 1000 KiB.\n",
      "24/12/03 18:00:03 WARN TaskSetManager: Stage 1355 contains a task of very large size (4642 KiB). The maximum recommended task size is 1000 KiB.\n",
      "24/12/03 18:00:04 WARN TaskSetManager: Stage 1357 contains a task of very large size (4642 KiB). The maximum recommended task size is 1000 KiB.\n",
      "24/12/03 18:00:04 WARN TaskSetManager: Stage 1360 contains a task of very large size (4642 KiB). The maximum recommended task size is 1000 KiB.\n",
      "24/12/03 18:00:04 WARN TaskSetManager: Stage 1363 contains a task of very large size (4642 KiB). The maximum recommended task size is 1000 KiB.\n",
      "24/12/03 18:00:05 WARN TaskSetManager: Stage 1366 contains a task of very large size (4642 KiB). The maximum recommended task size is 1000 KiB.\n",
      "24/12/03 18:00:05 WARN TaskSetManager: Stage 1368 contains a task of very large size (4642 KiB). The maximum recommended task size is 1000 KiB.\n",
      "24/12/03 18:00:06 WARN TaskSetManager: Stage 1371 contains a task of very large size (4642 KiB). The maximum recommended task size is 1000 KiB.\n",
      "24/12/03 18:00:06 WARN TaskSetManager: Stage 1374 contains a task of very large size (4642 KiB). The maximum recommended task size is 1000 KiB.\n",
      "24/12/03 18:00:07 WARN TaskSetManager: Stage 1377 contains a task of very large size (4642 KiB). The maximum recommended task size is 1000 KiB.\n",
      "24/12/03 18:00:07 WARN TaskSetManager: Stage 1379 contains a task of very large size (4642 KiB). The maximum recommended task size is 1000 KiB.\n",
      "24/12/03 18:00:07 WARN TaskSetManager: Stage 1382 contains a task of very large size (4642 KiB). The maximum recommended task size is 1000 KiB.\n",
      "24/12/03 18:00:08 WARN TaskSetManager: Stage 1385 contains a task of very large size (4642 KiB). The maximum recommended task size is 1000 KiB.\n",
      "24/12/03 18:00:08 WARN TaskSetManager: Stage 1388 contains a task of very large size (4642 KiB). The maximum recommended task size is 1000 KiB.\n",
      "24/12/03 18:00:09 WARN TaskSetManager: Stage 1390 contains a task of very large size (4642 KiB). The maximum recommended task size is 1000 KiB.\n",
      "24/12/03 18:00:09 WARN TaskSetManager: Stage 1393 contains a task of very large size (4642 KiB). The maximum recommended task size is 1000 KiB.\n",
      "24/12/03 18:00:09 WARN TaskSetManager: Stage 1396 contains a task of very large size (4642 KiB). The maximum recommended task size is 1000 KiB.\n",
      "24/12/03 18:00:10 WARN TaskSetManager: Stage 1399 contains a task of very large size (4642 KiB). The maximum recommended task size is 1000 KiB.\n",
      "24/12/03 18:00:10 WARN TaskSetManager: Stage 1401 contains a task of very large size (4642 KiB). The maximum recommended task size is 1000 KiB.\n",
      "24/12/03 18:00:11 WARN TaskSetManager: Stage 1404 contains a task of very large size (4642 KiB). The maximum recommended task size is 1000 KiB.\n",
      "24/12/03 18:00:11 WARN TaskSetManager: Stage 1407 contains a task of very large size (4642 KiB). The maximum recommended task size is 1000 KiB.\n",
      "24/12/03 18:00:12 WARN TaskSetManager: Stage 1410 contains a task of very large size (4642 KiB). The maximum recommended task size is 1000 KiB.\n",
      "24/12/03 18:00:12 WARN TaskSetManager: Stage 1412 contains a task of very large size (4642 KiB). The maximum recommended task size is 1000 KiB.\n",
      "24/12/03 18:00:12 WARN TaskSetManager: Stage 1415 contains a task of very large size (4642 KiB). The maximum recommended task size is 1000 KiB.\n",
      "24/12/03 18:00:13 WARN TaskSetManager: Stage 1418 contains a task of very large size (4642 KiB). The maximum recommended task size is 1000 KiB.\n",
      "24/12/03 18:00:13 WARN TaskSetManager: Stage 1421 contains a task of very large size (4642 KiB). The maximum recommended task size is 1000 KiB.\n",
      "24/12/03 18:00:14 WARN TaskSetManager: Stage 1423 contains a task of very large size (4642 KiB). The maximum recommended task size is 1000 KiB.\n",
      "24/12/03 18:00:14 WARN TaskSetManager: Stage 1426 contains a task of very large size (4642 KiB). The maximum recommended task size is 1000 KiB.\n",
      "24/12/03 18:00:15 WARN TaskSetManager: Stage 1429 contains a task of very large size (4642 KiB). The maximum recommended task size is 1000 KiB.\n",
      "24/12/03 18:00:15 WARN TaskSetManager: Stage 1432 contains a task of very large size (4642 KiB). The maximum recommended task size is 1000 KiB.\n",
      "24/12/03 18:00:15 WARN TaskSetManager: Stage 1434 contains a task of very large size (4642 KiB). The maximum recommended task size is 1000 KiB.\n",
      "24/12/03 18:00:16 WARN TaskSetManager: Stage 1437 contains a task of very large size (4642 KiB). The maximum recommended task size is 1000 KiB.\n",
      "24/12/03 18:00:16 WARN TaskSetManager: Stage 1440 contains a task of very large size (4642 KiB). The maximum recommended task size is 1000 KiB.\n",
      "24/12/03 18:00:17 WARN TaskSetManager: Stage 1443 contains a task of very large size (4642 KiB). The maximum recommended task size is 1000 KiB.\n",
      "24/12/03 18:00:17 WARN TaskSetManager: Stage 1445 contains a task of very large size (4642 KiB). The maximum recommended task size is 1000 KiB.\n",
      "24/12/03 18:00:17 WARN TaskSetManager: Stage 1448 contains a task of very large size (4642 KiB). The maximum recommended task size is 1000 KiB.\n",
      "24/12/03 18:00:18 WARN TaskSetManager: Stage 1451 contains a task of very large size (4642 KiB). The maximum recommended task size is 1000 KiB.\n",
      "24/12/03 18:00:18 WARN TaskSetManager: Stage 1454 contains a task of very large size (4642 KiB). The maximum recommended task size is 1000 KiB.\n",
      "24/12/03 18:00:19 WARN TaskSetManager: Stage 1456 contains a task of very large size (4642 KiB). The maximum recommended task size is 1000 KiB.\n",
      "24/12/03 18:00:19 WARN TaskSetManager: Stage 1459 contains a task of very large size (4642 KiB). The maximum recommended task size is 1000 KiB.\n",
      "24/12/03 18:00:19 WARN TaskSetManager: Stage 1462 contains a task of very large size (4642 KiB). The maximum recommended task size is 1000 KiB.\n",
      "24/12/03 18:00:20 WARN TaskSetManager: Stage 1465 contains a task of very large size (4642 KiB). The maximum recommended task size is 1000 KiB.\n",
      "24/12/03 18:00:20 WARN TaskSetManager: Stage 1467 contains a task of very large size (4642 KiB). The maximum recommended task size is 1000 KiB.\n",
      "24/12/03 18:00:21 WARN TaskSetManager: Stage 1470 contains a task of very large size (4642 KiB). The maximum recommended task size is 1000 KiB.\n",
      "24/12/03 18:00:21 WARN TaskSetManager: Stage 1473 contains a task of very large size (4642 KiB). The maximum recommended task size is 1000 KiB.\n",
      "24/12/03 18:00:22 WARN TaskSetManager: Stage 1476 contains a task of very large size (4642 KiB). The maximum recommended task size is 1000 KiB.\n",
      "24/12/03 18:00:22 WARN TaskSetManager: Stage 1478 contains a task of very large size (4642 KiB). The maximum recommended task size is 1000 KiB.\n",
      "24/12/03 18:00:22 WARN TaskSetManager: Stage 1481 contains a task of very large size (4642 KiB). The maximum recommended task size is 1000 KiB.\n",
      "24/12/03 18:00:23 WARN TaskSetManager: Stage 1484 contains a task of very large size (4642 KiB). The maximum recommended task size is 1000 KiB.\n",
      "24/12/03 18:00:23 WARN TaskSetManager: Stage 1487 contains a task of very large size (4642 KiB). The maximum recommended task size is 1000 KiB.\n",
      "24/12/03 18:00:24 WARN TaskSetManager: Stage 1489 contains a task of very large size (4642 KiB). The maximum recommended task size is 1000 KiB.\n",
      "24/12/03 18:00:24 WARN TaskSetManager: Stage 1492 contains a task of very large size (4642 KiB). The maximum recommended task size is 1000 KiB.\n",
      "24/12/03 18:00:24 WARN TaskSetManager: Stage 1495 contains a task of very large size (4642 KiB). The maximum recommended task size is 1000 KiB.\n",
      "24/12/03 18:00:25 WARN TaskSetManager: Stage 1498 contains a task of very large size (4642 KiB). The maximum recommended task size is 1000 KiB.\n",
      "24/12/03 18:00:25 WARN TaskSetManager: Stage 1500 contains a task of very large size (4642 KiB). The maximum recommended task size is 1000 KiB.\n",
      "24/12/03 18:00:26 WARN TaskSetManager: Stage 1503 contains a task of very large size (4642 KiB). The maximum recommended task size is 1000 KiB.\n",
      "24/12/03 18:00:26 WARN TaskSetManager: Stage 1506 contains a task of very large size (4642 KiB). The maximum recommended task size is 1000 KiB.\n",
      "24/12/03 18:00:27 WARN TaskSetManager: Stage 1509 contains a task of very large size (4642 KiB). The maximum recommended task size is 1000 KiB.\n",
      "24/12/03 18:00:27 WARN TaskSetManager: Stage 1511 contains a task of very large size (4642 KiB). The maximum recommended task size is 1000 KiB.\n",
      "24/12/03 18:00:27 WARN TaskSetManager: Stage 1514 contains a task of very large size (4642 KiB). The maximum recommended task size is 1000 KiB.\n",
      "24/12/03 18:00:28 WARN TaskSetManager: Stage 1517 contains a task of very large size (4642 KiB). The maximum recommended task size is 1000 KiB.\n",
      "24/12/03 18:00:28 WARN TaskSetManager: Stage 1520 contains a task of very large size (4642 KiB). The maximum recommended task size is 1000 KiB.\n",
      "24/12/03 18:00:28 WARN TaskSetManager: Stage 1522 contains a task of very large size (4642 KiB). The maximum recommended task size is 1000 KiB.\n",
      "24/12/03 18:00:29 WARN TaskSetManager: Stage 1525 contains a task of very large size (4642 KiB). The maximum recommended task size is 1000 KiB.\n",
      "24/12/03 18:00:30 WARN TaskSetManager: Stage 1528 contains a task of very large size (4642 KiB). The maximum recommended task size is 1000 KiB.\n",
      "24/12/03 18:00:31 WARN TaskSetManager: Stage 1531 contains a task of very large size (1182 KiB). The maximum recommended task size is 1000 KiB.\n",
      "24/12/03 18:00:32 WARN TaskSetManager: Stage 1534 contains a task of very large size (1182 KiB). The maximum recommended task size is 1000 KiB.\n",
      "24/12/03 18:00:32 WARN TaskSetManager: Stage 1537 contains a task of very large size (1182 KiB). The maximum recommended task size is 1000 KiB.\n",
      "24/12/03 18:00:33 WARN TaskSetManager: Stage 1540 contains a task of very large size (1182 KiB). The maximum recommended task size is 1000 KiB.\n",
      "24/12/03 18:00:33 WARN TaskSetManager: Stage 1542 contains a task of very large size (1182 KiB). The maximum recommended task size is 1000 KiB.\n",
      "24/12/03 18:00:33 WARN TaskSetManager: Stage 1545 contains a task of very large size (1182 KiB). The maximum recommended task size is 1000 KiB.\n",
      "24/12/03 18:00:33 WARN TaskSetManager: Stage 1548 contains a task of very large size (1182 KiB). The maximum recommended task size is 1000 KiB.\n",
      "24/12/03 18:00:34 WARN TaskSetManager: Stage 1551 contains a task of very large size (1182 KiB). The maximum recommended task size is 1000 KiB.\n",
      "24/12/03 18:00:34 WARN TaskSetManager: Stage 1553 contains a task of very large size (1182 KiB). The maximum recommended task size is 1000 KiB.\n",
      "24/12/03 18:00:34 WARN TaskSetManager: Stage 1556 contains a task of very large size (1182 KiB). The maximum recommended task size is 1000 KiB.\n",
      "24/12/03 18:00:35 WARN TaskSetManager: Stage 1559 contains a task of very large size (1182 KiB). The maximum recommended task size is 1000 KiB.\n",
      "24/12/03 18:00:35 WARN TaskSetManager: Stage 1562 contains a task of very large size (1182 KiB). The maximum recommended task size is 1000 KiB.\n",
      "24/12/03 18:00:35 WARN TaskSetManager: Stage 1564 contains a task of very large size (1182 KiB). The maximum recommended task size is 1000 KiB.\n",
      "24/12/03 18:00:35 WARN TaskSetManager: Stage 1567 contains a task of very large size (1182 KiB). The maximum recommended task size is 1000 KiB.\n",
      "24/12/03 18:00:36 WARN TaskSetManager: Stage 1570 contains a task of very large size (1182 KiB). The maximum recommended task size is 1000 KiB.\n",
      "24/12/03 18:00:36 WARN TaskSetManager: Stage 1573 contains a task of very large size (1182 KiB). The maximum recommended task size is 1000 KiB.\n",
      "24/12/03 18:00:36 WARN TaskSetManager: Stage 1575 contains a task of very large size (1182 KiB). The maximum recommended task size is 1000 KiB.\n",
      "24/12/03 18:00:36 WARN TaskSetManager: Stage 1578 contains a task of very large size (1182 KiB). The maximum recommended task size is 1000 KiB.\n",
      "24/12/03 18:00:37 WARN TaskSetManager: Stage 1581 contains a task of very large size (1182 KiB). The maximum recommended task size is 1000 KiB.\n",
      "24/12/03 18:00:37 WARN TaskSetManager: Stage 1584 contains a task of very large size (1182 KiB). The maximum recommended task size is 1000 KiB.\n",
      "24/12/03 18:00:37 WARN TaskSetManager: Stage 1586 contains a task of very large size (1182 KiB). The maximum recommended task size is 1000 KiB.\n",
      "24/12/03 18:00:38 WARN TaskSetManager: Stage 1589 contains a task of very large size (1182 KiB). The maximum recommended task size is 1000 KiB.\n",
      "24/12/03 18:00:38 WARN TaskSetManager: Stage 1592 contains a task of very large size (1182 KiB). The maximum recommended task size is 1000 KiB.\n",
      "24/12/03 18:00:38 WARN TaskSetManager: Stage 1595 contains a task of very large size (1182 KiB). The maximum recommended task size is 1000 KiB.\n",
      "24/12/03 18:00:38 WARN TaskSetManager: Stage 1597 contains a task of very large size (1182 KiB). The maximum recommended task size is 1000 KiB.\n",
      "24/12/03 18:00:39 WARN TaskSetManager: Stage 1600 contains a task of very large size (1182 KiB). The maximum recommended task size is 1000 KiB.\n",
      "24/12/03 18:00:39 WARN TaskSetManager: Stage 1603 contains a task of very large size (1182 KiB). The maximum recommended task size is 1000 KiB.\n",
      "24/12/03 18:00:39 WARN TaskSetManager: Stage 1606 contains a task of very large size (1182 KiB). The maximum recommended task size is 1000 KiB.\n",
      "24/12/03 18:00:40 WARN TaskSetManager: Stage 1608 contains a task of very large size (1182 KiB). The maximum recommended task size is 1000 KiB.\n",
      "24/12/03 18:00:40 WARN TaskSetManager: Stage 1611 contains a task of very large size (1182 KiB). The maximum recommended task size is 1000 KiB.\n",
      "24/12/03 18:00:40 WARN TaskSetManager: Stage 1614 contains a task of very large size (1182 KiB). The maximum recommended task size is 1000 KiB.\n",
      "24/12/03 18:00:41 WARN TaskSetManager: Stage 1617 contains a task of very large size (1182 KiB). The maximum recommended task size is 1000 KiB.\n",
      "24/12/03 18:00:41 WARN TaskSetManager: Stage 1619 contains a task of very large size (1182 KiB). The maximum recommended task size is 1000 KiB.\n",
      "24/12/03 18:00:41 WARN TaskSetManager: Stage 1622 contains a task of very large size (1182 KiB). The maximum recommended task size is 1000 KiB.\n",
      "24/12/03 18:00:41 WARN TaskSetManager: Stage 1625 contains a task of very large size (1182 KiB). The maximum recommended task size is 1000 KiB.\n",
      "24/12/03 18:00:42 WARN TaskSetManager: Stage 1628 contains a task of very large size (1182 KiB). The maximum recommended task size is 1000 KiB.\n",
      "24/12/03 18:00:42 WARN TaskSetManager: Stage 1630 contains a task of very large size (1182 KiB). The maximum recommended task size is 1000 KiB.\n",
      "24/12/03 18:00:42 WARN TaskSetManager: Stage 1633 contains a task of very large size (1182 KiB). The maximum recommended task size is 1000 KiB.\n",
      "24/12/03 18:00:42 WARN TaskSetManager: Stage 1636 contains a task of very large size (1182 KiB). The maximum recommended task size is 1000 KiB.\n",
      "24/12/03 18:00:43 WARN TaskSetManager: Stage 1639 contains a task of very large size (1182 KiB). The maximum recommended task size is 1000 KiB.\n",
      "24/12/03 18:00:43 WARN TaskSetManager: Stage 1641 contains a task of very large size (1182 KiB). The maximum recommended task size is 1000 KiB.\n",
      "24/12/03 18:00:43 WARN TaskSetManager: Stage 1644 contains a task of very large size (1182 KiB). The maximum recommended task size is 1000 KiB.\n",
      "24/12/03 18:00:44 WARN TaskSetManager: Stage 1647 contains a task of very large size (1182 KiB). The maximum recommended task size is 1000 KiB.\n",
      "24/12/03 18:00:44 WARN TaskSetManager: Stage 1650 contains a task of very large size (1182 KiB). The maximum recommended task size is 1000 KiB.\n",
      "24/12/03 18:00:44 WARN TaskSetManager: Stage 1652 contains a task of very large size (1182 KiB). The maximum recommended task size is 1000 KiB.\n",
      "24/12/03 18:00:44 WARN TaskSetManager: Stage 1655 contains a task of very large size (1182 KiB). The maximum recommended task size is 1000 KiB.\n",
      "24/12/03 18:00:45 WARN TaskSetManager: Stage 1658 contains a task of very large size (1182 KiB). The maximum recommended task size is 1000 KiB.\n",
      "24/12/03 18:00:45 WARN TaskSetManager: Stage 1661 contains a task of very large size (1182 KiB). The maximum recommended task size is 1000 KiB.\n",
      "24/12/03 18:00:45 WARN TaskSetManager: Stage 1663 contains a task of very large size (1182 KiB). The maximum recommended task size is 1000 KiB.\n",
      "24/12/03 18:00:45 WARN TaskSetManager: Stage 1666 contains a task of very large size (1182 KiB). The maximum recommended task size is 1000 KiB.\n",
      "24/12/03 18:00:46 WARN TaskSetManager: Stage 1669 contains a task of very large size (1182 KiB). The maximum recommended task size is 1000 KiB.\n",
      "24/12/03 18:00:46 WARN TaskSetManager: Stage 1672 contains a task of very large size (1182 KiB). The maximum recommended task size is 1000 KiB.\n",
      "24/12/03 18:00:46 WARN TaskSetManager: Stage 1674 contains a task of very large size (1182 KiB). The maximum recommended task size is 1000 KiB.\n",
      "24/12/03 18:00:47 WARN TaskSetManager: Stage 1677 contains a task of very large size (1182 KiB). The maximum recommended task size is 1000 KiB.\n",
      "24/12/03 18:00:47 WARN TaskSetManager: Stage 1680 contains a task of very large size (1182 KiB). The maximum recommended task size is 1000 KiB.\n",
      "24/12/03 18:00:47 WARN TaskSetManager: Stage 1683 contains a task of very large size (1182 KiB). The maximum recommended task size is 1000 KiB.\n",
      "24/12/03 18:00:47 WARN TaskSetManager: Stage 1685 contains a task of very large size (1182 KiB). The maximum recommended task size is 1000 KiB.\n",
      "24/12/03 18:00:48 WARN TaskSetManager: Stage 1688 contains a task of very large size (1182 KiB). The maximum recommended task size is 1000 KiB.\n",
      "24/12/03 18:00:48 WARN TaskSetManager: Stage 1691 contains a task of very large size (1182 KiB). The maximum recommended task size is 1000 KiB.\n",
      "24/12/03 18:00:48 WARN TaskSetManager: Stage 1694 contains a task of very large size (1182 KiB). The maximum recommended task size is 1000 KiB.\n",
      "24/12/03 18:00:49 WARN TaskSetManager: Stage 1696 contains a task of very large size (1182 KiB). The maximum recommended task size is 1000 KiB.\n",
      "24/12/03 18:00:49 WARN TaskSetManager: Stage 1699 contains a task of very large size (1182 KiB). The maximum recommended task size is 1000 KiB.\n",
      "24/12/03 18:00:49 WARN TaskSetManager: Stage 1702 contains a task of very large size (1182 KiB). The maximum recommended task size is 1000 KiB.\n",
      "24/12/03 18:00:49 WARN TaskSetManager: Stage 1705 contains a task of very large size (1182 KiB). The maximum recommended task size is 1000 KiB.\n",
      "24/12/03 18:00:50 WARN TaskSetManager: Stage 1707 contains a task of very large size (1182 KiB). The maximum recommended task size is 1000 KiB.\n",
      "24/12/03 18:00:50 WARN TaskSetManager: Stage 1710 contains a task of very large size (1182 KiB). The maximum recommended task size is 1000 KiB.\n",
      "24/12/03 18:00:50 WARN TaskSetManager: Stage 1713 contains a task of very large size (1182 KiB). The maximum recommended task size is 1000 KiB.\n",
      "24/12/03 18:00:51 WARN TaskSetManager: Stage 1716 contains a task of very large size (1182 KiB). The maximum recommended task size is 1000 KiB.\n",
      "24/12/03 18:00:51 WARN TaskSetManager: Stage 1718 contains a task of very large size (1182 KiB). The maximum recommended task size is 1000 KiB.\n",
      "24/12/03 18:00:51 WARN TaskSetManager: Stage 1721 contains a task of very large size (1182 KiB). The maximum recommended task size is 1000 KiB.\n",
      "24/12/03 18:00:51 WARN TaskSetManager: Stage 1724 contains a task of very large size (1182 KiB). The maximum recommended task size is 1000 KiB.\n",
      "24/12/03 18:00:52 WARN TaskSetManager: Stage 1727 contains a task of very large size (1182 KiB). The maximum recommended task size is 1000 KiB.\n",
      "24/12/03 18:00:52 WARN TaskSetManager: Stage 1729 contains a task of very large size (1182 KiB). The maximum recommended task size is 1000 KiB.\n",
      "24/12/03 18:00:52 WARN TaskSetManager: Stage 1732 contains a task of very large size (1182 KiB). The maximum recommended task size is 1000 KiB.\n",
      "24/12/03 18:00:52 WARN TaskSetManager: Stage 1735 contains a task of very large size (1182 KiB). The maximum recommended task size is 1000 KiB.\n",
      "24/12/03 18:00:53 WARN TaskSetManager: Stage 1738 contains a task of very large size (1182 KiB). The maximum recommended task size is 1000 KiB.\n",
      "24/12/03 18:00:53 WARN TaskSetManager: Stage 1740 contains a task of very large size (1182 KiB). The maximum recommended task size is 1000 KiB.\n",
      "24/12/03 18:00:53 WARN TaskSetManager: Stage 1743 contains a task of very large size (1182 KiB). The maximum recommended task size is 1000 KiB.\n",
      "24/12/03 18:00:54 WARN TaskSetManager: Stage 1746 contains a task of very large size (1182 KiB). The maximum recommended task size is 1000 KiB.\n",
      "                                                                                \r"
     ]
    }
   ],
   "source": [
    "# need to replace the empty string in surface\n",
    "df = df.withColumn(\n",
    "    'surface',\n",
    "    F.when(df.surface == '', 'Undefined').otherwise(df.surface)\n",
    ")\n",
    "\n",
    "undersample_df = undersample_df.withColumn(\n",
    "    'surface',\n",
    "    F.when(undersample_df.surface == '', 'Undefined').otherwise(undersample_df.surface)\n",
    ")\n",
    "\n",
    "# fit the model with the hyperparameter search\n",
    "nb_model = tvs.fit(df)\n",
    "\n",
    "# fit to undersample as well\n",
    "nb_undersample_model = tvs.fit(undersample_df)"
   ]
  },
  {
   "cell_type": "markdown",
   "id": "1fa9c326-f0aa-4c4e-8602-e0afd32af9bc",
   "metadata": {},
   "source": [
    "### Evaluate the Models"
   ]
  },
  {
   "cell_type": "markdown",
   "id": "a2b3d943-6ee7-4713-9569-a085572419e8",
   "metadata": {},
   "source": [
    "#### Non-Undersample"
   ]
  },
  {
   "cell_type": "code",
   "execution_count": 28,
   "id": "379fa92e-0041-48d1-bb80-ba5012951bbd",
   "metadata": {},
   "outputs": [
    {
     "name": "stdout",
     "output_type": "stream",
     "text": [
      "Tuned Parameters of the Best Model:\n",
      "featuresCol: scaledFeatures\n",
      "labelCol: play_type_idx\n",
      "modelType: multinomial\n",
      "predictionCol: prediction\n",
      "probabilityCol: probability\n",
      "rawPredictionCol: rawPrediction\n",
      "smoothing: 0.05\n"
     ]
    }
   ],
   "source": [
    "best_model = nb_model.bestModel\n",
    "\n",
    "# Extract the parameter map of the best model\n",
    "best_params = best_model.stages[-1].extractParamMap()\n",
    "\n",
    "# Print the parameters values\n",
    "print(\"Tuned Parameters of the Best Model:\")\n",
    "for param, value in best_params.items():\n",
    "    print(f\"{param.name}: {value}\")"
   ]
  },
  {
   "cell_type": "code",
   "execution_count": 29,
   "id": "b35437ee-aa32-456f-b6cb-c4f3925686d7",
   "metadata": {},
   "outputs": [],
   "source": [
    "# have to change test df instance\n",
    "test_df = test_df.withColumn(\n",
    "    'surface',\n",
    "    F.when(test_df.surface == '', 'Undefined').otherwise(test_df.surface)\n",
    ")\n",
    "\n",
    "prediction = best_model.transform(test_df)"
   ]
  },
  {
   "cell_type": "code",
   "execution_count": 30,
   "id": "4c7a9720-fe4d-4c2c-bdd0-02adf1f269e9",
   "metadata": {},
   "outputs": [
    {
     "name": "stderr",
     "output_type": "stream",
     "text": [
      "24/12/03 18:01:12 WARN TaskSetManager: Stage 1749 contains a task of very large size (4642 KiB). The maximum recommended task size is 1000 KiB.\n",
      "24/12/03 18:01:13 WARN TaskSetManager: Stage 1750 contains a task of very large size (4642 KiB). The maximum recommended task size is 1000 KiB.\n",
      "24/12/03 18:01:15 WARN TaskSetManager: Stage 1759 contains a task of very large size (4642 KiB). The maximum recommended task size is 1000 KiB.\n",
      "24/12/03 18:01:15 WARN TaskSetManager: Stage 1760 contains a task of very large size (4642 KiB). The maximum recommended task size is 1000 KiB.\n",
      "24/12/03 18:01:17 WARN TaskSetManager: Stage 1769 contains a task of very large size (4642 KiB). The maximum recommended task size is 1000 KiB.\n",
      "24/12/03 18:01:18 WARN TaskSetManager: Stage 1770 contains a task of very large size (4642 KiB). The maximum recommended task size is 1000 KiB.\n",
      "24/12/03 18:01:20 WARN TaskSetManager: Stage 1779 contains a task of very large size (4642 KiB). The maximum recommended task size is 1000 KiB.\n",
      "24/12/03 18:01:20 WARN TaskSetManager: Stage 1780 contains a task of very large size (4642 KiB). The maximum recommended task size is 1000 KiB.\n",
      "24/12/03 18:01:22 WARN TaskSetManager: Stage 1789 contains a task of very large size (4642 KiB). The maximum recommended task size is 1000 KiB.\n",
      "24/12/03 18:01:22 WARN TaskSetManager: Stage 1790 contains a task of very large size (4642 KiB). The maximum recommended task size is 1000 KiB.\n",
      "                                                                                \r"
     ]
    }
   ],
   "source": [
    "f1_evaluator = MulticlassClassificationEvaluator(\n",
    "    labelCol='play_type_idx', predictionCol=\"prediction\",\n",
    "    metricName='f1'\n",
    ")\n",
    "\n",
    "accuracy_evaluator = MulticlassClassificationEvaluator(\n",
    "    labelCol='play_type_idx', predictionCol=\"prediction\",\n",
    "    metricName='accuracy'\n",
    ")\n",
    "\n",
    "precision_by_label_eval = MulticlassClassificationEvaluator(\n",
    "    labelCol='play_type_idx', predictionCol=\"prediction\",\n",
    "    metricName='precisionByLabel'\n",
    ")\n",
    "\n",
    "weighted_precision_eval = MulticlassClassificationEvaluator(\n",
    "    labelCol='play_type_idx', predictionCol=\"prediction\",\n",
    "    metricName='weightedPrecision'\n",
    ")\n",
    "\n",
    "\n",
    "weighted_recall_eval = MulticlassClassificationEvaluator(\n",
    "    labelCol='play_type_idx', predictionCol=\"prediction\",\n",
    "    metricName='weightedRecall'\n",
    ")\n",
    "\n",
    "f1_score = f1_evaluator.evaluate(prediction)\n",
    "accuracy = accuracy_evaluator.evaluate(prediction)\n",
    "precision_by_label = precision_by_label_eval.evaluate(prediction)\n",
    "precision = weighted_precision_eval.evaluate(prediction)\n",
    "recall = weighted_recall_eval.evaluate(prediction)"
   ]
  },
  {
   "cell_type": "code",
   "execution_count": null,
   "id": "93762d04-5930-4435-b6ea-89b4a7410b16",
   "metadata": {},
   "outputs": [],
   "source": [
    "prediction.groupby(prediction.prediction).count().show()"
   ]
  },
  {
   "cell_type": "code",
   "execution_count": null,
   "id": "21cd6c86-2b93-44f5-b611-f4dec6a3fba5",
   "metadata": {},
   "outputs": [],
   "source": [
    "prediction.groupby(prediction.play_type_idx).count().show()"
   ]
  },
  {
   "cell_type": "code",
   "execution_count": 31,
   "id": "fdf18220-4093-4635-ab84-ddfd9284d579",
   "metadata": {},
   "outputs": [
    {
     "name": "stderr",
     "output_type": "stream",
     "text": [
      "24/12/03 18:01:27 WARN TaskSetManager: Stage 1799 contains a task of very large size (4642 KiB). The maximum recommended task size is 1000 KiB.\n",
      "24/12/03 18:01:27 WARN TaskSetManager: Stage 1800 contains a task of very large size (4642 KiB). The maximum recommended task size is 1000 KiB.\n",
      "                                                                                \r"
     ]
    }
   ],
   "source": [
    "labels = prediction.select([prediction.play_type, prediction.play_type_idx]).distinct().orderBy(prediction.play_type_idx).select(prediction.play_type).collect()\n",
    "labels = [x[0] for x in labels]"
   ]
  },
  {
   "cell_type": "code",
   "execution_count": 32,
   "id": "23165c0a-c5b9-42c9-9786-fecd21c7df65",
   "metadata": {},
   "outputs": [
    {
     "name": "stdout",
     "output_type": "stream",
     "text": [
      "\n",
      "F1: 0.5688844085759016\n",
      "Accuracy: 0.6941894401698063\n",
      "Precision by Label: 0.6941894401698063\n",
      "Weighted Precision: 0.4818989788432691\n",
      "Weighted Recall: 0.6941894401698063\n",
      "\n"
     ]
    }
   ],
   "source": [
    "results = f'''\n",
    "F1: {f1_score}\n",
    "Accuracy: {accuracy}\n",
    "Precision by Label: {precision_by_label}\n",
    "Weighted Precision: {precision}\n",
    "Weighted Recall: {recall}\n",
    "'''\n",
    "\n",
    "print(results)"
   ]
  },
  {
   "cell_type": "code",
   "execution_count": 33,
   "id": "9b00f9b4-0009-4294-9d5d-1ab0d2f1adbc",
   "metadata": {},
   "outputs": [
    {
     "name": "stderr",
     "output_type": "stream",
     "text": [
      "24/12/03 18:01:33 WARN TaskSetManager: Stage 1824 contains a task of very large size (4642 KiB). The maximum recommended task size is 1000 KiB.\n",
      "24/12/03 18:01:34 WARN TaskSetManager: Stage 1825 contains a task of very large size (4642 KiB). The maximum recommended task size is 1000 KiB.\n",
      "/sfs/gpfs/tardis/home/ean8fr/distributed-computing-final/env/lib/python3.11/site-packages/pyspark/sql/context.py:157: FutureWarning: Deprecated in 3.0.0. Use SparkSession.builder.getOrCreate() instead.\n",
      "  warnings.warn(\n",
      "                                                                                \r"
     ]
    },
    {
     "name": "stdout",
     "output_type": "stream",
     "text": [
      "[[26164.     0.     0.     0.     0.]\n",
      " [ 6268.     0.     0.     0.     0.]\n",
      " [ 2411.     0.     0.     0.     0.]\n",
      " [ 1430.     0.     0.     0.     0.]\n",
      " [ 1417.     0.     0.     0.     0.]]\n"
     ]
    }
   ],
   "source": [
    "from pyspark.sql.types import FloatType\n",
    "from pyspark.mllib.evaluation import MulticlassMetrics\n",
    "\n",
    "#Adapting code from https://www.kaggle.com/code/ashokkumarpalivela/multiclass-classification-using-pyspark for confusion matrix\n",
    "preds_and_labels = prediction.select(['prediction','play_type_idx'])\\\n",
    "                              .withColumn('play_type_idx', col('play_type_idx')\\\n",
    "                              .cast(FloatType()))\\\n",
    "                              .orderBy('prediction')\n",
    "    \n",
    "metrics = MulticlassMetrics(preds_and_labels.rdd.map(tuple))\n",
    "\n",
    "print(metrics.confusionMatrix().toArray())"
   ]
  },
  {
   "cell_type": "code",
   "execution_count": 34,
   "id": "dcf723f4-ec66-4858-89ac-098050470fe0",
   "metadata": {},
   "outputs": [
    {
     "data": {
      "image/png": "[encoded data removed]",
      "text/plain": [
       "<Figure size 1000x1000 with 1 Axes>"
      ]
     },
     "metadata": {},
     "output_type": "display_data"
    }
   ],
   "source": [
    "# labels = [\"field_goal\", \"no_play\", \"pass\", \"punt\", \"run\"]\n",
    "_ = plt.figure(figsize=(10, 10))\n",
    "ax = sns.heatmap(metrics.confusionMatrix().toArray(),\n",
    "            cmap='viridis',\n",
    "            annot=True,fmt='0',\n",
    "            cbar=False, \n",
    "            xticklabels=labels,\n",
    "            yticklabels=labels)\n",
    "\n",
    "plt.title('Naive Bayes Regular Sampling Confusion Matrix', fontsize = 20) # title with fontsize 20\n",
    "plt.xlabel('Predicted', fontsize = 15) # x-axis label with fontsize 15\n",
    "plt.ylabel('Actual', fontsize = 15) # y-axis label with fontsize 15\n",
    "plt.savefig('figures/naive-bayes-normal-confusion-matrix.png')"
   ]
  },
  {
   "cell_type": "markdown",
   "id": "ea092910-556c-426f-bd40-23c328815390",
   "metadata": {},
   "source": [
    "#### Undersample"
   ]
  },
  {
   "cell_type": "code",
   "execution_count": 35,
   "id": "1d9d7b96-5586-46c5-9453-7c60821b047b",
   "metadata": {},
   "outputs": [
    {
     "name": "stdout",
     "output_type": "stream",
     "text": [
      "Tuned Parameters of the Best Model:\n",
      "featuresCol: scaledFeatures\n",
      "labelCol: play_type_idx\n",
      "modelType: multinomial\n",
      "predictionCol: prediction\n",
      "probabilityCol: probability\n",
      "rawPredictionCol: rawPrediction\n",
      "smoothing: 0.6500000000000001\n"
     ]
    },
    {
     "name": "stderr",
     "output_type": "stream",
     "text": [
      "24/12/03 18:01:41 WARN TaskSetManager: Stage 1848 contains a task of very large size (4642 KiB). The maximum recommended task size is 1000 KiB.\n",
      "24/12/03 18:01:42 WARN TaskSetManager: Stage 1849 contains a task of very large size (4642 KiB). The maximum recommended task size is 1000 KiB.\n",
      "24/12/03 18:01:43 WARN TaskSetManager: Stage 1858 contains a task of very large size (4642 KiB). The maximum recommended task size is 1000 KiB.\n",
      "24/12/03 18:01:44 WARN TaskSetManager: Stage 1859 contains a task of very large size (4642 KiB). The maximum recommended task size is 1000 KiB.\n",
      "24/12/03 18:01:45 WARN TaskSetManager: Stage 1868 contains a task of very large size (4642 KiB). The maximum recommended task size is 1000 KiB.\n",
      "24/12/03 18:01:45 WARN TaskSetManager: Stage 1869 contains a task of very large size (4642 KiB). The maximum recommended task size is 1000 KiB.\n",
      "24/12/03 18:01:47 WARN TaskSetManager: Stage 1878 contains a task of very large size (4642 KiB). The maximum recommended task size is 1000 KiB.\n",
      "24/12/03 18:01:47 WARN TaskSetManager: Stage 1879 contains a task of very large size (4642 KiB). The maximum recommended task size is 1000 KiB.\n",
      "24/12/03 18:01:49 WARN TaskSetManager: Stage 1888 contains a task of very large size (4642 KiB). The maximum recommended task size is 1000 KiB.\n",
      "24/12/03 18:01:49 WARN TaskSetManager: Stage 1889 contains a task of very large size (4642 KiB). The maximum recommended task size is 1000 KiB.\n",
      "24/12/03 18:01:51 WARN TaskSetManager: Stage 1898 contains a task of very large size (4642 KiB). The maximum recommended task size is 1000 KiB.\n"
     ]
    },
    {
     "name": "stdout",
     "output_type": "stream",
     "text": [
      "\n",
      "F1: 0.6204951154727341\n",
      "Accuracy: 0.5458742371981958\n",
      "Precision by Label: 0.6663905570511494\n",
      "Weighted Precision: 0.7821488439917197\n",
      "Weighted Recall: 0.5458742371981958\n",
      "\n"
     ]
    },
    {
     "name": "stderr",
     "output_type": "stream",
     "text": [
      "24/12/03 18:01:51 WARN TaskSetManager: Stage 1899 contains a task of very large size (4642 KiB). The maximum recommended task size is 1000 KiB.\n",
      "24/12/03 18:01:53 WARN TaskSetManager: Stage 1923 contains a task of very large size (4642 KiB). The maximum recommended task size is 1000 KiB.\n",
      "24/12/03 18:01:53 WARN TaskSetManager: Stage 1924 contains a task of very large size (4642 KiB). The maximum recommended task size is 1000 KiB.\n",
      "/sfs/gpfs/tardis/home/ean8fr/distributed-computing-final/env/lib/python3.11/site-packages/pyspark/sql/context.py:157: FutureWarning: Deprecated in 3.0.0. Use SparkSession.builder.getOrCreate() instead.\n",
      "  warnings.warn(\n",
      "                                                                                \r"
     ]
    },
    {
     "name": "stdout",
     "output_type": "stream",
     "text": [
      "[[ 3218.    48.  1965.   121.   916.]\n",
      " [  190.    92.   599.   437.    99.]\n",
      " [  375.    27.  1733.   113.   163.]\n",
      " [  607.  2455.  7034. 15349.   719.]\n",
      " [  439.    39.   582.   188.   182.]]\n"
     ]
    },
    {
     "data": {
      "image/png": "[encoded data removed]",
      "text/plain": [
       "<Figure size 1000x1000 with 1 Axes>"
      ]
     },
     "metadata": {},
     "output_type": "display_data"
    }
   ],
   "source": [
    "best_model = nb_undersample_model.bestModel\n",
    "\n",
    "# Extract the parameter map of the best model\n",
    "best_params = best_model.stages[-1].extractParamMap()\n",
    "\n",
    "# Print the parameters values\n",
    "print(\"Tuned Parameters of the Best Model:\")\n",
    "for param, value in best_params.items():\n",
    "    print(f\"{param.name}: {value}\")\n",
    "\n",
    "# get prediction\n",
    "prediction = best_model.transform(test_df)\n",
    "\n",
    "# use same evaluators\n",
    "f1_score = f1_evaluator.evaluate(prediction)\n",
    "accuracy = accuracy_evaluator.evaluate(prediction)\n",
    "precision_by_label = precision_by_label_eval.evaluate(prediction)\n",
    "precision = weighted_precision_eval.evaluate(prediction)\n",
    "recall = weighted_recall_eval.evaluate(prediction)\n",
    "\n",
    "results = f'''\n",
    "F1: {f1_score}\n",
    "Accuracy: {accuracy}\n",
    "Precision by Label: {precision_by_label}\n",
    "Weighted Precision: {precision}\n",
    "Weighted Recall: {recall}\n",
    "'''\n",
    "print(results)\n",
    "\n",
    "labels = prediction.select([prediction.play_type, prediction.play_type_idx]).distinct().orderBy(prediction.play_type_idx).select(prediction.play_type).collect()\n",
    "labels = [x[0] for x in labels]\n",
    "\n",
    "preds_and_labels = prediction.select(['prediction','play_type_idx'])\\\n",
    "                              .withColumn('play_type_idx', col('play_type_idx')\\\n",
    "                              .cast(FloatType()))\\\n",
    "                              .orderBy('prediction')\n",
    "    \n",
    "metrics = MulticlassMetrics(preds_and_labels.rdd.map(tuple))\n",
    "\n",
    "print(metrics.confusionMatrix().toArray())\n",
    "\n",
    "_ = plt.figure(figsize=(10, 10))\n",
    "ax = sns.heatmap(metrics.confusionMatrix().toArray(),\n",
    "            cmap='viridis',\n",
    "            annot=True,fmt='0',\n",
    "            cbar=False, \n",
    "            xticklabels=labels,\n",
    "            yticklabels=labels)\n",
    "\n",
    "plt.title('Naive Bayes Weighted Sampling Confusion Matrix', fontsize = 20) # title with fontsize 20\n",
    "plt.xlabel('Predicted', fontsize = 15) # x-axis label with fontsize 15\n",
    "plt.ylabel('Actual', fontsize = 15) # y-axis label with fontsize 15\n",
    "plt.savefig('figures/naive-bayes-undersample-confusion-matrix.png')"
   ]
  },
  {
   "cell_type": "markdown",
   "id": "7866da5a-0f72-4ee7-baf3-6233698931c3",
   "metadata": {},
   "source": [
    "### Conclusions"
   ]
  },
  {
   "cell_type": "markdown",
   "id": "6e28d1a6-06c7-4524-a4d4-f5fb9f8c2e48",
   "metadata": {},
   "source": [
    "Listed are some general observations\n",
    "* We achieve a much better performance across all metrics when we sample from the regular distribution rather than applying undersampling and oversampling. The accuracy normally is ~65% compared to ~25% when changing the sampling method. One downside is that the model predicts \"punt\" much more frequently than any other classes when regular sampling is used. Though this follows the general distribtuion of the training data, it does not account for the other classes well.\n",
    "* When comapred to the other tested models, the Naive Bayes does neither substantially better or worse. It is in line with the Logistic Regression and Random Forest methods used. "
   ]
  }
 ],
 "metadata": {
  "kernelspec": {
   "display_name": "distributed-computing",
   "language": "python",
   "name": "distributed-computing"
  },
  "language_info": {
   "codemirror_mode": {
    "name": "ipython",
    "version": 3
   },
   "file_extension": ".py",
   "mimetype": "text/x-python",
   "name": "python",
   "nbconvert_exporter": "python",
   "pygments_lexer": "ipython3",
   "version": "3.11.5"
  }
 },
 "nbformat": 4,
 "nbformat_minor": 5
}
