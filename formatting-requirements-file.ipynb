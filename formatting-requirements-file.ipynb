{
 "cells": [
  {
   "cell_type": "markdown",
   "id": "7c7b3137-dc3f-4dc2-94a8-c27ffb0b1a67",
   "metadata": {},
   "source": [
    "**This file is to take in a requirements.txt file and remove all information after an @ so that we can build an environment.**"
   ]
  },
  {
   "cell_type": "code",
   "execution_count": 11,
   "id": "dfecfa61-24e7-490c-baa0-28206149a64f",
   "metadata": {
    "tags": []
   },
   "outputs": [],
   "source": [
    "import re"
   ]
  },
  {
   "cell_type": "code",
   "execution_count": 17,
   "id": "6e2876a5-3b45-4f0b-8116-ad425e132d23",
   "metadata": {
    "tags": []
   },
   "outputs": [],
   "source": [
    "with open('requirements.txt', 'r') as f:\n",
    "    lines = f.read()\n",
    "    \n",
    "# add a new line character\n",
    "lines = '\\n' + lines\n",
    "\n",
    "pattern = r'\\n(.*?)\\s'\n",
    "\n",
    "clean = re.findall(pattern, lines)\n",
    "\n",
    "file_content = '\\n'.join(clean)\n",
    "\n",
    "with open('requirements.txt', 'w') as f:\n",
    "    f.write(file_content)"
   ]
  }
 ],
 "metadata": {
  "kernelspec": {
   "display_name": "Python 3 (ipykernel)",
   "language": "python",
   "name": "python3"
  },
  "language_info": {
   "codemirror_mode": {
    "name": "ipython",
    "version": 3
   },
   "file_extension": ".py",
   "mimetype": "text/x-python",
   "name": "python",
   "nbconvert_exporter": "python",
   "pygments_lexer": "ipython3",
   "version": "3.11.4"
  }
 },
 "nbformat": 4,
 "nbformat_minor": 5
}
