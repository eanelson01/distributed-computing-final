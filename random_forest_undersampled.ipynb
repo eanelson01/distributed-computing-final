{
 "cells": [
  {
   "cell_type": "markdown",
   "id": "dc445894-a5bd-4768-8672-bcebea5aebfa",
   "metadata": {},
   "source": [
    "### Creating Model 1\n",
    "\n",
    "* Creating a 1st model for the NFL Play data. The goal is to predict the play type on 4th down.\n",
    "* Random Forest and gradient boosted trees are the other models"
   ]
  },
  {
   "cell_type": "code",
   "execution_count": 2,
   "id": "6e1acab1-8e72-4add-9c2c-1798b8967ec2",
   "metadata": {},
   "outputs": [],
   "source": [
    "from pyspark.ml import Pipeline  \n",
    "from pyspark.ml.feature import *  \n",
    "from pyspark.ml.classification import RandomForestClassifier\n",
    "import nfl_data_py as nfl\n",
    "import numpy as np\n",
    "from pyspark.sql import SparkSession\n",
    "from pyspark.sql.functions import col\n",
    "from imblearn.under_sampling import RandomUnderSampler\n",
    "from imblearn.over_sampling import SMOTENC\n",
    "import pandas as pd\n",
    "from imblearn.combine import SMOTEENN\n",
    "from DataPipelineFxn import *\n",
    "from pyspark.ml.evaluation import MulticlassClassificationEvaluator\n",
    "from pyspark.ml.tuning import TrainValidationSplit, ParamGridBuilder\n",
    "import seaborn as sns\n",
    "import matplotlib.pyplot as plt\n",
    "from pyspark.sql import functions as F"
   ]
  },
  {
   "cell_type": "code",
   "execution_count": 3,
   "id": "c28b6116-fab9-4cfd-be1c-8000d1a6292b",
   "metadata": {},
   "outputs": [
    {
     "name": "stdout",
     "output_type": "stream",
     "text": [
      "2000 done.\n",
      "2001 done.\n",
      "2002 done.\n",
      "2003 done.\n",
      "2004 done.\n",
      "2005 done.\n",
      "2006 done.\n",
      "2007 done.\n",
      "2008 done.\n",
      "2009 done.\n",
      "2010 done.\n",
      "2011 done.\n",
      "2012 done.\n",
      "2013 done.\n",
      "2014 done.\n",
      "2015 done.\n",
      "2016 done.\n",
      "2017 done.\n",
      "2018 done.\n",
      "2019 done.\n",
      "2020 done.\n",
      "2021 done.\n",
      "2022 done.\n",
      "2023 done.\n"
     ]
    },
    {
     "name": "stderr",
     "output_type": "stream",
     "text": [
      "/opt/conda/lib/python3.7/site-packages/pyspark/bin/load-spark-env.sh: line 68: ps: command not found\n",
      "Setting default log level to \"WARN\".\n",
      "To adjust logging level use sc.setLogLevel(newLevel). For SparkR, use setLogLevel(newLevel).\n"
     ]
    },
    {
     "name": "stdout",
     "output_type": "stream",
     "text": [
      "24/12/03 22:23:21 WARN NativeCodeLoader: Unable to load native-hadoop library for your platform... using builtin-java classes where applicable\n",
      "24/12/03 22:23:40 WARN package: Truncated the string representation of a plan since it was too large. This behavior can be adjusted by setting 'spark.sql.debug.maxToStringFields'.\n",
      "24/12/03 22:23:41 WARN TaskSetManager: Stage 0 contains a task of very large size (6176 KiB). The maximum recommended task size is 1000 KiB.\n"
     ]
    },
    {
     "name": "stderr",
     "output_type": "stream",
     "text": [
      "                                                                                \r"
     ]
    },
    {
     "name": "stdout",
     "output_type": "stream",
     "text": [
      "24/12/03 22:23:43 WARN TaskSetManager: Stage 3 contains a task of very large size (6176 KiB). The maximum recommended task size is 1000 KiB.\n"
     ]
    },
    {
     "name": "stderr",
     "output_type": "stream",
     "text": [
      "                                                                                \r"
     ]
    },
    {
     "name": "stdout",
     "output_type": "stream",
     "text": [
      "24/12/03 22:23:49 WARN TaskSetManager: Stage 4 contains a task of very large size (2197 KiB). The maximum recommended task size is 1000 KiB.\n",
      "24/12/03 22:23:53 WARN TaskSetManager: Stage 5 contains a task of very large size (1216 KiB). The maximum recommended task size is 1000 KiB.\n"
     ]
    }
   ],
   "source": [
    "# get the spark session and data frame\n",
    "data = GetSparkDF(include_undersample = True)"
   ]
  },
  {
   "cell_type": "code",
   "execution_count": 4,
   "id": "6508ca52-3eac-43ee-a3a2-88b6b20a7504",
   "metadata": {
    "tags": []
   },
   "outputs": [],
   "source": [
    "spark, df, test_df, undersample_df = data"
   ]
  },
  {
   "cell_type": "markdown",
   "id": "ec922502-28fe-4bef-ba7c-ea4a25146b98",
   "metadata": {},
   "source": [
    "### Create numeric columns list for the pipeline"
   ]
  },
  {
   "cell_type": "code",
   "execution_count": 5,
   "id": "dd7a517b-64f7-4123-a57c-36aa131d6680",
   "metadata": {
    "tags": []
   },
   "outputs": [],
   "source": [
    "numeric_cols = []\n",
    "for field in df.schema.fields:\n",
    "    if str(field.dataType) != \"StringType()\":\n",
    "        numeric_cols.append(field.name)\n",
    "        \n",
    "numeric_cols.remove(\"season\")\n",
    "numeric_cols.remove(\"week\")"
   ]
  },
  {
   "cell_type": "code",
   "execution_count": 6,
   "id": "c8d837ef-03d7-4091-a6ea-223e42d352e4",
   "metadata": {
    "tags": []
   },
   "outputs": [
    {
     "name": "stdout",
     "output_type": "stream",
     "text": [
      "['yardline_100', 'quarter_seconds_remaining', 'half_seconds_remaining', 'game_seconds_remaining', 'down', 'drive', 'qtr', 'ydstogo', 'posteam_timeouts_remaining', 'defteam_timeouts_remaining', 'posteam_score', 'defteam_score', 'score_differential', 'ep', 'epa', 'wind', 'temp']\n"
     ]
    }
   ],
   "source": [
    "print(numeric_cols)"
   ]
  },
  {
   "cell_type": "markdown",
   "id": "8968cfd5-3a1e-4df9-a459-a18f88dfebb4",
   "metadata": {},
   "source": [
    "### Create the Model Pipeline"
   ]
  },
  {
   "cell_type": "code",
   "execution_count": 7,
   "id": "eee0fd6a-0322-4cb1-ba56-ab40c1f574de",
   "metadata": {},
   "outputs": [],
   "source": [
    "\n",
    "str_col = [\"home_team\", \"away_team\", \"season_type\", \"posteam\", \"posteam_type\", \"defteam\", \"side_of_field\", \"game_half\", \"week\",\n",
    "        \"play_type\", \"season\", 'roof', 'surface']\n",
    "str_col_output = [\"home_team_idx\", \"away_team_idx\", \"season_type_idx\", \"posteam_idx\", \"posteam_type_idx\", \"defteam_idx\", \"week_idx\",\n",
    "                  \"side_of_field_idx\", \"game_half_idx\", \"play_type_idx\", \"season_idx\", 'roof_idx', 'surface_idx']\n",
    "ohe_col_input = [\"home_team_idx\", \"away_team_idx\", \"season_type_idx\", \"posteam_idx\", \"posteam_type_idx\", \"defteam_idx\", \"week_idx\",\n",
    "                  \"side_of_field_idx\", \"game_half_idx\", \"season_idx\", 'roof_idx', 'surface_idx']\n",
    "ohe_col_vec = [\"home_team_vec\", \"away_team_vec\", \"season_type_vec\", \"posteam_vec\", \"posteam_type_vec\", \"defteam_vec\", \"week_vec\",\n",
    "                  \"side_of_field_vec\", \"game_half_ivec\", \"season_vec\", 'roof_vec', 'surface_vec']\n",
    "\n",
    "# Combine numeric and one-hot encoded columns\n",
    "va_input_cols = numeric_cols + ohe_col_vec\n",
    "\n",
    "# process using string indexer first for catgeorical features  \n",
    "stringIndexer = StringIndexer(inputCols=str_col, outputCols=str_col_output)\n",
    "\n",
    "# process rating data into second feature\n",
    "ohe = OneHotEncoder(inputCols=ohe_col_input, outputCols=ohe_col_vec) \n",
    "\n",
    "\n",
    "# Assemble features column\n",
    "va = VectorAssembler(inputCols=va_input_cols, outputCol=\"features\", handleInvalid = \"skip\")\n",
    "\n",
    "# process data using maxabs scaler, not necessarily important for trees but consistency\n",
    "scaler = MaxAbsScaler(inputCol=\"features\", outputCol=\"scaledFeatures\")\n",
    "\n",
    "# define the model\n",
    "\n",
    "#spark.conf.set(\"spark.speculation\", \"false\")\n",
    "# Use Random Forest Classifier\n",
    "rf = RandomForestClassifier(labelCol='play_type_idx', \n",
    "                             featuresCol='scaledFeatures', \n",
    "                             seed=42)\n",
    "\n",
    "\n",
    "# Fit the pipeline\n",
    "pipeline = Pipeline(stages=[stringIndexer, ohe, va, scaler, rf])"
   ]
  },
  {
   "cell_type": "code",
   "execution_count": 8,
   "id": "23916e45-b255-4d3d-81a7-6ea8711d2e01",
   "metadata": {},
   "outputs": [],
   "source": [
    "\n",
    "# Set up hyperparameter tuning\n",
    "paramGrid = ParamGridBuilder()\\\n",
    "    .addGrid(rf.numTrees, [10, 50, 100])\\\n",
    "    .addGrid(rf.maxDepth, [5, 10, 15])\\\n",
    "    .addGrid(rf.impurity, [\"gini\", \"entropy\"])\\\n",
    "    .build()\n",
    "\n",
    "\n",
    "# build the evaluator\n",
    "evaluator = MulticlassClassificationEvaluator(\n",
    "    predictionCol=\"prediction\",\n",
    "    labelCol=\"play_type_idx\",\n",
    "    metricName=\"accuracy\"\n",
    ")\n",
    "\n",
    "# set up the train validation split\n",
    "tvs = TrainValidationSplit(\n",
    "    estimator=pipeline,\n",
    "    evaluator=evaluator,\n",
    "    estimatorParamMaps=paramGrid,\n",
    "    # 80% of the data will be used for training, 20% for validation.\n",
    "    trainRatio=0.8\n",
    ")"
   ]
  },
  {
   "cell_type": "code",
   "execution_count": 9,
   "id": "1a924059-9309-4b93-b118-caa25f5c0360",
   "metadata": {},
   "outputs": [
    {
     "name": "stdout",
     "output_type": "stream",
     "text": [
      "24/12/03 21:50:21 WARN TaskSetManager: Stage 6 contains a task of very large size (6176 KiB). The maximum recommended task size is 1000 KiB.\n",
      "+--------+\n",
      "|    roof|\n",
      "+--------+\n",
      "|outdoors|\n",
      "|  closed|\n",
      "|    open|\n",
      "|    dome|\n",
      "+--------+\n",
      "\n"
     ]
    }
   ],
   "source": [
    "df.select(df.roof).distinct().show()"
   ]
  },
  {
   "cell_type": "code",
   "execution_count": 4,
   "id": "99dff5e2-13eb-48ba-bd30-8d7095cf5251",
   "metadata": {
    "scrolled": true
   },
   "outputs": [
    {
     "ename": "NameError",
     "evalue": "name 'undersample_df' is not defined",
     "output_type": "error",
     "traceback": [
      "\u001b[0;31m---------------------------------------------------------------------------\u001b[0m",
      "\u001b[0;31mNameError\u001b[0m                                 Traceback (most recent call last)",
      "\u001b[0;32m/tmp/ipykernel_97857/578754771.py\u001b[0m in \u001b[0;36m<module>\u001b[0;34m\u001b[0m\n\u001b[1;32m      1\u001b[0m \u001b[0;31m# need to replace the empty string in surface\u001b[0m\u001b[0;34m\u001b[0m\u001b[0;34m\u001b[0m\u001b[0;34m\u001b[0m\u001b[0m\n\u001b[0;32m----> 2\u001b[0;31m undersample_df = undersample_df.withColumn(\n\u001b[0m\u001b[1;32m      3\u001b[0m     \u001b[0;34m'surface'\u001b[0m\u001b[0;34m,\u001b[0m\u001b[0;34m\u001b[0m\u001b[0;34m\u001b[0m\u001b[0m\n\u001b[1;32m      4\u001b[0m     \u001b[0mF\u001b[0m\u001b[0;34m.\u001b[0m\u001b[0mwhen\u001b[0m\u001b[0;34m(\u001b[0m\u001b[0mundersample_df\u001b[0m\u001b[0;34m.\u001b[0m\u001b[0msurface\u001b[0m \u001b[0;34m==\u001b[0m \u001b[0;34m''\u001b[0m\u001b[0;34m,\u001b[0m \u001b[0;34m'Undefined'\u001b[0m\u001b[0;34m)\u001b[0m\u001b[0;34m.\u001b[0m\u001b[0motherwise\u001b[0m\u001b[0;34m(\u001b[0m\u001b[0mundersample_df\u001b[0m\u001b[0;34m.\u001b[0m\u001b[0msurface\u001b[0m\u001b[0;34m)\u001b[0m\u001b[0;34m\u001b[0m\u001b[0;34m\u001b[0m\u001b[0m\n\u001b[1;32m      5\u001b[0m )\n",
      "\u001b[0;31mNameError\u001b[0m: name 'undersample_df' is not defined"
     ]
    }
   ],
   "source": [
    "# need to replace the empty string in surface\n",
    "undersample_df = undersample_df.withColumn(\n",
    "    'surface',\n",
    "    F.when(undersample_df.surface == '', 'Undefined').otherwise(undersample_df.surface)\n",
    ")\n",
    "\n",
    "# fit the model with the hyperparameter search\n",
    "rf_model = tvs.fit(undersample_df)"
   ]
  },
  {
   "cell_type": "markdown",
   "id": "1fa9c326-f0aa-4c4e-8602-e0afd32af9bc",
   "metadata": {},
   "source": [
    "### Evaluate the Model"
   ]
  },
  {
   "cell_type": "code",
   "execution_count": 3,
   "id": "379fa92e-0041-48d1-bb80-ba5012951bbd",
   "metadata": {},
   "outputs": [
    {
     "ename": "NameError",
     "evalue": "name 'rf_model' is not defined",
     "output_type": "error",
     "traceback": [
      "\u001b[0;31m---------------------------------------------------------------------------\u001b[0m",
      "\u001b[0;31mNameError\u001b[0m                                 Traceback (most recent call last)",
      "\u001b[0;32m/tmp/ipykernel_97857/2836915470.py\u001b[0m in \u001b[0;36m<module>\u001b[0;34m\u001b[0m\n\u001b[0;32m----> 1\u001b[0;31m \u001b[0mbest_model\u001b[0m \u001b[0;34m=\u001b[0m \u001b[0mrf_model\u001b[0m\u001b[0;34m.\u001b[0m\u001b[0mbestModel\u001b[0m\u001b[0;34m\u001b[0m\u001b[0;34m\u001b[0m\u001b[0m\n\u001b[0m\u001b[1;32m      2\u001b[0m \u001b[0;34m\u001b[0m\u001b[0m\n\u001b[1;32m      3\u001b[0m \u001b[0;31m# Extract the parameter map of the best model\u001b[0m\u001b[0;34m\u001b[0m\u001b[0;34m\u001b[0m\u001b[0;34m\u001b[0m\u001b[0m\n\u001b[1;32m      4\u001b[0m \u001b[0mbest_params\u001b[0m \u001b[0;34m=\u001b[0m \u001b[0mbest_model\u001b[0m\u001b[0;34m.\u001b[0m\u001b[0mstages\u001b[0m\u001b[0;34m[\u001b[0m\u001b[0;34m-\u001b[0m\u001b[0;36m1\u001b[0m\u001b[0;34m]\u001b[0m\u001b[0;34m.\u001b[0m\u001b[0mextractParamMap\u001b[0m\u001b[0;34m(\u001b[0m\u001b[0;34m)\u001b[0m\u001b[0;34m\u001b[0m\u001b[0;34m\u001b[0m\u001b[0m\n\u001b[1;32m      5\u001b[0m \u001b[0;34m\u001b[0m\u001b[0m\n",
      "\u001b[0;31mNameError\u001b[0m: name 'rf_model' is not defined"
     ]
    }
   ],
   "source": [
    "best_model = rf_model.bestModel\n",
    "\n",
    "# Extract the parameter map of the best model\n",
    "best_params = best_model.stages[-1].extractParamMap()\n",
    "\n",
    "# Print the parameters values\n",
    "print(\"Tuned Parameters of the Best Model:\")\n",
    "for param, value in best_params.items():\n",
    "    print(f\"{param.name}: {value}\")"
   ]
  },
  {
   "cell_type": "code",
   "execution_count": 11,
   "id": "b35437ee-aa32-456f-b6cb-c4f3925686d7",
   "metadata": {},
   "outputs": [],
   "source": [
    "# have to change test df instance\n",
    "test_df = test_df.withColumn(\n",
    "    'surface',\n",
    "    F.when(test_df.surface == '', 'Undefined').otherwise(test_df.surface)\n",
    ")\n",
    "\n",
    "prediction = best_model.transform(test_df)\n"
   ]
  },
  {
   "cell_type": "code",
   "execution_count": 12,
   "id": "4c7a9720-fe4d-4c2c-bdd0-02adf1f269e9",
   "metadata": {},
   "outputs": [
    {
     "name": "stdout",
     "output_type": "stream",
     "text": [
      "24/12/03 22:28:43 WARN TaskSetManager: Stage 622 contains a task of very large size (6176 KiB). The maximum recommended task size is 1000 KiB.\n"
     ]
    },
    {
     "name": "stderr",
     "output_type": "stream",
     "text": [
      "[Stage 622:===========>     (2 + 1) / 3][Stage 623:>                (0 + 2) / 3]\r"
     ]
    },
    {
     "name": "stdout",
     "output_type": "stream",
     "text": [
      "24/12/03 22:28:44 WARN TaskSetManager: Stage 623 contains a task of very large size (6176 KiB). The maximum recommended task size is 1000 KiB.\n"
     ]
    },
    {
     "name": "stderr",
     "output_type": "stream",
     "text": [
      "[Stage 626:===================>                                     (1 + 2) / 3]\r"
     ]
    },
    {
     "name": "stdout",
     "output_type": "stream",
     "text": [
      "24/12/03 22:28:47 WARN DAGScheduler: Broadcasting large task binary with size 29.0 MiB\n"
     ]
    },
    {
     "name": "stderr",
     "output_type": "stream",
     "text": [
      "                                                                                \r"
     ]
    },
    {
     "name": "stdout",
     "output_type": "stream",
     "text": [
      "24/12/03 22:28:53 WARN TaskSetManager: Stage 632 contains a task of very large size (6176 KiB). The maximum recommended task size is 1000 KiB.\n",
      "24/12/03 22:28:53 WARN TaskSetManager: Stage 633 contains a task of very large size (6176 KiB). The maximum recommended task size is 1000 KiB.\n"
     ]
    },
    {
     "name": "stderr",
     "output_type": "stream",
     "text": [
      "[Stage 636:===================>                                     (1 + 2) / 3]\r"
     ]
    },
    {
     "name": "stdout",
     "output_type": "stream",
     "text": [
      "24/12/03 22:28:56 WARN DAGScheduler: Broadcasting large task binary with size 29.0 MiB\n"
     ]
    },
    {
     "name": "stderr",
     "output_type": "stream",
     "text": [
      "                                                                                \r"
     ]
    },
    {
     "name": "stdout",
     "output_type": "stream",
     "text": [
      "24/12/03 22:29:00 WARN TaskSetManager: Stage 642 contains a task of very large size (6176 KiB). The maximum recommended task size is 1000 KiB.\n",
      "24/12/03 22:29:00 WARN TaskSetManager: Stage 643 contains a task of very large size (6176 KiB). The maximum recommended task size is 1000 KiB.\n"
     ]
    },
    {
     "name": "stderr",
     "output_type": "stream",
     "text": [
      "[Stage 646:===================>                                     (1 + 2) / 3]\r"
     ]
    },
    {
     "name": "stdout",
     "output_type": "stream",
     "text": [
      "24/12/03 22:29:03 WARN DAGScheduler: Broadcasting large task binary with size 29.0 MiB\n"
     ]
    },
    {
     "name": "stderr",
     "output_type": "stream",
     "text": [
      "                                                                                \r"
     ]
    }
   ],
   "source": [
    "f1_evaluator = MulticlassClassificationEvaluator(\n",
    "    labelCol='play_type_idx', predictionCol=\"prediction\",\n",
    "    metricName='f1'\n",
    ")\n",
    "\n",
    "accuracy_evaluator = MulticlassClassificationEvaluator(\n",
    "    labelCol='play_type_idx', predictionCol=\"prediction\",\n",
    "    metricName='accuracy'\n",
    ")\n",
    "\n",
    "precision_by_label_eval = MulticlassClassificationEvaluator(\n",
    "    labelCol='play_type_idx', predictionCol=\"prediction\",\n",
    "    metricName='precisionByLabel'\n",
    ")\n",
    "\n",
    "f1_score = f1_evaluator.evaluate(prediction)\n",
    "accuracy = accuracy_evaluator.evaluate(prediction)\n",
    "precision_by_label = precision_by_label_eval.evaluate(prediction)"
   ]
  },
  {
   "cell_type": "code",
   "execution_count": null,
   "id": "b80701e4-3410-48ce-9ba1-c3f7598ebd5b",
   "metadata": {},
   "outputs": [],
   "source": [
    "scoreAndLabels = sc.parallelize([\n",
    "    ([0.0, 1.0], [0.0, 2.0]),\n",
    "    ([0.0, 2.0], [0.0, 1.0]),\n",
    "    ([], [0.0]),\n",
    "    ([2.0], [2.0]),\n",
    "    ([2.0, 0.0], [2.0, 0.0]),\n",
    "    ([0.0, 1.0, 2.0], [0.0, 1.0]),\n",
    "    ([1.0], [1.0, 2.0])])\n",
    "\n",
    "# Instantiate metrics object\n",
    "metrics = MultilabelMetrics(scoreAndLabels)\n",
    "\n",
    "# Summary stats\n",
    "print(\"Recall = %s\" % metrics.recall())\n",
    "print(\"Precision = %s\" % metrics.precision())\n",
    "print(\"F1 measure = %s\" % metrics.f1Measure())\n",
    "print(\"Accuracy = %s\" % metrics.accuracy)\n",
    "\n",
    "# Individual label stats\n",
    "labels = scoreAndLabels.flatMap(lambda x: x[1]).distinct().collect()\n",
    "for label in labels:\n",
    "    print(\"Class %s precision = %s\" % (label, metrics.precision(label)))\n",
    "    print(\"Class %s recall = %s\" % (label, metrics.recall(label)))\n",
    "    print(\"Class %s F1 Measure = %s\" % (label, metrics.f1Measure(label)))"
   ]
  },
  {
   "cell_type": "code",
   "execution_count": null,
   "id": "373d502c-6f99-40a5-8c04-13dd353c9cc0",
   "metadata": {},
   "outputs": [],
   "source": [
    "prediction.select([prediction.play_type_idx, prediction.prediction]).show(10)"
   ]
  },
  {
   "cell_type": "code",
   "execution_count": null,
   "id": "93762d04-5930-4435-b6ea-89b4a7410b16",
   "metadata": {},
   "outputs": [],
   "source": [
    "prediction.groupby(prediction.prediction).count().show()"
   ]
  },
  {
   "cell_type": "code",
   "execution_count": null,
   "id": "21cd6c86-2b93-44f5-b611-f4dec6a3fba5",
   "metadata": {},
   "outputs": [],
   "source": [
    "prediction.groupby(prediction.play_type_idx).count().show()"
   ]
  },
  {
   "cell_type": "code",
   "execution_count": 13,
   "id": "fdf18220-4093-4635-ab84-ddfd9284d579",
   "metadata": {},
   "outputs": [
    {
     "name": "stdout",
     "output_type": "stream",
     "text": [
      "24/12/03 22:29:19 WARN TaskSetManager: Stage 652 contains a task of very large size (6176 KiB). The maximum recommended task size is 1000 KiB.\n",
      "24/12/03 22:29:20 WARN TaskSetManager: Stage 653 contains a task of very large size (6176 KiB). The maximum recommended task size is 1000 KiB.\n"
     ]
    },
    {
     "name": "stderr",
     "output_type": "stream",
     "text": [
      "                                                                                \r"
     ]
    }
   ],
   "source": [
    "labels = prediction.select([prediction.play_type, prediction.play_type_idx]).distinct().orderBy(prediction.play_type_idx).select(prediction.play_type).collect()\n",
    "labels = [x(0) for x in labels]"
   ]
  },
  {
   "cell_type": "code",
   "execution_count": null,
   "id": "e231c8d6-1f67-469b-a6f3-755d82f0ddad",
   "metadata": {},
   "outputs": [],
   "source": [
    "test_df.groupby(test_df.play_type).count().show()"
   ]
  },
  {
   "cell_type": "code",
   "execution_count": 14,
   "id": "23165c0a-c5b9-42c9-9786-fecd21c7df65",
   "metadata": {},
   "outputs": [
    {
     "name": "stdout",
     "output_type": "stream",
     "text": [
      "\n",
      "F1: 0.8592622298977846\n",
      "Accuracy: 0.843362291118727\n",
      "Precision by Label: 0.8865755127408328\n",
      "\n"
     ]
    }
   ],
   "source": [
    "results = f'''\n",
    "F1: {f1_score}\n",
    "Accuracy: {accuracy}\n",
    "Precision by Label: {precision_by_label}\n",
    "'''\n",
    "\n",
    "print(results)"
   ]
  },
  {
   "cell_type": "code",
   "execution_count": 15,
   "id": "9b00f9b4-0009-4294-9d5d-1ab0d2f1adbc",
   "metadata": {},
   "outputs": [
    {
     "name": "stdout",
     "output_type": "stream",
     "text": [
      "24/12/03 22:29:43 WARN TaskSetManager: Stage 677 contains a task of very large size (6176 KiB). The maximum recommended task size is 1000 KiB.\n",
      "24/12/03 22:29:44 WARN TaskSetManager: Stage 678 contains a task of very large size (6176 KiB). The maximum recommended task size is 1000 KiB.\n"
     ]
    },
    {
     "name": "stderr",
     "output_type": "stream",
     "text": [
      "[Stage 681:>                                                        (0 + 3) / 3]\r"
     ]
    },
    {
     "name": "stdout",
     "output_type": "stream",
     "text": [
      "24/12/03 22:29:47 WARN DAGScheduler: Broadcasting large task binary with size 29.0 MiB\n"
     ]
    },
    {
     "name": "stderr",
     "output_type": "stream",
     "text": [
      "                                                                                \r"
     ]
    },
    {
     "name": "stdout",
     "output_type": "stream",
     "text": [
      "24/12/03 22:29:52 WARN DAGScheduler: Broadcasting large task binary with size 29.0 MiB\n"
     ]
    },
    {
     "name": "stderr",
     "output_type": "stream",
     "text": [
      "/opt/conda/lib/python3.7/site-packages/pyspark/sql/context.py:159: FutureWarning: Deprecated in 3.0.0. Use SparkSession.builder.getOrCreate() instead.\n",
      "  FutureWarning,\n"
     ]
    },
    {
     "name": "stdout",
     "output_type": "stream",
     "text": [
      "24/12/03 22:29:56 WARN DAGScheduler: Broadcasting large task binary with size 28.9 MiB\n"
     ]
    },
    {
     "name": "stderr",
     "output_type": "stream",
     "text": [
      "                                                                                \r"
     ]
    },
    {
     "name": "stdout",
     "output_type": "stream",
     "text": [
      "24/12/03 22:29:57 WARN DAGScheduler: Broadcasting large task binary with size 28.9 MiB\n"
     ]
    },
    {
     "name": "stderr",
     "output_type": "stream",
     "text": [
      "[Stage 699:>                                                        (0 + 1) / 1]\r"
     ]
    },
    {
     "name": "stdout",
     "output_type": "stream",
     "text": [
      "[[5.7060e+03 3.8000e+01 2.9900e+02 1.3000e+01 2.0700e+02]\n",
      " [1.9700e+02 2.4100e+02 1.8300e+02 5.9100e+02 1.5900e+02]\n",
      " [2.1800e+02 5.3000e+01 1.7350e+03 4.7000e+01 3.1900e+02]\n",
      " [2.3600e+02 2.0120e+03 5.3500e+02 2.2967e+04 4.3700e+02]\n",
      " [7.9000e+01 3.0000e+01 1.8000e+02 6.3000e+01 1.0960e+03]]\n"
     ]
    },
    {
     "name": "stderr",
     "output_type": "stream",
     "text": [
      "                                                                                \r"
     ]
    }
   ],
   "source": [
    "from pyspark.sql.types import FloatType\n",
    "from pyspark.mllib.evaluation import MulticlassMetrics\n",
    "\n",
    "#Adapting code from https://www.kaggle.com/code/ashokkumarpalivela/multiclass-classification-using-pyspark for confusion matrix\n",
    "preds_and_labels = prediction.select(['prediction','play_type_idx'])\\\n",
    "                              .withColumn('play_type_idx', col('play_type_idx')\\\n",
    "                              .cast(FloatType()))\\\n",
    "                              .orderBy('prediction')\n",
    "    \n",
    "metrics = MulticlassMetrics(preds_and_labels.rdd.map(tuple))\n",
    "\n",
    "print(metrics.confusionMatrix().toArray())"
   ]
  },
  {
   "cell_type": "code",
   "execution_count": 16,
   "id": "dcf723f4-ec66-4858-89ac-098050470fe0",
   "metadata": {},
   "outputs": [
    {
     "data": {
      "text/plain": [
       "Text(95.5815972222222, 0.5, 'Actual')"
      ]
     },
     "execution_count": 16,
     "metadata": {},
     "output_type": "execute_result"
    },
    {
     "data": {
      "image/png": "[encoded data removed]",
      "text/plain": [
       "<Figure size 1000x1000 with 1 Axes>"
      ]
     },
     "metadata": {},
     "output_type": "display_data"
    }
   ],
   "source": [
    "# labels = [\"field_goal\", \"no_play\", \"pass\", \"punt\", \"run\"]\n",
    "_ = plt.figure(figsize=(10, 10))\n",
    "ax = sns.heatmap(metrics.confusionMatrix().toArray(),\n",
    "            cmap='viridis',\n",
    "            annot=True,fmt='0',\n",
    "            cbar=False, \n",
    "            xticklabels=labels,\n",
    "            yticklabels=labels)\n",
    "\n",
    "plt.title('Confusion Matrix', fontsize = 20) # title with fontsize 20\n",
    "plt.xlabel('Predicted', fontsize = 15) # x-axis label with fontsize 15\n",
    "plt.ylabel('Actual', fontsize = 15) # y-axis label with fontsize 15"
   ]
  },
  {
   "cell_type": "markdown",
   "id": "7866da5a-0f72-4ee7-baf3-6233698931c3",
   "metadata": {},
   "source": [
    "### Conclusions"
   ]
  },
  {
   "cell_type": "markdown",
   "id": "6e28d1a6-06c7-4524-a4d4-f5fb9f8c2e48",
   "metadata": {},
   "source": [
    "Some quick observations:\n",
    "\n",
    "* Much better performance when we don't undersample, could be because everything is a punt\n",
    "* We need to be careful with the labels for the confusion matrix. They were not intially lining up properly with what the idxs are.\n",
    "* I added temp, wind, roof, surface to the predictors"
   ]
  }
 ],
 "metadata": {
  "kernelspec": {
   "display_name": "DS7200 Spark 3.3",
   "language": "python",
   "name": "ds5110_spark3.3"
  },
  "language_info": {
   "codemirror_mode": {
    "name": "ipython",
    "version": 3
   },
   "file_extension": ".py",
   "mimetype": "text/x-python",
   "name": "python",
   "nbconvert_exporter": "python",
   "pygments_lexer": "ipython3",
   "version": "3.7.12"
  }
 },
 "nbformat": 4,
 "nbformat_minor": 5
}
