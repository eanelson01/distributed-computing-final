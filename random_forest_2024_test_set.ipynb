{
 "cells": [
  {
   "cell_type": "markdown",
   "id": "dc445894-a5bd-4768-8672-bcebea5aebfa",
   "metadata": {},
   "source": [
    "### Creating Model 1\n",
    "\n",
    "* Creating a 1st model for the NFL Play data. The goal is to predict the play type on 4th down.\n",
    "* Random Forest and gradient boosted trees are the other models"
   ]
  },
  {
   "cell_type": "code",
   "execution_count": 1,
   "id": "6e1acab1-8e72-4add-9c2c-1798b8967ec2",
   "metadata": {},
   "outputs": [
    {
     "ename": "SyntaxError",
     "evalue": "invalid syntax (_metadata_requests.py, line 1512)",
     "output_type": "error",
     "traceback": [
      "Traceback \u001b[0;36m(most recent call last)\u001b[0m:\n",
      "  File \u001b[1;32m\"/opt/conda/lib/python3.7/site-packages/IPython/core/interactiveshell.py\"\u001b[0m, line \u001b[1;32m3552\u001b[0m, in \u001b[1;35mrun_code\u001b[0m\n    exec(code_obj, self.user_global_ns, self.user_ns)\n",
      "  File \u001b[1;32m\"/tmp/ipykernel_953198/1282923934.py\"\u001b[0m, line \u001b[1;32m8\u001b[0m, in \u001b[1;35m<module>\u001b[0m\n    from imblearn.under_sampling import RandomUnderSampler\n",
      "  File \u001b[1;32m\"/home/dnh9rs/.local/lib/python3.7/site-packages/imblearn/__init__.py\"\u001b[0m, line \u001b[1;32m52\u001b[0m, in \u001b[1;35m<module>\u001b[0m\n    from . import (\n",
      "  File \u001b[1;32m\"/home/dnh9rs/.local/lib/python3.7/site-packages/imblearn/ensemble/__init__.py\"\u001b[0m, line \u001b[1;32m6\u001b[0m, in \u001b[1;35m<module>\u001b[0m\n    from ._bagging import BalancedBaggingClassifier\n",
      "  File \u001b[1;32m\"/home/dnh9rs/.local/lib/python3.7/site-packages/imblearn/ensemble/_bagging.py\"\u001b[0m, line \u001b[1;32m30\u001b[0m, in \u001b[1;35m<module>\u001b[0m\n    from ..pipeline import Pipeline\n",
      "\u001b[0;36m  File \u001b[0;32m\"/home/dnh9rs/.local/lib/python3.7/site-packages/imblearn/pipeline.py\"\u001b[0;36m, line \u001b[0;32m24\u001b[0;36m, in \u001b[0;35m<module>\u001b[0;36m\u001b[0m\n\u001b[0;31m    from .utils._metadata_requests import (\u001b[0m\n",
      "\u001b[0;36m  File \u001b[0;32m\"/home/dnh9rs/.local/lib/python3.7/site-packages/imblearn/utils/_metadata_requests.py\"\u001b[0;36m, line \u001b[0;32m1512\u001b[0m\n\u001b[0;31m    def process_routing(_obj, _method, /, **kwargs):\u001b[0m\n\u001b[0m                                       ^\u001b[0m\n\u001b[0;31mSyntaxError\u001b[0m\u001b[0;31m:\u001b[0m invalid syntax\n"
     ]
    }
   ],
   "source": [
    "from pyspark.ml import Pipeline  \n",
    "from pyspark.ml.feature import *  \n",
    "from pyspark.ml.classification import RandomForestClassifier\n",
    "import nfl_data_py as nfl\n",
    "import numpy as np\n",
    "from pyspark.sql import SparkSession\n",
    "from pyspark.sql.functions import col\n",
    "from imblearn.under_sampling import RandomUnderSampler\n",
    "from imblearn.over_sampling import SMOTENC\n",
    "import pandas as pd\n",
    "from imblearn.combine import SMOTEENN\n",
    "from DataPipelineFxn import *\n",
    "from pyspark.ml.evaluation import MulticlassClassificationEvaluator\n",
    "from pyspark.ml.tuning import TrainValidationSplit, ParamGridBuilder\n",
    "import seaborn as sns\n",
    "import matplotlib.pyplot as plt\n",
    "from pyspark.sql import functions as F"
   ]
  },
  {
   "cell_type": "code",
   "execution_count": 3,
   "id": "c28b6116-fab9-4cfd-be1c-8000d1a6292b",
   "metadata": {},
   "outputs": [
    {
     "name": "stdout",
     "output_type": "stream",
     "text": [
      "2000 done.\n",
      "2001 done.\n",
      "2002 done.\n",
      "2003 done.\n",
      "2004 done.\n",
      "2005 done.\n",
      "2006 done.\n",
      "2007 done.\n",
      "2008 done.\n",
      "2009 done.\n",
      "2010 done.\n",
      "2011 done.\n",
      "2012 done.\n",
      "2013 done.\n",
      "2014 done.\n",
      "2015 done.\n",
      "2016 done.\n",
      "2017 done.\n",
      "2018 done.\n",
      "2019 done.\n",
      "2020 done.\n",
      "2021 done.\n",
      "2022 done.\n"
     ]
    },
    {
     "name": "stderr",
     "output_type": "stream",
     "text": [
      "/opt/conda/lib/python3.7/site-packages/pyspark/bin/load-spark-env.sh: line 68: ps: command not found\n",
      "Setting default log level to \"WARN\".\n",
      "To adjust logging level use sc.setLogLevel(newLevel). For SparkR, use setLogLevel(newLevel).\n"
     ]
    },
    {
     "name": "stdout",
     "output_type": "stream",
     "text": [
      "24/12/04 13:37:34 WARN NativeCodeLoader: Unable to load native-hadoop library for your platform... using builtin-java classes where applicable\n",
      "24/12/04 13:37:54 WARN package: Truncated the string representation of a plan since it was too large. This behavior can be adjusted by setting 'spark.sql.debug.maxToStringFields'.\n",
      "24/12/04 13:37:55 WARN TaskSetManager: Stage 0 contains a task of very large size (9052 KiB). The maximum recommended task size is 1000 KiB.\n"
     ]
    },
    {
     "name": "stderr",
     "output_type": "stream",
     "text": [
      "                                                                                \r"
     ]
    },
    {
     "name": "stdout",
     "output_type": "stream",
     "text": [
      "24/12/04 13:37:57 WARN TaskSetManager: Stage 3 contains a task of very large size (9052 KiB). The maximum recommended task size is 1000 KiB.\n"
     ]
    },
    {
     "name": "stderr",
     "output_type": "stream",
     "text": [
      "                                                                                \r"
     ]
    },
    {
     "name": "stdout",
     "output_type": "stream",
     "text": [
      "24/12/04 13:38:04 WARN TaskSetManager: Stage 4 contains a task of very large size (3171 KiB). The maximum recommended task size is 1000 KiB.\n"
     ]
    },
    {
     "name": "stderr",
     "output_type": "stream",
     "text": [
      "                                                                                \r"
     ]
    },
    {
     "name": "stdout",
     "output_type": "stream",
     "text": [
      "24/12/04 13:38:08 WARN TaskSetManager: Stage 5 contains a task of very large size (1930 KiB). The maximum recommended task size is 1000 KiB.\n"
     ]
    }
   ],
   "source": [
    "# get the spark session and data frame\n",
    "data = GetSparkDF(end_year = 2023, include_undersample = True)"
   ]
  },
  {
   "cell_type": "code",
   "execution_count": 4,
   "id": "6508ca52-3eac-43ee-a3a2-88b6b20a7504",
   "metadata": {
    "tags": []
   },
   "outputs": [],
   "source": [
    "spark, df, test_df, undersample_df = data"
   ]
  },
  {
   "cell_type": "code",
   "execution_count": 5,
   "id": "7e467db9-5f3a-4cb7-adb5-3608572e00a9",
   "metadata": {
    "tags": []
   },
   "outputs": [
    {
     "name": "stdout",
     "output_type": "stream",
     "text": [
      "2023 done.\n"
     ]
    }
   ],
   "source": [
    "# get 2023 season data that was withheld to use as another test set\n",
    "test_df_2023 = get_2023_season_test_df()"
   ]
  },
  {
   "cell_type": "code",
   "execution_count": 6,
   "id": "2bec928d-c1ef-4734-8868-690fd7bc97dc",
   "metadata": {
    "tags": []
   },
   "outputs": [],
   "source": [
    "df = df.drop('season')\n",
    "test_df_2023 = test_df_2023.drop('season')"
   ]
  },
  {
   "cell_type": "markdown",
   "id": "ec922502-28fe-4bef-ba7c-ea4a25146b98",
   "metadata": {},
   "source": [
    "### Create numeric columns list for the pipeline"
   ]
  },
  {
   "cell_type": "code",
   "execution_count": 7,
   "id": "dd7a517b-64f7-4123-a57c-36aa131d6680",
   "metadata": {
    "tags": []
   },
   "outputs": [],
   "source": [
    "numeric_cols = []\n",
    "for field in df.schema.fields:\n",
    "    if str(field.dataType) != \"StringType()\":\n",
    "        numeric_cols.append(field.name)\n",
    "        \n",
    "#numeric_cols.remove(\"season\")\n",
    "numeric_cols.remove(\"week\")"
   ]
  },
  {
   "cell_type": "code",
   "execution_count": 6,
   "id": "c8d837ef-03d7-4091-a6ea-223e42d352e4",
   "metadata": {
    "tags": []
   },
   "outputs": [
    {
     "name": "stdout",
     "output_type": "stream",
     "text": [
      "['yardline_100', 'quarter_seconds_remaining', 'half_seconds_remaining', 'game_seconds_remaining', 'down', 'drive', 'qtr', 'ydstogo', 'posteam_timeouts_remaining', 'defteam_timeouts_remaining', 'posteam_score', 'defteam_score', 'score_differential', 'ep', 'epa', 'wind', 'temp']\n"
     ]
    }
   ],
   "source": [
    "print(numeric_cols)"
   ]
  },
  {
   "cell_type": "markdown",
   "id": "8968cfd5-3a1e-4df9-a459-a18f88dfebb4",
   "metadata": {},
   "source": [
    "### Create the Model Pipeline"
   ]
  },
  {
   "cell_type": "code",
   "execution_count": 8,
   "id": "eee0fd6a-0322-4cb1-ba56-ab40c1f574de",
   "metadata": {},
   "outputs": [],
   "source": [
    "spark.sparkContext.setLogLevel(\"ERROR\")\n",
    "str_col = [\"home_team\", \"away_team\", \"season_type\", \"posteam\", \"posteam_type\", \"defteam\", \"side_of_field\", \"game_half\", \"week\",\n",
    "        \"play_type\", 'roof', 'surface']\n",
    "str_col_output = [\"home_team_idx\", \"away_team_idx\", \"season_type_idx\", \"posteam_idx\", \"posteam_type_idx\", \"defteam_idx\", \"week_idx\",\n",
    "                  \"side_of_field_idx\", \"game_half_idx\", \"play_type_idx\", 'roof_idx', 'surface_idx']\n",
    "ohe_col_input = [\"home_team_idx\", \"away_team_idx\", \"season_type_idx\", \"posteam_idx\", \"posteam_type_idx\", \"defteam_idx\", \"week_idx\",\n",
    "                  \"side_of_field_idx\", \"game_half_idx\", 'roof_idx', 'surface_idx']\n",
    "ohe_col_vec = [\"home_team_vec\", \"away_team_vec\", \"season_type_vec\", \"posteam_vec\", \"posteam_type_vec\", \"defteam_vec\", \"week_vec\",\n",
    "                  \"side_of_field_vec\", \"game_half_ivec\", 'roof_vec', 'surface_vec']\n",
    "\n",
    "# Combine numeric and one-hot encoded columns\n",
    "va_input_cols = numeric_cols + ohe_col_vec\n",
    "\n",
    "# process using string indexer first for catgeorical features  \n",
    "stringIndexer = StringIndexer(inputCols=str_col, outputCols=str_col_output)\n",
    "\n",
    "# process rating data into second feature\n",
    "ohe = OneHotEncoder(inputCols=ohe_col_input, outputCols=ohe_col_vec) \n",
    "\n",
    "\n",
    "# Assemble features column\n",
    "va = VectorAssembler(inputCols=va_input_cols, outputCol=\"features\", handleInvalid = \"skip\")\n",
    "\n",
    "# process data using maxabs scaler, not necessarily important for trees but consistency\n",
    "scaler = MaxAbsScaler(inputCol=\"features\", outputCol=\"scaledFeatures\")\n",
    "\n",
    "# define the model\n",
    "\n",
    "#spark.conf.set(\"spark.speculation\", \"false\")\n",
    "# Use Random Forest Classifier\n",
    "rf = RandomForestClassifier(labelCol='play_type_idx', \n",
    "                             featuresCol='scaledFeatures', \n",
    "                             seed=42)\n",
    "\n",
    "\n",
    "# Fit the pipeline\n",
    "pipeline = Pipeline(stages=[stringIndexer, ohe, va, scaler, rf])"
   ]
  },
  {
   "cell_type": "code",
   "execution_count": 9,
   "id": "23916e45-b255-4d3d-81a7-6ea8711d2e01",
   "metadata": {},
   "outputs": [],
   "source": [
    "\n",
    "# Set up hyperparameter tuning\n",
    "paramGrid = ParamGridBuilder()\\\n",
    "    .addGrid(rf.numTrees, [10, 50, 100])\\\n",
    "    .addGrid(rf.maxDepth, [5, 10, 15])\\\n",
    "    .addGrid(rf.impurity, [\"gini\", \"entropy\"])\\\n",
    "    .build()\n",
    "\n",
    "\n",
    "# build the evaluator\n",
    "evaluator = MulticlassClassificationEvaluator(\n",
    "    predictionCol=\"prediction\",\n",
    "    labelCol=\"play_type_idx\",\n",
    "    metricName=\"accuracy\"\n",
    ")\n",
    "\n",
    "# set up the train validation split\n",
    "tvs = TrainValidationSplit(\n",
    "    estimator=pipeline,\n",
    "    evaluator=evaluator,\n",
    "    estimatorParamMaps=paramGrid,\n",
    "    # 80% of the data will be used for training, 20% for validation.\n",
    "    trainRatio=0.8\n",
    ")"
   ]
  },
  {
   "cell_type": "code",
   "execution_count": 9,
   "id": "1a924059-9309-4b93-b118-caa25f5c0360",
   "metadata": {},
   "outputs": [
    {
     "name": "stdout",
     "output_type": "stream",
     "text": [
      "+--------+\n",
      "|    roof|\n",
      "+--------+\n",
      "|outdoors|\n",
      "|  closed|\n",
      "|    open|\n",
      "|    dome|\n",
      "+--------+\n",
      "\n"
     ]
    }
   ],
   "source": [
    "df.select(df.roof).distinct().show()"
   ]
  },
  {
   "cell_type": "code",
   "execution_count": 10,
   "id": "99dff5e2-13eb-48ba-bd30-8d7095cf5251",
   "metadata": {
    "scrolled": true
   },
   "outputs": [
    {
     "name": "stderr",
     "output_type": "stream",
     "text": [
      "                                                                                \r"
     ]
    }
   ],
   "source": [
    "# need to replace the empty string in surface\n",
    "df = df.withColumn(\n",
    "    'surface',\n",
    "    F.when(df.surface == '', 'Undefined').otherwise(df.surface)\n",
    ")\n",
    "\n",
    "# fit the model with the hyperparameter search\n",
    "rf_model = tvs.fit(df)"
   ]
  },
  {
   "cell_type": "markdown",
   "id": "1fa9c326-f0aa-4c4e-8602-e0afd32af9bc",
   "metadata": {},
   "source": [
    "### Evaluate the Model"
   ]
  },
  {
   "cell_type": "code",
   "execution_count": 11,
   "id": "379fa92e-0041-48d1-bb80-ba5012951bbd",
   "metadata": {},
   "outputs": [
    {
     "name": "stdout",
     "output_type": "stream",
     "text": [
      "Tuned Parameters of the Best Model:\n",
      "bootstrap: True\n",
      "cacheNodeIds: False\n",
      "checkpointInterval: 10\n",
      "featureSubsetStrategy: auto\n",
      "featuresCol: scaledFeatures\n",
      "impurity: entropy\n",
      "labelCol: play_type_idx\n",
      "leafCol: \n",
      "maxBins: 32\n",
      "maxDepth: 15\n",
      "maxMemoryInMB: 256\n",
      "minInfoGain: 0.0\n",
      "minInstancesPerNode: 1\n",
      "minWeightFractionPerNode: 0.0\n",
      "numTrees: 100\n",
      "predictionCol: prediction\n",
      "probabilityCol: probability\n",
      "rawPredictionCol: rawPrediction\n",
      "seed: 42\n",
      "subsamplingRate: 1.0\n"
     ]
    }
   ],
   "source": [
    "best_model = rf_model.bestModel\n",
    "\n",
    "# Extract the parameter map of the best model\n",
    "best_params = best_model.stages[-1].extractParamMap()\n",
    "\n",
    "# Print the parameters values\n",
    "print(\"Tuned Parameters of the Best Model:\")\n",
    "for param, value in best_params.items():\n",
    "    print(f\"{param.name}: {value}\")"
   ]
  },
  {
   "cell_type": "code",
   "execution_count": 12,
   "id": "b35437ee-aa32-456f-b6cb-c4f3925686d7",
   "metadata": {},
   "outputs": [],
   "source": [
    "# have to change test df instance\n",
    "test_df = test_df.withColumn(\n",
    "    'surface',\n",
    "    F.when(test_df.surface == '', 'Undefined').otherwise(test_df.surface)\n",
    ")\n",
    "\n",
    "test_df_2023 = test_df_2023.withColumn(\n",
    "    'surface',\n",
    "    F.when(test_df_2023.surface == '', 'Undefined').otherwise(test_df_2023.surface)\n",
    ")\n",
    "\n",
    "prediction = best_model.transform(test_df)\n",
    "prediction2 = best_model.transform(test_df_2023)"
   ]
  },
  {
   "cell_type": "code",
   "execution_count": 14,
   "id": "61a5704d-1217-48e5-9c9f-75178f0a6220",
   "metadata": {},
   "outputs": [
    {
     "name": "stderr",
     "output_type": "stream",
     "text": [
      "[Stage 680:>                                                        (0 + 2) / 2]\r"
     ]
    },
    {
     "name": "stdout",
     "output_type": "stream",
     "text": [
      "\n",
      "F1: 0.803098088684291\n",
      "Accuracy: 0.8396188963874553\n",
      "Precision by Label: 0.8561643835616438\n",
      "Weighted Precision: 0.7845669538481281\n",
      "Weighted Recall: 0.8396188963874553\n",
      "\n"
     ]
    },
    {
     "name": "stderr",
     "output_type": "stream",
     "text": [
      "                                                                                \r"
     ]
    }
   ],
   "source": [
    "f1_evaluator = MulticlassClassificationEvaluator(\n",
    "    labelCol='play_type_idx', predictionCol=\"prediction\",\n",
    "    metricName='f1'\n",
    ")\n",
    "\n",
    "accuracy_evaluator = MulticlassClassificationEvaluator(\n",
    "    labelCol='play_type_idx', predictionCol=\"prediction\",\n",
    "    metricName='accuracy'\n",
    ")\n",
    "\n",
    "precision_by_label_eval = MulticlassClassificationEvaluator(\n",
    "    labelCol='play_type_idx', predictionCol=\"prediction\",\n",
    "    metricName='precisionByLabel'\n",
    ")\n",
    "\n",
    "weighted_precision_eval = MulticlassClassificationEvaluator(\n",
    "    labelCol='play_type_idx', predictionCol=\"prediction\",\n",
    "    metricName='weightedPrecision'\n",
    ")\n",
    "\n",
    "\n",
    "weighted_recall_eval = MulticlassClassificationEvaluator(\n",
    "    labelCol='play_type_idx', predictionCol=\"prediction\",\n",
    "    metricName='weightedRecall'\n",
    ")\n",
    "\n",
    "f1_score = f1_evaluator.evaluate(prediction2)\n",
    "accuracy = accuracy_evaluator.evaluate(prediction2)\n",
    "precision_by_label = precision_by_label_eval.evaluate(prediction2)\n",
    "precision = weighted_precision_eval.evaluate(prediction2)\n",
    "recall = weighted_recall_eval.evaluate(prediction2)\n",
    "\n",
    "results = f'''\n",
    "F1: {f1_score}\n",
    "Accuracy: {accuracy}\n",
    "Precision by Label: {precision_by_label}\n",
    "Weighted Precision: {precision}\n",
    "Weighted Recall: {recall}\n",
    "'''\n",
    "\n",
    "print(results)"
   ]
  },
  {
   "cell_type": "code",
   "execution_count": 55,
   "id": "373d502c-6f99-40a5-8c04-13dd353c9cc0",
   "metadata": {},
   "outputs": [
    {
     "name": "stderr",
     "output_type": "stream",
     "text": [
      "                                                                                \r"
     ]
    }
   ],
   "source": [
    "from pyspark.sql.functions import round\n",
    "prediction.select([prediction.home_team, prediction.posteam, prediction.defteam, prediction.posteam_score, prediction.defteam_score, prediction.yardline_100, prediction.side_of_field, prediction.ydstogo, \\\n",
    "                   round(prediction.quarter_seconds_remaining/60,2).alias(\"quarter min remaining\"), prediction.qtr,prediction.play_type_idx, prediction.play_type, prediction.season ,prediction.prediction]) \\\n",
    "    .where((prediction.posteam==\"BAL\") & (prediction.season=='2023')).toPandas().to_csv('mycsv.csv')"
   ]
  },
  {
   "cell_type": "code",
   "execution_count": 18,
   "id": "e2f704e2-c211-4456-8721-6648c5e8b752",
   "metadata": {
    "tags": []
   },
   "outputs": [
    {
     "name": "stderr",
     "output_type": "stream",
     "text": [
      "[Stage 685:>                                                        (0 + 1) / 1]\r"
     ]
    },
    {
     "name": "stdout",
     "output_type": "stream",
     "text": [
      "+---------+-------+-------+-------------+-------------+------------+-------------+-------+---------------------+---+-------------+----------+----------+\n",
      "|home_team|posteam|defteam|posteam_score|defteam_score|yardline_100|side_of_field|ydstogo|quarter min remaining|qtr|play_type_idx| play_type|prediction|\n",
      "+---------+-------+-------+-------------+-------------+------------+-------------+-------+---------------------+---+-------------+----------+----------+\n",
      "|      BAL|    BAL|    IND|         19.0|         19.0|        43.0|          IND|    2.0|                  0.1|4.0|          1.0|field_goal|       2.0|\n",
      "|      BAL|    BAL|    IND|         19.0|         19.0|        47.0|          IND|    3.0|                 3.42|5.0|          2.0|      pass|       0.0|\n",
      "|      CLE|    BAL|    CLE|         28.0|          3.0|        63.0|          BAL|    8.0|                 2.37|4.0|          4.0|   no_play|       0.0|\n",
      "|      PIT|    BAL|    PIT|         10.0|          3.0|        23.0|          PIT|    2.0|                 0.32|2.0|          2.0|      pass|       1.0|\n",
      "|      BAL|    BAL|    SEA|         20.0|          3.0|        52.0|          BAL|    1.0|                 9.45|3.0|          4.0|   no_play|       3.0|\n",
      "|      BAL|    BAL|    SEA|         20.0|          3.0|        38.0|          SEA|    2.0|                 7.42|3.0|          3.0|       run|       1.0|\n",
      "|      BAL|    BAL|    CLE|         17.0|          6.0|        41.0|          CLE|    7.0|                 4.63|2.0|          4.0|   no_play|       0.0|\n",
      "|      BAL|    BAL|    CLE|         17.0|          6.0|        36.0|          CLE|    2.0|                 4.63|2.0|          4.0|   no_play|       2.0|\n",
      "|      BAL|    BAL|    CLE|         17.0|          6.0|        37.0|          CLE|   16.0|                 2.45|2.0|          1.0|field_goal|       0.0|\n",
      "|      JAX|    BAL|    JAX|         10.0|          7.0|        38.0|          JAX|    7.0|                 4.37|3.0|          4.0|   no_play|       0.0|\n",
      "|      JAX|    BAL|    JAX|         23.0|          7.0|        30.0|          JAX|    3.0|                  0.5|4.0|          3.0|       run|       1.0|\n",
      "|       SF|    BAL|     SF|         30.0|         12.0|         1.0|           SF|    1.0|                 2.78|3.0|          4.0|   no_play|       1.0|\n",
      "|      BAL|    BAL|    MIA|         21.0|         13.0|        35.0|          MIA|    7.0|                 1.53|2.0|          2.0|      pass|       1.0|\n",
      "|      BAL|    BAL|    MIA|         35.0|         13.0|        55.0|          BAL|    2.0|                 6.17|3.0|          4.0|   no_play|       0.0|\n",
      "|      BAL|    BAL|    PIT|          0.0|          7.0|        53.0|          BAL|    7.0|                 7.78|2.0|          4.0|   no_play|       0.0|\n",
      "|      BAL|    BAL|    HOU|         31.0|         10.0|        26.0|          HOU|    3.0|                 4.12|4.0|          3.0|       run|       1.0|\n",
      "|      BAL|    BAL|     KC|          0.0|          7.0|        66.0|          BAL|    1.0|                 6.63|1.0|          3.0|       run|       0.0|\n",
      "|      BAL|    BAL|     KC|          7.0|         17.0|        82.0|          BAL|    3.0|                 8.78|4.0|          2.0|      pass|       0.0|\n",
      "+---------+-------+-------+-------------+-------------+------------+-------------+-------+---------------------+---+-------------+----------+----------+\n",
      "\n"
     ]
    },
    {
     "name": "stderr",
     "output_type": "stream",
     "text": [
      "                                                                                \r"
     ]
    }
   ],
   "source": [
    "from pyspark.sql.functions import round\n",
    "prediction2.select([prediction2.home_team, prediction2.posteam, prediction2.defteam, prediction2.posteam_score, prediction2.defteam_score, prediction2.yardline_100, prediction2.side_of_field, prediction2.ydstogo, \\\n",
    "                   round(prediction2.quarter_seconds_remaining/60,2).alias(\"quarter min remaining\"), prediction2.qtr,prediction2.play_type_idx, prediction2.play_type ,prediction2.prediction]) \\\n",
    "    .where((prediction2.posteam==\"BAL\")  & (prediction2.play_type_idx != prediction2.prediction)).show(20)"
   ]
  },
  {
   "cell_type": "code",
   "execution_count": null,
   "id": "93762d04-5930-4435-b6ea-89b4a7410b16",
   "metadata": {},
   "outputs": [],
   "source": [
    "prediction2.groupby(prediction2.prediction).count().show()"
   ]
  },
  {
   "cell_type": "code",
   "execution_count": 49,
   "id": "506e5d56-47eb-4c3e-bae5-66be36ae3963",
   "metadata": {
    "tags": []
   },
   "outputs": [
    {
     "name": "stderr",
     "output_type": "stream",
     "text": [
      "[Stage 931:============================>                            (1 + 1) / 2]\r"
     ]
    },
    {
     "name": "stdout",
     "output_type": "stream",
     "text": [
      "+----------+-------------+-----+\n",
      "| play_type|play_type_idx|count|\n",
      "+----------+-------------+-----+\n",
      "|      punt|          0.0|26153|\n",
      "|   no_play|          4.0| 1371|\n",
      "|field_goal|          1.0| 6343|\n",
      "|       run|          3.0| 1447|\n",
      "|      pass|          2.0| 2360|\n",
      "+----------+-------------+-----+\n",
      "\n"
     ]
    },
    {
     "name": "stderr",
     "output_type": "stream",
     "text": [
      "                                                                                \r"
     ]
    }
   ],
   "source": [
    "prediction2.select(prediction2.play_type, prediction2.play_type_idx).groupby([prediction2.play_type,prediction2.play_type_idx]).count().show()"
   ]
  },
  {
   "cell_type": "code",
   "execution_count": 46,
   "id": "21cd6c86-2b93-44f5-b611-f4dec6a3fba5",
   "metadata": {},
   "outputs": [
    {
     "name": "stderr",
     "output_type": "stream",
     "text": [
      "[Stage 889:============================>                            (1 + 1) / 2]\r"
     ]
    },
    {
     "name": "stdout",
     "output_type": "stream",
     "text": [
      "+-------------+-----+\n",
      "|play_type_idx|count|\n",
      "+-------------+-----+\n",
      "|          0.0|26153|\n",
      "|          1.0| 6343|\n",
      "|          4.0| 1371|\n",
      "|          3.0| 1447|\n",
      "|          2.0| 2360|\n",
      "+-------------+-----+\n",
      "\n"
     ]
    },
    {
     "name": "stderr",
     "output_type": "stream",
     "text": [
      "                                                                                \r"
     ]
    }
   ],
   "source": [
    "prediction.groupby(prediction.play_type_idx).count().show()"
   ]
  },
  {
   "cell_type": "code",
   "execution_count": 21,
   "id": "fdf18220-4093-4635-ab84-ddfd9284d579",
   "metadata": {},
   "outputs": [],
   "source": [
    "labels = prediction2.select([prediction2.play_type, prediction2.play_type_idx]).distinct().orderBy(prediction2.play_type_idx).select(prediction2.play_type).collect()\n",
    "labels = [x[0] for x in labels]"
   ]
  },
  {
   "cell_type": "code",
   "execution_count": null,
   "id": "e231c8d6-1f67-469b-a6f3-755d82f0ddad",
   "metadata": {},
   "outputs": [],
   "source": [
    "test_df.groupby(test_df.play_type).count().show()"
   ]
  },
  {
   "cell_type": "code",
   "execution_count": 15,
   "id": "23165c0a-c5b9-42c9-9786-fecd21c7df65",
   "metadata": {},
   "outputs": [
    {
     "name": "stdout",
     "output_type": "stream",
     "text": [
      "\n",
      "F1: 0.8846651793816552\n",
      "Accuracy: 0.9063810585549716\n",
      "Precision by Label: 0.9408236705317873\n",
      "Weighted Precision: 0.8885594820638866\n",
      "Weighted Recall: 0.9063810585549714\n",
      "\n"
     ]
    }
   ],
   "source": [
    "results = f'''\n",
    "F1: {f1_score}\n",
    "Accuracy: {accuracy}\n",
    "Precision by Label: {precision_by_label}\n",
    "Weighted Precision: {precision}\n",
    "Weighted Recall: {recall}\n",
    "'''\n",
    "\n",
    "print(results)"
   ]
  },
  {
   "cell_type": "code",
   "execution_count": 19,
   "id": "9b00f9b4-0009-4294-9d5d-1ab0d2f1adbc",
   "metadata": {},
   "outputs": [
    {
     "name": "stderr",
     "output_type": "stream",
     "text": [
      "/opt/conda/lib/python3.7/site-packages/pyspark/sql/context.py:159: FutureWarning: Deprecated in 3.0.0. Use SparkSession.builder.getOrCreate() instead.\n",
      "  FutureWarning,\n",
      "[Stage 691:>                                                        (0 + 1) / 1]\r"
     ]
    },
    {
     "name": "stdout",
     "output_type": "stream",
     "text": [
      "[[1.375e+03 0.000e+00 1.000e+00 0.000e+00 0.000e+00]\n",
      " [2.100e+01 5.270e+02 7.000e+00 0.000e+00 0.000e+00]\n",
      " [6.600e+01 5.400e+01 1.310e+02 2.600e+01 0.000e+00]\n",
      " [4.600e+01 2.100e+01 1.800e+01 8.200e+01 0.000e+00]\n",
      " [9.800e+01 2.500e+01 1.200e+01 9.000e+00 0.000e+00]]\n"
     ]
    },
    {
     "name": "stderr",
     "output_type": "stream",
     "text": [
      "                                                                                \r"
     ]
    }
   ],
   "source": [
    "from pyspark.sql.types import FloatType\n",
    "from pyspark.mllib.evaluation import MulticlassMetrics\n",
    "\n",
    "#Adapting code from https://www.kaggle.com/code/ashokkumarpalivela/multiclass-classification-using-pyspark for confusion matrix\n",
    "preds_and_labels = prediction2.select(['prediction','play_type_idx'])\\\n",
    "                              .withColumn('play_type_idx', col('play_type_idx')\\\n",
    "                              .cast(FloatType()))\\\n",
    "                              .orderBy('play_type_idx')\n",
    "    \n",
    "metrics = MulticlassMetrics(preds_and_labels.rdd.map(tuple))\n",
    "\n",
    "print(metrics.confusionMatrix().toArray())"
   ]
  },
  {
   "cell_type": "code",
   "execution_count": 24,
   "id": "dcf723f4-ec66-4858-89ac-098050470fe0",
   "metadata": {},
   "outputs": [
    {
     "data": {
      "image/png": "[encoded data removed]",
      "text/plain": [
       "<Figure size 1000x1000 with 1 Axes>"
      ]
     },
     "metadata": {},
     "output_type": "display_data"
    }
   ],
   "source": [
    "_ = plt.figure(figsize=(10, 10))\n",
    "ax = sns.heatmap(metrics.confusionMatrix().toArray(),\n",
    "            cmap='viridis',\n",
    "            annot=True,fmt='0',\n",
    "            cbar=False, \n",
    "            xticklabels=labels,\n",
    "            yticklabels=labels)\n",
    "\n",
    "plt.title('Random Forest 2023 Season Test Set Confusion Matrix', fontsize = 20) # title with fontsize 20\n",
    "plt.xlabel('Predicted', fontsize = 15) # x-axis label with fontsize 15\n",
    "plt.ylabel('Actual', fontsize = 15) # y-axis label with fontsize 15\n",
    "plt.savefig('rf2023-normal-confusion-matrix.png')"
   ]
  },
  {
   "cell_type": "markdown",
   "id": "7866da5a-0f72-4ee7-baf3-6233698931c3",
   "metadata": {},
   "source": [
    "### Conclusions"
   ]
  },
  {
   "cell_type": "markdown",
   "id": "6e28d1a6-06c7-4524-a4d4-f5fb9f8c2e48",
   "metadata": {},
   "source": [
    "Some quick observations:\n",
    "\n",
    "* Much better performance when we don't undersample, could be because everything is a punt\n",
    "* We need to be careful with the labels for the confusion matrix. They were not intially lining up properly with what the idxs are.\n",
    "* I added temp, wind, roof, surface to the predictors"
   ]
  }
 ],
 "metadata": {
  "kernelspec": {
   "display_name": "DS7200 Spark 3.3",
   "language": "python",
   "name": "ds5110_spark3.3"
  },
  "language_info": {
   "codemirror_mode": {
    "name": "ipython",
    "version": 3
   },
   "file_extension": ".py",
   "mimetype": "text/x-python",
   "name": "python",
   "nbconvert_exporter": "python",
   "pygments_lexer": "ipython3",
   "version": "3.7.12"
  }
 },
 "nbformat": 4,
 "nbformat_minor": 5
}
