{
 "cells": [
  {
   "cell_type": "markdown",
   "id": "dc445894-a5bd-4768-8672-bcebea5aebfa",
   "metadata": {},
   "source": [
    "### Creating Model 3\n",
    "\n",
    "* Creating a 3rd model for the NFL Play data. The goal is to predict the play type on 4th down.\n",
    "* Logistic Regression & Random Forest have been completed, so the next step is gradient boosted trees."
   ]
  },
  {
   "cell_type": "code",
   "execution_count": 1,
   "id": "6e1acab1-8e72-4add-9c2c-1798b8967ec2",
   "metadata": {},
   "outputs": [],
   "source": [
    "from pyspark.ml import Pipeline  \n",
    "from pyspark.ml.feature import *  \n",
    "from pyspark.ml.classification import LogisticRegression\n",
    "import nfl_data_py as nfl\n",
    "import numpy as np\n",
    "from pyspark.sql import SparkSession\n",
    "from pyspark.sql.functions import col\n",
    "from imblearn.under_sampling import RandomUnderSampler\n",
    "from imblearn.over_sampling import SMOTENC\n",
    "import pandas as pd\n",
    "from imblearn.combine import SMOTEENN\n",
    "from DataPipelineFxn import *\n",
    "from pyspark.ml.evaluation import MulticlassClassificationEvaluator\n",
    "from pyspark.ml.tuning import TrainValidationSplit, ParamGridBuilder\n",
    "import seaborn as sns\n",
    "import matplotlib.pyplot as plt"
   ]
  },
  {
   "cell_type": "code",
   "execution_count": 2,
   "id": "c28b6116-fab9-4cfd-be1c-8000d1a6292b",
   "metadata": {},
   "outputs": [
    {
     "name": "stdout",
     "output_type": "stream",
     "text": [
      "2000 done.\n",
      "2001 done.\n",
      "2002 done.\n",
      "2003 done.\n",
      "2004 done.\n",
      "2005 done.\n",
      "2006 done.\n",
      "2007 done.\n",
      "2008 done.\n",
      "2009 done.\n",
      "2010 done.\n",
      "2011 done.\n",
      "2012 done.\n",
      "2013 done.\n",
      "2014 done.\n",
      "2015 done.\n",
      "2016 done.\n",
      "2017 done.\n",
      "2018 done.\n",
      "2019 done.\n",
      "2020 done.\n",
      "2021 done.\n",
      "2022 done.\n",
      "2023 done.\n"
     ]
    },
    {
     "name": "stderr",
     "output_type": "stream",
     "text": [
      "Setting default log level to \"WARN\".\n",
      "To adjust logging level use sc.setLogLevel(newLevel). For SparkR, use setLogLevel(newLevel).\n",
      "24/12/01 22:07:23 WARN NativeCodeLoader: Unable to load native-hadoop library for your platform... using builtin-java classes where applicable\n",
      "24/12/01 22:07:36 WARN package: Truncated the string representation of a plan since it was too large. This behavior can be adjusted by setting 'spark.sql.debug.maxToStringFields'.\n",
      "24/12/01 22:07:36 WARN TaskSetManager: Stage 0 contains a task of very large size (8310 KiB). The maximum recommended task size is 1000 KiB.\n",
      "24/12/01 22:07:42 WARN TaskSetManager: Stage 1 contains a task of very large size (2683 KiB). The maximum recommended task size is 1000 KiB.\n",
      "24/12/01 22:07:45 WARN TaskSetManager: Stage 2 contains a task of very large size (1631 KiB). The maximum recommended task size is 1000 KiB.\n"
     ]
    }
   ],
   "source": [
    "# get the spark session and data frame\n",
    "spark, df, test_df = GetSparkDF()"
   ]
  },
  {
   "cell_type": "markdown",
   "id": "8968cfd5-3a1e-4df9-a459-a18f88dfebb4",
   "metadata": {},
   "source": [
    "### Create the Model Pipeline"
   ]
  },
  {
   "cell_type": "code",
   "execution_count": 3,
   "id": "84eaa2e8-7fb1-478e-86eb-ee6fec29cc7f",
   "metadata": {},
   "outputs": [],
   "source": [
    "from pyspark.ml.classification import NaiveBayes"
   ]
  },
  {
   "cell_type": "code",
   "execution_count": 4,
   "id": "eee0fd6a-0322-4cb1-ba56-ab40c1f574de",
   "metadata": {},
   "outputs": [],
   "source": [
    "str_col = [\"home_team\", \"away_team\", \"season_type\", \"posteam\", \"posteam_type\", \"defteam\", \"side_of_field\", \"game_half\",\n",
    "            \"play_type\", \"season\"]\n",
    "str_col_output = [\"home_team_idx\", \"away_team_idx\", \"season_type_idx\", \"posteam_idx\", \"posteam_type_idx\", \"defteam_idx\",\n",
    "                  \"side_of_field_idx\", \"game_half_idx\", \"play_type_idx\", \"season_idx\"]\n",
    "ohe_col_input = [\"home_team_idx\", \"away_team_idx\", \"season_type_idx\", \"posteam_idx\", \"posteam_type_idx\", \"defteam_idx\",\n",
    "                  \"side_of_field_idx\", \"game_half_idx\", \"season_idx\"]\n",
    "ohe_col_vec = [\"home_team_vec\", \"away_team_vec\", \"season_type_vec\", \"posteam_vec\", \"posteam_type_vec\", \"defteam_vec\",\n",
    "                  \"side_of_field_vec\", \"game_half_ivec\", \"season_vec\"]\n",
    "\n",
    "\n",
    "# process using string indexer first for catgeorical features  \n",
    "stringIndexer = StringIndexer(inputCols=str_col, outputCols=str_col_output)\n",
    "\n",
    "# process rating data into second feature\n",
    "ohe = OneHotEncoder(inputCols=ohe_col_input, outputCols=ohe_col_vec) \n",
    "\n",
    "# Assemble features column\n",
    "va = VectorAssembler(inputCols=ohe_col_vec, outputCol=\"features\") \n",
    "\n",
    "# process data using maxabs scaler, not necessarily important for trees but consistency\n",
    "scaler = MaxAbsScaler(inputCol=\"features\", outputCol=\"scaledFeatures\")\n",
    "\n",
    "# define the model\n",
    "nb = NaiveBayes(\n",
    "    featuresCol = 'features', labelCol = 'play_type_idx'\n",
    ")\n",
    "\n",
    "# Fit the pipeline\n",
    "pipeline = Pipeline(stages=[stringIndexer, ohe, va, scaler, nb])"
   ]
  },
  {
   "cell_type": "code",
   "execution_count": 5,
   "id": "380ff962-cfa5-4fc8-b101-ad09982e61e6",
   "metadata": {},
   "outputs": [],
   "source": [
    "# help(gbt)"
   ]
  },
  {
   "cell_type": "code",
   "execution_count": 6,
   "id": "23916e45-b255-4d3d-81a7-6ea8711d2e01",
   "metadata": {},
   "outputs": [],
   "source": [
    "# hyperparameter search across max depth, bins, and iterations\n",
    "# paramGrid = ParamGridBuilder()\\\n",
    "#     .addGrid(gbt.maxDepth, np.arange(10, 100, step = 10)) \\\n",
    "#     .addGrid(gbt.maxIter, [20, 50, 100, 200])\\\n",
    "#     .addGrid(gbt.maxBins, np.arange(10, 100, step = 10))\\\n",
    "#     .build()\n",
    "\n",
    "paramGrid = ParamGridBuilder()\\\n",
    "    .addGrid(nb.smoothing, np.arange(0.05, 1, step = 0.05)) \\\n",
    "    .build()\n",
    "\n",
    "# build the evaluator\n",
    "evaluator = MulticlassClassificationEvaluator(\n",
    "    predictionCol=\"prediction\",\n",
    "    labelCol=\"play_type_idx\",\n",
    "    metricName=\"precisionByLabel\"\n",
    ")\n",
    "\n",
    "# set up the train validation split\n",
    "tvs = TrainValidationSplit(\n",
    "    estimator=pipeline,\n",
    "    evaluator=evaluator,\n",
    "    estimatorParamMaps=paramGrid,\n",
    "    # 80% of the data will be used for training, 20% for validation.\n",
    "    trainRatio=0.8\n",
    ")"
   ]
  },
  {
   "cell_type": "code",
   "execution_count": 7,
   "id": "99dff5e2-13eb-48ba-bd30-8d7095cf5251",
   "metadata": {
    "scrolled": true
   },
   "outputs": [
    {
     "name": "stderr",
     "output_type": "stream",
     "text": [
      "24/12/01 22:07:52 WARN TaskSetManager: Stage 3 contains a task of very large size (2062 KiB). The maximum recommended task size is 1000 KiB.\n",
      "24/12/01 22:07:54 WARN TaskSetManager: Stage 6 contains a task of very large size (2062 KiB). The maximum recommended task size is 1000 KiB.\n",
      "24/12/01 22:07:56 WARN TaskSetManager: Stage 9 contains a task of very large size (2062 KiB). The maximum recommended task size is 1000 KiB.\n",
      "24/12/01 22:07:57 WARN TaskSetManager: Stage 12 contains a task of very large size (2062 KiB). The maximum recommended task size is 1000 KiB.\n",
      "24/12/01 22:07:57 WARN InstanceBuilder: Failed to load implementation from:dev.ludovic.netlib.blas.JNIBLAS\n",
      "24/12/01 22:07:57 WARN TaskSetManager: Stage 14 contains a task of very large size (2062 KiB). The maximum recommended task size is 1000 KiB.\n",
      "24/12/01 22:07:58 WARN TaskSetManager: Stage 17 contains a task of very large size (2062 KiB). The maximum recommended task size is 1000 KiB.\n",
      "24/12/01 22:07:58 WARN TaskSetManager: Stage 20 contains a task of very large size (2062 KiB). The maximum recommended task size is 1000 KiB.\n",
      "24/12/01 22:07:59 WARN TaskSetManager: Stage 23 contains a task of very large size (2062 KiB). The maximum recommended task size is 1000 KiB.\n",
      "24/12/01 22:07:59 WARN TaskSetManager: Stage 25 contains a task of very large size (2062 KiB). The maximum recommended task size is 1000 KiB.\n",
      "24/12/01 22:08:00 WARN TaskSetManager: Stage 28 contains a task of very large size (2062 KiB). The maximum recommended task size is 1000 KiB.\n",
      "24/12/01 22:08:00 WARN TaskSetManager: Stage 31 contains a task of very large size (2062 KiB). The maximum recommended task size is 1000 KiB.\n",
      "24/12/01 22:08:01 WARN TaskSetManager: Stage 34 contains a task of very large size (2062 KiB). The maximum recommended task size is 1000 KiB.\n",
      "24/12/01 22:08:01 WARN TaskSetManager: Stage 36 contains a task of very large size (2062 KiB). The maximum recommended task size is 1000 KiB.\n",
      "24/12/01 22:08:01 WARN TaskSetManager: Stage 39 contains a task of very large size (2062 KiB). The maximum recommended task size is 1000 KiB.\n",
      "24/12/01 22:08:02 WARN TaskSetManager: Stage 42 contains a task of very large size (2062 KiB). The maximum recommended task size is 1000 KiB.\n",
      "24/12/01 22:08:02 WARN TaskSetManager: Stage 45 contains a task of very large size (2062 KiB). The maximum recommended task size is 1000 KiB.\n",
      "24/12/01 22:08:02 WARN TaskSetManager: Stage 47 contains a task of very large size (2062 KiB). The maximum recommended task size is 1000 KiB.\n",
      "24/12/01 22:08:03 WARN TaskSetManager: Stage 50 contains a task of very large size (2062 KiB). The maximum recommended task size is 1000 KiB.\n",
      "24/12/01 22:08:03 WARN TaskSetManager: Stage 53 contains a task of very large size (2062 KiB). The maximum recommended task size is 1000 KiB.\n",
      "24/12/01 22:08:04 WARN TaskSetManager: Stage 56 contains a task of very large size (2062 KiB). The maximum recommended task size is 1000 KiB.\n",
      "24/12/01 22:08:04 WARN TaskSetManager: Stage 58 contains a task of very large size (2062 KiB). The maximum recommended task size is 1000 KiB.\n",
      "24/12/01 22:08:04 WARN TaskSetManager: Stage 61 contains a task of very large size (2062 KiB). The maximum recommended task size is 1000 KiB.\n",
      "24/12/01 22:08:04 WARN TaskSetManager: Stage 64 contains a task of very large size (2062 KiB). The maximum recommended task size is 1000 KiB.\n",
      "24/12/01 22:08:05 WARN TaskSetManager: Stage 67 contains a task of very large size (2062 KiB). The maximum recommended task size is 1000 KiB.\n",
      "24/12/01 22:08:05 WARN TaskSetManager: Stage 69 contains a task of very large size (2062 KiB). The maximum recommended task size is 1000 KiB.\n",
      "24/12/01 22:08:05 WARN TaskSetManager: Stage 72 contains a task of very large size (2062 KiB). The maximum recommended task size is 1000 KiB.\n",
      "24/12/01 22:08:06 WARN TaskSetManager: Stage 75 contains a task of very large size (2062 KiB). The maximum recommended task size is 1000 KiB.\n",
      "24/12/01 22:08:06 WARN TaskSetManager: Stage 78 contains a task of very large size (2062 KiB). The maximum recommended task size is 1000 KiB.\n",
      "24/12/01 22:08:06 WARN TaskSetManager: Stage 80 contains a task of very large size (2062 KiB). The maximum recommended task size is 1000 KiB.\n",
      "24/12/01 22:08:06 WARN TaskSetManager: Stage 83 contains a task of very large size (2062 KiB). The maximum recommended task size is 1000 KiB.\n",
      "24/12/01 22:08:07 WARN TaskSetManager: Stage 86 contains a task of very large size (2062 KiB). The maximum recommended task size is 1000 KiB.\n",
      "24/12/01 22:08:07 WARN TaskSetManager: Stage 89 contains a task of very large size (2062 KiB). The maximum recommended task size is 1000 KiB.\n",
      "24/12/01 22:08:07 WARN TaskSetManager: Stage 91 contains a task of very large size (2062 KiB). The maximum recommended task size is 1000 KiB.\n",
      "24/12/01 22:08:08 WARN TaskSetManager: Stage 94 contains a task of very large size (2062 KiB). The maximum recommended task size is 1000 KiB.\n",
      "24/12/01 22:08:08 WARN TaskSetManager: Stage 97 contains a task of very large size (2062 KiB). The maximum recommended task size is 1000 KiB.\n",
      "24/12/01 22:08:08 WARN TaskSetManager: Stage 100 contains a task of very large size (2062 KiB). The maximum recommended task size is 1000 KiB.\n",
      "24/12/01 22:08:08 WARN TaskSetManager: Stage 102 contains a task of very large size (2062 KiB). The maximum recommended task size is 1000 KiB.\n",
      "24/12/01 22:08:09 WARN TaskSetManager: Stage 105 contains a task of very large size (2062 KiB). The maximum recommended task size is 1000 KiB.\n",
      "24/12/01 22:08:09 WARN TaskSetManager: Stage 108 contains a task of very large size (2062 KiB). The maximum recommended task size is 1000 KiB.\n",
      "24/12/01 22:08:09 WARN TaskSetManager: Stage 111 contains a task of very large size (2062 KiB). The maximum recommended task size is 1000 KiB.\n",
      "24/12/01 22:08:10 WARN TaskSetManager: Stage 113 contains a task of very large size (2062 KiB). The maximum recommended task size is 1000 KiB.\n",
      "24/12/01 22:08:10 WARN TaskSetManager: Stage 116 contains a task of very large size (2062 KiB). The maximum recommended task size is 1000 KiB.\n",
      "24/12/01 22:08:10 WARN TaskSetManager: Stage 119 contains a task of very large size (2062 KiB). The maximum recommended task size is 1000 KiB.\n",
      "24/12/01 22:08:10 WARN TaskSetManager: Stage 122 contains a task of very large size (2062 KiB). The maximum recommended task size is 1000 KiB.\n",
      "24/12/01 22:08:11 WARN TaskSetManager: Stage 124 contains a task of very large size (2062 KiB). The maximum recommended task size is 1000 KiB.\n",
      "24/12/01 22:08:11 WARN TaskSetManager: Stage 127 contains a task of very large size (2062 KiB). The maximum recommended task size is 1000 KiB.\n",
      "24/12/01 22:08:11 WARN TaskSetManager: Stage 130 contains a task of very large size (2062 KiB). The maximum recommended task size is 1000 KiB.\n",
      "24/12/01 22:08:12 WARN TaskSetManager: Stage 133 contains a task of very large size (2062 KiB). The maximum recommended task size is 1000 KiB.\n",
      "24/12/01 22:08:12 WARN TaskSetManager: Stage 135 contains a task of very large size (2062 KiB). The maximum recommended task size is 1000 KiB.\n",
      "24/12/01 22:08:12 WARN TaskSetManager: Stage 138 contains a task of very large size (2062 KiB). The maximum recommended task size is 1000 KiB.\n",
      "24/12/01 22:08:12 WARN TaskSetManager: Stage 141 contains a task of very large size (2062 KiB). The maximum recommended task size is 1000 KiB.\n",
      "24/12/01 22:08:13 WARN TaskSetManager: Stage 144 contains a task of very large size (2062 KiB). The maximum recommended task size is 1000 KiB.\n",
      "24/12/01 22:08:13 WARN TaskSetManager: Stage 146 contains a task of very large size (2062 KiB). The maximum recommended task size is 1000 KiB.\n",
      "24/12/01 22:08:13 WARN TaskSetManager: Stage 149 contains a task of very large size (2062 KiB). The maximum recommended task size is 1000 KiB.\n",
      "24/12/01 22:08:13 WARN TaskSetManager: Stage 152 contains a task of very large size (2062 KiB). The maximum recommended task size is 1000 KiB.\n",
      "24/12/01 22:08:14 WARN TaskSetManager: Stage 155 contains a task of very large size (2062 KiB). The maximum recommended task size is 1000 KiB.\n",
      "24/12/01 22:08:14 WARN TaskSetManager: Stage 157 contains a task of very large size (2062 KiB). The maximum recommended task size is 1000 KiB.\n",
      "24/12/01 22:08:14 WARN TaskSetManager: Stage 160 contains a task of very large size (2062 KiB). The maximum recommended task size is 1000 KiB.\n",
      "24/12/01 22:08:14 WARN TaskSetManager: Stage 163 contains a task of very large size (2062 KiB). The maximum recommended task size is 1000 KiB.\n",
      "24/12/01 22:08:15 WARN TaskSetManager: Stage 166 contains a task of very large size (2062 KiB). The maximum recommended task size is 1000 KiB.\n",
      "24/12/01 22:08:15 WARN TaskSetManager: Stage 168 contains a task of very large size (2062 KiB). The maximum recommended task size is 1000 KiB.\n",
      "24/12/01 22:08:15 WARN TaskSetManager: Stage 171 contains a task of very large size (2062 KiB). The maximum recommended task size is 1000 KiB.\n",
      "24/12/01 22:08:15 WARN TaskSetManager: Stage 174 contains a task of very large size (2062 KiB). The maximum recommended task size is 1000 KiB.\n",
      "24/12/01 22:08:16 WARN TaskSetManager: Stage 177 contains a task of very large size (2062 KiB). The maximum recommended task size is 1000 KiB.\n",
      "24/12/01 22:08:16 WARN TaskSetManager: Stage 179 contains a task of very large size (2062 KiB). The maximum recommended task size is 1000 KiB.\n",
      "24/12/01 22:08:16 WARN TaskSetManager: Stage 182 contains a task of very large size (2062 KiB). The maximum recommended task size is 1000 KiB.\n",
      "24/12/01 22:08:16 WARN TaskSetManager: Stage 185 contains a task of very large size (2062 KiB). The maximum recommended task size is 1000 KiB.\n",
      "24/12/01 22:08:16 WARN TaskSetManager: Stage 188 contains a task of very large size (2062 KiB). The maximum recommended task size is 1000 KiB.\n",
      "24/12/01 22:08:17 WARN TaskSetManager: Stage 190 contains a task of very large size (2062 KiB). The maximum recommended task size is 1000 KiB.\n",
      "24/12/01 22:08:17 WARN TaskSetManager: Stage 193 contains a task of very large size (2062 KiB). The maximum recommended task size is 1000 KiB.\n",
      "24/12/01 22:08:17 WARN TaskSetManager: Stage 196 contains a task of very large size (2062 KiB). The maximum recommended task size is 1000 KiB.\n",
      "24/12/01 22:08:17 WARN TaskSetManager: Stage 199 contains a task of very large size (2062 KiB). The maximum recommended task size is 1000 KiB.\n",
      "24/12/01 22:08:18 WARN TaskSetManager: Stage 201 contains a task of very large size (2062 KiB). The maximum recommended task size is 1000 KiB.\n",
      "24/12/01 22:08:18 WARN TaskSetManager: Stage 204 contains a task of very large size (2062 KiB). The maximum recommended task size is 1000 KiB.\n",
      "24/12/01 22:08:18 WARN TaskSetManager: Stage 207 contains a task of very large size (2062 KiB). The maximum recommended task size is 1000 KiB.\n",
      "24/12/01 22:08:19 WARN TaskSetManager: Stage 210 contains a task of very large size (2062 KiB). The maximum recommended task size is 1000 KiB.\n",
      "24/12/01 22:08:19 WARN TaskSetManager: Stage 212 contains a task of very large size (2062 KiB). The maximum recommended task size is 1000 KiB.\n",
      "24/12/01 22:08:19 WARN TaskSetManager: Stage 215 contains a task of very large size (2062 KiB). The maximum recommended task size is 1000 KiB.\n",
      "24/12/01 22:08:20 WARN TaskSetManager: Stage 218 contains a task of very large size (2062 KiB). The maximum recommended task size is 1000 KiB.\n"
     ]
    }
   ],
   "source": [
    "# fit the model with the hyperparameter search\n",
    "nb_model = tvs.fit(df)"
   ]
  },
  {
   "cell_type": "markdown",
   "id": "1fa9c326-f0aa-4c4e-8602-e0afd32af9bc",
   "metadata": {},
   "source": [
    "### Evaluate the Model"
   ]
  },
  {
   "cell_type": "code",
   "execution_count": 8,
   "id": "379fa92e-0041-48d1-bb80-ba5012951bbd",
   "metadata": {},
   "outputs": [
    {
     "name": "stdout",
     "output_type": "stream",
     "text": [
      "Tuned Parameters of the Best Model:\n",
      "featuresCol: features\n",
      "labelCol: play_type_idx\n",
      "modelType: multinomial\n",
      "predictionCol: prediction\n",
      "probabilityCol: probability\n",
      "rawPredictionCol: rawPrediction\n",
      "smoothing: 0.5\n"
     ]
    }
   ],
   "source": [
    "best_model = nb_model.bestModel\n",
    "\n",
    "# Extract the parameter map of the best model\n",
    "best_params = best_model.stages[-1].extractParamMap()\n",
    "\n",
    "# Print the parameters values\n",
    "print(\"Tuned Parameters of the Best Model:\")\n",
    "for param, value in best_params.items():\n",
    "    print(f\"{param.name}: {value}\")"
   ]
  },
  {
   "cell_type": "code",
   "execution_count": 9,
   "id": "d30423ef-aca5-405f-8792-bda2cb7c7462",
   "metadata": {},
   "outputs": [],
   "source": [
    "# get prediction on test data\n",
    "prediction = best_model.transform(test_df)"
   ]
  },
  {
   "cell_type": "code",
   "execution_count": 10,
   "id": "9b00f9b4-0009-4294-9d5d-1ab0d2f1adbc",
   "metadata": {},
   "outputs": [
    {
     "name": "stderr",
     "output_type": "stream",
     "text": [
      "24/12/01 22:08:21 WARN TaskSetManager: Stage 221 contains a task of very large size (8310 KiB). The maximum recommended task size is 1000 KiB.\n",
      "24/12/01 22:08:21 WARN TaskSetManager: Stage 222 contains a task of very large size (8310 KiB). The maximum recommended task size is 1000 KiB.\n",
      "/sfs/gpfs/tardis/home/ean8fr/distributed-computing-final/env/lib/python3.11/site-packages/pyspark/sql/context.py:157: FutureWarning: Deprecated in 3.0.0. Use SparkSession.builder.getOrCreate() instead.\n",
      "  warnings.warn(\n",
      "                                                                                \r"
     ]
    },
    {
     "name": "stdout",
     "output_type": "stream",
     "text": [
      "[[1592. 1527. 1936. 2346. 1530.]\n",
      " [ 294.  368.  547.  424.  312.]\n",
      " [ 306.  594. 1369.  453.  559.]\n",
      " [6325. 6578. 7987. 9238. 5362.]\n",
      " [ 314.  359.  572.  394.  360.]]\n"
     ]
    }
   ],
   "source": [
    "from pyspark.sql.types import FloatType\n",
    "from pyspark.mllib.evaluation import MulticlassMetrics\n",
    "\n",
    "#Adapting code from https://www.kaggle.com/code/ashokkumarpalivela/multiclass-classification-using-pyspark for confusion matrix\n",
    "preds_and_labels = prediction.select(['prediction','play_type_idx'])\\\n",
    "                              .withColumn('play_type_idx', col('play_type_idx')\\\n",
    "                              .cast(FloatType()))\\\n",
    "                              .orderBy('prediction')\n",
    "    \n",
    "metrics = MulticlassMetrics(preds_and_labels.rdd.map(tuple))\n",
    "\n",
    "print(metrics.confusionMatrix().toArray())"
   ]
  },
  {
   "cell_type": "code",
   "execution_count": 11,
   "id": "dcf723f4-ec66-4858-89ac-098050470fe0",
   "metadata": {},
   "outputs": [
    {
     "data": {
      "text/plain": [
       "Text(95.58159722222221, 0.5, 'Actual')"
      ]
     },
     "execution_count": 11,
     "metadata": {},
     "output_type": "execute_result"
    },
    {
     "data": {
      "image/png": "[encoded data removed]",
      "text/plain": [
       "<Figure size 1000x1000 with 1 Axes>"
      ]
     },
     "metadata": {},
     "output_type": "display_data"
    }
   ],
   "source": [
    "labels = [\"field_goal\", \"no_play\", \"pass\", \"punt\", \"run\"]\n",
    "_ = plt.figure(figsize=(10, 10))\n",
    "ax = sns.heatmap(metrics.confusionMatrix().toArray(),\n",
    "            cmap='viridis',\n",
    "            annot=True,fmt='0',\n",
    "            cbar=False, \n",
    "            xticklabels=labels,\n",
    "            yticklabels=labels)\n",
    "\n",
    "plt.title('Confusion Matrix', fontsize = 20) # title with fontsize 20\n",
    "plt.xlabel('Predicted', fontsize = 15) # x-axis label with fontsize 15\n",
    "plt.ylabel('Actual', fontsize = 15) # y-axis label with fontsize 15"
   ]
  },
  {
   "cell_type": "markdown",
   "id": "7866da5a-0f72-4ee7-baf3-6233698931c3",
   "metadata": {},
   "source": [
    "### Conclusions"
   ]
  },
  {
   "cell_type": "code",
   "execution_count": null,
   "id": "06274391-57a3-4a78-a443-ed800da78507",
   "metadata": {},
   "outputs": [],
   "source": []
  }
 ],
 "metadata": {
  "kernelspec": {
   "display_name": "distributed-computing",
   "language": "python",
   "name": "distributed-computing"
  },
  "language_info": {
   "codemirror_mode": {
    "name": "ipython",
    "version": 3
   },
   "file_extension": ".py",
   "mimetype": "text/x-python",
   "name": "python",
   "nbconvert_exporter": "python",
   "pygments_lexer": "ipython3",
   "version": "3.11.5"
  }
 },
 "nbformat": 4,
 "nbformat_minor": 5
}
