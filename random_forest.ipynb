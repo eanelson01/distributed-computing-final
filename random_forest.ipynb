{
 "cells": [
  {
   "cell_type": "markdown",
   "id": "dc445894-a5bd-4768-8672-bcebea5aebfa",
   "metadata": {},
   "source": [
    "### Creating Model 1\n",
    "\n",
    "* Creating a 1st model for the NFL Play data. The goal is to predict the play type on 4th down.\n",
    "* Random Forest and gradient boosted trees are the other models"
   ]
  },
  {
   "cell_type": "code",
   "execution_count": 2,
   "id": "6e1acab1-8e72-4add-9c2c-1798b8967ec2",
   "metadata": {},
   "outputs": [],
   "source": [
    "from pyspark.ml import Pipeline  \n",
    "from pyspark.ml.feature import *  \n",
    "from pyspark.ml.classification import RandomForestClassifier\n",
    "import nfl_data_py as nfl\n",
    "import numpy as np\n",
    "from pyspark.sql import SparkSession\n",
    "from pyspark.sql.functions import col\n",
    "from imblearn.under_sampling import RandomUnderSampler\n",
    "from imblearn.over_sampling import SMOTENC\n",
    "import pandas as pd\n",
    "from imblearn.combine import SMOTEENN\n",
    "from DataPipelineFxn import *\n",
    "from pyspark.ml.evaluation import MulticlassClassificationEvaluator\n",
    "from pyspark.ml.tuning import TrainValidationSplit, ParamGridBuilder\n",
    "import seaborn as sns\n",
    "import matplotlib.pyplot as plt\n",
    "from pyspark.sql import functions as F"
   ]
  },
  {
   "cell_type": "code",
   "execution_count": 3,
   "id": "c28b6116-fab9-4cfd-be1c-8000d1a6292b",
   "metadata": {},
   "outputs": [
    {
     "name": "stdout",
     "output_type": "stream",
     "text": [
      "2000 done.\n",
      "2001 done.\n",
      "2002 done.\n",
      "2003 done.\n",
      "2004 done.\n",
      "2005 done.\n",
      "2006 done.\n",
      "2007 done.\n",
      "2008 done.\n",
      "2009 done.\n",
      "2010 done.\n",
      "2011 done.\n",
      "2012 done.\n",
      "2013 done.\n",
      "2014 done.\n",
      "2015 done.\n",
      "2016 done.\n",
      "2017 done.\n",
      "2018 done.\n",
      "2019 done.\n",
      "2020 done.\n",
      "2021 done.\n",
      "2022 done.\n",
      "2023 done.\n"
     ]
    },
    {
     "name": "stderr",
     "output_type": "stream",
     "text": [
      "/opt/conda/lib/python3.7/site-packages/pyspark/bin/load-spark-env.sh: line 68: ps: command not found\n",
      "Setting default log level to \"WARN\".\n",
      "To adjust logging level use sc.setLogLevel(newLevel). For SparkR, use setLogLevel(newLevel).\n"
     ]
    },
    {
     "name": "stdout",
     "output_type": "stream",
     "text": [
      "24/12/04 01:05:31 WARN NativeCodeLoader: Unable to load native-hadoop library for your platform... using builtin-java classes where applicable\n",
      "24/12/04 01:05:32 WARN Utils: Service 'SparkUI' could not bind on port 4040. Attempting port 4041.\n",
      "24/12/04 01:05:50 WARN package: Truncated the string representation of a plan since it was too large. This behavior can be adjusted by setting 'spark.sql.debug.maxToStringFields'.\n",
      "24/12/04 01:05:51 WARN TaskSetManager: Stage 0 contains a task of very large size (6176 KiB). The maximum recommended task size is 1000 KiB.\n"
     ]
    },
    {
     "name": "stderr",
     "output_type": "stream",
     "text": [
      "                                                                                \r"
     ]
    },
    {
     "name": "stdout",
     "output_type": "stream",
     "text": [
      "24/12/04 01:05:53 WARN TaskSetManager: Stage 3 contains a task of very large size (6176 KiB). The maximum recommended task size is 1000 KiB.\n"
     ]
    },
    {
     "name": "stderr",
     "output_type": "stream",
     "text": [
      "                                                                                \r"
     ]
    },
    {
     "name": "stdout",
     "output_type": "stream",
     "text": [
      "24/12/04 01:05:59 WARN TaskSetManager: Stage 4 contains a task of very large size (2197 KiB). The maximum recommended task size is 1000 KiB.\n",
      "24/12/04 01:06:03 WARN TaskSetManager: Stage 5 contains a task of very large size (1216 KiB). The maximum recommended task size is 1000 KiB.\n"
     ]
    }
   ],
   "source": [
    "# get the spark session and data frame\n",
    "data = GetSparkDF(include_undersample = True)"
   ]
  },
  {
   "cell_type": "code",
   "execution_count": 4,
   "id": "6508ca52-3eac-43ee-a3a2-88b6b20a7504",
   "metadata": {
    "tags": []
   },
   "outputs": [],
   "source": [
    "spark, df, test_df, undersample_df = data"
   ]
  },
  {
   "cell_type": "markdown",
   "id": "ec922502-28fe-4bef-ba7c-ea4a25146b98",
   "metadata": {},
   "source": [
    "### Create numeric columns list for the pipeline"
   ]
  },
  {
   "cell_type": "code",
   "execution_count": 5,
   "id": "dd7a517b-64f7-4123-a57c-36aa131d6680",
   "metadata": {
    "tags": []
   },
   "outputs": [],
   "source": [
    "numeric_cols = []\n",
    "for field in df.schema.fields:\n",
    "    if str(field.dataType) != \"StringType()\":\n",
    "        numeric_cols.append(field.name)\n",
    "        \n",
    "numeric_cols.remove(\"season\")\n",
    "numeric_cols.remove(\"week\")"
   ]
  },
  {
   "cell_type": "code",
   "execution_count": 6,
   "id": "c8d837ef-03d7-4091-a6ea-223e42d352e4",
   "metadata": {
    "tags": []
   },
   "outputs": [
    {
     "name": "stdout",
     "output_type": "stream",
     "text": [
      "['yardline_100', 'quarter_seconds_remaining', 'half_seconds_remaining', 'game_seconds_remaining', 'down', 'drive', 'qtr', 'ydstogo', 'posteam_timeouts_remaining', 'defteam_timeouts_remaining', 'posteam_score', 'defteam_score', 'score_differential', 'ep', 'epa', 'wind', 'temp']\n"
     ]
    }
   ],
   "source": [
    "print(numeric_cols)"
   ]
  },
  {
   "cell_type": "markdown",
   "id": "8968cfd5-3a1e-4df9-a459-a18f88dfebb4",
   "metadata": {},
   "source": [
    "### Create the Model Pipeline"
   ]
  },
  {
   "cell_type": "code",
   "execution_count": 7,
   "id": "eee0fd6a-0322-4cb1-ba56-ab40c1f574de",
   "metadata": {},
   "outputs": [],
   "source": [
    "\n",
    "str_col = [\"home_team\", \"away_team\", \"season_type\", \"posteam\", \"posteam_type\", \"defteam\", \"side_of_field\", \"game_half\", \"week\",\n",
    "        \"play_type\", \"season\", 'roof', 'surface']\n",
    "str_col_output = [\"home_team_idx\", \"away_team_idx\", \"season_type_idx\", \"posteam_idx\", \"posteam_type_idx\", \"defteam_idx\", \"week_idx\",\n",
    "                  \"side_of_field_idx\", \"game_half_idx\", \"play_type_idx\", \"season_idx\", 'roof_idx', 'surface_idx']\n",
    "ohe_col_input = [\"home_team_idx\", \"away_team_idx\", \"season_type_idx\", \"posteam_idx\", \"posteam_type_idx\", \"defteam_idx\", \"week_idx\",\n",
    "                  \"side_of_field_idx\", \"game_half_idx\", \"season_idx\", 'roof_idx', 'surface_idx']\n",
    "ohe_col_vec = [\"home_team_vec\", \"away_team_vec\", \"season_type_vec\", \"posteam_vec\", \"posteam_type_vec\", \"defteam_vec\", \"week_vec\",\n",
    "                  \"side_of_field_vec\", \"game_half_ivec\", \"season_vec\", 'roof_vec', 'surface_vec']\n",
    "\n",
    "# Combine numeric and one-hot encoded columns\n",
    "va_input_cols = numeric_cols + ohe_col_vec\n",
    "\n",
    "# process using string indexer first for catgeorical features  \n",
    "stringIndexer = StringIndexer(inputCols=str_col, outputCols=str_col_output)\n",
    "\n",
    "# process rating data into second feature\n",
    "ohe = OneHotEncoder(inputCols=ohe_col_input, outputCols=ohe_col_vec) \n",
    "\n",
    "\n",
    "# Assemble features column\n",
    "va = VectorAssembler(inputCols=va_input_cols, outputCol=\"features\", handleInvalid = \"skip\")\n",
    "\n",
    "# process data using maxabs scaler, not necessarily important for trees but consistency\n",
    "scaler = MaxAbsScaler(inputCol=\"features\", outputCol=\"scaledFeatures\")\n",
    "\n",
    "# define the model\n",
    "\n",
    "#spark.conf.set(\"spark.speculation\", \"false\")\n",
    "# Use Random Forest Classifier\n",
    "rf = RandomForestClassifier(labelCol='play_type_idx', \n",
    "                             featuresCol='scaledFeatures', \n",
    "                             seed=42)\n",
    "\n",
    "\n",
    "# Fit the pipeline\n",
    "pipeline = Pipeline(stages=[stringIndexer, ohe, va, scaler, rf])"
   ]
  },
  {
   "cell_type": "code",
   "execution_count": 8,
   "id": "23916e45-b255-4d3d-81a7-6ea8711d2e01",
   "metadata": {},
   "outputs": [],
   "source": [
    "\n",
    "# Set up hyperparameter tuning\n",
    "paramGrid = ParamGridBuilder()\\\n",
    "    .addGrid(rf.numTrees, [10, 50, 100])\\\n",
    "    .addGrid(rf.maxDepth, [5, 10, 15])\\\n",
    "    .addGrid(rf.impurity, [\"gini\", \"entropy\"])\\\n",
    "    .build()\n",
    "\n",
    "\n",
    "# build the evaluator\n",
    "evaluator = MulticlassClassificationEvaluator(\n",
    "    predictionCol=\"prediction\",\n",
    "    labelCol=\"play_type_idx\",\n",
    "    metricName=\"accuracy\"\n",
    ")\n",
    "\n",
    "# set up the train validation split\n",
    "tvs = TrainValidationSplit(\n",
    "    estimator=pipeline,\n",
    "    evaluator=evaluator,\n",
    "    estimatorParamMaps=paramGrid,\n",
    "    # 80% of the data will be used for training, 20% for validation.\n",
    "    trainRatio=0.8\n",
    ")"
   ]
  },
  {
   "cell_type": "code",
   "execution_count": null,
   "id": "1a924059-9309-4b93-b118-caa25f5c0360",
   "metadata": {},
   "outputs": [],
   "source": [
    "df.select(df.roof).distinct().show()"
   ]
  },
  {
   "cell_type": "code",
   "execution_count": 9,
   "id": "99dff5e2-13eb-48ba-bd30-8d7095cf5251",
   "metadata": {
    "scrolled": true
   },
   "outputs": [
    {
     "name": "stdout",
     "output_type": "stream",
     "text": [
      "24/12/04 01:06:52 WARN TaskSetManager: Stage 6 contains a task of very large size (6176 KiB). The maximum recommended task size is 1000 KiB.\n"
     ]
    },
    {
     "name": "stderr",
     "output_type": "stream",
     "text": [
      "                                                                                \r"
     ]
    },
    {
     "name": "stdout",
     "output_type": "stream",
     "text": [
      "24/12/04 01:06:54 WARN TaskSetManager: Stage 9 contains a task of very large size (6176 KiB). The maximum recommended task size is 1000 KiB.\n"
     ]
    },
    {
     "name": "stderr",
     "output_type": "stream",
     "text": [
      "                                                                                \r"
     ]
    },
    {
     "name": "stdout",
     "output_type": "stream",
     "text": [
      "24/12/04 01:06:56 WARN TaskSetManager: Stage 12 contains a task of very large size (6176 KiB). The maximum recommended task size is 1000 KiB.\n",
      "24/12/04 01:06:56 WARN TaskSetManager: Stage 13 contains a task of very large size (6176 KiB). The maximum recommended task size is 1000 KiB.\n"
     ]
    },
    {
     "name": "stderr",
     "output_type": "stream",
     "text": [
      "                                                                                \r"
     ]
    },
    {
     "name": "stdout",
     "output_type": "stream",
     "text": [
      "24/12/04 01:06:57 WARN TaskSetManager: Stage 14 contains a task of very large size (6176 KiB). The maximum recommended task size is 1000 KiB.\n"
     ]
    },
    {
     "name": "stderr",
     "output_type": "stream",
     "text": [
      "                                                                                \r"
     ]
    },
    {
     "name": "stdout",
     "output_type": "stream",
     "text": [
      "24/12/04 01:06:59 WARN TaskSetManager: Stage 16 contains a task of very large size (6176 KiB). The maximum recommended task size is 1000 KiB.\n"
     ]
    },
    {
     "name": "stderr",
     "output_type": "stream",
     "text": [
      "                                                                                \r"
     ]
    },
    {
     "name": "stdout",
     "output_type": "stream",
     "text": [
      "24/12/04 01:07:01 WARN TaskSetManager: Stage 18 contains a task of very large size (6176 KiB). The maximum recommended task size is 1000 KiB.\n"
     ]
    },
    {
     "name": "stderr",
     "output_type": "stream",
     "text": [
      "                                                                                \r"
     ]
    },
    {
     "name": "stdout",
     "output_type": "stream",
     "text": [
      "24/12/04 01:07:02 WARN TaskSetManager: Stage 20 contains a task of very large size (6176 KiB). The maximum recommended task size is 1000 KiB.\n"
     ]
    },
    {
     "name": "stderr",
     "output_type": "stream",
     "text": [
      "                                                                                \r"
     ]
    },
    {
     "name": "stdout",
     "output_type": "stream",
     "text": [
      "24/12/04 01:07:02 WARN TaskSetManager: Stage 22 contains a task of very large size (6176 KiB). The maximum recommended task size is 1000 KiB.\n",
      "24/12/04 01:07:03 WARN TaskSetManager: Stage 24 contains a task of very large size (6176 KiB). The maximum recommended task size is 1000 KiB.\n",
      "24/12/04 01:07:04 WARN TaskSetManager: Stage 26 contains a task of very large size (6176 KiB). The maximum recommended task size is 1000 KiB.\n"
     ]
    },
    {
     "name": "stderr",
     "output_type": "stream",
     "text": [
      "                                                                                \r"
     ]
    },
    {
     "name": "stdout",
     "output_type": "stream",
     "text": [
      "24/12/04 01:07:05 WARN TaskSetManager: Stage 28 contains a task of very large size (6176 KiB). The maximum recommended task size is 1000 KiB.\n",
      "24/12/04 01:07:05 WARN TaskSetManager: Stage 31 contains a task of very large size (6176 KiB). The maximum recommended task size is 1000 KiB.\n"
     ]
    },
    {
     "name": "stderr",
     "output_type": "stream",
     "text": [
      "                                                                                \r"
     ]
    },
    {
     "name": "stdout",
     "output_type": "stream",
     "text": [
      "24/12/04 01:07:06 WARN TaskSetManager: Stage 34 contains a task of very large size (6176 KiB). The maximum recommended task size is 1000 KiB.\n",
      "24/12/04 01:07:06 WARN TaskSetManager: Stage 35 contains a task of very large size (6176 KiB). The maximum recommended task size is 1000 KiB.\n"
     ]
    },
    {
     "name": "stderr",
     "output_type": "stream",
     "text": [
      "                                                                                \r"
     ]
    },
    {
     "name": "stdout",
     "output_type": "stream",
     "text": [
      "24/12/04 01:07:07 WARN TaskSetManager: Stage 36 contains a task of very large size (6176 KiB). The maximum recommended task size is 1000 KiB.\n"
     ]
    },
    {
     "name": "stderr",
     "output_type": "stream",
     "text": [
      "                                                                                \r"
     ]
    },
    {
     "name": "stdout",
     "output_type": "stream",
     "text": [
      "24/12/04 01:07:08 WARN TaskSetManager: Stage 38 contains a task of very large size (6176 KiB). The maximum recommended task size is 1000 KiB.\n"
     ]
    },
    {
     "name": "stderr",
     "output_type": "stream",
     "text": [
      "                                                                                \r"
     ]
    },
    {
     "name": "stdout",
     "output_type": "stream",
     "text": [
      "24/12/04 01:07:09 WARN TaskSetManager: Stage 40 contains a task of very large size (6176 KiB). The maximum recommended task size is 1000 KiB.\n",
      "24/12/04 01:07:09 WARN TaskSetManager: Stage 42 contains a task of very large size (6176 KiB). The maximum recommended task size is 1000 KiB.\n",
      "24/12/04 01:07:09 WARN TaskSetManager: Stage 44 contains a task of very large size (6176 KiB). The maximum recommended task size is 1000 KiB.\n",
      "24/12/04 01:07:10 WARN TaskSetManager: Stage 46 contains a task of very large size (6176 KiB). The maximum recommended task size is 1000 KiB.\n",
      "24/12/04 01:07:10 WARN TaskSetManager: Stage 48 contains a task of very large size (6176 KiB). The maximum recommended task size is 1000 KiB.\n",
      "24/12/04 01:07:11 WARN TaskSetManager: Stage 50 contains a task of very large size (6176 KiB). The maximum recommended task size is 1000 KiB.\n",
      "24/12/04 01:07:11 WARN TaskSetManager: Stage 53 contains a task of very large size (6176 KiB). The maximum recommended task size is 1000 KiB.\n",
      "24/12/04 01:07:12 WARN TaskSetManager: Stage 56 contains a task of very large size (6176 KiB). The maximum recommended task size is 1000 KiB.\n",
      "24/12/04 01:07:12 WARN TaskSetManager: Stage 57 contains a task of very large size (6176 KiB). The maximum recommended task size is 1000 KiB.\n",
      "24/12/04 01:07:12 WARN TaskSetManager: Stage 58 contains a task of very large size (6176 KiB). The maximum recommended task size is 1000 KiB.\n"
     ]
    },
    {
     "name": "stderr",
     "output_type": "stream",
     "text": [
      "                                                                                \r"
     ]
    },
    {
     "name": "stdout",
     "output_type": "stream",
     "text": [
      "24/12/04 01:07:13 WARN TaskSetManager: Stage 60 contains a task of very large size (6176 KiB). The maximum recommended task size is 1000 KiB.\n",
      "24/12/04 01:07:14 WARN TaskSetManager: Stage 62 contains a task of very large size (6176 KiB). The maximum recommended task size is 1000 KiB.\n",
      "24/12/04 01:07:14 WARN TaskSetManager: Stage 64 contains a task of very large size (6176 KiB). The maximum recommended task size is 1000 KiB.\n",
      "24/12/04 01:07:14 WARN TaskSetManager: Stage 66 contains a task of very large size (6176 KiB). The maximum recommended task size is 1000 KiB.\n",
      "24/12/04 01:07:14 WARN TaskSetManager: Stage 68 contains a task of very large size (6176 KiB). The maximum recommended task size is 1000 KiB.\n",
      "24/12/04 01:07:14 WARN TaskSetManager: Stage 70 contains a task of very large size (6176 KiB). The maximum recommended task size is 1000 KiB.\n",
      "24/12/04 01:07:14 WARN TaskSetManager: Stage 72 contains a task of very large size (6176 KiB). The maximum recommended task size is 1000 KiB.\n",
      "24/12/04 01:07:15 WARN TaskSetManager: Stage 74 contains a task of very large size (6176 KiB). The maximum recommended task size is 1000 KiB.\n",
      "24/12/04 01:07:15 WARN TaskSetManager: Stage 76 contains a task of very large size (6176 KiB). The maximum recommended task size is 1000 KiB.\n",
      "24/12/04 01:07:15 WARN DAGScheduler: Broadcasting large task binary with size 1241.0 KiB\n",
      "24/12/04 01:07:15 WARN TaskSetManager: Stage 78 contains a task of very large size (6176 KiB). The maximum recommended task size is 1000 KiB.\n",
      "24/12/04 01:07:16 WARN TaskSetManager: Stage 80 contains a task of very large size (6176 KiB). The maximum recommended task size is 1000 KiB.\n",
      "24/12/04 01:07:16 WARN TaskSetManager: Stage 82 contains a task of very large size (6176 KiB). The maximum recommended task size is 1000 KiB.\n",
      "24/12/04 01:07:17 WARN TaskSetManager: Stage 85 contains a task of very large size (6176 KiB). The maximum recommended task size is 1000 KiB.\n",
      "24/12/04 01:07:18 WARN TaskSetManager: Stage 88 contains a task of very large size (6176 KiB). The maximum recommended task size is 1000 KiB.\n",
      "24/12/04 01:07:18 WARN TaskSetManager: Stage 89 contains a task of very large size (6176 KiB). The maximum recommended task size is 1000 KiB.\n",
      "24/12/04 01:07:18 WARN TaskSetManager: Stage 90 contains a task of very large size (6176 KiB). The maximum recommended task size is 1000 KiB.\n"
     ]
    },
    {
     "name": "stderr",
     "output_type": "stream",
     "text": [
      "                                                                                \r"
     ]
    },
    {
     "name": "stdout",
     "output_type": "stream",
     "text": [
      "24/12/04 01:07:19 WARN TaskSetManager: Stage 92 contains a task of very large size (6176 KiB). The maximum recommended task size is 1000 KiB.\n"
     ]
    },
    {
     "name": "stderr",
     "output_type": "stream",
     "text": [
      "                                                                                \r"
     ]
    },
    {
     "name": "stdout",
     "output_type": "stream",
     "text": [
      "24/12/04 01:07:20 WARN TaskSetManager: Stage 94 contains a task of very large size (6176 KiB). The maximum recommended task size is 1000 KiB.\n",
      "24/12/04 01:07:20 WARN TaskSetManager: Stage 96 contains a task of very large size (6176 KiB). The maximum recommended task size is 1000 KiB.\n",
      "24/12/04 01:07:20 WARN TaskSetManager: Stage 98 contains a task of very large size (6176 KiB). The maximum recommended task size is 1000 KiB.\n",
      "24/12/04 01:07:20 WARN TaskSetManager: Stage 100 contains a task of very large size (6176 KiB). The maximum recommended task size is 1000 KiB.\n",
      "24/12/04 01:07:20 WARN TaskSetManager: Stage 102 contains a task of very large size (6176 KiB). The maximum recommended task size is 1000 KiB.\n",
      "24/12/04 01:07:20 WARN TaskSetManager: Stage 104 contains a task of very large size (6176 KiB). The maximum recommended task size is 1000 KiB.\n",
      "24/12/04 01:07:21 WARN TaskSetManager: Stage 106 contains a task of very large size (6176 KiB). The maximum recommended task size is 1000 KiB.\n",
      "24/12/04 01:07:21 WARN TaskSetManager: Stage 108 contains a task of very large size (6176 KiB). The maximum recommended task size is 1000 KiB.\n",
      "24/12/04 01:07:21 WARN DAGScheduler: Broadcasting large task binary with size 1307.1 KiB\n",
      "24/12/04 01:07:21 WARN TaskSetManager: Stage 110 contains a task of very large size (6176 KiB). The maximum recommended task size is 1000 KiB.\n",
      "24/12/04 01:07:22 WARN TaskSetManager: Stage 112 contains a task of very large size (6176 KiB). The maximum recommended task size is 1000 KiB.\n",
      "24/12/04 01:07:22 WARN TaskSetManager: Stage 114 contains a task of very large size (6176 KiB). The maximum recommended task size is 1000 KiB.\n",
      "24/12/04 01:07:23 WARN TaskSetManager: Stage 117 contains a task of very large size (6176 KiB). The maximum recommended task size is 1000 KiB.\n",
      "24/12/04 01:07:23 WARN TaskSetManager: Stage 120 contains a task of very large size (6176 KiB). The maximum recommended task size is 1000 KiB.\n",
      "24/12/04 01:07:23 WARN TaskSetManager: Stage 121 contains a task of very large size (6176 KiB). The maximum recommended task size is 1000 KiB.\n",
      "24/12/04 01:07:24 WARN TaskSetManager: Stage 122 contains a task of very large size (6176 KiB). The maximum recommended task size is 1000 KiB.\n",
      "24/12/04 01:07:24 WARN TaskSetManager: Stage 124 contains a task of very large size (6176 KiB). The maximum recommended task size is 1000 KiB.\n",
      "24/12/04 01:07:25 WARN TaskSetManager: Stage 126 contains a task of very large size (6176 KiB). The maximum recommended task size is 1000 KiB.\n",
      "24/12/04 01:07:25 WARN TaskSetManager: Stage 128 contains a task of very large size (6176 KiB). The maximum recommended task size is 1000 KiB.\n",
      "24/12/04 01:07:25 WARN TaskSetManager: Stage 130 contains a task of very large size (6176 KiB). The maximum recommended task size is 1000 KiB.\n",
      "24/12/04 01:07:25 WARN TaskSetManager: Stage 132 contains a task of very large size (6176 KiB). The maximum recommended task size is 1000 KiB.\n",
      "24/12/04 01:07:25 WARN TaskSetManager: Stage 134 contains a task of very large size (6176 KiB). The maximum recommended task size is 1000 KiB.\n",
      "24/12/04 01:07:25 WARN TaskSetManager: Stage 136 contains a task of very large size (6176 KiB). The maximum recommended task size is 1000 KiB.\n",
      "24/12/04 01:07:26 WARN TaskSetManager: Stage 138 contains a task of very large size (6176 KiB). The maximum recommended task size is 1000 KiB.\n",
      "24/12/04 01:07:26 WARN TaskSetManager: Stage 140 contains a task of very large size (6176 KiB). The maximum recommended task size is 1000 KiB.\n",
      "24/12/04 01:07:26 WARN DAGScheduler: Broadcasting large task binary with size 1241.0 KiB\n",
      "24/12/04 01:07:26 WARN TaskSetManager: Stage 142 contains a task of very large size (6176 KiB). The maximum recommended task size is 1000 KiB.\n",
      "24/12/04 01:07:26 WARN DAGScheduler: Broadcasting large task binary with size 1707.1 KiB\n",
      "24/12/04 01:07:26 WARN TaskSetManager: Stage 144 contains a task of very large size (6176 KiB). The maximum recommended task size is 1000 KiB.\n",
      "24/12/04 01:07:27 WARN DAGScheduler: Broadcasting large task binary with size 2.2 MiB\n",
      "24/12/04 01:07:27 WARN TaskSetManager: Stage 146 contains a task of very large size (6176 KiB). The maximum recommended task size is 1000 KiB.\n",
      "24/12/04 01:07:27 WARN DAGScheduler: Broadcasting large task binary with size 3.0 MiB\n",
      "24/12/04 01:07:27 WARN TaskSetManager: Stage 148 contains a task of very large size (6176 KiB). The maximum recommended task size is 1000 KiB.\n",
      "24/12/04 01:07:28 WARN DAGScheduler: Broadcasting large task binary with size 3.8 MiB\n",
      "24/12/04 01:07:28 WARN TaskSetManager: Stage 150 contains a task of very large size (6176 KiB). The maximum recommended task size is 1000 KiB.\n",
      "24/12/04 01:07:28 WARN DAGScheduler: Broadcasting large task binary with size 4.7 MiB\n",
      "24/12/04 01:07:28 WARN TaskSetManager: Stage 152 contains a task of very large size (6176 KiB). The maximum recommended task size is 1000 KiB.\n",
      "24/12/04 01:07:29 WARN DAGScheduler: Broadcasting large task binary with size 3.1 MiB\n",
      "24/12/04 01:07:29 WARN TaskSetManager: Stage 154 contains a task of very large size (6176 KiB). The maximum recommended task size is 1000 KiB.\n",
      "24/12/04 01:07:30 WARN TaskSetManager: Stage 156 contains a task of very large size (6176 KiB). The maximum recommended task size is 1000 KiB.\n",
      "24/12/04 01:07:30 WARN TaskSetManager: Stage 159 contains a task of very large size (6176 KiB). The maximum recommended task size is 1000 KiB.\n",
      "24/12/04 01:07:31 WARN TaskSetManager: Stage 162 contains a task of very large size (6176 KiB). The maximum recommended task size is 1000 KiB.\n",
      "24/12/04 01:07:31 WARN TaskSetManager: Stage 163 contains a task of very large size (6176 KiB). The maximum recommended task size is 1000 KiB.\n",
      "24/12/04 01:07:31 WARN TaskSetManager: Stage 164 contains a task of very large size (6176 KiB). The maximum recommended task size is 1000 KiB.\n",
      "24/12/04 01:07:32 WARN TaskSetManager: Stage 166 contains a task of very large size (6176 KiB). The maximum recommended task size is 1000 KiB.\n",
      "24/12/04 01:07:33 WARN TaskSetManager: Stage 168 contains a task of very large size (6176 KiB). The maximum recommended task size is 1000 KiB.\n",
      "24/12/04 01:07:33 WARN TaskSetManager: Stage 170 contains a task of very large size (6176 KiB). The maximum recommended task size is 1000 KiB.\n",
      "24/12/04 01:07:33 WARN TaskSetManager: Stage 172 contains a task of very large size (6176 KiB). The maximum recommended task size is 1000 KiB.\n",
      "24/12/04 01:07:33 WARN TaskSetManager: Stage 174 contains a task of very large size (6176 KiB). The maximum recommended task size is 1000 KiB.\n",
      "24/12/04 01:07:33 WARN TaskSetManager: Stage 176 contains a task of very large size (6176 KiB). The maximum recommended task size is 1000 KiB.\n",
      "24/12/04 01:07:33 WARN TaskSetManager: Stage 178 contains a task of very large size (6176 KiB). The maximum recommended task size is 1000 KiB.\n",
      "24/12/04 01:07:33 WARN TaskSetManager: Stage 180 contains a task of very large size (6176 KiB). The maximum recommended task size is 1000 KiB.\n",
      "24/12/04 01:07:34 WARN TaskSetManager: Stage 182 contains a task of very large size (6176 KiB). The maximum recommended task size is 1000 KiB.\n",
      "24/12/04 01:07:34 WARN DAGScheduler: Broadcasting large task binary with size 1307.1 KiB\n",
      "24/12/04 01:07:34 WARN TaskSetManager: Stage 184 contains a task of very large size (6176 KiB). The maximum recommended task size is 1000 KiB.\n",
      "24/12/04 01:07:34 WARN DAGScheduler: Broadcasting large task binary with size 1833.7 KiB\n",
      "24/12/04 01:07:34 WARN TaskSetManager: Stage 186 contains a task of very large size (6176 KiB). The maximum recommended task size is 1000 KiB.\n",
      "24/12/04 01:07:34 WARN DAGScheduler: Broadcasting large task binary with size 2.5 MiB\n",
      "24/12/04 01:07:34 WARN TaskSetManager: Stage 188 contains a task of very large size (6176 KiB). The maximum recommended task size is 1000 KiB.\n",
      "24/12/04 01:07:35 WARN DAGScheduler: Broadcasting large task binary with size 3.3 MiB\n",
      "24/12/04 01:07:35 WARN TaskSetManager: Stage 190 contains a task of very large size (6176 KiB). The maximum recommended task size is 1000 KiB.\n",
      "24/12/04 01:07:35 WARN DAGScheduler: Broadcasting large task binary with size 4.2 MiB\n",
      "24/12/04 01:07:36 WARN TaskSetManager: Stage 192 contains a task of very large size (6176 KiB). The maximum recommended task size is 1000 KiB.\n",
      "24/12/04 01:07:36 WARN DAGScheduler: Broadcasting large task binary with size 5.3 MiB\n",
      "24/12/04 01:07:36 WARN TaskSetManager: Stage 194 contains a task of very large size (6176 KiB). The maximum recommended task size is 1000 KiB.\n",
      "24/12/04 01:07:37 WARN DAGScheduler: Broadcasting large task binary with size 3.5 MiB\n",
      "24/12/04 01:07:37 WARN TaskSetManager: Stage 196 contains a task of very large size (6176 KiB). The maximum recommended task size is 1000 KiB.\n",
      "24/12/04 01:07:38 WARN TaskSetManager: Stage 198 contains a task of very large size (6176 KiB). The maximum recommended task size is 1000 KiB.\n",
      "24/12/04 01:07:38 WARN TaskSetManager: Stage 201 contains a task of very large size (6176 KiB). The maximum recommended task size is 1000 KiB.\n",
      "24/12/04 01:07:38 WARN TaskSetManager: Stage 204 contains a task of very large size (6176 KiB). The maximum recommended task size is 1000 KiB.\n",
      "24/12/04 01:07:38 WARN TaskSetManager: Stage 205 contains a task of very large size (6176 KiB). The maximum recommended task size is 1000 KiB.\n",
      "24/12/04 01:07:39 WARN TaskSetManager: Stage 206 contains a task of very large size (6176 KiB). The maximum recommended task size is 1000 KiB.\n",
      "24/12/04 01:07:39 WARN TaskSetManager: Stage 208 contains a task of very large size (6176 KiB). The maximum recommended task size is 1000 KiB.\n"
     ]
    },
    {
     "name": "stderr",
     "output_type": "stream",
     "text": [
      "                                                                                \r"
     ]
    },
    {
     "name": "stdout",
     "output_type": "stream",
     "text": [
      "24/12/04 01:07:40 WARN TaskSetManager: Stage 210 contains a task of very large size (6176 KiB). The maximum recommended task size is 1000 KiB.\n",
      "24/12/04 01:07:40 WARN TaskSetManager: Stage 212 contains a task of very large size (6176 KiB). The maximum recommended task size is 1000 KiB.\n",
      "24/12/04 01:07:41 WARN TaskSetManager: Stage 214 contains a task of very large size (6176 KiB). The maximum recommended task size is 1000 KiB.\n",
      "24/12/04 01:07:41 WARN TaskSetManager: Stage 216 contains a task of very large size (6176 KiB). The maximum recommended task size is 1000 KiB.\n",
      "24/12/04 01:07:41 WARN TaskSetManager: Stage 218 contains a task of very large size (6176 KiB). The maximum recommended task size is 1000 KiB.\n",
      "24/12/04 01:07:42 WARN TaskSetManager: Stage 220 contains a task of very large size (6176 KiB). The maximum recommended task size is 1000 KiB.\n",
      "24/12/04 01:07:42 WARN TaskSetManager: Stage 223 contains a task of very large size (6176 KiB). The maximum recommended task size is 1000 KiB.\n",
      "24/12/04 01:07:43 WARN TaskSetManager: Stage 226 contains a task of very large size (6176 KiB). The maximum recommended task size is 1000 KiB.\n",
      "24/12/04 01:07:43 WARN TaskSetManager: Stage 227 contains a task of very large size (6176 KiB). The maximum recommended task size is 1000 KiB.\n",
      "24/12/04 01:07:43 WARN TaskSetManager: Stage 228 contains a task of very large size (6176 KiB). The maximum recommended task size is 1000 KiB.\n",
      "24/12/04 01:07:44 WARN TaskSetManager: Stage 230 contains a task of very large size (6176 KiB). The maximum recommended task size is 1000 KiB.\n"
     ]
    },
    {
     "name": "stderr",
     "output_type": "stream",
     "text": [
      "                                                                                \r"
     ]
    },
    {
     "name": "stdout",
     "output_type": "stream",
     "text": [
      "24/12/04 01:07:44 WARN TaskSetManager: Stage 232 contains a task of very large size (6176 KiB). The maximum recommended task size is 1000 KiB.\n",
      "24/12/04 01:07:45 WARN TaskSetManager: Stage 234 contains a task of very large size (6176 KiB). The maximum recommended task size is 1000 KiB.\n",
      "24/12/04 01:07:45 WARN TaskSetManager: Stage 236 contains a task of very large size (6176 KiB). The maximum recommended task size is 1000 KiB.\n",
      "24/12/04 01:07:45 WARN TaskSetManager: Stage 238 contains a task of very large size (6176 KiB). The maximum recommended task size is 1000 KiB.\n",
      "24/12/04 01:07:46 WARN TaskSetManager: Stage 240 contains a task of very large size (6176 KiB). The maximum recommended task size is 1000 KiB.\n",
      "24/12/04 01:07:46 WARN TaskSetManager: Stage 242 contains a task of very large size (6176 KiB). The maximum recommended task size is 1000 KiB.\n",
      "24/12/04 01:07:46 WARN TaskSetManager: Stage 245 contains a task of very large size (6176 KiB). The maximum recommended task size is 1000 KiB.\n",
      "24/12/04 01:07:47 WARN TaskSetManager: Stage 248 contains a task of very large size (6176 KiB). The maximum recommended task size is 1000 KiB.\n",
      "24/12/04 01:07:47 WARN TaskSetManager: Stage 249 contains a task of very large size (6176 KiB). The maximum recommended task size is 1000 KiB.\n",
      "24/12/04 01:07:47 WARN TaskSetManager: Stage 250 contains a task of very large size (6176 KiB). The maximum recommended task size is 1000 KiB.\n",
      "24/12/04 01:07:48 WARN TaskSetManager: Stage 252 contains a task of very large size (6176 KiB). The maximum recommended task size is 1000 KiB.\n"
     ]
    },
    {
     "name": "stderr",
     "output_type": "stream",
     "text": [
      "                                                                                \r"
     ]
    },
    {
     "name": "stdout",
     "output_type": "stream",
     "text": [
      "24/12/04 01:07:48 WARN TaskSetManager: Stage 254 contains a task of very large size (6176 KiB). The maximum recommended task size is 1000 KiB.\n",
      "24/12/04 01:07:48 WARN TaskSetManager: Stage 256 contains a task of very large size (6176 KiB). The maximum recommended task size is 1000 KiB.\n",
      "24/12/04 01:07:49 WARN TaskSetManager: Stage 258 contains a task of very large size (6176 KiB). The maximum recommended task size is 1000 KiB.\n",
      "24/12/04 01:07:49 WARN TaskSetManager: Stage 260 contains a task of very large size (6176 KiB). The maximum recommended task size is 1000 KiB.\n",
      "24/12/04 01:07:49 WARN TaskSetManager: Stage 262 contains a task of very large size (6176 KiB). The maximum recommended task size is 1000 KiB.\n",
      "24/12/04 01:07:50 WARN DAGScheduler: Broadcasting large task binary with size 1323.7 KiB\n",
      "24/12/04 01:07:50 WARN TaskSetManager: Stage 264 contains a task of very large size (6176 KiB). The maximum recommended task size is 1000 KiB.\n",
      "24/12/04 01:07:50 WARN DAGScheduler: Broadcasting large task binary with size 2.1 MiB\n",
      "24/12/04 01:07:50 WARN TaskSetManager: Stage 266 contains a task of very large size (6176 KiB). The maximum recommended task size is 1000 KiB.\n",
      "24/12/04 01:07:51 WARN DAGScheduler: Broadcasting large task binary with size 3.2 MiB\n",
      "24/12/04 01:07:51 WARN TaskSetManager: Stage 268 contains a task of very large size (6176 KiB). The maximum recommended task size is 1000 KiB.\n",
      "24/12/04 01:07:52 WARN DAGScheduler: Broadcasting large task binary with size 4.9 MiB\n",
      "24/12/04 01:07:52 WARN TaskSetManager: Stage 270 contains a task of very large size (6176 KiB). The maximum recommended task size is 1000 KiB.\n"
     ]
    },
    {
     "name": "stderr",
     "output_type": "stream",
     "text": [
      "                                                                                \r"
     ]
    },
    {
     "name": "stdout",
     "output_type": "stream",
     "text": [
      "24/12/04 01:07:53 WARN DAGScheduler: Broadcasting large task binary with size 3.5 MiB\n",
      "24/12/04 01:07:53 WARN TaskSetManager: Stage 272 contains a task of very large size (6176 KiB). The maximum recommended task size is 1000 KiB.\n",
      "24/12/04 01:07:54 WARN TaskSetManager: Stage 274 contains a task of very large size (6176 KiB). The maximum recommended task size is 1000 KiB.\n",
      "24/12/04 01:07:54 WARN TaskSetManager: Stage 277 contains a task of very large size (6176 KiB). The maximum recommended task size is 1000 KiB.\n",
      "24/12/04 01:07:54 WARN TaskSetManager: Stage 280 contains a task of very large size (6176 KiB). The maximum recommended task size is 1000 KiB.\n",
      "24/12/04 01:07:55 WARN TaskSetManager: Stage 281 contains a task of very large size (6176 KiB). The maximum recommended task size is 1000 KiB.\n",
      "24/12/04 01:07:55 WARN TaskSetManager: Stage 282 contains a task of very large size (6176 KiB). The maximum recommended task size is 1000 KiB.\n",
      "24/12/04 01:07:55 WARN TaskSetManager: Stage 284 contains a task of very large size (6176 KiB). The maximum recommended task size is 1000 KiB.\n",
      "24/12/04 01:07:56 WARN TaskSetManager: Stage 286 contains a task of very large size (6176 KiB). The maximum recommended task size is 1000 KiB.\n",
      "24/12/04 01:07:56 WARN TaskSetManager: Stage 288 contains a task of very large size (6176 KiB). The maximum recommended task size is 1000 KiB.\n",
      "24/12/04 01:07:56 WARN TaskSetManager: Stage 290 contains a task of very large size (6176 KiB). The maximum recommended task size is 1000 KiB.\n",
      "24/12/04 01:07:57 WARN TaskSetManager: Stage 292 contains a task of very large size (6176 KiB). The maximum recommended task size is 1000 KiB.\n",
      "24/12/04 01:07:57 WARN TaskSetManager: Stage 294 contains a task of very large size (6176 KiB). The maximum recommended task size is 1000 KiB.\n",
      "24/12/04 01:07:57 WARN DAGScheduler: Broadcasting large task binary with size 1354.4 KiB\n",
      "24/12/04 01:07:57 WARN TaskSetManager: Stage 296 contains a task of very large size (6176 KiB). The maximum recommended task size is 1000 KiB.\n",
      "24/12/04 01:07:58 WARN DAGScheduler: Broadcasting large task binary with size 2.2 MiB\n",
      "24/12/04 01:07:58 WARN TaskSetManager: Stage 298 contains a task of very large size (6176 KiB). The maximum recommended task size is 1000 KiB.\n",
      "24/12/04 01:07:59 WARN DAGScheduler: Broadcasting large task binary with size 3.4 MiB\n",
      "24/12/04 01:07:59 WARN TaskSetManager: Stage 300 contains a task of very large size (6176 KiB). The maximum recommended task size is 1000 KiB.\n"
     ]
    },
    {
     "name": "stderr",
     "output_type": "stream",
     "text": [
      "                                                                                \r"
     ]
    },
    {
     "name": "stdout",
     "output_type": "stream",
     "text": [
      "24/12/04 01:08:00 WARN DAGScheduler: Broadcasting large task binary with size 5.2 MiB\n",
      "24/12/04 01:08:00 WARN TaskSetManager: Stage 302 contains a task of very large size (6176 KiB). The maximum recommended task size is 1000 KiB.\n"
     ]
    },
    {
     "name": "stderr",
     "output_type": "stream",
     "text": [
      "                                                                                \r"
     ]
    },
    {
     "name": "stdout",
     "output_type": "stream",
     "text": [
      "24/12/04 01:08:02 WARN DAGScheduler: Broadcasting large task binary with size 3.7 MiB\n",
      "24/12/04 01:08:02 WARN TaskSetManager: Stage 304 contains a task of very large size (6176 KiB). The maximum recommended task size is 1000 KiB.\n",
      "24/12/04 01:08:02 WARN TaskSetManager: Stage 306 contains a task of very large size (6176 KiB). The maximum recommended task size is 1000 KiB.\n",
      "24/12/04 01:08:02 WARN TaskSetManager: Stage 309 contains a task of very large size (6176 KiB). The maximum recommended task size is 1000 KiB.\n",
      "24/12/04 01:08:03 WARN TaskSetManager: Stage 312 contains a task of very large size (6176 KiB). The maximum recommended task size is 1000 KiB.\n",
      "24/12/04 01:08:03 WARN TaskSetManager: Stage 313 contains a task of very large size (6176 KiB). The maximum recommended task size is 1000 KiB.\n",
      "24/12/04 01:08:03 WARN TaskSetManager: Stage 314 contains a task of very large size (6176 KiB). The maximum recommended task size is 1000 KiB.\n",
      "24/12/04 01:08:04 WARN TaskSetManager: Stage 316 contains a task of very large size (6176 KiB). The maximum recommended task size is 1000 KiB.\n"
     ]
    },
    {
     "name": "stderr",
     "output_type": "stream",
     "text": [
      "                                                                                \r"
     ]
    },
    {
     "name": "stdout",
     "output_type": "stream",
     "text": [
      "24/12/04 01:08:05 WARN TaskSetManager: Stage 318 contains a task of very large size (6176 KiB). The maximum recommended task size is 1000 KiB.\n",
      "24/12/04 01:08:05 WARN TaskSetManager: Stage 320 contains a task of very large size (6176 KiB). The maximum recommended task size is 1000 KiB.\n",
      "24/12/04 01:08:05 WARN TaskSetManager: Stage 322 contains a task of very large size (6176 KiB). The maximum recommended task size is 1000 KiB.\n",
      "24/12/04 01:08:05 WARN TaskSetManager: Stage 324 contains a task of very large size (6176 KiB). The maximum recommended task size is 1000 KiB.\n",
      "24/12/04 01:08:06 WARN TaskSetManager: Stage 326 contains a task of very large size (6176 KiB). The maximum recommended task size is 1000 KiB.\n",
      "24/12/04 01:08:06 WARN DAGScheduler: Broadcasting large task binary with size 1323.7 KiB\n",
      "24/12/04 01:08:06 WARN TaskSetManager: Stage 328 contains a task of very large size (6176 KiB). The maximum recommended task size is 1000 KiB.\n",
      "24/12/04 01:08:07 WARN DAGScheduler: Broadcasting large task binary with size 2.1 MiB\n",
      "24/12/04 01:08:07 WARN TaskSetManager: Stage 330 contains a task of very large size (6176 KiB). The maximum recommended task size is 1000 KiB.\n",
      "24/12/04 01:08:07 WARN DAGScheduler: Broadcasting large task binary with size 3.2 MiB\n",
      "24/12/04 01:08:07 WARN TaskSetManager: Stage 332 contains a task of very large size (6176 KiB). The maximum recommended task size is 1000 KiB.\n"
     ]
    },
    {
     "name": "stderr",
     "output_type": "stream",
     "text": [
      "                                                                                \r"
     ]
    },
    {
     "name": "stdout",
     "output_type": "stream",
     "text": [
      "24/12/04 01:08:08 WARN DAGScheduler: Broadcasting large task binary with size 4.9 MiB\n",
      "24/12/04 01:08:08 WARN TaskSetManager: Stage 334 contains a task of very large size (6176 KiB). The maximum recommended task size is 1000 KiB.\n"
     ]
    },
    {
     "name": "stderr",
     "output_type": "stream",
     "text": [
      "                                                                                \r"
     ]
    },
    {
     "name": "stdout",
     "output_type": "stream",
     "text": [
      "24/12/04 01:08:10 WARN DAGScheduler: Broadcasting large task binary with size 7.1 MiB\n",
      "24/12/04 01:08:10 WARN TaskSetManager: Stage 336 contains a task of very large size (6176 KiB). The maximum recommended task size is 1000 KiB.\n"
     ]
    },
    {
     "name": "stderr",
     "output_type": "stream",
     "text": [
      "[Stage 336:>                                                        (0 + 3) / 3]\r"
     ]
    },
    {
     "name": "stdout",
     "output_type": "stream",
     "text": [
      "24/12/04 01:08:11 WARN DAGScheduler: Broadcasting large task binary with size 1037.3 KiB\n"
     ]
    },
    {
     "name": "stderr",
     "output_type": "stream",
     "text": [
      "                                                                                \r"
     ]
    },
    {
     "name": "stdout",
     "output_type": "stream",
     "text": [
      "24/12/04 01:08:11 WARN DAGScheduler: Broadcasting large task binary with size 9.9 MiB\n",
      "24/12/04 01:08:11 WARN TaskSetManager: Stage 338 contains a task of very large size (6176 KiB). The maximum recommended task size is 1000 KiB.\n"
     ]
    },
    {
     "name": "stderr",
     "output_type": "stream",
     "text": [
      "[Stage 338:===================>                                     (1 + 2) / 3]\r"
     ]
    },
    {
     "name": "stdout",
     "output_type": "stream",
     "text": [
      "24/12/04 01:08:12 WARN DAGScheduler: Broadcasting large task binary with size 1271.3 KiB\n"
     ]
    },
    {
     "name": "stderr",
     "output_type": "stream",
     "text": [
      "                                                                                \r"
     ]
    },
    {
     "name": "stdout",
     "output_type": "stream",
     "text": [
      "24/12/04 01:08:13 WARN DAGScheduler: Broadcasting large task binary with size 13.3 MiB\n",
      "24/12/04 01:08:13 WARN TaskSetManager: Stage 340 contains a task of very large size (6176 KiB). The maximum recommended task size is 1000 KiB.\n"
     ]
    },
    {
     "name": "stderr",
     "output_type": "stream",
     "text": [
      "[Stage 340:>                                                        (0 + 3) / 3]\r"
     ]
    },
    {
     "name": "stdout",
     "output_type": "stream",
     "text": [
      "24/12/04 01:08:15 WARN DAGScheduler: Broadcasting large task binary with size 1494.8 KiB\n"
     ]
    },
    {
     "name": "stderr",
     "output_type": "stream",
     "text": [
      "                                                                                \r"
     ]
    },
    {
     "name": "stdout",
     "output_type": "stream",
     "text": [
      "24/12/04 01:08:16 WARN DAGScheduler: Broadcasting large task binary with size 17.2 MiB\n",
      "24/12/04 01:08:16 WARN TaskSetManager: Stage 342 contains a task of very large size (6176 KiB). The maximum recommended task size is 1000 KiB.\n"
     ]
    },
    {
     "name": "stderr",
     "output_type": "stream",
     "text": [
      "[Stage 342:>                                                        (0 + 3) / 3]\r"
     ]
    },
    {
     "name": "stdout",
     "output_type": "stream",
     "text": [
      "24/12/04 01:08:17 WARN DAGScheduler: Broadcasting large task binary with size 1696.7 KiB\n"
     ]
    },
    {
     "name": "stderr",
     "output_type": "stream",
     "text": [
      "                                                                                \r"
     ]
    },
    {
     "name": "stdout",
     "output_type": "stream",
     "text": [
      "24/12/04 01:08:19 WARN DAGScheduler: Broadcasting large task binary with size 21.6 MiB\n",
      "24/12/04 01:08:19 WARN TaskSetManager: Stage 344 contains a task of very large size (6176 KiB). The maximum recommended task size is 1000 KiB.\n"
     ]
    },
    {
     "name": "stderr",
     "output_type": "stream",
     "text": [
      "[Stage 344:>                                                        (0 + 3) / 3]\r"
     ]
    },
    {
     "name": "stdout",
     "output_type": "stream",
     "text": [
      "24/12/04 01:08:20 WARN DAGScheduler: Broadcasting large task binary with size 1853.1 KiB\n"
     ]
    },
    {
     "name": "stderr",
     "output_type": "stream",
     "text": [
      "                                                                                \r"
     ]
    },
    {
     "name": "stdout",
     "output_type": "stream",
     "text": [
      "24/12/04 01:08:22 WARN DAGScheduler: Broadcasting large task binary with size 13.8 MiB\n",
      "24/12/04 01:08:22 WARN TaskSetManager: Stage 346 contains a task of very large size (6176 KiB). The maximum recommended task size is 1000 KiB.\n"
     ]
    },
    {
     "name": "stderr",
     "output_type": "stream",
     "text": [
      "                                                                                \r"
     ]
    },
    {
     "name": "stdout",
     "output_type": "stream",
     "text": [
      "24/12/04 01:08:23 WARN TaskSetManager: Stage 348 contains a task of very large size (6176 KiB). The maximum recommended task size is 1000 KiB.\n",
      "24/12/04 01:08:23 WARN TaskSetManager: Stage 351 contains a task of very large size (6176 KiB). The maximum recommended task size is 1000 KiB.\n",
      "24/12/04 01:08:24 WARN TaskSetManager: Stage 354 contains a task of very large size (6176 KiB). The maximum recommended task size is 1000 KiB.\n",
      "24/12/04 01:08:24 WARN TaskSetManager: Stage 355 contains a task of very large size (6176 KiB). The maximum recommended task size is 1000 KiB.\n",
      "24/12/04 01:08:24 WARN TaskSetManager: Stage 356 contains a task of very large size (6176 KiB). The maximum recommended task size is 1000 KiB.\n",
      "24/12/04 01:08:25 WARN TaskSetManager: Stage 358 contains a task of very large size (6176 KiB). The maximum recommended task size is 1000 KiB.\n"
     ]
    },
    {
     "name": "stderr",
     "output_type": "stream",
     "text": [
      "                                                                                \r"
     ]
    },
    {
     "name": "stdout",
     "output_type": "stream",
     "text": [
      "24/12/04 01:08:26 WARN TaskSetManager: Stage 360 contains a task of very large size (6176 KiB). The maximum recommended task size is 1000 KiB.\n",
      "24/12/04 01:08:26 WARN TaskSetManager: Stage 362 contains a task of very large size (6176 KiB). The maximum recommended task size is 1000 KiB.\n",
      "24/12/04 01:08:26 WARN TaskSetManager: Stage 364 contains a task of very large size (6176 KiB). The maximum recommended task size is 1000 KiB.\n",
      "24/12/04 01:08:26 WARN TaskSetManager: Stage 366 contains a task of very large size (6176 KiB). The maximum recommended task size is 1000 KiB.\n",
      "24/12/04 01:08:27 WARN TaskSetManager: Stage 368 contains a task of very large size (6176 KiB). The maximum recommended task size is 1000 KiB.\n",
      "24/12/04 01:08:27 WARN DAGScheduler: Broadcasting large task binary with size 1354.4 KiB\n",
      "24/12/04 01:08:27 WARN TaskSetManager: Stage 370 contains a task of very large size (6176 KiB). The maximum recommended task size is 1000 KiB.\n",
      "24/12/04 01:08:28 WARN DAGScheduler: Broadcasting large task binary with size 2.2 MiB\n",
      "24/12/04 01:08:28 WARN TaskSetManager: Stage 372 contains a task of very large size (6176 KiB). The maximum recommended task size is 1000 KiB.\n",
      "24/12/04 01:08:28 WARN DAGScheduler: Broadcasting large task binary with size 3.4 MiB\n",
      "24/12/04 01:08:28 WARN TaskSetManager: Stage 374 contains a task of very large size (6176 KiB). The maximum recommended task size is 1000 KiB.\n"
     ]
    },
    {
     "name": "stderr",
     "output_type": "stream",
     "text": [
      "                                                                                \r"
     ]
    },
    {
     "name": "stdout",
     "output_type": "stream",
     "text": [
      "24/12/04 01:08:30 WARN DAGScheduler: Broadcasting large task binary with size 5.2 MiB\n",
      "24/12/04 01:08:30 WARN TaskSetManager: Stage 376 contains a task of very large size (6176 KiB). The maximum recommended task size is 1000 KiB.\n"
     ]
    },
    {
     "name": "stderr",
     "output_type": "stream",
     "text": [
      "                                                                                \r"
     ]
    },
    {
     "name": "stdout",
     "output_type": "stream",
     "text": [
      "24/12/04 01:08:31 WARN DAGScheduler: Broadcasting large task binary with size 7.7 MiB\n",
      "24/12/04 01:08:31 WARN TaskSetManager: Stage 378 contains a task of very large size (6176 KiB). The maximum recommended task size is 1000 KiB.\n"
     ]
    },
    {
     "name": "stderr",
     "output_type": "stream",
     "text": [
      "[Stage 378:>                                                        (0 + 3) / 3]\r"
     ]
    },
    {
     "name": "stdout",
     "output_type": "stream",
     "text": [
      "24/12/04 01:08:32 WARN DAGScheduler: Broadcasting large task binary with size 1141.7 KiB\n"
     ]
    },
    {
     "name": "stderr",
     "output_type": "stream",
     "text": [
      "                                                                                \r"
     ]
    },
    {
     "name": "stdout",
     "output_type": "stream",
     "text": [
      "24/12/04 01:08:33 WARN DAGScheduler: Broadcasting large task binary with size 10.8 MiB\n",
      "24/12/04 01:08:33 WARN TaskSetManager: Stage 380 contains a task of very large size (6176 KiB). The maximum recommended task size is 1000 KiB.\n"
     ]
    },
    {
     "name": "stderr",
     "output_type": "stream",
     "text": [
      "[Stage 380:======================================>                  (2 + 1) / 3]\r"
     ]
    },
    {
     "name": "stdout",
     "output_type": "stream",
     "text": [
      "24/12/04 01:08:34 WARN DAGScheduler: Broadcasting large task binary with size 1425.9 KiB\n"
     ]
    },
    {
     "name": "stderr",
     "output_type": "stream",
     "text": [
      "                                                                                \r"
     ]
    },
    {
     "name": "stdout",
     "output_type": "stream",
     "text": [
      "24/12/04 01:08:35 WARN DAGScheduler: Broadcasting large task binary with size 14.6 MiB\n",
      "24/12/04 01:08:35 WARN TaskSetManager: Stage 382 contains a task of very large size (6176 KiB). The maximum recommended task size is 1000 KiB.\n"
     ]
    },
    {
     "name": "stderr",
     "output_type": "stream",
     "text": [
      "[Stage 382:>                                                        (0 + 3) / 3]\r"
     ]
    },
    {
     "name": "stdout",
     "output_type": "stream",
     "text": [
      "24/12/04 01:08:36 WARN DAGScheduler: Broadcasting large task binary with size 1700.2 KiB\n"
     ]
    },
    {
     "name": "stderr",
     "output_type": "stream",
     "text": [
      "                                                                                \r"
     ]
    },
    {
     "name": "stdout",
     "output_type": "stream",
     "text": [
      "24/12/04 01:08:38 WARN DAGScheduler: Broadcasting large task binary with size 19.1 MiB\n",
      "24/12/04 01:08:38 WARN TaskSetManager: Stage 384 contains a task of very large size (6176 KiB). The maximum recommended task size is 1000 KiB.\n"
     ]
    },
    {
     "name": "stderr",
     "output_type": "stream",
     "text": [
      "[Stage 384:======================================>                  (2 + 1) / 3]\r"
     ]
    },
    {
     "name": "stdout",
     "output_type": "stream",
     "text": [
      "24/12/04 01:08:40 WARN DAGScheduler: Broadcasting large task binary with size 1937.7 KiB\n"
     ]
    },
    {
     "name": "stderr",
     "output_type": "stream",
     "text": [
      "                                                                                \r"
     ]
    },
    {
     "name": "stdout",
     "output_type": "stream",
     "text": [
      "24/12/04 01:08:42 WARN DAGScheduler: Broadcasting large task binary with size 24.0 MiB\n",
      "24/12/04 01:08:42 WARN TaskSetManager: Stage 386 contains a task of very large size (6176 KiB). The maximum recommended task size is 1000 KiB.\n"
     ]
    },
    {
     "name": "stderr",
     "output_type": "stream",
     "text": [
      "[Stage 386:======================================>                  (2 + 1) / 3]\r"
     ]
    },
    {
     "name": "stdout",
     "output_type": "stream",
     "text": [
      "24/12/04 01:08:43 WARN DAGScheduler: Broadcasting large task binary with size 2.1 MiB\n"
     ]
    },
    {
     "name": "stderr",
     "output_type": "stream",
     "text": [
      "                                                                                \r"
     ]
    },
    {
     "name": "stdout",
     "output_type": "stream",
     "text": [
      "24/12/04 01:08:45 WARN DAGScheduler: Broadcasting large task binary with size 15.3 MiB\n",
      "24/12/04 01:08:45 WARN TaskSetManager: Stage 388 contains a task of very large size (6176 KiB). The maximum recommended task size is 1000 KiB.\n"
     ]
    },
    {
     "name": "stderr",
     "output_type": "stream",
     "text": [
      "                                                                                \r"
     ]
    },
    {
     "name": "stdout",
     "output_type": "stream",
     "text": [
      "24/12/04 01:08:46 WARN TaskSetManager: Stage 390 contains a task of very large size (6176 KiB). The maximum recommended task size is 1000 KiB.\n",
      "24/12/04 01:08:46 WARN TaskSetManager: Stage 393 contains a task of very large size (6176 KiB). The maximum recommended task size is 1000 KiB.\n",
      "24/12/04 01:08:47 WARN TaskSetManager: Stage 396 contains a task of very large size (6176 KiB). The maximum recommended task size is 1000 KiB.\n",
      "24/12/04 01:08:47 WARN TaskSetManager: Stage 397 contains a task of very large size (6176 KiB). The maximum recommended task size is 1000 KiB.\n",
      "24/12/04 01:08:47 WARN TaskSetManager: Stage 398 contains a task of very large size (6176 KiB). The maximum recommended task size is 1000 KiB.\n",
      "24/12/04 01:08:48 WARN TaskSetManager: Stage 400 contains a task of very large size (6176 KiB). The maximum recommended task size is 1000 KiB.\n"
     ]
    },
    {
     "name": "stderr",
     "output_type": "stream",
     "text": [
      "                                                                                \r"
     ]
    },
    {
     "name": "stdout",
     "output_type": "stream",
     "text": [
      "24/12/04 01:08:49 WARN TaskSetManager: Stage 402 contains a task of very large size (6176 KiB). The maximum recommended task size is 1000 KiB.\n",
      "24/12/04 01:08:49 WARN TaskSetManager: Stage 404 contains a task of very large size (6176 KiB). The maximum recommended task size is 1000 KiB.\n",
      "24/12/04 01:08:49 WARN TaskSetManager: Stage 406 contains a task of very large size (6176 KiB). The maximum recommended task size is 1000 KiB.\n",
      "24/12/04 01:08:50 WARN TaskSetManager: Stage 408 contains a task of very large size (6176 KiB). The maximum recommended task size is 1000 KiB.\n",
      "24/12/04 01:08:51 WARN TaskSetManager: Stage 410 contains a task of very large size (6176 KiB). The maximum recommended task size is 1000 KiB.\n",
      "24/12/04 01:08:51 WARN TaskSetManager: Stage 412 contains a task of very large size (6176 KiB). The maximum recommended task size is 1000 KiB.\n",
      "24/12/04 01:08:51 WARN TaskSetManager: Stage 415 contains a task of very large size (6176 KiB). The maximum recommended task size is 1000 KiB.\n",
      "24/12/04 01:08:52 WARN TaskSetManager: Stage 418 contains a task of very large size (6176 KiB). The maximum recommended task size is 1000 KiB.\n",
      "24/12/04 01:08:52 WARN TaskSetManager: Stage 419 contains a task of very large size (6176 KiB). The maximum recommended task size is 1000 KiB.\n",
      "24/12/04 01:08:52 WARN TaskSetManager: Stage 420 contains a task of very large size (6176 KiB). The maximum recommended task size is 1000 KiB.\n",
      "24/12/04 01:08:53 WARN TaskSetManager: Stage 422 contains a task of very large size (6176 KiB). The maximum recommended task size is 1000 KiB.\n"
     ]
    },
    {
     "name": "stderr",
     "output_type": "stream",
     "text": [
      "                                                                                \r"
     ]
    },
    {
     "name": "stdout",
     "output_type": "stream",
     "text": [
      "24/12/04 01:08:54 WARN TaskSetManager: Stage 424 contains a task of very large size (6176 KiB). The maximum recommended task size is 1000 KiB.\n",
      "24/12/04 01:08:54 WARN TaskSetManager: Stage 426 contains a task of very large size (6176 KiB). The maximum recommended task size is 1000 KiB.\n",
      "24/12/04 01:08:54 WARN TaskSetManager: Stage 428 contains a task of very large size (6176 KiB). The maximum recommended task size is 1000 KiB.\n",
      "24/12/04 01:08:55 WARN TaskSetManager: Stage 430 contains a task of very large size (6176 KiB). The maximum recommended task size is 1000 KiB.\n",
      "24/12/04 01:08:56 WARN TaskSetManager: Stage 432 contains a task of very large size (6176 KiB). The maximum recommended task size is 1000 KiB.\n",
      "24/12/04 01:08:56 WARN TaskSetManager: Stage 434 contains a task of very large size (6176 KiB). The maximum recommended task size is 1000 KiB.\n",
      "24/12/04 01:08:56 WARN TaskSetManager: Stage 437 contains a task of very large size (6176 KiB). The maximum recommended task size is 1000 KiB.\n",
      "24/12/04 01:08:57 WARN TaskSetManager: Stage 440 contains a task of very large size (6176 KiB). The maximum recommended task size is 1000 KiB.\n",
      "24/12/04 01:08:57 WARN TaskSetManager: Stage 441 contains a task of very large size (6176 KiB). The maximum recommended task size is 1000 KiB.\n",
      "24/12/04 01:08:57 WARN TaskSetManager: Stage 442 contains a task of very large size (6176 KiB). The maximum recommended task size is 1000 KiB.\n",
      "24/12/04 01:08:58 WARN TaskSetManager: Stage 444 contains a task of very large size (6176 KiB). The maximum recommended task size is 1000 KiB.\n"
     ]
    },
    {
     "name": "stderr",
     "output_type": "stream",
     "text": [
      "                                                                                \r"
     ]
    },
    {
     "name": "stdout",
     "output_type": "stream",
     "text": [
      "24/12/04 01:08:59 WARN TaskSetManager: Stage 446 contains a task of very large size (6176 KiB). The maximum recommended task size is 1000 KiB.\n",
      "24/12/04 01:08:59 WARN TaskSetManager: Stage 448 contains a task of very large size (6176 KiB). The maximum recommended task size is 1000 KiB.\n",
      "24/12/04 01:09:00 WARN TaskSetManager: Stage 450 contains a task of very large size (6176 KiB). The maximum recommended task size is 1000 KiB.\n",
      "24/12/04 01:09:00 WARN TaskSetManager: Stage 452 contains a task of very large size (6176 KiB). The maximum recommended task size is 1000 KiB.\n",
      "24/12/04 01:09:01 WARN DAGScheduler: Broadcasting large task binary with size 1424.2 KiB\n",
      "24/12/04 01:09:01 WARN TaskSetManager: Stage 454 contains a task of very large size (6176 KiB). The maximum recommended task size is 1000 KiB.\n"
     ]
    },
    {
     "name": "stderr",
     "output_type": "stream",
     "text": [
      "                                                                                \r"
     ]
    },
    {
     "name": "stdout",
     "output_type": "stream",
     "text": [
      "24/12/04 01:09:02 WARN DAGScheduler: Broadcasting large task binary with size 2.4 MiB\n",
      "24/12/04 01:09:02 WARN TaskSetManager: Stage 456 contains a task of very large size (6176 KiB). The maximum recommended task size is 1000 KiB.\n"
     ]
    },
    {
     "name": "stderr",
     "output_type": "stream",
     "text": [
      "                                                                                \r"
     ]
    },
    {
     "name": "stdout",
     "output_type": "stream",
     "text": [
      "24/12/04 01:09:03 WARN DAGScheduler: Broadcasting large task binary with size 4.0 MiB\n",
      "24/12/04 01:09:03 WARN TaskSetManager: Stage 458 contains a task of very large size (6176 KiB). The maximum recommended task size is 1000 KiB.\n"
     ]
    },
    {
     "name": "stderr",
     "output_type": "stream",
     "text": [
      "                                                                                \r"
     ]
    },
    {
     "name": "stdout",
     "output_type": "stream",
     "text": [
      "24/12/04 01:09:05 WARN DAGScheduler: Broadcasting large task binary with size 6.3 MiB\n",
      "24/12/04 01:09:05 WARN TaskSetManager: Stage 460 contains a task of very large size (6176 KiB). The maximum recommended task size is 1000 KiB.\n"
     ]
    },
    {
     "name": "stderr",
     "output_type": "stream",
     "text": [
      "[Stage 460:>                                                        (0 + 3) / 3]\r"
     ]
    },
    {
     "name": "stdout",
     "output_type": "stream",
     "text": [
      "24/12/04 01:09:06 WARN DAGScheduler: Broadcasting large task binary with size 1186.0 KiB\n"
     ]
    },
    {
     "name": "stderr",
     "output_type": "stream",
     "text": [
      "                                                                                \r"
     ]
    },
    {
     "name": "stdout",
     "output_type": "stream",
     "text": [
      "24/12/04 01:09:07 WARN DAGScheduler: Broadcasting large task binary with size 9.7 MiB\n",
      "24/12/04 01:09:07 WARN TaskSetManager: Stage 462 contains a task of very large size (6176 KiB). The maximum recommended task size is 1000 KiB.\n"
     ]
    },
    {
     "name": "stderr",
     "output_type": "stream",
     "text": [
      "[Stage 462:>                                                        (0 + 3) / 3]\r"
     ]
    },
    {
     "name": "stdout",
     "output_type": "stream",
     "text": [
      "24/12/04 01:09:09 WARN DAGScheduler: Broadcasting large task binary with size 1619.2 KiB\n"
     ]
    },
    {
     "name": "stderr",
     "output_type": "stream",
     "text": [
      "                                                                                \r"
     ]
    },
    {
     "name": "stdout",
     "output_type": "stream",
     "text": [
      "24/12/04 01:09:10 WARN DAGScheduler: Broadcasting large task binary with size 6.9 MiB\n",
      "24/12/04 01:09:10 WARN TaskSetManager: Stage 464 contains a task of very large size (6176 KiB). The maximum recommended task size is 1000 KiB.\n",
      "24/12/04 01:09:11 WARN TaskSetManager: Stage 466 contains a task of very large size (6176 KiB). The maximum recommended task size is 1000 KiB.\n",
      "24/12/04 01:09:11 WARN TaskSetManager: Stage 469 contains a task of very large size (6176 KiB). The maximum recommended task size is 1000 KiB.\n",
      "24/12/04 01:09:11 WARN TaskSetManager: Stage 472 contains a task of very large size (6176 KiB). The maximum recommended task size is 1000 KiB.\n",
      "24/12/04 01:09:11 WARN TaskSetManager: Stage 473 contains a task of very large size (6176 KiB). The maximum recommended task size is 1000 KiB.\n",
      "24/12/04 01:09:12 WARN TaskSetManager: Stage 474 contains a task of very large size (6176 KiB). The maximum recommended task size is 1000 KiB.\n",
      "24/12/04 01:09:12 WARN TaskSetManager: Stage 476 contains a task of very large size (6176 KiB). The maximum recommended task size is 1000 KiB.\n"
     ]
    },
    {
     "name": "stderr",
     "output_type": "stream",
     "text": [
      "                                                                                \r"
     ]
    },
    {
     "name": "stdout",
     "output_type": "stream",
     "text": [
      "24/12/04 01:09:13 WARN TaskSetManager: Stage 478 contains a task of very large size (6176 KiB). The maximum recommended task size is 1000 KiB.\n",
      "24/12/04 01:09:14 WARN TaskSetManager: Stage 480 contains a task of very large size (6176 KiB). The maximum recommended task size is 1000 KiB.\n",
      "24/12/04 01:09:14 WARN TaskSetManager: Stage 482 contains a task of very large size (6176 KiB). The maximum recommended task size is 1000 KiB.\n",
      "24/12/04 01:09:14 WARN TaskSetManager: Stage 484 contains a task of very large size (6176 KiB). The maximum recommended task size is 1000 KiB.\n",
      "24/12/04 01:09:15 WARN DAGScheduler: Broadcasting large task binary with size 1437.3 KiB\n",
      "24/12/04 01:09:15 WARN TaskSetManager: Stage 486 contains a task of very large size (6176 KiB). The maximum recommended task size is 1000 KiB.\n"
     ]
    },
    {
     "name": "stderr",
     "output_type": "stream",
     "text": [
      "                                                                                \r"
     ]
    },
    {
     "name": "stdout",
     "output_type": "stream",
     "text": [
      "24/12/04 01:09:16 WARN DAGScheduler: Broadcasting large task binary with size 2.4 MiB\n",
      "24/12/04 01:09:16 WARN TaskSetManager: Stage 488 contains a task of very large size (6176 KiB). The maximum recommended task size is 1000 KiB.\n"
     ]
    },
    {
     "name": "stderr",
     "output_type": "stream",
     "text": [
      "                                                                                \r"
     ]
    },
    {
     "name": "stdout",
     "output_type": "stream",
     "text": [
      "24/12/04 01:09:17 WARN DAGScheduler: Broadcasting large task binary with size 4.1 MiB\n",
      "24/12/04 01:09:17 WARN TaskSetManager: Stage 490 contains a task of very large size (6176 KiB). The maximum recommended task size is 1000 KiB.\n"
     ]
    },
    {
     "name": "stderr",
     "output_type": "stream",
     "text": [
      "                                                                                \r"
     ]
    },
    {
     "name": "stdout",
     "output_type": "stream",
     "text": [
      "24/12/04 01:09:19 WARN DAGScheduler: Broadcasting large task binary with size 6.7 MiB\n",
      "24/12/04 01:09:19 WARN TaskSetManager: Stage 492 contains a task of very large size (6176 KiB). The maximum recommended task size is 1000 KiB.\n"
     ]
    },
    {
     "name": "stderr",
     "output_type": "stream",
     "text": [
      "[Stage 492:======================================>                  (2 + 1) / 3]\r"
     ]
    },
    {
     "name": "stdout",
     "output_type": "stream",
     "text": [
      "24/12/04 01:09:21 WARN DAGScheduler: Broadcasting large task binary with size 1288.1 KiB\n"
     ]
    },
    {
     "name": "stderr",
     "output_type": "stream",
     "text": [
      "                                                                                \r"
     ]
    },
    {
     "name": "stdout",
     "output_type": "stream",
     "text": [
      "24/12/04 01:09:22 WARN DAGScheduler: Broadcasting large task binary with size 10.3 MiB\n",
      "24/12/04 01:09:22 WARN TaskSetManager: Stage 494 contains a task of very large size (6176 KiB). The maximum recommended task size is 1000 KiB.\n"
     ]
    },
    {
     "name": "stderr",
     "output_type": "stream",
     "text": [
      "[Stage 494:======================================>                  (2 + 1) / 3]\r"
     ]
    },
    {
     "name": "stdout",
     "output_type": "stream",
     "text": [
      "24/12/04 01:09:25 WARN DAGScheduler: Broadcasting large task binary with size 1781.0 KiB\n"
     ]
    },
    {
     "name": "stderr",
     "output_type": "stream",
     "text": [
      "                                                                                \r"
     ]
    },
    {
     "name": "stdout",
     "output_type": "stream",
     "text": [
      "24/12/04 01:09:26 WARN DAGScheduler: Broadcasting large task binary with size 7.1 MiB\n",
      "24/12/04 01:09:26 WARN TaskSetManager: Stage 496 contains a task of very large size (6176 KiB). The maximum recommended task size is 1000 KiB.\n",
      "24/12/04 01:09:27 WARN TaskSetManager: Stage 498 contains a task of very large size (6176 KiB). The maximum recommended task size is 1000 KiB.\n",
      "24/12/04 01:09:27 WARN TaskSetManager: Stage 501 contains a task of very large size (6176 KiB). The maximum recommended task size is 1000 KiB.\n",
      "24/12/04 01:09:27 WARN TaskSetManager: Stage 504 contains a task of very large size (6176 KiB). The maximum recommended task size is 1000 KiB.\n",
      "24/12/04 01:09:27 WARN TaskSetManager: Stage 505 contains a task of very large size (6176 KiB). The maximum recommended task size is 1000 KiB.\n",
      "24/12/04 01:09:28 WARN TaskSetManager: Stage 506 contains a task of very large size (6176 KiB). The maximum recommended task size is 1000 KiB.\n",
      "24/12/04 01:09:28 WARN TaskSetManager: Stage 508 contains a task of very large size (6176 KiB). The maximum recommended task size is 1000 KiB.\n"
     ]
    },
    {
     "name": "stderr",
     "output_type": "stream",
     "text": [
      "                                                                                \r"
     ]
    },
    {
     "name": "stdout",
     "output_type": "stream",
     "text": [
      "24/12/04 01:09:29 WARN TaskSetManager: Stage 510 contains a task of very large size (6176 KiB). The maximum recommended task size is 1000 KiB.\n",
      "24/12/04 01:09:30 WARN TaskSetManager: Stage 512 contains a task of very large size (6176 KiB). The maximum recommended task size is 1000 KiB.\n",
      "24/12/04 01:09:30 WARN TaskSetManager: Stage 514 contains a task of very large size (6176 KiB). The maximum recommended task size is 1000 KiB.\n",
      "24/12/04 01:09:30 WARN TaskSetManager: Stage 516 contains a task of very large size (6176 KiB). The maximum recommended task size is 1000 KiB.\n"
     ]
    },
    {
     "name": "stderr",
     "output_type": "stream",
     "text": [
      "                                                                                \r"
     ]
    },
    {
     "name": "stdout",
     "output_type": "stream",
     "text": [
      "24/12/04 01:09:31 WARN DAGScheduler: Broadcasting large task binary with size 1424.2 KiB\n",
      "24/12/04 01:09:31 WARN TaskSetManager: Stage 518 contains a task of very large size (6176 KiB). The maximum recommended task size is 1000 KiB.\n"
     ]
    },
    {
     "name": "stderr",
     "output_type": "stream",
     "text": [
      "                                                                                \r"
     ]
    },
    {
     "name": "stdout",
     "output_type": "stream",
     "text": [
      "24/12/04 01:09:32 WARN DAGScheduler: Broadcasting large task binary with size 2.4 MiB\n",
      "24/12/04 01:09:32 WARN TaskSetManager: Stage 520 contains a task of very large size (6176 KiB). The maximum recommended task size is 1000 KiB.\n"
     ]
    },
    {
     "name": "stderr",
     "output_type": "stream",
     "text": [
      "                                                                                \r"
     ]
    },
    {
     "name": "stdout",
     "output_type": "stream",
     "text": [
      "24/12/04 01:09:33 WARN DAGScheduler: Broadcasting large task binary with size 4.0 MiB\n",
      "24/12/04 01:09:33 WARN TaskSetManager: Stage 522 contains a task of very large size (6176 KiB). The maximum recommended task size is 1000 KiB.\n"
     ]
    },
    {
     "name": "stderr",
     "output_type": "stream",
     "text": [
      "                                                                                \r"
     ]
    },
    {
     "name": "stdout",
     "output_type": "stream",
     "text": [
      "24/12/04 01:09:35 WARN DAGScheduler: Broadcasting large task binary with size 6.3 MiB\n",
      "24/12/04 01:09:35 WARN TaskSetManager: Stage 524 contains a task of very large size (6176 KiB). The maximum recommended task size is 1000 KiB.\n"
     ]
    },
    {
     "name": "stderr",
     "output_type": "stream",
     "text": [
      "[Stage 524:===================>                                     (1 + 2) / 3]\r"
     ]
    },
    {
     "name": "stdout",
     "output_type": "stream",
     "text": [
      "24/12/04 01:09:37 WARN DAGScheduler: Broadcasting large task binary with size 1186.0 KiB\n"
     ]
    },
    {
     "name": "stderr",
     "output_type": "stream",
     "text": [
      "                                                                                \r"
     ]
    },
    {
     "name": "stdout",
     "output_type": "stream",
     "text": [
      "24/12/04 01:09:37 WARN DAGScheduler: Broadcasting large task binary with size 9.7 MiB\n",
      "24/12/04 01:09:37 WARN TaskSetManager: Stage 526 contains a task of very large size (6176 KiB). The maximum recommended task size is 1000 KiB.\n"
     ]
    },
    {
     "name": "stderr",
     "output_type": "stream",
     "text": [
      "[Stage 526:===================>                                     (1 + 2) / 3]\r"
     ]
    },
    {
     "name": "stdout",
     "output_type": "stream",
     "text": [
      "24/12/04 01:09:39 WARN DAGScheduler: Broadcasting large task binary with size 1619.2 KiB\n"
     ]
    },
    {
     "name": "stderr",
     "output_type": "stream",
     "text": [
      "                                                                                \r"
     ]
    },
    {
     "name": "stdout",
     "output_type": "stream",
     "text": [
      "24/12/04 01:09:40 WARN DAGScheduler: Broadcasting large task binary with size 14.2 MiB\n",
      "24/12/04 01:09:40 WARN TaskSetManager: Stage 528 contains a task of very large size (6176 KiB). The maximum recommended task size is 1000 KiB.\n"
     ]
    },
    {
     "name": "stderr",
     "output_type": "stream",
     "text": [
      "[Stage 528:===================>                                     (1 + 2) / 3]\r"
     ]
    },
    {
     "name": "stdout",
     "output_type": "stream",
     "text": [
      "24/12/04 01:09:43 WARN DAGScheduler: Broadcasting large task binary with size 2.0 MiB\n"
     ]
    },
    {
     "name": "stderr",
     "output_type": "stream",
     "text": [
      "                                                                                \r"
     ]
    },
    {
     "name": "stdout",
     "output_type": "stream",
     "text": [
      "24/12/04 01:09:44 WARN DAGScheduler: Broadcasting large task binary with size 19.9 MiB\n",
      "24/12/04 01:09:44 WARN TaskSetManager: Stage 530 contains a task of very large size (6176 KiB). The maximum recommended task size is 1000 KiB.\n"
     ]
    },
    {
     "name": "stderr",
     "output_type": "stream",
     "text": [
      "[Stage 530:======================================>                  (2 + 1) / 3]\r"
     ]
    },
    {
     "name": "stdout",
     "output_type": "stream",
     "text": [
      "24/12/04 01:09:47 WARN DAGScheduler: Broadcasting large task binary with size 2.5 MiB\n"
     ]
    },
    {
     "name": "stderr",
     "output_type": "stream",
     "text": [
      "                                                                                \r"
     ]
    },
    {
     "name": "stdout",
     "output_type": "stream",
     "text": [
      "24/12/04 01:09:49 WARN DAGScheduler: Broadcasting large task binary with size 26.7 MiB\n",
      "24/12/04 01:09:49 WARN TaskSetManager: Stage 532 contains a task of very large size (6176 KiB). The maximum recommended task size is 1000 KiB.\n"
     ]
    },
    {
     "name": "stderr",
     "output_type": "stream",
     "text": [
      "[Stage 532:>                                                        (0 + 3) / 3]\r"
     ]
    },
    {
     "name": "stdout",
     "output_type": "stream",
     "text": [
      "24/12/04 01:09:52 WARN DAGScheduler: Broadcasting large task binary with size 3.0 MiB\n"
     ]
    },
    {
     "name": "stderr",
     "output_type": "stream",
     "text": [
      "[Stage 534:>                                                        (0 + 0) / 3]\r"
     ]
    },
    {
     "name": "stdout",
     "output_type": "stream",
     "text": [
      "24/12/04 01:09:55 WARN DAGScheduler: Broadcasting large task binary with size 34.6 MiB\n",
      "24/12/04 01:09:55 WARN TaskSetManager: Stage 534 contains a task of very large size (6176 KiB). The maximum recommended task size is 1000 KiB.\n"
     ]
    },
    {
     "name": "stderr",
     "output_type": "stream",
     "text": [
      "[Stage 534:>                                                        (0 + 3) / 3]\r"
     ]
    },
    {
     "name": "stdout",
     "output_type": "stream",
     "text": [
      "24/12/04 01:09:59 WARN DAGScheduler: Broadcasting large task binary with size 3.3 MiB\n"
     ]
    },
    {
     "name": "stderr",
     "output_type": "stream",
     "text": [
      "[Stage 536:>                                                        (0 + 0) / 3]\r"
     ]
    },
    {
     "name": "stdout",
     "output_type": "stream",
     "text": [
      "24/12/04 01:10:02 WARN DAGScheduler: Broadcasting large task binary with size 43.5 MiB\n",
      "24/12/04 01:10:02 WARN TaskSetManager: Stage 536 contains a task of very large size (6176 KiB). The maximum recommended task size is 1000 KiB.\n"
     ]
    },
    {
     "name": "stderr",
     "output_type": "stream",
     "text": [
      "[Stage 536:===================>                                     (1 + 2) / 3]\r"
     ]
    },
    {
     "name": "stdout",
     "output_type": "stream",
     "text": [
      "24/12/04 01:10:06 WARN DAGScheduler: Broadcasting large task binary with size 3.7 MiB\n"
     ]
    },
    {
     "name": "stderr",
     "output_type": "stream",
     "text": [
      "                                                                                \r"
     ]
    },
    {
     "name": "stdout",
     "output_type": "stream",
     "text": [
      "24/12/04 01:10:10 WARN DAGScheduler: Broadcasting large task binary with size 27.8 MiB\n",
      "24/12/04 01:10:10 WARN TaskSetManager: Stage 538 contains a task of very large size (6176 KiB). The maximum recommended task size is 1000 KiB.\n"
     ]
    },
    {
     "name": "stderr",
     "output_type": "stream",
     "text": [
      "                                                                                \r"
     ]
    },
    {
     "name": "stdout",
     "output_type": "stream",
     "text": [
      "24/12/04 01:10:12 WARN TaskSetManager: Stage 540 contains a task of very large size (6176 KiB). The maximum recommended task size is 1000 KiB.\n",
      "24/12/04 01:10:12 WARN TaskSetManager: Stage 543 contains a task of very large size (6176 KiB). The maximum recommended task size is 1000 KiB.\n",
      "24/12/04 01:10:13 WARN TaskSetManager: Stage 546 contains a task of very large size (6176 KiB). The maximum recommended task size is 1000 KiB.\n",
      "24/12/04 01:10:13 WARN TaskSetManager: Stage 547 contains a task of very large size (6176 KiB). The maximum recommended task size is 1000 KiB.\n",
      "24/12/04 01:10:13 WARN TaskSetManager: Stage 548 contains a task of very large size (6176 KiB). The maximum recommended task size is 1000 KiB.\n"
     ]
    },
    {
     "name": "stderr",
     "output_type": "stream",
     "text": [
      "                                                                                \r"
     ]
    },
    {
     "name": "stdout",
     "output_type": "stream",
     "text": [
      "24/12/04 01:10:14 WARN TaskSetManager: Stage 550 contains a task of very large size (6176 KiB). The maximum recommended task size is 1000 KiB.\n"
     ]
    },
    {
     "name": "stderr",
     "output_type": "stream",
     "text": [
      "                                                                                \r"
     ]
    },
    {
     "name": "stdout",
     "output_type": "stream",
     "text": [
      "24/12/04 01:10:15 WARN TaskSetManager: Stage 552 contains a task of very large size (6176 KiB). The maximum recommended task size is 1000 KiB.\n",
      "24/12/04 01:10:15 WARN TaskSetManager: Stage 554 contains a task of very large size (6176 KiB). The maximum recommended task size is 1000 KiB.\n",
      "24/12/04 01:10:15 WARN TaskSetManager: Stage 556 contains a task of very large size (6176 KiB). The maximum recommended task size is 1000 KiB.\n",
      "24/12/04 01:10:16 WARN TaskSetManager: Stage 558 contains a task of very large size (6176 KiB). The maximum recommended task size is 1000 KiB.\n",
      "24/12/04 01:10:17 WARN DAGScheduler: Broadcasting large task binary with size 1437.3 KiB\n",
      "24/12/04 01:10:17 WARN TaskSetManager: Stage 560 contains a task of very large size (6176 KiB). The maximum recommended task size is 1000 KiB.\n"
     ]
    },
    {
     "name": "stderr",
     "output_type": "stream",
     "text": [
      "                                                                                \r"
     ]
    },
    {
     "name": "stdout",
     "output_type": "stream",
     "text": [
      "24/12/04 01:10:18 WARN DAGScheduler: Broadcasting large task binary with size 2.4 MiB\n",
      "24/12/04 01:10:18 WARN TaskSetManager: Stage 562 contains a task of very large size (6176 KiB). The maximum recommended task size is 1000 KiB.\n"
     ]
    },
    {
     "name": "stderr",
     "output_type": "stream",
     "text": [
      "                                                                                \r"
     ]
    },
    {
     "name": "stdout",
     "output_type": "stream",
     "text": [
      "24/12/04 01:10:19 WARN DAGScheduler: Broadcasting large task binary with size 4.1 MiB\n",
      "24/12/04 01:10:19 WARN TaskSetManager: Stage 564 contains a task of very large size (6176 KiB). The maximum recommended task size is 1000 KiB.\n"
     ]
    },
    {
     "name": "stderr",
     "output_type": "stream",
     "text": [
      "                                                                                \r"
     ]
    },
    {
     "name": "stdout",
     "output_type": "stream",
     "text": [
      "24/12/04 01:10:21 WARN DAGScheduler: Broadcasting large task binary with size 6.7 MiB\n",
      "24/12/04 01:10:21 WARN TaskSetManager: Stage 566 contains a task of very large size (6176 KiB). The maximum recommended task size is 1000 KiB.\n"
     ]
    },
    {
     "name": "stderr",
     "output_type": "stream",
     "text": [
      "[Stage 566:>                                                        (0 + 3) / 3]\r"
     ]
    },
    {
     "name": "stdout",
     "output_type": "stream",
     "text": [
      "24/12/04 01:10:22 WARN DAGScheduler: Broadcasting large task binary with size 1288.1 KiB\n"
     ]
    },
    {
     "name": "stderr",
     "output_type": "stream",
     "text": [
      "                                                                                \r"
     ]
    },
    {
     "name": "stdout",
     "output_type": "stream",
     "text": [
      "24/12/04 01:10:23 WARN DAGScheduler: Broadcasting large task binary with size 10.3 MiB\n",
      "24/12/04 01:10:23 WARN TaskSetManager: Stage 568 contains a task of very large size (6176 KiB). The maximum recommended task size is 1000 KiB.\n"
     ]
    },
    {
     "name": "stderr",
     "output_type": "stream",
     "text": [
      "[Stage 568:======================================>                  (2 + 1) / 3]\r"
     ]
    },
    {
     "name": "stdout",
     "output_type": "stream",
     "text": [
      "24/12/04 01:10:26 WARN DAGScheduler: Broadcasting large task binary with size 1781.0 KiB\n"
     ]
    },
    {
     "name": "stderr",
     "output_type": "stream",
     "text": [
      "                                                                                \r"
     ]
    },
    {
     "name": "stdout",
     "output_type": "stream",
     "text": [
      "24/12/04 01:10:27 WARN DAGScheduler: Broadcasting large task binary with size 15.3 MiB\n",
      "24/12/04 01:10:27 WARN TaskSetManager: Stage 570 contains a task of very large size (6176 KiB). The maximum recommended task size is 1000 KiB.\n"
     ]
    },
    {
     "name": "stderr",
     "output_type": "stream",
     "text": [
      "[Stage 570:===================>                                     (1 + 2) / 3]\r"
     ]
    },
    {
     "name": "stdout",
     "output_type": "stream",
     "text": [
      "24/12/04 01:10:29 WARN DAGScheduler: Broadcasting large task binary with size 2.3 MiB\n"
     ]
    },
    {
     "name": "stderr",
     "output_type": "stream",
     "text": [
      "                                                                                \r"
     ]
    },
    {
     "name": "stdout",
     "output_type": "stream",
     "text": [
      "24/12/04 01:10:31 WARN DAGScheduler: Broadcasting large task binary with size 21.6 MiB\n",
      "24/12/04 01:10:31 WARN TaskSetManager: Stage 572 contains a task of very large size (6176 KiB). The maximum recommended task size is 1000 KiB.\n"
     ]
    },
    {
     "name": "stderr",
     "output_type": "stream",
     "text": [
      "[Stage 572:===================>                                     (1 + 2) / 3]\r"
     ]
    },
    {
     "name": "stdout",
     "output_type": "stream",
     "text": [
      "24/12/04 01:10:34 WARN DAGScheduler: Broadcasting large task binary with size 2.8 MiB\n"
     ]
    },
    {
     "name": "stderr",
     "output_type": "stream",
     "text": [
      "                                                                                \r"
     ]
    },
    {
     "name": "stdout",
     "output_type": "stream",
     "text": [
      "24/12/04 01:10:37 WARN DAGScheduler: Broadcasting large task binary with size 29.2 MiB\n",
      "24/12/04 01:10:37 WARN TaskSetManager: Stage 574 contains a task of very large size (6176 KiB). The maximum recommended task size is 1000 KiB.\n"
     ]
    },
    {
     "name": "stderr",
     "output_type": "stream",
     "text": [
      "[Stage 574:======================================>                  (2 + 1) / 3]\r"
     ]
    },
    {
     "name": "stdout",
     "output_type": "stream",
     "text": [
      "24/12/04 01:10:40 WARN DAGScheduler: Broadcasting large task binary with size 3.3 MiB\n"
     ]
    },
    {
     "name": "stderr",
     "output_type": "stream",
     "text": [
      "[Stage 576:>                                                        (0 + 0) / 3]\r"
     ]
    },
    {
     "name": "stdout",
     "output_type": "stream",
     "text": [
      "24/12/04 01:10:43 WARN DAGScheduler: Broadcasting large task binary with size 38.1 MiB\n",
      "24/12/04 01:10:43 WARN TaskSetManager: Stage 576 contains a task of very large size (6176 KiB). The maximum recommended task size is 1000 KiB.\n"
     ]
    },
    {
     "name": "stderr",
     "output_type": "stream",
     "text": [
      "[Stage 576:======================================>                  (2 + 1) / 3]\r"
     ]
    },
    {
     "name": "stdout",
     "output_type": "stream",
     "text": [
      "24/12/04 01:10:47 WARN DAGScheduler: Broadcasting large task binary with size 3.8 MiB\n"
     ]
    },
    {
     "name": "stderr",
     "output_type": "stream",
     "text": [
      "[Stage 578:>                                                        (0 + 0) / 3]\r"
     ]
    },
    {
     "name": "stdout",
     "output_type": "stream",
     "text": [
      "24/12/04 01:10:51 WARN DAGScheduler: Broadcasting large task binary with size 48.0 MiB\n",
      "24/12/04 01:10:51 WARN TaskSetManager: Stage 578 contains a task of very large size (6176 KiB). The maximum recommended task size is 1000 KiB.\n"
     ]
    },
    {
     "name": "stderr",
     "output_type": "stream",
     "text": [
      "[Stage 578:======================================>                  (2 + 1) / 3]\r"
     ]
    },
    {
     "name": "stdout",
     "output_type": "stream",
     "text": [
      "24/12/04 01:10:56 WARN DAGScheduler: Broadcasting large task binary with size 4.1 MiB\n"
     ]
    },
    {
     "name": "stderr",
     "output_type": "stream",
     "text": [
      "                                                                                \r"
     ]
    },
    {
     "name": "stdout",
     "output_type": "stream",
     "text": [
      "24/12/04 01:10:59 WARN DAGScheduler: Broadcasting large task binary with size 30.2 MiB\n",
      "24/12/04 01:10:59 WARN TaskSetManager: Stage 580 contains a task of very large size (6176 KiB). The maximum recommended task size is 1000 KiB.\n"
     ]
    },
    {
     "name": "stderr",
     "output_type": "stream",
     "text": [
      "                                                                                \r"
     ]
    },
    {
     "name": "stdout",
     "output_type": "stream",
     "text": [
      "24/12/04 01:11:01 WARN TaskSetManager: Stage 582 contains a task of very large size (6176 KiB). The maximum recommended task size is 1000 KiB.\n",
      "24/12/04 01:11:02 WARN TaskSetManager: Stage 585 contains a task of very large size (6176 KiB). The maximum recommended task size is 1000 KiB.\n"
     ]
    },
    {
     "name": "stderr",
     "output_type": "stream",
     "text": [
      "                                                                                \r"
     ]
    },
    {
     "name": "stdout",
     "output_type": "stream",
     "text": [
      "24/12/04 01:11:03 WARN TaskSetManager: Stage 588 contains a task of very large size (6176 KiB). The maximum recommended task size is 1000 KiB.\n",
      "24/12/04 01:11:03 WARN TaskSetManager: Stage 589 contains a task of very large size (6176 KiB). The maximum recommended task size is 1000 KiB.\n"
     ]
    },
    {
     "name": "stderr",
     "output_type": "stream",
     "text": [
      "                                                                                \r"
     ]
    },
    {
     "name": "stdout",
     "output_type": "stream",
     "text": [
      "24/12/04 01:11:04 WARN TaskSetManager: Stage 590 contains a task of very large size (6176 KiB). The maximum recommended task size is 1000 KiB.\n"
     ]
    },
    {
     "name": "stderr",
     "output_type": "stream",
     "text": [
      "                                                                                \r"
     ]
    },
    {
     "name": "stdout",
     "output_type": "stream",
     "text": [
      "24/12/04 01:11:06 WARN TaskSetManager: Stage 592 contains a task of very large size (6176 KiB). The maximum recommended task size is 1000 KiB.\n"
     ]
    },
    {
     "name": "stderr",
     "output_type": "stream",
     "text": [
      "                                                                                \r"
     ]
    },
    {
     "name": "stdout",
     "output_type": "stream",
     "text": [
      "24/12/04 01:11:07 WARN TaskSetManager: Stage 594 contains a task of very large size (6176 KiB). The maximum recommended task size is 1000 KiB.\n",
      "24/12/04 01:11:08 WARN TaskSetManager: Stage 596 contains a task of very large size (6176 KiB). The maximum recommended task size is 1000 KiB.\n",
      "24/12/04 01:11:08 WARN TaskSetManager: Stage 598 contains a task of very large size (6176 KiB). The maximum recommended task size is 1000 KiB.\n",
      "24/12/04 01:11:09 WARN TaskSetManager: Stage 600 contains a task of very large size (6176 KiB). The maximum recommended task size is 1000 KiB.\n",
      "24/12/04 01:11:09 WARN TaskSetManager: Stage 602 contains a task of very large size (6176 KiB). The maximum recommended task size is 1000 KiB.\n",
      "24/12/04 01:11:10 WARN DAGScheduler: Broadcasting large task binary with size 1334.8 KiB\n",
      "24/12/04 01:11:10 WARN TaskSetManager: Stage 604 contains a task of very large size (6176 KiB). The maximum recommended task size is 1000 KiB.\n",
      "24/12/04 01:11:10 WARN DAGScheduler: Broadcasting large task binary with size 2.1 MiB\n",
      "24/12/04 01:11:10 WARN TaskSetManager: Stage 606 contains a task of very large size (6176 KiB). The maximum recommended task size is 1000 KiB.\n"
     ]
    },
    {
     "name": "stderr",
     "output_type": "stream",
     "text": [
      "                                                                                \r"
     ]
    },
    {
     "name": "stdout",
     "output_type": "stream",
     "text": [
      "24/12/04 01:11:12 WARN DAGScheduler: Broadcasting large task binary with size 3.4 MiB\n",
      "24/12/04 01:11:12 WARN TaskSetManager: Stage 608 contains a task of very large size (6176 KiB). The maximum recommended task size is 1000 KiB.\n"
     ]
    },
    {
     "name": "stderr",
     "output_type": "stream",
     "text": [
      "                                                                                \r"
     ]
    },
    {
     "name": "stdout",
     "output_type": "stream",
     "text": [
      "24/12/04 01:11:13 WARN DAGScheduler: Broadcasting large task binary with size 5.1 MiB\n",
      "24/12/04 01:11:13 WARN TaskSetManager: Stage 610 contains a task of very large size (6176 KiB). The maximum recommended task size is 1000 KiB.\n"
     ]
    },
    {
     "name": "stderr",
     "output_type": "stream",
     "text": [
      "                                                                                \r"
     ]
    },
    {
     "name": "stdout",
     "output_type": "stream",
     "text": [
      "24/12/04 01:11:15 WARN DAGScheduler: Broadcasting large task binary with size 7.6 MiB\n",
      "24/12/04 01:11:15 WARN TaskSetManager: Stage 612 contains a task of very large size (6176 KiB). The maximum recommended task size is 1000 KiB.\n"
     ]
    },
    {
     "name": "stderr",
     "output_type": "stream",
     "text": [
      "[Stage 612:======================================>                  (2 + 1) / 3]\r"
     ]
    },
    {
     "name": "stdout",
     "output_type": "stream",
     "text": [
      "24/12/04 01:11:17 WARN DAGScheduler: Broadcasting large task binary with size 1147.7 KiB\n"
     ]
    },
    {
     "name": "stderr",
     "output_type": "stream",
     "text": [
      "                                                                                \r"
     ]
    },
    {
     "name": "stdout",
     "output_type": "stream",
     "text": [
      "24/12/04 01:11:18 WARN DAGScheduler: Broadcasting large task binary with size 10.7 MiB\n",
      "24/12/04 01:11:18 WARN TaskSetManager: Stage 614 contains a task of very large size (6176 KiB). The maximum recommended task size is 1000 KiB.\n"
     ]
    },
    {
     "name": "stderr",
     "output_type": "stream",
     "text": [
      "[Stage 614:======================================>                  (2 + 1) / 3]\r"
     ]
    },
    {
     "name": "stdout",
     "output_type": "stream",
     "text": [
      "24/12/04 01:11:20 WARN DAGScheduler: Broadcasting large task binary with size 1435.4 KiB\n"
     ]
    },
    {
     "name": "stderr",
     "output_type": "stream",
     "text": [
      "                                                                                \r"
     ]
    },
    {
     "name": "stdout",
     "output_type": "stream",
     "text": [
      "24/12/04 01:11:21 WARN DAGScheduler: Broadcasting large task binary with size 14.5 MiB\n",
      "24/12/04 01:11:21 WARN TaskSetManager: Stage 616 contains a task of very large size (6176 KiB). The maximum recommended task size is 1000 KiB.\n"
     ]
    },
    {
     "name": "stderr",
     "output_type": "stream",
     "text": [
      "[Stage 616:===================>                                     (1 + 2) / 3]\r"
     ]
    },
    {
     "name": "stdout",
     "output_type": "stream",
     "text": [
      "24/12/04 01:11:23 WARN DAGScheduler: Broadcasting large task binary with size 1721.0 KiB\n"
     ]
    },
    {
     "name": "stderr",
     "output_type": "stream",
     "text": [
      "                                                                                \r"
     ]
    },
    {
     "name": "stdout",
     "output_type": "stream",
     "text": [
      "24/12/04 01:11:25 WARN DAGScheduler: Broadcasting large task binary with size 19.0 MiB\n",
      "24/12/04 01:11:25 WARN TaskSetManager: Stage 618 contains a task of very large size (6176 KiB). The maximum recommended task size is 1000 KiB.\n"
     ]
    },
    {
     "name": "stderr",
     "output_type": "stream",
     "text": [
      "[Stage 618:===================>                                     (1 + 2) / 3]\r"
     ]
    },
    {
     "name": "stdout",
     "output_type": "stream",
     "text": [
      "24/12/04 01:11:27 WARN DAGScheduler: Broadcasting large task binary with size 1980.3 KiB\n"
     ]
    },
    {
     "name": "stderr",
     "output_type": "stream",
     "text": [
      "                                                                                \r"
     ]
    },
    {
     "name": "stdout",
     "output_type": "stream",
     "text": [
      "24/12/04 01:11:30 WARN DAGScheduler: Broadcasting large task binary with size 24.2 MiB\n",
      "24/12/04 01:11:30 WARN TaskSetManager: Stage 620 contains a task of very large size (6176 KiB). The maximum recommended task size is 1000 KiB.\n"
     ]
    },
    {
     "name": "stderr",
     "output_type": "stream",
     "text": [
      "[Stage 620:======================================>                  (2 + 1) / 3]\r"
     ]
    },
    {
     "name": "stdout",
     "output_type": "stream",
     "text": [
      "24/12/04 01:11:33 WARN DAGScheduler: Broadcasting large task binary with size 2.1 MiB\n"
     ]
    },
    {
     "name": "stderr",
     "output_type": "stream",
     "text": [
      "                                                                                \r"
     ]
    }
   ],
   "source": [
    "# need to replace the empty string in surface\n",
    "df = df.withColumn(\n",
    "    'surface',\n",
    "    F.when(df.surface == '', 'Undefined').otherwise(df.surface)\n",
    ")\n",
    "\n",
    "# fit the model with the hyperparameter search\n",
    "rf_model = tvs.fit(df)"
   ]
  },
  {
   "cell_type": "markdown",
   "id": "1fa9c326-f0aa-4c4e-8602-e0afd32af9bc",
   "metadata": {},
   "source": [
    "### Evaluate the Model"
   ]
  },
  {
   "cell_type": "code",
   "execution_count": 10,
   "id": "379fa92e-0041-48d1-bb80-ba5012951bbd",
   "metadata": {},
   "outputs": [
    {
     "name": "stdout",
     "output_type": "stream",
     "text": [
      "Tuned Parameters of the Best Model:\n",
      "bootstrap: True\n",
      "cacheNodeIds: False\n",
      "checkpointInterval: 10\n",
      "featureSubsetStrategy: auto\n",
      "featuresCol: scaledFeatures\n",
      "impurity: gini\n",
      "labelCol: play_type_idx\n",
      "leafCol: \n",
      "maxBins: 32\n",
      "maxDepth: 15\n",
      "maxMemoryInMB: 256\n",
      "minInfoGain: 0.0\n",
      "minInstancesPerNode: 1\n",
      "minWeightFractionPerNode: 0.0\n",
      "numTrees: 50\n",
      "predictionCol: prediction\n",
      "probabilityCol: probability\n",
      "rawPredictionCol: rawPrediction\n",
      "seed: 42\n",
      "subsamplingRate: 1.0\n"
     ]
    }
   ],
   "source": [
    "best_model = rf_model.bestModel\n",
    "\n",
    "# Extract the parameter map of the best model\n",
    "best_params = best_model.stages[-1].extractParamMap()\n",
    "\n",
    "# Print the parameters values\n",
    "print(\"Tuned Parameters of the Best Model:\")\n",
    "for param, value in best_params.items():\n",
    "    print(f\"{param.name}: {value}\")"
   ]
  },
  {
   "cell_type": "code",
   "execution_count": 11,
   "id": "b35437ee-aa32-456f-b6cb-c4f3925686d7",
   "metadata": {},
   "outputs": [],
   "source": [
    "# have to change test df instance\n",
    "test_df = test_df.withColumn(\n",
    "    'surface',\n",
    "    F.when(test_df.surface == '', 'Undefined').otherwise(test_df.surface)\n",
    ")\n",
    "\n",
    "prediction = best_model.transform(test_df)\n"
   ]
  },
  {
   "cell_type": "code",
   "execution_count": 12,
   "id": "4c7a9720-fe4d-4c2c-bdd0-02adf1f269e9",
   "metadata": {},
   "outputs": [
    {
     "name": "stdout",
     "output_type": "stream",
     "text": [
      "24/12/04 01:11:42 WARN TaskSetManager: Stage 622 contains a task of very large size (6176 KiB). The maximum recommended task size is 1000 KiB.\n",
      "24/12/04 01:11:43 WARN TaskSetManager: Stage 623 contains a task of very large size (6176 KiB). The maximum recommended task size is 1000 KiB.\n"
     ]
    },
    {
     "name": "stderr",
     "output_type": "stream",
     "text": [
      "[Stage 626:>                                                        (0 + 3) / 3]\r"
     ]
    },
    {
     "name": "stdout",
     "output_type": "stream",
     "text": [
      "24/12/04 01:11:46 WARN DAGScheduler: Broadcasting large task binary with size 15.6 MiB\n"
     ]
    },
    {
     "name": "stderr",
     "output_type": "stream",
     "text": [
      "                                                                                \r"
     ]
    },
    {
     "name": "stdout",
     "output_type": "stream",
     "text": [
      "24/12/04 01:11:49 WARN TaskSetManager: Stage 632 contains a task of very large size (6176 KiB). The maximum recommended task size is 1000 KiB.\n",
      "24/12/04 01:11:49 WARN TaskSetManager: Stage 633 contains a task of very large size (6176 KiB). The maximum recommended task size is 1000 KiB.\n"
     ]
    },
    {
     "name": "stderr",
     "output_type": "stream",
     "text": [
      "[Stage 636:======================================>                  (2 + 1) / 3]\r"
     ]
    },
    {
     "name": "stdout",
     "output_type": "stream",
     "text": [
      "24/12/04 01:11:52 WARN DAGScheduler: Broadcasting large task binary with size 15.6 MiB\n"
     ]
    },
    {
     "name": "stderr",
     "output_type": "stream",
     "text": [
      "                                                                                \r"
     ]
    },
    {
     "name": "stdout",
     "output_type": "stream",
     "text": [
      "24/12/04 01:11:54 WARN TaskSetManager: Stage 642 contains a task of very large size (6176 KiB). The maximum recommended task size is 1000 KiB.\n",
      "24/12/04 01:11:54 WARN TaskSetManager: Stage 643 contains a task of very large size (6176 KiB). The maximum recommended task size is 1000 KiB.\n"
     ]
    },
    {
     "name": "stderr",
     "output_type": "stream",
     "text": [
      "[Stage 646:===================>                                     (1 + 2) / 3]\r"
     ]
    },
    {
     "name": "stdout",
     "output_type": "stream",
     "text": [
      "24/12/04 01:11:57 WARN DAGScheduler: Broadcasting large task binary with size 15.6 MiB\n"
     ]
    },
    {
     "name": "stderr",
     "output_type": "stream",
     "text": [
      "                                                                                \r"
     ]
    },
    {
     "name": "stdout",
     "output_type": "stream",
     "text": [
      "24/12/04 01:11:58 WARN TaskSetManager: Stage 652 contains a task of very large size (6176 KiB). The maximum recommended task size is 1000 KiB.\n",
      "24/12/04 01:11:59 WARN TaskSetManager: Stage 653 contains a task of very large size (6176 KiB). The maximum recommended task size is 1000 KiB.\n"
     ]
    },
    {
     "name": "stderr",
     "output_type": "stream",
     "text": [
      "[Stage 656:===================>                                     (1 + 2) / 3]\r"
     ]
    },
    {
     "name": "stdout",
     "output_type": "stream",
     "text": [
      "24/12/04 01:12:01 WARN DAGScheduler: Broadcasting large task binary with size 15.6 MiB\n"
     ]
    },
    {
     "name": "stderr",
     "output_type": "stream",
     "text": [
      "                                                                                \r"
     ]
    },
    {
     "name": "stdout",
     "output_type": "stream",
     "text": [
      "24/12/04 01:12:02 WARN TaskSetManager: Stage 662 contains a task of very large size (6176 KiB). The maximum recommended task size is 1000 KiB.\n",
      "24/12/04 01:12:03 WARN TaskSetManager: Stage 663 contains a task of very large size (6176 KiB). The maximum recommended task size is 1000 KiB.\n"
     ]
    },
    {
     "name": "stderr",
     "output_type": "stream",
     "text": [
      "[Stage 666:======================================>                  (2 + 1) / 3]\r"
     ]
    },
    {
     "name": "stdout",
     "output_type": "stream",
     "text": [
      "24/12/04 01:12:04 WARN DAGScheduler: Broadcasting large task binary with size 15.6 MiB\n"
     ]
    },
    {
     "name": "stderr",
     "output_type": "stream",
     "text": [
      "                                                                                \r"
     ]
    }
   ],
   "source": [
    "f1_evaluator = MulticlassClassificationEvaluator(\n",
    "    labelCol='play_type_idx', predictionCol=\"prediction\",\n",
    "    metricName='f1'\n",
    ")\n",
    "\n",
    "accuracy_evaluator = MulticlassClassificationEvaluator(\n",
    "    labelCol='play_type_idx', predictionCol=\"prediction\",\n",
    "    metricName='accuracy'\n",
    ")\n",
    "\n",
    "precision_by_label_eval = MulticlassClassificationEvaluator(\n",
    "    labelCol='play_type_idx', predictionCol=\"prediction\",\n",
    "    metricName='precisionByLabel'\n",
    ")\n",
    "\n",
    "weighted_precision_eval = MulticlassClassificationEvaluator(\n",
    "    labelCol='play_type_idx', predictionCol=\"prediction\",\n",
    "    metricName='weightedPrecision'\n",
    ")\n",
    "\n",
    "\n",
    "weighted_recall_eval = MulticlassClassificationEvaluator(\n",
    "    labelCol='play_type_idx', predictionCol=\"prediction\",\n",
    "    metricName='weightedRecall'\n",
    ")\n",
    "\n",
    "f1_score = f1_evaluator.evaluate(prediction)\n",
    "accuracy = accuracy_evaluator.evaluate(prediction)\n",
    "precision_by_label = precision_by_label_eval.evaluate(prediction)\n",
    "precision = weighted_precision_eval.evaluate(prediction)\n",
    "recall = weighted_recall_eval.evaluate(prediction)"
   ]
  },
  {
   "cell_type": "code",
   "execution_count": null,
   "id": "373d502c-6f99-40a5-8c04-13dd353c9cc0",
   "metadata": {},
   "outputs": [],
   "source": [
    "prediction.select([prediction.play_type_idx, prediction.prediction]).show(10)"
   ]
  },
  {
   "cell_type": "code",
   "execution_count": null,
   "id": "93762d04-5930-4435-b6ea-89b4a7410b16",
   "metadata": {},
   "outputs": [],
   "source": [
    "prediction.groupby(prediction.prediction).count().show()"
   ]
  },
  {
   "cell_type": "code",
   "execution_count": null,
   "id": "21cd6c86-2b93-44f5-b611-f4dec6a3fba5",
   "metadata": {},
   "outputs": [],
   "source": [
    "prediction.groupby(prediction.play_type_idx).count().show()"
   ]
  },
  {
   "cell_type": "code",
   "execution_count": 13,
   "id": "fdf18220-4093-4635-ab84-ddfd9284d579",
   "metadata": {},
   "outputs": [
    {
     "name": "stdout",
     "output_type": "stream",
     "text": [
      "24/12/04 01:12:10 WARN TaskSetManager: Stage 672 contains a task of very large size (6176 KiB). The maximum recommended task size is 1000 KiB.\n",
      "24/12/04 01:12:10 WARN TaskSetManager: Stage 673 contains a task of very large size (6176 KiB). The maximum recommended task size is 1000 KiB.\n"
     ]
    },
    {
     "name": "stderr",
     "output_type": "stream",
     "text": [
      "                                                                                \r"
     ]
    }
   ],
   "source": [
    "labels = prediction.select([prediction.play_type, prediction.play_type_idx]).distinct().orderBy(prediction.play_type_idx).select(prediction.play_type).collect()\n",
    "labels = [x[0] for x in labels]"
   ]
  },
  {
   "cell_type": "code",
   "execution_count": null,
   "id": "e231c8d6-1f67-469b-a6f3-755d82f0ddad",
   "metadata": {},
   "outputs": [],
   "source": [
    "test_df.groupby(test_df.play_type).count().show()"
   ]
  },
  {
   "cell_type": "code",
   "execution_count": 14,
   "id": "23165c0a-c5b9-42c9-9786-fecd21c7df65",
   "metadata": {},
   "outputs": [
    {
     "name": "stdout",
     "output_type": "stream",
     "text": [
      "\n",
      "F1: 0.8791488975343991\n",
      "Accuracy: 0.9015169628862145\n",
      "Precision by Label: 0.939925224146067\n",
      "Weighted Precision: 0.8651043570532826\n",
      "Weighted Recall: 0.9015169628862145\n",
      "\n"
     ]
    }
   ],
   "source": [
    "results = f'''\n",
    "F1: {f1_score}\n",
    "Accuracy: {accuracy}\n",
    "Precision by Label: {precision_by_label}\n",
    "Weighted Precision: {precision}\n",
    "Weighted Recall: {recall}\n",
    "'''\n",
    "\n",
    "print(results)"
   ]
  },
  {
   "cell_type": "code",
   "execution_count": 15,
   "id": "9b00f9b4-0009-4294-9d5d-1ab0d2f1adbc",
   "metadata": {},
   "outputs": [
    {
     "name": "stdout",
     "output_type": "stream",
     "text": [
      "24/12/04 01:12:22 WARN TaskSetManager: Stage 697 contains a task of very large size (6176 KiB). The maximum recommended task size is 1000 KiB.\n",
      "24/12/04 01:12:23 WARN TaskSetManager: Stage 698 contains a task of very large size (6176 KiB). The maximum recommended task size is 1000 KiB.\n"
     ]
    },
    {
     "name": "stderr",
     "output_type": "stream",
     "text": [
      "[Stage 701:>                                                        (0 + 3) / 3]\r"
     ]
    },
    {
     "name": "stdout",
     "output_type": "stream",
     "text": [
      "24/12/04 01:12:25 WARN DAGScheduler: Broadcasting large task binary with size 15.6 MiB\n"
     ]
    },
    {
     "name": "stderr",
     "output_type": "stream",
     "text": [
      "                                                                                \r"
     ]
    },
    {
     "name": "stdout",
     "output_type": "stream",
     "text": [
      "24/12/04 01:12:28 WARN DAGScheduler: Broadcasting large task binary with size 15.6 MiB\n"
     ]
    },
    {
     "name": "stderr",
     "output_type": "stream",
     "text": [
      "/opt/conda/lib/python3.7/site-packages/pyspark/sql/context.py:159: FutureWarning: Deprecated in 3.0.0. Use SparkSession.builder.getOrCreate() instead.\n",
      "  FutureWarning,\n"
     ]
    },
    {
     "name": "stdout",
     "output_type": "stream",
     "text": [
      "24/12/04 01:12:30 WARN DAGScheduler: Broadcasting large task binary with size 15.5 MiB\n"
     ]
    },
    {
     "name": "stderr",
     "output_type": "stream",
     "text": [
      "                                                                                \r"
     ]
    },
    {
     "name": "stdout",
     "output_type": "stream",
     "text": [
      "24/12/04 01:12:31 WARN DAGScheduler: Broadcasting large task binary with size 15.5 MiB\n"
     ]
    },
    {
     "name": "stderr",
     "output_type": "stream",
     "text": [
      "[Stage 719:>                                                        (0 + 1) / 1]\r"
     ]
    },
    {
     "name": "stdout",
     "output_type": "stream",
     "text": [
      "[[2.5894e+04 2.3200e+02 5.4000e+01 7.0000e+00 0.0000e+00]\n",
      " [9.5000e+01 6.1030e+03 5.7000e+01 8.0000e+00 0.0000e+00]\n",
      " [3.7300e+02 5.2100e+02 1.3160e+03 1.6200e+02 0.0000e+00]\n",
      " [2.7200e+02 3.7800e+02 1.7700e+02 6.2100e+02 0.0000e+00]\n",
      " [9.1500e+02 2.7800e+02 1.2100e+02 5.7000e+01 0.0000e+00]]\n"
     ]
    },
    {
     "name": "stderr",
     "output_type": "stream",
     "text": [
      "                                                                                \r"
     ]
    }
   ],
   "source": [
    "from pyspark.sql.types import FloatType\n",
    "from pyspark.mllib.evaluation import MulticlassMetrics\n",
    "\n",
    "#Adapting code from https://www.kaggle.com/code/ashokkumarpalivela/multiclass-classification-using-pyspark for confusion matrix\n",
    "preds_and_labels = prediction.select(['prediction','play_type_idx'])\\\n",
    "                              .withColumn('play_type_idx', col('play_type_idx')\\\n",
    "                              .cast(FloatType()))\\\n",
    "                              .orderBy('play_type_idx')\n",
    "    \n",
    "metrics = MulticlassMetrics(preds_and_labels.rdd.map(tuple))\n",
    "\n",
    "print(metrics.confusionMatrix().toArray())"
   ]
  },
  {
   "cell_type": "code",
   "execution_count": 20,
   "id": "dcf723f4-ec66-4858-89ac-098050470fe0",
   "metadata": {},
   "outputs": [
    {
     "ename": "TypeError",
     "evalue": "'Figure' object is not callable",
     "output_type": "error",
     "traceback": [
      "\u001b[0;31m---------------------------------------------------------------------------\u001b[0m",
      "\u001b[0;31mTypeError\u001b[0m                                 Traceback (most recent call last)",
      "\u001b[0;32m/tmp/ipykernel_106499/3549348922.py\u001b[0m in \u001b[0;36m<module>\u001b[0;34m\u001b[0m\n\u001b[0;32m----> 1\u001b[0;31m \u001b[0m_\u001b[0m \u001b[0;34m=\u001b[0m \u001b[0mplt\u001b[0m\u001b[0;34m.\u001b[0m\u001b[0mfigure\u001b[0m\u001b[0;34m(\u001b[0m\u001b[0mfigsize\u001b[0m\u001b[0;34m=\u001b[0m\u001b[0;34m(\u001b[0m\u001b[0;36m10\u001b[0m\u001b[0;34m,\u001b[0m \u001b[0;36m10\u001b[0m\u001b[0;34m)\u001b[0m\u001b[0;34m)\u001b[0m\u001b[0;34m\u001b[0m\u001b[0;34m\u001b[0m\u001b[0m\n\u001b[0m\u001b[1;32m      2\u001b[0m ax = sns.heatmap(metrics.confusionMatrix().toArray(),\n\u001b[1;32m      3\u001b[0m             \u001b[0mcmap\u001b[0m\u001b[0;34m=\u001b[0m\u001b[0;34m'viridis'\u001b[0m\u001b[0;34m,\u001b[0m\u001b[0;34m\u001b[0m\u001b[0;34m\u001b[0m\u001b[0m\n\u001b[1;32m      4\u001b[0m             \u001b[0mannot\u001b[0m\u001b[0;34m=\u001b[0m\u001b[0;32mTrue\u001b[0m\u001b[0;34m,\u001b[0m\u001b[0mfmt\u001b[0m\u001b[0;34m=\u001b[0m\u001b[0;34m'0'\u001b[0m\u001b[0;34m,\u001b[0m\u001b[0;34m\u001b[0m\u001b[0;34m\u001b[0m\u001b[0m\n\u001b[1;32m      5\u001b[0m             \u001b[0mcbar\u001b[0m\u001b[0;34m=\u001b[0m\u001b[0;32mFalse\u001b[0m\u001b[0;34m,\u001b[0m\u001b[0;34m\u001b[0m\u001b[0;34m\u001b[0m\u001b[0m\n",
      "\u001b[0;31mTypeError\u001b[0m: 'Figure' object is not callable"
     ]
    }
   ],
   "source": [
    "_ = plt.figure(figsize=(10, 10))\n",
    "ax = sns.heatmap(metrics.confusionMatrix().toArray(),\n",
    "            cmap='viridis',\n",
    "            annot=True,fmt='0',\n",
    "            cbar=False, \n",
    "            xticklabels=labels,\n",
    "            yticklabels=labels)\n",
    "\n",
    "plt.title('Random Forest Regular Sampling Confusion Matrix', fontsize = 20) # title with fontsize 20\n",
    "plt.xlabel('Predicted', fontsize = 15) # x-axis label with fontsize 15\n",
    "plt.ylabel('Actual', fontsize = 15) # y-axis label with fontsize 15\n",
    "plt.savefig('naive-bayes-normal-confusion-matrix.png')"
   ]
  },
  {
   "cell_type": "markdown",
   "id": "7866da5a-0f72-4ee7-baf3-6233698931c3",
   "metadata": {},
   "source": [
    "### Conclusions"
   ]
  },
  {
   "cell_type": "markdown",
   "id": "6e28d1a6-06c7-4524-a4d4-f5fb9f8c2e48",
   "metadata": {},
   "source": [
    "Some quick observations:\n",
    "\n",
    "* Much better performance when we don't undersample, could be because everything is a punt\n",
    "* We need to be careful with the labels for the confusion matrix. They were not intially lining up properly with what the idxs are.\n",
    "* I added temp, wind, roof, surface to the predictors"
   ]
  }
 ],
 "metadata": {
  "kernelspec": {
   "display_name": "DS7200 Spark 3.3",
   "language": "python",
   "name": "ds5110_spark3.3"
  },
  "language_info": {
   "codemirror_mode": {
    "name": "ipython",
    "version": 3
   },
   "file_extension": ".py",
   "mimetype": "text/x-python",
   "name": "python",
   "nbconvert_exporter": "python",
   "pygments_lexer": "ipython3",
   "version": "3.7.12"
  }
 },
 "nbformat": 4,
 "nbformat_minor": 5
}
