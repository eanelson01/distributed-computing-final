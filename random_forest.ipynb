{
 "cells": [
  {
   "cell_type": "markdown",
   "id": "dc445894-a5bd-4768-8672-bcebea5aebfa",
   "metadata": {},
   "source": [
    "### Creating Model 1\n",
    "\n",
    "* Creating a 1st model for the NFL Play data. The goal is to predict the play type on 4th down.\n",
    "* Random Forest and gradient boosted trees are the other models"
   ]
  },
  {
   "cell_type": "code",
   "execution_count": 2,
   "id": "6e1acab1-8e72-4add-9c2c-1798b8967ec2",
   "metadata": {},
   "outputs": [],
   "source": [
    "from pyspark.ml import Pipeline  \n",
    "from pyspark.ml.feature import *  \n",
    "from pyspark.ml.classification import LogisticRegression\n",
    "import nfl_data_py as nfl\n",
    "import numpy as np\n",
    "from pyspark.sql import SparkSession\n",
    "from pyspark.sql.functions import col\n",
    "from imblearn.under_sampling import RandomUnderSampler\n",
    "from imblearn.over_sampling import SMOTENC\n",
    "import pandas as pd\n",
    "from imblearn.combine import SMOTEENN\n",
    "from DataPipelineFxn import *\n",
    "from pyspark.ml.evaluation import MulticlassClassificationEvaluator\n",
    "from pyspark.ml.tuning import TrainValidationSplit, ParamGridBuilder\n",
    "import seaborn as sns\n",
    "import matplotlib.pyplot as plt\n",
    "from pyspark.sql import functions as F"
   ]
  },
  {
   "cell_type": "code",
   "execution_count": 3,
   "id": "c28b6116-fab9-4cfd-be1c-8000d1a6292b",
   "metadata": {},
   "outputs": [
    {
     "name": "stdout",
     "output_type": "stream",
     "text": [
      "2000 done.\n",
      "2001 done.\n",
      "2002 done.\n",
      "2003 done.\n",
      "2004 done.\n",
      "2005 done.\n",
      "2006 done.\n",
      "2007 done.\n",
      "2008 done.\n",
      "2009 done.\n",
      "2010 done.\n",
      "2011 done.\n",
      "2012 done.\n",
      "2013 done.\n",
      "2014 done.\n",
      "2015 done.\n",
      "2016 done.\n",
      "2017 done.\n",
      "2018 done.\n",
      "2019 done.\n",
      "2020 done.\n",
      "2021 done.\n",
      "2022 done.\n",
      "2023 done.\n"
     ]
    },
    {
     "name": "stderr",
     "output_type": "stream",
     "text": [
      "/opt/conda/lib/python3.7/site-packages/pyspark/bin/load-spark-env.sh: line 68: ps: command not found\n",
      "Setting default log level to \"WARN\".\n",
      "To adjust logging level use sc.setLogLevel(newLevel). For SparkR, use setLogLevel(newLevel).\n"
     ]
    },
    {
     "name": "stdout",
     "output_type": "stream",
     "text": [
      "24/12/03 21:49:16 WARN NativeCodeLoader: Unable to load native-hadoop library for your platform... using builtin-java classes where applicable\n",
      "24/12/03 21:49:17 WARN Utils: Service 'SparkUI' could not bind on port 4040. Attempting port 4041.\n",
      "24/12/03 21:49:36 WARN package: Truncated the string representation of a plan since it was too large. This behavior can be adjusted by setting 'spark.sql.debug.maxToStringFields'.\n",
      "24/12/03 21:49:37 WARN TaskSetManager: Stage 0 contains a task of very large size (6176 KiB). The maximum recommended task size is 1000 KiB.\n"
     ]
    },
    {
     "name": "stderr",
     "output_type": "stream",
     "text": [
      "                                                                                \r"
     ]
    },
    {
     "name": "stdout",
     "output_type": "stream",
     "text": [
      "24/12/03 21:49:38 WARN TaskSetManager: Stage 3 contains a task of very large size (6176 KiB). The maximum recommended task size is 1000 KiB.\n"
     ]
    },
    {
     "name": "stderr",
     "output_type": "stream",
     "text": [
      "                                                                                \r"
     ]
    },
    {
     "name": "stdout",
     "output_type": "stream",
     "text": [
      "24/12/03 21:49:45 WARN TaskSetManager: Stage 4 contains a task of very large size (2197 KiB). The maximum recommended task size is 1000 KiB.\n",
      "24/12/03 21:49:49 WARN TaskSetManager: Stage 5 contains a task of very large size (1216 KiB). The maximum recommended task size is 1000 KiB.\n"
     ]
    }
   ],
   "source": [
    "# get the spark session and data frame\n",
    "data = GetSparkDF(include_undersample = True)"
   ]
  },
  {
   "cell_type": "code",
   "execution_count": 4,
   "id": "6508ca52-3eac-43ee-a3a2-88b6b20a7504",
   "metadata": {
    "tags": []
   },
   "outputs": [],
   "source": [
    "spark, df, test_df, undersample_df = data"
   ]
  },
  {
   "cell_type": "markdown",
   "id": "ec922502-28fe-4bef-ba7c-ea4a25146b98",
   "metadata": {},
   "source": [
    "### Create numeric columns list for the pipeline"
   ]
  },
  {
   "cell_type": "code",
   "execution_count": 5,
   "id": "dd7a517b-64f7-4123-a57c-36aa131d6680",
   "metadata": {
    "tags": []
   },
   "outputs": [],
   "source": [
    "numeric_cols = []\n",
    "for field in df.schema.fields:\n",
    "    if str(field.dataType) != \"StringType()\":\n",
    "        numeric_cols.append(field.name)\n",
    "        \n",
    "numeric_cols.remove(\"season\")\n",
    "numeric_cols.remove(\"week\")"
   ]
  },
  {
   "cell_type": "code",
   "execution_count": 6,
   "id": "c8d837ef-03d7-4091-a6ea-223e42d352e4",
   "metadata": {
    "tags": []
   },
   "outputs": [
    {
     "name": "stdout",
     "output_type": "stream",
     "text": [
      "['yardline_100', 'quarter_seconds_remaining', 'half_seconds_remaining', 'game_seconds_remaining', 'down', 'drive', 'qtr', 'ydstogo', 'posteam_timeouts_remaining', 'defteam_timeouts_remaining', 'posteam_score', 'defteam_score', 'score_differential', 'ep', 'epa', 'wind', 'temp']\n"
     ]
    }
   ],
   "source": [
    "print(numeric_cols)"
   ]
  },
  {
   "cell_type": "markdown",
   "id": "8968cfd5-3a1e-4df9-a459-a18f88dfebb4",
   "metadata": {},
   "source": [
    "### Create the Model Pipeline"
   ]
  },
  {
   "cell_type": "code",
   "execution_count": 7,
   "id": "eee0fd6a-0322-4cb1-ba56-ab40c1f574de",
   "metadata": {},
   "outputs": [],
   "source": [
    "from pyspark.ml.classification import RandomForestClassifier\n",
    "str_col = [\"home_team\", \"away_team\", \"season_type\", \"posteam\", \"posteam_type\", \"defteam\", \"side_of_field\", \"game_half\", \"week\",\n",
    "        \"play_type\", \"season\", 'roof', 'surface']\n",
    "str_col_output = [\"home_team_idx\", \"away_team_idx\", \"season_type_idx\", \"posteam_idx\", \"posteam_type_idx\", \"defteam_idx\", \"week_idx\",\n",
    "                  \"side_of_field_idx\", \"game_half_idx\", \"play_type_idx\", \"season_idx\", 'roof_idx', 'surface_idx']\n",
    "ohe_col_input = [\"home_team_idx\", \"away_team_idx\", \"season_type_idx\", \"posteam_idx\", \"posteam_type_idx\", \"defteam_idx\", \"week_idx\",\n",
    "                  \"side_of_field_idx\", \"game_half_idx\", \"season_idx\", 'roof_idx', 'surface_idx']\n",
    "ohe_col_vec = [\"home_team_vec\", \"away_team_vec\", \"season_type_vec\", \"posteam_vec\", \"posteam_type_vec\", \"defteam_vec\", \"week_vec\",\n",
    "                  \"side_of_field_vec\", \"game_half_ivec\", \"season_vec\", 'roof_vec', 'surface_vec']\n",
    "\n",
    "# Combine numeric and one-hot encoded columns\n",
    "va_input_cols = numeric_cols + ohe_col_vec\n",
    "\n",
    "# process using string indexer first for catgeorical features  \n",
    "stringIndexer = StringIndexer(inputCols=str_col, outputCols=str_col_output)\n",
    "\n",
    "# process rating data into second feature\n",
    "ohe = OneHotEncoder(inputCols=ohe_col_input, outputCols=ohe_col_vec) \n",
    "\n",
    "\n",
    "# Assemble features column\n",
    "va = VectorAssembler(inputCols=va_input_cols, outputCol=\"features\", handleInvalid = \"skip\")\n",
    "\n",
    "# process data using maxabs scaler, not necessarily important for trees but consistency\n",
    "scaler = MaxAbsScaler(inputCol=\"features\", outputCol=\"scaledFeatures\")\n",
    "\n",
    "# define the model\n",
    "\n",
    "#spark.conf.set(\"spark.speculation\", \"false\")\n",
    "# Use Random Forest Classifier\n",
    "rf = RandomForestClassifier(labelCol='play_type_idx', \n",
    "                             featuresCol='scaledFeatures', \n",
    "                             seed=42)\n",
    "\n",
    "\n",
    "# Fit the pipeline\n",
    "pipeline = Pipeline(stages=[stringIndexer, ohe, va, scaler, rf])"
   ]
  },
  {
   "cell_type": "code",
   "execution_count": 8,
   "id": "23916e45-b255-4d3d-81a7-6ea8711d2e01",
   "metadata": {},
   "outputs": [],
   "source": [
    "\n",
    "# Set up hyperparameter tuning\n",
    "paramGrid = ParamGridBuilder()\\\n",
    "    .addGrid(rf.numTrees, [10, 50, 100])\\\n",
    "    .addGrid(rf.maxDepth, [5, 10, 15])\\\n",
    "    .addGrid(rf.impurity, [\"gini\", \"entropy\"])\\\n",
    "    .build()\n",
    "\n",
    "\n",
    "# build the evaluator\n",
    "evaluator = MulticlassClassificationEvaluator(\n",
    "    predictionCol=\"prediction\",\n",
    "    labelCol=\"play_type_idx\",\n",
    "    metricName=\"accuracy\"\n",
    ")\n",
    "\n",
    "# set up the train validation split\n",
    "tvs = TrainValidationSplit(\n",
    "    estimator=pipeline,\n",
    "    evaluator=evaluator,\n",
    "    estimatorParamMaps=paramGrid,\n",
    "    # 80% of the data will be used for training, 20% for validation.\n",
    "    trainRatio=0.8\n",
    ")"
   ]
  },
  {
   "cell_type": "code",
   "execution_count": 9,
   "id": "1a924059-9309-4b93-b118-caa25f5c0360",
   "metadata": {},
   "outputs": [
    {
     "name": "stdout",
     "output_type": "stream",
     "text": [
      "24/12/03 21:50:21 WARN TaskSetManager: Stage 6 contains a task of very large size (6176 KiB). The maximum recommended task size is 1000 KiB.\n",
      "+--------+\n",
      "|    roof|\n",
      "+--------+\n",
      "|outdoors|\n",
      "|  closed|\n",
      "|    open|\n",
      "|    dome|\n",
      "+--------+\n",
      "\n"
     ]
    }
   ],
   "source": [
    "df.select(df.roof).distinct().show()"
   ]
  },
  {
   "cell_type": "code",
   "execution_count": 10,
   "id": "99dff5e2-13eb-48ba-bd30-8d7095cf5251",
   "metadata": {
    "scrolled": true
   },
   "outputs": [
    {
     "name": "stdout",
     "output_type": "stream",
     "text": [
      "24/12/03 21:50:30 WARN TaskSetManager: Stage 9 contains a task of very large size (6176 KiB). The maximum recommended task size is 1000 KiB.\n"
     ]
    },
    {
     "name": "stderr",
     "output_type": "stream",
     "text": [
      "                                                                                \r"
     ]
    },
    {
     "name": "stdout",
     "output_type": "stream",
     "text": [
      "24/12/03 21:50:32 WARN TaskSetManager: Stage 12 contains a task of very large size (6176 KiB). The maximum recommended task size is 1000 KiB.\n"
     ]
    },
    {
     "name": "stderr",
     "output_type": "stream",
     "text": [
      "                                                                                \r"
     ]
    },
    {
     "name": "stdout",
     "output_type": "stream",
     "text": [
      "24/12/03 21:50:35 WARN TaskSetManager: Stage 15 contains a task of very large size (6176 KiB). The maximum recommended task size is 1000 KiB.\n",
      "24/12/03 21:50:35 WARN TaskSetManager: Stage 16 contains a task of very large size (6176 KiB). The maximum recommended task size is 1000 KiB.\n"
     ]
    },
    {
     "name": "stderr",
     "output_type": "stream",
     "text": [
      "                                                                                \r"
     ]
    },
    {
     "name": "stdout",
     "output_type": "stream",
     "text": [
      "24/12/03 21:50:36 WARN TaskSetManager: Stage 17 contains a task of very large size (6176 KiB). The maximum recommended task size is 1000 KiB.\n"
     ]
    },
    {
     "name": "stderr",
     "output_type": "stream",
     "text": [
      "                                                                                \r"
     ]
    },
    {
     "name": "stdout",
     "output_type": "stream",
     "text": [
      "24/12/03 21:50:37 WARN TaskSetManager: Stage 19 contains a task of very large size (6176 KiB). The maximum recommended task size is 1000 KiB.\n"
     ]
    },
    {
     "name": "stderr",
     "output_type": "stream",
     "text": [
      "                                                                                \r"
     ]
    },
    {
     "name": "stdout",
     "output_type": "stream",
     "text": [
      "24/12/03 21:50:39 WARN TaskSetManager: Stage 21 contains a task of very large size (6176 KiB). The maximum recommended task size is 1000 KiB.\n",
      "24/12/03 21:50:39 WARN TaskSetManager: Stage 23 contains a task of very large size (6176 KiB). The maximum recommended task size is 1000 KiB.\n",
      "24/12/03 21:50:40 WARN TaskSetManager: Stage 25 contains a task of very large size (6176 KiB). The maximum recommended task size is 1000 KiB.\n",
      "24/12/03 21:50:40 WARN TaskSetManager: Stage 27 contains a task of very large size (6176 KiB). The maximum recommended task size is 1000 KiB.\n",
      "24/12/03 21:50:41 WARN TaskSetManager: Stage 29 contains a task of very large size (6176 KiB). The maximum recommended task size is 1000 KiB.\n"
     ]
    },
    {
     "name": "stderr",
     "output_type": "stream",
     "text": [
      "                                                                                \r"
     ]
    },
    {
     "name": "stdout",
     "output_type": "stream",
     "text": [
      "24/12/03 21:50:42 WARN TaskSetManager: Stage 31 contains a task of very large size (6176 KiB). The maximum recommended task size is 1000 KiB.\n",
      "24/12/03 21:50:42 WARN TaskSetManager: Stage 34 contains a task of very large size (6176 KiB). The maximum recommended task size is 1000 KiB.\n"
     ]
    },
    {
     "name": "stderr",
     "output_type": "stream",
     "text": [
      "                                                                                \r"
     ]
    },
    {
     "name": "stdout",
     "output_type": "stream",
     "text": [
      "24/12/03 21:50:43 WARN TaskSetManager: Stage 37 contains a task of very large size (6176 KiB). The maximum recommended task size is 1000 KiB.\n",
      "24/12/03 21:50:43 WARN TaskSetManager: Stage 38 contains a task of very large size (6176 KiB). The maximum recommended task size is 1000 KiB.\n",
      "24/12/03 21:50:44 WARN TaskSetManager: Stage 39 contains a task of very large size (6176 KiB). The maximum recommended task size is 1000 KiB.\n"
     ]
    },
    {
     "name": "stderr",
     "output_type": "stream",
     "text": [
      "                                                                                \r"
     ]
    },
    {
     "name": "stdout",
     "output_type": "stream",
     "text": [
      "24/12/03 21:50:45 WARN TaskSetManager: Stage 41 contains a task of very large size (6176 KiB). The maximum recommended task size is 1000 KiB.\n"
     ]
    },
    {
     "name": "stderr",
     "output_type": "stream",
     "text": [
      "                                                                                \r"
     ]
    },
    {
     "name": "stdout",
     "output_type": "stream",
     "text": [
      "24/12/03 21:50:46 WARN TaskSetManager: Stage 43 contains a task of very large size (6176 KiB). The maximum recommended task size is 1000 KiB.\n",
      "24/12/03 21:50:46 WARN TaskSetManager: Stage 45 contains a task of very large size (6176 KiB). The maximum recommended task size is 1000 KiB.\n",
      "24/12/03 21:50:46 WARN TaskSetManager: Stage 47 contains a task of very large size (6176 KiB). The maximum recommended task size is 1000 KiB.\n",
      "24/12/03 21:50:46 WARN TaskSetManager: Stage 49 contains a task of very large size (6176 KiB). The maximum recommended task size is 1000 KiB.\n",
      "24/12/03 21:50:47 WARN TaskSetManager: Stage 51 contains a task of very large size (6176 KiB). The maximum recommended task size is 1000 KiB.\n",
      "24/12/03 21:50:47 WARN TaskSetManager: Stage 53 contains a task of very large size (6176 KiB). The maximum recommended task size is 1000 KiB.\n",
      "24/12/03 21:50:47 WARN TaskSetManager: Stage 56 contains a task of very large size (6176 KiB). The maximum recommended task size is 1000 KiB.\n",
      "24/12/03 21:50:48 WARN TaskSetManager: Stage 59 contains a task of very large size (6176 KiB). The maximum recommended task size is 1000 KiB.\n",
      "24/12/03 21:50:48 WARN TaskSetManager: Stage 60 contains a task of very large size (6176 KiB). The maximum recommended task size is 1000 KiB.\n",
      "24/12/03 21:50:49 WARN TaskSetManager: Stage 61 contains a task of very large size (6176 KiB). The maximum recommended task size is 1000 KiB.\n"
     ]
    },
    {
     "name": "stderr",
     "output_type": "stream",
     "text": [
      "                                                                                \r"
     ]
    },
    {
     "name": "stdout",
     "output_type": "stream",
     "text": [
      "24/12/03 21:50:49 WARN TaskSetManager: Stage 63 contains a task of very large size (6176 KiB). The maximum recommended task size is 1000 KiB.\n",
      "24/12/03 21:50:50 WARN TaskSetManager: Stage 65 contains a task of very large size (6176 KiB). The maximum recommended task size is 1000 KiB.\n",
      "24/12/03 21:50:50 WARN TaskSetManager: Stage 67 contains a task of very large size (6176 KiB). The maximum recommended task size is 1000 KiB.\n",
      "24/12/03 21:50:50 WARN TaskSetManager: Stage 69 contains a task of very large size (6176 KiB). The maximum recommended task size is 1000 KiB.\n",
      "24/12/03 21:50:51 WARN TaskSetManager: Stage 71 contains a task of very large size (6176 KiB). The maximum recommended task size is 1000 KiB.\n",
      "24/12/03 21:50:51 WARN TaskSetManager: Stage 73 contains a task of very large size (6176 KiB). The maximum recommended task size is 1000 KiB.\n",
      "24/12/03 21:50:51 WARN TaskSetManager: Stage 75 contains a task of very large size (6176 KiB). The maximum recommended task size is 1000 KiB.\n",
      "24/12/03 21:50:51 WARN TaskSetManager: Stage 77 contains a task of very large size (6176 KiB). The maximum recommended task size is 1000 KiB.\n",
      "24/12/03 21:50:51 WARN TaskSetManager: Stage 79 contains a task of very large size (6176 KiB). The maximum recommended task size is 1000 KiB.\n",
      "24/12/03 21:50:52 WARN DAGScheduler: Broadcasting large task binary with size 1233.6 KiB\n",
      "24/12/03 21:50:52 WARN TaskSetManager: Stage 81 contains a task of very large size (6176 KiB). The maximum recommended task size is 1000 KiB.\n",
      "24/12/03 21:50:52 WARN TaskSetManager: Stage 83 contains a task of very large size (6176 KiB). The maximum recommended task size is 1000 KiB.\n",
      "24/12/03 21:50:53 WARN TaskSetManager: Stage 85 contains a task of very large size (6176 KiB). The maximum recommended task size is 1000 KiB.\n",
      "24/12/03 21:50:53 WARN TaskSetManager: Stage 88 contains a task of very large size (6176 KiB). The maximum recommended task size is 1000 KiB.\n",
      "24/12/03 21:50:54 WARN TaskSetManager: Stage 91 contains a task of very large size (6176 KiB). The maximum recommended task size is 1000 KiB.\n",
      "24/12/03 21:50:54 WARN TaskSetManager: Stage 92 contains a task of very large size (6176 KiB). The maximum recommended task size is 1000 KiB.\n",
      "24/12/03 21:50:54 WARN TaskSetManager: Stage 93 contains a task of very large size (6176 KiB). The maximum recommended task size is 1000 KiB.\n",
      "24/12/03 21:50:55 WARN TaskSetManager: Stage 95 contains a task of very large size (6176 KiB). The maximum recommended task size is 1000 KiB.\n",
      "24/12/03 21:50:55 WARN TaskSetManager: Stage 97 contains a task of very large size (6176 KiB). The maximum recommended task size is 1000 KiB.\n",
      "24/12/03 21:50:55 WARN TaskSetManager: Stage 99 contains a task of very large size (6176 KiB). The maximum recommended task size is 1000 KiB.\n",
      "24/12/03 21:50:55 WARN TaskSetManager: Stage 101 contains a task of very large size (6176 KiB). The maximum recommended task size is 1000 KiB.\n",
      "24/12/03 21:50:56 WARN TaskSetManager: Stage 103 contains a task of very large size (6176 KiB). The maximum recommended task size is 1000 KiB.\n",
      "24/12/03 21:50:56 WARN TaskSetManager: Stage 105 contains a task of very large size (6176 KiB). The maximum recommended task size is 1000 KiB.\n",
      "24/12/03 21:50:56 WARN TaskSetManager: Stage 107 contains a task of very large size (6176 KiB). The maximum recommended task size is 1000 KiB.\n",
      "24/12/03 21:50:56 WARN TaskSetManager: Stage 109 contains a task of very large size (6176 KiB). The maximum recommended task size is 1000 KiB.\n",
      "24/12/03 21:50:56 WARN TaskSetManager: Stage 111 contains a task of very large size (6176 KiB). The maximum recommended task size is 1000 KiB.\n",
      "24/12/03 21:50:57 WARN DAGScheduler: Broadcasting large task binary with size 1265.4 KiB\n",
      "24/12/03 21:50:57 WARN TaskSetManager: Stage 113 contains a task of very large size (6176 KiB). The maximum recommended task size is 1000 KiB.\n",
      "24/12/03 21:50:57 WARN TaskSetManager: Stage 115 contains a task of very large size (6176 KiB). The maximum recommended task size is 1000 KiB.\n",
      "24/12/03 21:50:58 WARN TaskSetManager: Stage 117 contains a task of very large size (6176 KiB). The maximum recommended task size is 1000 KiB.\n",
      "24/12/03 21:50:58 WARN TaskSetManager: Stage 120 contains a task of very large size (6176 KiB). The maximum recommended task size is 1000 KiB.\n",
      "24/12/03 21:50:59 WARN TaskSetManager: Stage 123 contains a task of very large size (6176 KiB). The maximum recommended task size is 1000 KiB.\n",
      "24/12/03 21:50:59 WARN TaskSetManager: Stage 124 contains a task of very large size (6176 KiB). The maximum recommended task size is 1000 KiB.\n",
      "24/12/03 21:50:59 WARN TaskSetManager: Stage 125 contains a task of very large size (6176 KiB). The maximum recommended task size is 1000 KiB.\n"
     ]
    },
    {
     "name": "stderr",
     "output_type": "stream",
     "text": [
      "                                                                                \r"
     ]
    },
    {
     "name": "stdout",
     "output_type": "stream",
     "text": [
      "24/12/03 21:51:00 WARN TaskSetManager: Stage 127 contains a task of very large size (6176 KiB). The maximum recommended task size is 1000 KiB.\n"
     ]
    },
    {
     "name": "stderr",
     "output_type": "stream",
     "text": [
      "                                                                                \r"
     ]
    },
    {
     "name": "stdout",
     "output_type": "stream",
     "text": [
      "24/12/03 21:51:01 WARN TaskSetManager: Stage 129 contains a task of very large size (6176 KiB). The maximum recommended task size is 1000 KiB.\n",
      "24/12/03 21:51:01 WARN TaskSetManager: Stage 131 contains a task of very large size (6176 KiB). The maximum recommended task size is 1000 KiB.\n",
      "24/12/03 21:51:01 WARN TaskSetManager: Stage 133 contains a task of very large size (6176 KiB). The maximum recommended task size is 1000 KiB.\n",
      "24/12/03 21:51:01 WARN TaskSetManager: Stage 135 contains a task of very large size (6176 KiB). The maximum recommended task size is 1000 KiB.\n",
      "24/12/03 21:51:01 WARN TaskSetManager: Stage 137 contains a task of very large size (6176 KiB). The maximum recommended task size is 1000 KiB.\n",
      "24/12/03 21:51:01 WARN TaskSetManager: Stage 139 contains a task of very large size (6176 KiB). The maximum recommended task size is 1000 KiB.\n",
      "24/12/03 21:51:01 WARN TaskSetManager: Stage 141 contains a task of very large size (6176 KiB). The maximum recommended task size is 1000 KiB.\n",
      "24/12/03 21:51:02 WARN TaskSetManager: Stage 143 contains a task of very large size (6176 KiB). The maximum recommended task size is 1000 KiB.\n",
      "24/12/03 21:51:02 WARN DAGScheduler: Broadcasting large task binary with size 1233.6 KiB\n",
      "24/12/03 21:51:02 WARN TaskSetManager: Stage 145 contains a task of very large size (6176 KiB). The maximum recommended task size is 1000 KiB.\n",
      "24/12/03 21:51:02 WARN DAGScheduler: Broadcasting large task binary with size 1699.8 KiB\n",
      "24/12/03 21:51:02 WARN TaskSetManager: Stage 147 contains a task of very large size (6176 KiB). The maximum recommended task size is 1000 KiB.\n",
      "24/12/03 21:51:03 WARN DAGScheduler: Broadcasting large task binary with size 2.2 MiB\n",
      "24/12/03 21:51:03 WARN TaskSetManager: Stage 149 contains a task of very large size (6176 KiB). The maximum recommended task size is 1000 KiB.\n",
      "24/12/03 21:51:03 WARN DAGScheduler: Broadcasting large task binary with size 2.9 MiB\n",
      "24/12/03 21:51:03 WARN TaskSetManager: Stage 151 contains a task of very large size (6176 KiB). The maximum recommended task size is 1000 KiB.\n",
      "24/12/03 21:51:04 WARN DAGScheduler: Broadcasting large task binary with size 3.7 MiB\n",
      "24/12/03 21:51:04 WARN TaskSetManager: Stage 153 contains a task of very large size (6176 KiB). The maximum recommended task size is 1000 KiB.\n",
      "24/12/03 21:51:04 WARN DAGScheduler: Broadcasting large task binary with size 4.5 MiB\n",
      "24/12/03 21:51:04 WARN TaskSetManager: Stage 155 contains a task of very large size (6176 KiB). The maximum recommended task size is 1000 KiB.\n",
      "24/12/03 21:51:05 WARN DAGScheduler: Broadcasting large task binary with size 3.0 MiB\n",
      "24/12/03 21:51:05 WARN TaskSetManager: Stage 157 contains a task of very large size (6176 KiB). The maximum recommended task size is 1000 KiB.\n",
      "24/12/03 21:51:06 WARN TaskSetManager: Stage 159 contains a task of very large size (6176 KiB). The maximum recommended task size is 1000 KiB.\n",
      "24/12/03 21:51:06 WARN TaskSetManager: Stage 162 contains a task of very large size (6176 KiB). The maximum recommended task size is 1000 KiB.\n",
      "24/12/03 21:51:06 WARN TaskSetManager: Stage 165 contains a task of very large size (6176 KiB). The maximum recommended task size is 1000 KiB.\n",
      "24/12/03 21:51:06 WARN TaskSetManager: Stage 166 contains a task of very large size (6176 KiB). The maximum recommended task size is 1000 KiB.\n",
      "24/12/03 21:51:07 WARN TaskSetManager: Stage 167 contains a task of very large size (6176 KiB). The maximum recommended task size is 1000 KiB.\n",
      "24/12/03 21:51:08 WARN TaskSetManager: Stage 169 contains a task of very large size (6176 KiB). The maximum recommended task size is 1000 KiB.\n",
      "24/12/03 21:51:08 WARN TaskSetManager: Stage 171 contains a task of very large size (6176 KiB). The maximum recommended task size is 1000 KiB.\n",
      "24/12/03 21:51:08 WARN TaskSetManager: Stage 173 contains a task of very large size (6176 KiB). The maximum recommended task size is 1000 KiB.\n",
      "24/12/03 21:51:08 WARN TaskSetManager: Stage 175 contains a task of very large size (6176 KiB). The maximum recommended task size is 1000 KiB.\n",
      "24/12/03 21:51:08 WARN TaskSetManager: Stage 177 contains a task of very large size (6176 KiB). The maximum recommended task size is 1000 KiB.\n",
      "24/12/03 21:51:08 WARN TaskSetManager: Stage 179 contains a task of very large size (6176 KiB). The maximum recommended task size is 1000 KiB.\n",
      "24/12/03 21:51:09 WARN TaskSetManager: Stage 181 contains a task of very large size (6176 KiB). The maximum recommended task size is 1000 KiB.\n",
      "24/12/03 21:51:09 WARN TaskSetManager: Stage 183 contains a task of very large size (6176 KiB). The maximum recommended task size is 1000 KiB.\n",
      "24/12/03 21:51:09 WARN TaskSetManager: Stage 185 contains a task of very large size (6176 KiB). The maximum recommended task size is 1000 KiB.\n",
      "24/12/03 21:51:09 WARN DAGScheduler: Broadcasting large task binary with size 1265.4 KiB\n",
      "24/12/03 21:51:09 WARN TaskSetManager: Stage 187 contains a task of very large size (6176 KiB). The maximum recommended task size is 1000 KiB.\n",
      "24/12/03 21:51:10 WARN DAGScheduler: Broadcasting large task binary with size 1763.6 KiB\n",
      "24/12/03 21:51:10 WARN TaskSetManager: Stage 189 contains a task of very large size (6176 KiB). The maximum recommended task size is 1000 KiB.\n",
      "24/12/03 21:51:10 WARN DAGScheduler: Broadcasting large task binary with size 2.4 MiB\n",
      "24/12/03 21:51:10 WARN TaskSetManager: Stage 191 contains a task of very large size (6176 KiB). The maximum recommended task size is 1000 KiB.\n",
      "24/12/03 21:51:10 WARN DAGScheduler: Broadcasting large task binary with size 3.1 MiB\n",
      "24/12/03 21:51:10 WARN TaskSetManager: Stage 193 contains a task of very large size (6176 KiB). The maximum recommended task size is 1000 KiB.\n",
      "24/12/03 21:51:11 WARN DAGScheduler: Broadcasting large task binary with size 4.0 MiB\n",
      "24/12/03 21:51:11 WARN TaskSetManager: Stage 195 contains a task of very large size (6176 KiB). The maximum recommended task size is 1000 KiB.\n",
      "24/12/03 21:51:11 WARN DAGScheduler: Broadcasting large task binary with size 5.0 MiB\n",
      "24/12/03 21:51:11 WARN TaskSetManager: Stage 197 contains a task of very large size (6176 KiB). The maximum recommended task size is 1000 KiB.\n",
      "24/12/03 21:51:12 WARN DAGScheduler: Broadcasting large task binary with size 3.3 MiB\n",
      "24/12/03 21:51:12 WARN TaskSetManager: Stage 199 contains a task of very large size (6176 KiB). The maximum recommended task size is 1000 KiB.\n",
      "24/12/03 21:51:13 WARN TaskSetManager: Stage 201 contains a task of very large size (6176 KiB). The maximum recommended task size is 1000 KiB.\n",
      "24/12/03 21:51:13 WARN TaskSetManager: Stage 204 contains a task of very large size (6176 KiB). The maximum recommended task size is 1000 KiB.\n",
      "24/12/03 21:51:14 WARN TaskSetManager: Stage 207 contains a task of very large size (6176 KiB). The maximum recommended task size is 1000 KiB.\n",
      "24/12/03 21:51:14 WARN TaskSetManager: Stage 208 contains a task of very large size (6176 KiB). The maximum recommended task size is 1000 KiB.\n",
      "24/12/03 21:51:14 WARN TaskSetManager: Stage 209 contains a task of very large size (6176 KiB). The maximum recommended task size is 1000 KiB.\n",
      "24/12/03 21:51:15 WARN TaskSetManager: Stage 211 contains a task of very large size (6176 KiB). The maximum recommended task size is 1000 KiB.\n"
     ]
    },
    {
     "name": "stderr",
     "output_type": "stream",
     "text": [
      "                                                                                \r"
     ]
    },
    {
     "name": "stdout",
     "output_type": "stream",
     "text": [
      "24/12/03 21:51:15 WARN TaskSetManager: Stage 213 contains a task of very large size (6176 KiB). The maximum recommended task size is 1000 KiB.\n",
      "24/12/03 21:51:16 WARN TaskSetManager: Stage 215 contains a task of very large size (6176 KiB). The maximum recommended task size is 1000 KiB.\n",
      "24/12/03 21:51:16 WARN TaskSetManager: Stage 217 contains a task of very large size (6176 KiB). The maximum recommended task size is 1000 KiB.\n",
      "24/12/03 21:51:16 WARN TaskSetManager: Stage 219 contains a task of very large size (6176 KiB). The maximum recommended task size is 1000 KiB.\n",
      "24/12/03 21:51:17 WARN TaskSetManager: Stage 221 contains a task of very large size (6176 KiB). The maximum recommended task size is 1000 KiB.\n",
      "24/12/03 21:51:17 WARN TaskSetManager: Stage 223 contains a task of very large size (6176 KiB). The maximum recommended task size is 1000 KiB.\n",
      "24/12/03 21:51:17 WARN TaskSetManager: Stage 226 contains a task of very large size (6176 KiB). The maximum recommended task size is 1000 KiB.\n",
      "24/12/03 21:51:18 WARN TaskSetManager: Stage 229 contains a task of very large size (6176 KiB). The maximum recommended task size is 1000 KiB.\n",
      "24/12/03 21:51:18 WARN TaskSetManager: Stage 230 contains a task of very large size (6176 KiB). The maximum recommended task size is 1000 KiB.\n",
      "24/12/03 21:51:18 WARN TaskSetManager: Stage 231 contains a task of very large size (6176 KiB). The maximum recommended task size is 1000 KiB.\n",
      "24/12/03 21:51:19 WARN TaskSetManager: Stage 233 contains a task of very large size (6176 KiB). The maximum recommended task size is 1000 KiB.\n"
     ]
    },
    {
     "name": "stderr",
     "output_type": "stream",
     "text": [
      "                                                                                \r"
     ]
    },
    {
     "name": "stdout",
     "output_type": "stream",
     "text": [
      "24/12/03 21:51:19 WARN TaskSetManager: Stage 235 contains a task of very large size (6176 KiB). The maximum recommended task size is 1000 KiB.\n",
      "24/12/03 21:51:19 WARN TaskSetManager: Stage 237 contains a task of very large size (6176 KiB). The maximum recommended task size is 1000 KiB.\n",
      "24/12/03 21:51:20 WARN TaskSetManager: Stage 239 contains a task of very large size (6176 KiB). The maximum recommended task size is 1000 KiB.\n",
      "24/12/03 21:51:20 WARN TaskSetManager: Stage 241 contains a task of very large size (6176 KiB). The maximum recommended task size is 1000 KiB.\n",
      "24/12/03 21:51:20 WARN TaskSetManager: Stage 243 contains a task of very large size (6176 KiB). The maximum recommended task size is 1000 KiB.\n",
      "24/12/03 21:51:21 WARN TaskSetManager: Stage 245 contains a task of very large size (6176 KiB). The maximum recommended task size is 1000 KiB.\n",
      "24/12/03 21:51:21 WARN TaskSetManager: Stage 248 contains a task of very large size (6176 KiB). The maximum recommended task size is 1000 KiB.\n",
      "24/12/03 21:51:22 WARN TaskSetManager: Stage 251 contains a task of very large size (6176 KiB). The maximum recommended task size is 1000 KiB.\n",
      "24/12/03 21:51:22 WARN TaskSetManager: Stage 252 contains a task of very large size (6176 KiB). The maximum recommended task size is 1000 KiB.\n",
      "24/12/03 21:51:22 WARN TaskSetManager: Stage 253 contains a task of very large size (6176 KiB). The maximum recommended task size is 1000 KiB.\n",
      "24/12/03 21:51:22 WARN TaskSetManager: Stage 255 contains a task of very large size (6176 KiB). The maximum recommended task size is 1000 KiB.\n",
      "24/12/03 21:51:23 WARN TaskSetManager: Stage 257 contains a task of very large size (6176 KiB). The maximum recommended task size is 1000 KiB.\n",
      "24/12/03 21:51:23 WARN TaskSetManager: Stage 259 contains a task of very large size (6176 KiB). The maximum recommended task size is 1000 KiB.\n",
      "24/12/03 21:51:23 WARN TaskSetManager: Stage 261 contains a task of very large size (6176 KiB). The maximum recommended task size is 1000 KiB.\n",
      "24/12/03 21:51:24 WARN TaskSetManager: Stage 263 contains a task of very large size (6176 KiB). The maximum recommended task size is 1000 KiB.\n",
      "24/12/03 21:51:24 WARN TaskSetManager: Stage 265 contains a task of very large size (6176 KiB). The maximum recommended task size is 1000 KiB.\n",
      "24/12/03 21:51:24 WARN DAGScheduler: Broadcasting large task binary with size 1329.7 KiB\n",
      "24/12/03 21:51:24 WARN TaskSetManager: Stage 267 contains a task of very large size (6176 KiB). The maximum recommended task size is 1000 KiB.\n",
      "24/12/03 21:51:25 WARN DAGScheduler: Broadcasting large task binary with size 2.1 MiB\n",
      "24/12/03 21:51:25 WARN TaskSetManager: Stage 269 contains a task of very large size (6176 KiB). The maximum recommended task size is 1000 KiB.\n",
      "24/12/03 21:51:26 WARN DAGScheduler: Broadcasting large task binary with size 3.3 MiB\n",
      "24/12/03 21:51:26 WARN TaskSetManager: Stage 271 contains a task of very large size (6176 KiB). The maximum recommended task size is 1000 KiB.\n",
      "24/12/03 21:51:27 WARN DAGScheduler: Broadcasting large task binary with size 4.9 MiB\n",
      "24/12/03 21:51:27 WARN TaskSetManager: Stage 273 contains a task of very large size (6176 KiB). The maximum recommended task size is 1000 KiB.\n"
     ]
    },
    {
     "name": "stderr",
     "output_type": "stream",
     "text": [
      "                                                                                \r"
     ]
    },
    {
     "name": "stdout",
     "output_type": "stream",
     "text": [
      "24/12/03 21:51:28 WARN DAGScheduler: Broadcasting large task binary with size 3.6 MiB\n",
      "24/12/03 21:51:28 WARN TaskSetManager: Stage 275 contains a task of very large size (6176 KiB). The maximum recommended task size is 1000 KiB.\n",
      "24/12/03 21:51:29 WARN TaskSetManager: Stage 277 contains a task of very large size (6176 KiB). The maximum recommended task size is 1000 KiB.\n",
      "24/12/03 21:51:29 WARN TaskSetManager: Stage 280 contains a task of very large size (6176 KiB). The maximum recommended task size is 1000 KiB.\n",
      "24/12/03 21:51:30 WARN TaskSetManager: Stage 283 contains a task of very large size (6176 KiB). The maximum recommended task size is 1000 KiB.\n",
      "24/12/03 21:51:30 WARN TaskSetManager: Stage 284 contains a task of very large size (6176 KiB). The maximum recommended task size is 1000 KiB.\n",
      "24/12/03 21:51:30 WARN TaskSetManager: Stage 285 contains a task of very large size (6176 KiB). The maximum recommended task size is 1000 KiB.\n",
      "24/12/03 21:51:30 WARN TaskSetManager: Stage 287 contains a task of very large size (6176 KiB). The maximum recommended task size is 1000 KiB.\n",
      "24/12/03 21:51:31 WARN TaskSetManager: Stage 289 contains a task of very large size (6176 KiB). The maximum recommended task size is 1000 KiB.\n",
      "24/12/03 21:51:31 WARN TaskSetManager: Stage 291 contains a task of very large size (6176 KiB). The maximum recommended task size is 1000 KiB.\n",
      "24/12/03 21:51:32 WARN TaskSetManager: Stage 293 contains a task of very large size (6176 KiB). The maximum recommended task size is 1000 KiB.\n",
      "24/12/03 21:51:32 WARN TaskSetManager: Stage 295 contains a task of very large size (6176 KiB). The maximum recommended task size is 1000 KiB.\n",
      "24/12/03 21:51:32 WARN TaskSetManager: Stage 297 contains a task of very large size (6176 KiB). The maximum recommended task size is 1000 KiB.\n",
      "24/12/03 21:51:33 WARN DAGScheduler: Broadcasting large task binary with size 1359.5 KiB\n",
      "24/12/03 21:51:33 WARN TaskSetManager: Stage 299 contains a task of very large size (6176 KiB). The maximum recommended task size is 1000 KiB.\n",
      "24/12/03 21:51:33 WARN DAGScheduler: Broadcasting large task binary with size 2.2 MiB\n",
      "24/12/03 21:51:33 WARN TaskSetManager: Stage 301 contains a task of very large size (6176 KiB). The maximum recommended task size is 1000 KiB.\n"
     ]
    },
    {
     "name": "stderr",
     "output_type": "stream",
     "text": [
      "                                                                                \r"
     ]
    },
    {
     "name": "stdout",
     "output_type": "stream",
     "text": [
      "24/12/03 21:51:34 WARN DAGScheduler: Broadcasting large task binary with size 3.4 MiB\n",
      "24/12/03 21:51:34 WARN TaskSetManager: Stage 303 contains a task of very large size (6176 KiB). The maximum recommended task size is 1000 KiB.\n"
     ]
    },
    {
     "name": "stderr",
     "output_type": "stream",
     "text": [
      "                                                                                \r"
     ]
    },
    {
     "name": "stdout",
     "output_type": "stream",
     "text": [
      "24/12/03 21:51:35 WARN DAGScheduler: Broadcasting large task binary with size 5.3 MiB\n",
      "24/12/03 21:51:35 WARN TaskSetManager: Stage 305 contains a task of very large size (6176 KiB). The maximum recommended task size is 1000 KiB.\n"
     ]
    },
    {
     "name": "stderr",
     "output_type": "stream",
     "text": [
      "                                                                                \r"
     ]
    },
    {
     "name": "stdout",
     "output_type": "stream",
     "text": [
      "24/12/03 21:51:37 WARN DAGScheduler: Broadcasting large task binary with size 3.7 MiB\n",
      "24/12/03 21:51:37 WARN TaskSetManager: Stage 307 contains a task of very large size (6176 KiB). The maximum recommended task size is 1000 KiB.\n",
      "24/12/03 21:51:37 WARN TaskSetManager: Stage 309 contains a task of very large size (6176 KiB). The maximum recommended task size is 1000 KiB.\n",
      "24/12/03 21:51:37 WARN TaskSetManager: Stage 312 contains a task of very large size (6176 KiB). The maximum recommended task size is 1000 KiB.\n",
      "24/12/03 21:51:38 WARN TaskSetManager: Stage 315 contains a task of very large size (6176 KiB). The maximum recommended task size is 1000 KiB.\n",
      "24/12/03 21:51:38 WARN TaskSetManager: Stage 316 contains a task of very large size (6176 KiB). The maximum recommended task size is 1000 KiB.\n",
      "24/12/03 21:51:38 WARN TaskSetManager: Stage 317 contains a task of very large size (6176 KiB). The maximum recommended task size is 1000 KiB.\n",
      "24/12/03 21:51:39 WARN TaskSetManager: Stage 319 contains a task of very large size (6176 KiB). The maximum recommended task size is 1000 KiB.\n",
      "24/12/03 21:51:39 WARN TaskSetManager: Stage 321 contains a task of very large size (6176 KiB). The maximum recommended task size is 1000 KiB.\n",
      "24/12/03 21:51:40 WARN TaskSetManager: Stage 323 contains a task of very large size (6176 KiB). The maximum recommended task size is 1000 KiB.\n",
      "24/12/03 21:51:40 WARN TaskSetManager: Stage 325 contains a task of very large size (6176 KiB). The maximum recommended task size is 1000 KiB.\n",
      "24/12/03 21:51:40 WARN TaskSetManager: Stage 327 contains a task of very large size (6176 KiB). The maximum recommended task size is 1000 KiB.\n",
      "24/12/03 21:51:41 WARN TaskSetManager: Stage 329 contains a task of very large size (6176 KiB). The maximum recommended task size is 1000 KiB.\n",
      "24/12/03 21:51:41 WARN DAGScheduler: Broadcasting large task binary with size 1329.7 KiB\n",
      "24/12/03 21:51:41 WARN TaskSetManager: Stage 331 contains a task of very large size (6176 KiB). The maximum recommended task size is 1000 KiB.\n",
      "24/12/03 21:51:41 WARN DAGScheduler: Broadcasting large task binary with size 2.1 MiB\n",
      "24/12/03 21:51:41 WARN TaskSetManager: Stage 333 contains a task of very large size (6176 KiB). The maximum recommended task size is 1000 KiB.\n"
     ]
    },
    {
     "name": "stderr",
     "output_type": "stream",
     "text": [
      "                                                                                \r"
     ]
    },
    {
     "name": "stdout",
     "output_type": "stream",
     "text": [
      "24/12/03 21:51:42 WARN DAGScheduler: Broadcasting large task binary with size 3.3 MiB\n",
      "24/12/03 21:51:42 WARN TaskSetManager: Stage 335 contains a task of very large size (6176 KiB). The maximum recommended task size is 1000 KiB.\n"
     ]
    },
    {
     "name": "stderr",
     "output_type": "stream",
     "text": [
      "                                                                                \r"
     ]
    },
    {
     "name": "stdout",
     "output_type": "stream",
     "text": [
      "24/12/03 21:51:43 WARN DAGScheduler: Broadcasting large task binary with size 4.9 MiB\n",
      "24/12/03 21:51:43 WARN TaskSetManager: Stage 337 contains a task of very large size (6176 KiB). The maximum recommended task size is 1000 KiB.\n"
     ]
    },
    {
     "name": "stderr",
     "output_type": "stream",
     "text": [
      "                                                                                \r"
     ]
    },
    {
     "name": "stdout",
     "output_type": "stream",
     "text": [
      "24/12/03 21:51:45 WARN DAGScheduler: Broadcasting large task binary with size 7.1 MiB\n",
      "24/12/03 21:51:45 WARN TaskSetManager: Stage 339 contains a task of very large size (6176 KiB). The maximum recommended task size is 1000 KiB.\n"
     ]
    },
    {
     "name": "stderr",
     "output_type": "stream",
     "text": [
      "[Stage 339:>                                                        (0 + 3) / 3]\r"
     ]
    },
    {
     "name": "stdout",
     "output_type": "stream",
     "text": [
      "24/12/03 21:51:46 WARN DAGScheduler: Broadcasting large task binary with size 1027.3 KiB\n"
     ]
    },
    {
     "name": "stderr",
     "output_type": "stream",
     "text": [
      "                                                                                \r"
     ]
    },
    {
     "name": "stdout",
     "output_type": "stream",
     "text": [
      "24/12/03 21:51:46 WARN DAGScheduler: Broadcasting large task binary with size 9.9 MiB\n",
      "24/12/03 21:51:46 WARN TaskSetManager: Stage 341 contains a task of very large size (6176 KiB). The maximum recommended task size is 1000 KiB.\n"
     ]
    },
    {
     "name": "stderr",
     "output_type": "stream",
     "text": [
      "[Stage 341:>                                                        (0 + 3) / 3]\r"
     ]
    },
    {
     "name": "stdout",
     "output_type": "stream",
     "text": [
      "24/12/03 21:51:47 WARN DAGScheduler: Broadcasting large task binary with size 1247.1 KiB\n"
     ]
    },
    {
     "name": "stderr",
     "output_type": "stream",
     "text": [
      "                                                                                \r"
     ]
    },
    {
     "name": "stdout",
     "output_type": "stream",
     "text": [
      "24/12/03 21:51:49 WARN DAGScheduler: Broadcasting large task binary with size 13.2 MiB\n",
      "24/12/03 21:51:49 WARN TaskSetManager: Stage 343 contains a task of very large size (6176 KiB). The maximum recommended task size is 1000 KiB.\n"
     ]
    },
    {
     "name": "stderr",
     "output_type": "stream",
     "text": [
      "[Stage 343:>                                                        (0 + 3) / 3]\r"
     ]
    },
    {
     "name": "stdout",
     "output_type": "stream",
     "text": [
      "24/12/03 21:51:50 WARN DAGScheduler: Broadcasting large task binary with size 1485.6 KiB\n"
     ]
    },
    {
     "name": "stderr",
     "output_type": "stream",
     "text": [
      "                                                                                \r"
     ]
    },
    {
     "name": "stdout",
     "output_type": "stream",
     "text": [
      "24/12/03 21:51:51 WARN DAGScheduler: Broadcasting large task binary with size 17.1 MiB\n",
      "24/12/03 21:51:51 WARN TaskSetManager: Stage 345 contains a task of very large size (6176 KiB). The maximum recommended task size is 1000 KiB.\n"
     ]
    },
    {
     "name": "stderr",
     "output_type": "stream",
     "text": [
      "[Stage 345:>                                                        (0 + 3) / 3]\r"
     ]
    },
    {
     "name": "stdout",
     "output_type": "stream",
     "text": [
      "24/12/03 21:51:52 WARN DAGScheduler: Broadcasting large task binary with size 1688.1 KiB\n"
     ]
    },
    {
     "name": "stderr",
     "output_type": "stream",
     "text": [
      "                                                                                \r"
     ]
    },
    {
     "name": "stdout",
     "output_type": "stream",
     "text": [
      "24/12/03 21:51:54 WARN DAGScheduler: Broadcasting large task binary with size 21.5 MiB\n",
      "24/12/03 21:51:54 WARN TaskSetManager: Stage 347 contains a task of very large size (6176 KiB). The maximum recommended task size is 1000 KiB.\n"
     ]
    },
    {
     "name": "stderr",
     "output_type": "stream",
     "text": [
      "[Stage 347:======================================>                  (2 + 1) / 3]\r"
     ]
    },
    {
     "name": "stdout",
     "output_type": "stream",
     "text": [
      "24/12/03 21:51:56 WARN DAGScheduler: Broadcasting large task binary with size 1861.3 KiB\n"
     ]
    },
    {
     "name": "stderr",
     "output_type": "stream",
     "text": [
      "                                                                                \r"
     ]
    },
    {
     "name": "stdout",
     "output_type": "stream",
     "text": [
      "24/12/03 21:51:57 WARN DAGScheduler: Broadcasting large task binary with size 13.8 MiB\n",
      "24/12/03 21:51:57 WARN TaskSetManager: Stage 349 contains a task of very large size (6176 KiB). The maximum recommended task size is 1000 KiB.\n"
     ]
    },
    {
     "name": "stderr",
     "output_type": "stream",
     "text": [
      "                                                                                \r"
     ]
    },
    {
     "name": "stdout",
     "output_type": "stream",
     "text": [
      "24/12/03 21:51:58 WARN TaskSetManager: Stage 351 contains a task of very large size (6176 KiB). The maximum recommended task size is 1000 KiB.\n",
      "24/12/03 21:51:58 WARN TaskSetManager: Stage 354 contains a task of very large size (6176 KiB). The maximum recommended task size is 1000 KiB.\n",
      "24/12/03 21:51:59 WARN TaskSetManager: Stage 357 contains a task of very large size (6176 KiB). The maximum recommended task size is 1000 KiB.\n",
      "24/12/03 21:51:59 WARN TaskSetManager: Stage 358 contains a task of very large size (6176 KiB). The maximum recommended task size is 1000 KiB.\n",
      "24/12/03 21:51:59 WARN TaskSetManager: Stage 359 contains a task of very large size (6176 KiB). The maximum recommended task size is 1000 KiB.\n",
      "24/12/03 21:52:00 WARN TaskSetManager: Stage 361 contains a task of very large size (6176 KiB). The maximum recommended task size is 1000 KiB.\n",
      "24/12/03 21:52:00 WARN TaskSetManager: Stage 363 contains a task of very large size (6176 KiB). The maximum recommended task size is 1000 KiB.\n",
      "24/12/03 21:52:01 WARN TaskSetManager: Stage 365 contains a task of very large size (6176 KiB). The maximum recommended task size is 1000 KiB.\n",
      "24/12/03 21:52:01 WARN TaskSetManager: Stage 367 contains a task of very large size (6176 KiB). The maximum recommended task size is 1000 KiB.\n",
      "24/12/03 21:52:01 WARN TaskSetManager: Stage 369 contains a task of very large size (6176 KiB). The maximum recommended task size is 1000 KiB.\n",
      "24/12/03 21:52:01 WARN TaskSetManager: Stage 371 contains a task of very large size (6176 KiB). The maximum recommended task size is 1000 KiB.\n",
      "24/12/03 21:52:02 WARN DAGScheduler: Broadcasting large task binary with size 1359.5 KiB\n",
      "24/12/03 21:52:02 WARN TaskSetManager: Stage 373 contains a task of very large size (6176 KiB). The maximum recommended task size is 1000 KiB.\n",
      "24/12/03 21:52:02 WARN DAGScheduler: Broadcasting large task binary with size 2.2 MiB\n",
      "24/12/03 21:52:02 WARN TaskSetManager: Stage 375 contains a task of very large size (6176 KiB). The maximum recommended task size is 1000 KiB.\n",
      "24/12/03 21:52:03 WARN DAGScheduler: Broadcasting large task binary with size 3.4 MiB\n",
      "24/12/03 21:52:03 WARN TaskSetManager: Stage 377 contains a task of very large size (6176 KiB). The maximum recommended task size is 1000 KiB.\n"
     ]
    },
    {
     "name": "stderr",
     "output_type": "stream",
     "text": [
      "                                                                                \r"
     ]
    },
    {
     "name": "stdout",
     "output_type": "stream",
     "text": [
      "24/12/03 21:52:04 WARN DAGScheduler: Broadcasting large task binary with size 5.3 MiB\n",
      "24/12/03 21:52:04 WARN TaskSetManager: Stage 379 contains a task of very large size (6176 KiB). The maximum recommended task size is 1000 KiB.\n"
     ]
    },
    {
     "name": "stderr",
     "output_type": "stream",
     "text": [
      "                                                                                \r"
     ]
    },
    {
     "name": "stdout",
     "output_type": "stream",
     "text": [
      "24/12/03 21:52:06 WARN DAGScheduler: Broadcasting large task binary with size 7.7 MiB\n",
      "24/12/03 21:52:06 WARN TaskSetManager: Stage 381 contains a task of very large size (6176 KiB). The maximum recommended task size is 1000 KiB.\n"
     ]
    },
    {
     "name": "stderr",
     "output_type": "stream",
     "text": [
      "[Stage 381:>                                                        (0 + 3) / 3]\r"
     ]
    },
    {
     "name": "stdout",
     "output_type": "stream",
     "text": [
      "24/12/03 21:52:07 WARN DAGScheduler: Broadcasting large task binary with size 1137.6 KiB\n"
     ]
    },
    {
     "name": "stderr",
     "output_type": "stream",
     "text": [
      "                                                                                \r"
     ]
    },
    {
     "name": "stdout",
     "output_type": "stream",
     "text": [
      "24/12/03 21:52:07 WARN DAGScheduler: Broadcasting large task binary with size 10.8 MiB\n",
      "24/12/03 21:52:07 WARN TaskSetManager: Stage 383 contains a task of very large size (6176 KiB). The maximum recommended task size is 1000 KiB.\n"
     ]
    },
    {
     "name": "stderr",
     "output_type": "stream",
     "text": [
      "[Stage 383:>                                                        (0 + 3) / 3]\r"
     ]
    },
    {
     "name": "stdout",
     "output_type": "stream",
     "text": [
      "24/12/03 21:52:09 WARN DAGScheduler: Broadcasting large task binary with size 1414.8 KiB\n"
     ]
    },
    {
     "name": "stderr",
     "output_type": "stream",
     "text": [
      "                                                                                \r"
     ]
    },
    {
     "name": "stdout",
     "output_type": "stream",
     "text": [
      "24/12/03 21:52:10 WARN DAGScheduler: Broadcasting large task binary with size 14.6 MiB\n",
      "24/12/03 21:52:10 WARN TaskSetManager: Stage 385 contains a task of very large size (6176 KiB). The maximum recommended task size is 1000 KiB.\n"
     ]
    },
    {
     "name": "stderr",
     "output_type": "stream",
     "text": [
      "[Stage 385:======================================>                  (2 + 1) / 3]\r"
     ]
    },
    {
     "name": "stdout",
     "output_type": "stream",
     "text": [
      "24/12/03 21:52:11 WARN DAGScheduler: Broadcasting large task binary with size 1665.7 KiB\n"
     ]
    },
    {
     "name": "stderr",
     "output_type": "stream",
     "text": [
      "                                                                                \r"
     ]
    },
    {
     "name": "stdout",
     "output_type": "stream",
     "text": [
      "24/12/03 21:52:12 WARN DAGScheduler: Broadcasting large task binary with size 18.9 MiB\n",
      "24/12/03 21:52:12 WARN TaskSetManager: Stage 387 contains a task of very large size (6176 KiB). The maximum recommended task size is 1000 KiB.\n"
     ]
    },
    {
     "name": "stderr",
     "output_type": "stream",
     "text": [
      "[Stage 387:======================================>                  (2 + 1) / 3]\r"
     ]
    },
    {
     "name": "stdout",
     "output_type": "stream",
     "text": [
      "24/12/03 21:52:14 WARN DAGScheduler: Broadcasting large task binary with size 1893.3 KiB\n"
     ]
    },
    {
     "name": "stderr",
     "output_type": "stream",
     "text": [
      "                                                                                \r"
     ]
    },
    {
     "name": "stdout",
     "output_type": "stream",
     "text": [
      "24/12/03 21:52:16 WARN DAGScheduler: Broadcasting large task binary with size 23.8 MiB\n",
      "24/12/03 21:52:16 WARN TaskSetManager: Stage 389 contains a task of very large size (6176 KiB). The maximum recommended task size is 1000 KiB.\n"
     ]
    },
    {
     "name": "stderr",
     "output_type": "stream",
     "text": [
      "[Stage 389:======================================>                  (2 + 1) / 3]\r"
     ]
    },
    {
     "name": "stdout",
     "output_type": "stream",
     "text": [
      "24/12/03 21:52:18 WARN DAGScheduler: Broadcasting large task binary with size 2.0 MiB\n"
     ]
    },
    {
     "name": "stderr",
     "output_type": "stream",
     "text": [
      "                                                                                \r"
     ]
    },
    {
     "name": "stdout",
     "output_type": "stream",
     "text": [
      "24/12/03 21:52:19 WARN DAGScheduler: Broadcasting large task binary with size 15.1 MiB\n",
      "24/12/03 21:52:19 WARN TaskSetManager: Stage 391 contains a task of very large size (6176 KiB). The maximum recommended task size is 1000 KiB.\n"
     ]
    },
    {
     "name": "stderr",
     "output_type": "stream",
     "text": [
      "                                                                                \r"
     ]
    },
    {
     "name": "stdout",
     "output_type": "stream",
     "text": [
      "24/12/03 21:52:20 WARN TaskSetManager: Stage 393 contains a task of very large size (6176 KiB). The maximum recommended task size is 1000 KiB.\n",
      "24/12/03 21:52:21 WARN TaskSetManager: Stage 396 contains a task of very large size (6176 KiB). The maximum recommended task size is 1000 KiB.\n",
      "24/12/03 21:52:21 WARN TaskSetManager: Stage 399 contains a task of very large size (6176 KiB). The maximum recommended task size is 1000 KiB.\n",
      "24/12/03 21:52:21 WARN TaskSetManager: Stage 400 contains a task of very large size (6176 KiB). The maximum recommended task size is 1000 KiB.\n",
      "24/12/03 21:52:22 WARN TaskSetManager: Stage 401 contains a task of very large size (6176 KiB). The maximum recommended task size is 1000 KiB.\n",
      "24/12/03 21:52:22 WARN TaskSetManager: Stage 403 contains a task of very large size (6176 KiB). The maximum recommended task size is 1000 KiB.\n"
     ]
    },
    {
     "name": "stderr",
     "output_type": "stream",
     "text": [
      "                                                                                \r"
     ]
    },
    {
     "name": "stdout",
     "output_type": "stream",
     "text": [
      "24/12/03 21:52:23 WARN TaskSetManager: Stage 405 contains a task of very large size (6176 KiB). The maximum recommended task size is 1000 KiB.\n",
      "24/12/03 21:52:23 WARN TaskSetManager: Stage 407 contains a task of very large size (6176 KiB). The maximum recommended task size is 1000 KiB.\n",
      "24/12/03 21:52:24 WARN TaskSetManager: Stage 409 contains a task of very large size (6176 KiB). The maximum recommended task size is 1000 KiB.\n",
      "24/12/03 21:52:24 WARN TaskSetManager: Stage 411 contains a task of very large size (6176 KiB). The maximum recommended task size is 1000 KiB.\n",
      "24/12/03 21:52:25 WARN TaskSetManager: Stage 413 contains a task of very large size (6176 KiB). The maximum recommended task size is 1000 KiB.\n",
      "24/12/03 21:52:25 WARN TaskSetManager: Stage 415 contains a task of very large size (6176 KiB). The maximum recommended task size is 1000 KiB.\n",
      "24/12/03 21:52:26 WARN TaskSetManager: Stage 418 contains a task of very large size (6176 KiB). The maximum recommended task size is 1000 KiB.\n",
      "24/12/03 21:52:26 WARN TaskSetManager: Stage 421 contains a task of very large size (6176 KiB). The maximum recommended task size is 1000 KiB.\n",
      "24/12/03 21:52:26 WARN TaskSetManager: Stage 422 contains a task of very large size (6176 KiB). The maximum recommended task size is 1000 KiB.\n",
      "24/12/03 21:52:27 WARN TaskSetManager: Stage 423 contains a task of very large size (6176 KiB). The maximum recommended task size is 1000 KiB.\n",
      "24/12/03 21:52:27 WARN TaskSetManager: Stage 425 contains a task of very large size (6176 KiB). The maximum recommended task size is 1000 KiB.\n"
     ]
    },
    {
     "name": "stderr",
     "output_type": "stream",
     "text": [
      "                                                                                \r"
     ]
    },
    {
     "name": "stdout",
     "output_type": "stream",
     "text": [
      "24/12/03 21:52:28 WARN TaskSetManager: Stage 427 contains a task of very large size (6176 KiB). The maximum recommended task size is 1000 KiB.\n",
      "24/12/03 21:52:28 WARN TaskSetManager: Stage 429 contains a task of very large size (6176 KiB). The maximum recommended task size is 1000 KiB.\n",
      "24/12/03 21:52:29 WARN TaskSetManager: Stage 431 contains a task of very large size (6176 KiB). The maximum recommended task size is 1000 KiB.\n",
      "24/12/03 21:52:29 WARN TaskSetManager: Stage 433 contains a task of very large size (6176 KiB). The maximum recommended task size is 1000 KiB.\n",
      "24/12/03 21:52:30 WARN TaskSetManager: Stage 435 contains a task of very large size (6176 KiB). The maximum recommended task size is 1000 KiB.\n",
      "24/12/03 21:52:30 WARN TaskSetManager: Stage 437 contains a task of very large size (6176 KiB). The maximum recommended task size is 1000 KiB.\n",
      "24/12/03 21:52:31 WARN TaskSetManager: Stage 440 contains a task of very large size (6176 KiB). The maximum recommended task size is 1000 KiB.\n",
      "24/12/03 21:52:31 WARN TaskSetManager: Stage 443 contains a task of very large size (6176 KiB). The maximum recommended task size is 1000 KiB.\n",
      "24/12/03 21:52:31 WARN TaskSetManager: Stage 444 contains a task of very large size (6176 KiB). The maximum recommended task size is 1000 KiB.\n",
      "24/12/03 21:52:31 WARN TaskSetManager: Stage 445 contains a task of very large size (6176 KiB). The maximum recommended task size is 1000 KiB.\n",
      "24/12/03 21:52:32 WARN TaskSetManager: Stage 447 contains a task of very large size (6176 KiB). The maximum recommended task size is 1000 KiB.\n"
     ]
    },
    {
     "name": "stderr",
     "output_type": "stream",
     "text": [
      "                                                                                \r"
     ]
    },
    {
     "name": "stdout",
     "output_type": "stream",
     "text": [
      "24/12/03 21:52:33 WARN TaskSetManager: Stage 449 contains a task of very large size (6176 KiB). The maximum recommended task size is 1000 KiB.\n",
      "24/12/03 21:52:33 WARN TaskSetManager: Stage 451 contains a task of very large size (6176 KiB). The maximum recommended task size is 1000 KiB.\n",
      "24/12/03 21:52:33 WARN TaskSetManager: Stage 453 contains a task of very large size (6176 KiB). The maximum recommended task size is 1000 KiB.\n",
      "24/12/03 21:52:34 WARN TaskSetManager: Stage 455 contains a task of very large size (6176 KiB). The maximum recommended task size is 1000 KiB.\n",
      "24/12/03 21:52:35 WARN DAGScheduler: Broadcasting large task binary with size 1425.4 KiB\n",
      "24/12/03 21:52:35 WARN TaskSetManager: Stage 457 contains a task of very large size (6176 KiB). The maximum recommended task size is 1000 KiB.\n"
     ]
    },
    {
     "name": "stderr",
     "output_type": "stream",
     "text": [
      "                                                                                \r"
     ]
    },
    {
     "name": "stdout",
     "output_type": "stream",
     "text": [
      "24/12/03 21:52:36 WARN DAGScheduler: Broadcasting large task binary with size 2.4 MiB\n",
      "24/12/03 21:52:36 WARN TaskSetManager: Stage 459 contains a task of very large size (6176 KiB). The maximum recommended task size is 1000 KiB.\n"
     ]
    },
    {
     "name": "stderr",
     "output_type": "stream",
     "text": [
      "                                                                                \r"
     ]
    },
    {
     "name": "stdout",
     "output_type": "stream",
     "text": [
      "24/12/03 21:52:37 WARN DAGScheduler: Broadcasting large task binary with size 4.0 MiB\n",
      "24/12/03 21:52:37 WARN TaskSetManager: Stage 461 contains a task of very large size (6176 KiB). The maximum recommended task size is 1000 KiB.\n"
     ]
    },
    {
     "name": "stderr",
     "output_type": "stream",
     "text": [
      "                                                                                \r"
     ]
    },
    {
     "name": "stdout",
     "output_type": "stream",
     "text": [
      "24/12/03 21:52:39 WARN DAGScheduler: Broadcasting large task binary with size 6.4 MiB\n",
      "24/12/03 21:52:39 WARN TaskSetManager: Stage 463 contains a task of very large size (6176 KiB). The maximum recommended task size is 1000 KiB.\n"
     ]
    },
    {
     "name": "stderr",
     "output_type": "stream",
     "text": [
      "[Stage 463:======================================>                  (2 + 1) / 3]\r"
     ]
    },
    {
     "name": "stdout",
     "output_type": "stream",
     "text": [
      "24/12/03 21:52:40 WARN DAGScheduler: Broadcasting large task binary with size 1187.3 KiB\n"
     ]
    },
    {
     "name": "stderr",
     "output_type": "stream",
     "text": [
      "                                                                                \r"
     ]
    },
    {
     "name": "stdout",
     "output_type": "stream",
     "text": [
      "24/12/03 21:52:41 WARN DAGScheduler: Broadcasting large task binary with size 9.7 MiB\n",
      "24/12/03 21:52:41 WARN TaskSetManager: Stage 465 contains a task of very large size (6176 KiB). The maximum recommended task size is 1000 KiB.\n"
     ]
    },
    {
     "name": "stderr",
     "output_type": "stream",
     "text": [
      "[Stage 465:>                                                        (0 + 3) / 3]\r"
     ]
    },
    {
     "name": "stdout",
     "output_type": "stream",
     "text": [
      "24/12/03 21:52:43 WARN DAGScheduler: Broadcasting large task binary with size 1617.9 KiB\n"
     ]
    },
    {
     "name": "stderr",
     "output_type": "stream",
     "text": [
      "                                                                                \r"
     ]
    },
    {
     "name": "stdout",
     "output_type": "stream",
     "text": [
      "24/12/03 21:52:44 WARN DAGScheduler: Broadcasting large task binary with size 6.9 MiB\n",
      "24/12/03 21:52:44 WARN TaskSetManager: Stage 467 contains a task of very large size (6176 KiB). The maximum recommended task size is 1000 KiB.\n"
     ]
    },
    {
     "name": "stderr",
     "output_type": "stream",
     "text": [
      "                                                                                \r"
     ]
    },
    {
     "name": "stdout",
     "output_type": "stream",
     "text": [
      "24/12/03 21:52:44 WARN TaskSetManager: Stage 469 contains a task of very large size (6176 KiB). The maximum recommended task size is 1000 KiB.\n",
      "24/12/03 21:52:45 WARN TaskSetManager: Stage 472 contains a task of very large size (6176 KiB). The maximum recommended task size is 1000 KiB.\n",
      "24/12/03 21:52:45 WARN TaskSetManager: Stage 475 contains a task of very large size (6176 KiB). The maximum recommended task size is 1000 KiB.\n",
      "24/12/03 21:52:45 WARN TaskSetManager: Stage 476 contains a task of very large size (6176 KiB). The maximum recommended task size is 1000 KiB.\n",
      "24/12/03 21:52:46 WARN TaskSetManager: Stage 477 contains a task of very large size (6176 KiB). The maximum recommended task size is 1000 KiB.\n",
      "24/12/03 21:52:46 WARN TaskSetManager: Stage 479 contains a task of very large size (6176 KiB). The maximum recommended task size is 1000 KiB.\n"
     ]
    },
    {
     "name": "stderr",
     "output_type": "stream",
     "text": [
      "                                                                                \r"
     ]
    },
    {
     "name": "stdout",
     "output_type": "stream",
     "text": [
      "24/12/03 21:52:47 WARN TaskSetManager: Stage 481 contains a task of very large size (6176 KiB). The maximum recommended task size is 1000 KiB.\n",
      "24/12/03 21:52:47 WARN TaskSetManager: Stage 483 contains a task of very large size (6176 KiB). The maximum recommended task size is 1000 KiB.\n",
      "24/12/03 21:52:48 WARN TaskSetManager: Stage 485 contains a task of very large size (6176 KiB). The maximum recommended task size is 1000 KiB.\n",
      "24/12/03 21:52:48 WARN TaskSetManager: Stage 487 contains a task of very large size (6176 KiB). The maximum recommended task size is 1000 KiB.\n"
     ]
    },
    {
     "name": "stderr",
     "output_type": "stream",
     "text": [
      "                                                                                \r"
     ]
    },
    {
     "name": "stdout",
     "output_type": "stream",
     "text": [
      "24/12/03 21:52:49 WARN DAGScheduler: Broadcasting large task binary with size 1437.5 KiB\n",
      "24/12/03 21:52:49 WARN TaskSetManager: Stage 489 contains a task of very large size (6176 KiB). The maximum recommended task size is 1000 KiB.\n"
     ]
    },
    {
     "name": "stderr",
     "output_type": "stream",
     "text": [
      "                                                                                \r"
     ]
    },
    {
     "name": "stdout",
     "output_type": "stream",
     "text": [
      "24/12/03 21:52:50 WARN DAGScheduler: Broadcasting large task binary with size 2.4 MiB\n",
      "24/12/03 21:52:50 WARN TaskSetManager: Stage 491 contains a task of very large size (6176 KiB). The maximum recommended task size is 1000 KiB.\n"
     ]
    },
    {
     "name": "stderr",
     "output_type": "stream",
     "text": [
      "                                                                                \r"
     ]
    },
    {
     "name": "stdout",
     "output_type": "stream",
     "text": [
      "24/12/03 21:52:51 WARN DAGScheduler: Broadcasting large task binary with size 4.1 MiB\n",
      "24/12/03 21:52:51 WARN TaskSetManager: Stage 493 contains a task of very large size (6176 KiB). The maximum recommended task size is 1000 KiB.\n"
     ]
    },
    {
     "name": "stderr",
     "output_type": "stream",
     "text": [
      "                                                                                \r"
     ]
    },
    {
     "name": "stdout",
     "output_type": "stream",
     "text": [
      "24/12/03 21:52:53 WARN DAGScheduler: Broadcasting large task binary with size 6.7 MiB\n",
      "24/12/03 21:52:53 WARN TaskSetManager: Stage 495 contains a task of very large size (6176 KiB). The maximum recommended task size is 1000 KiB.\n"
     ]
    },
    {
     "name": "stderr",
     "output_type": "stream",
     "text": [
      "[Stage 495:>                                                        (0 + 3) / 3]\r"
     ]
    },
    {
     "name": "stdout",
     "output_type": "stream",
     "text": [
      "24/12/03 21:52:55 WARN DAGScheduler: Broadcasting large task binary with size 1295.8 KiB\n"
     ]
    },
    {
     "name": "stderr",
     "output_type": "stream",
     "text": [
      "                                                                                \r"
     ]
    },
    {
     "name": "stdout",
     "output_type": "stream",
     "text": [
      "24/12/03 21:52:56 WARN DAGScheduler: Broadcasting large task binary with size 10.4 MiB\n",
      "24/12/03 21:52:56 WARN TaskSetManager: Stage 497 contains a task of very large size (6176 KiB). The maximum recommended task size is 1000 KiB.\n"
     ]
    },
    {
     "name": "stderr",
     "output_type": "stream",
     "text": [
      "[Stage 497:===================>                                     (1 + 2) / 3]\r"
     ]
    },
    {
     "name": "stdout",
     "output_type": "stream",
     "text": [
      "24/12/03 21:52:58 WARN DAGScheduler: Broadcasting large task binary with size 1799.6 KiB\n"
     ]
    },
    {
     "name": "stderr",
     "output_type": "stream",
     "text": [
      "                                                                                \r"
     ]
    },
    {
     "name": "stdout",
     "output_type": "stream",
     "text": [
      "24/12/03 21:52:59 WARN DAGScheduler: Broadcasting large task binary with size 7.2 MiB\n",
      "24/12/03 21:52:59 WARN TaskSetManager: Stage 499 contains a task of very large size (6176 KiB). The maximum recommended task size is 1000 KiB.\n",
      "24/12/03 21:52:59 WARN TaskSetManager: Stage 501 contains a task of very large size (6176 KiB). The maximum recommended task size is 1000 KiB.\n",
      "24/12/03 21:53:00 WARN TaskSetManager: Stage 504 contains a task of very large size (6176 KiB). The maximum recommended task size is 1000 KiB.\n",
      "24/12/03 21:53:00 WARN TaskSetManager: Stage 507 contains a task of very large size (6176 KiB). The maximum recommended task size is 1000 KiB.\n",
      "24/12/03 21:53:00 WARN TaskSetManager: Stage 508 contains a task of very large size (6176 KiB). The maximum recommended task size is 1000 KiB.\n",
      "24/12/03 21:53:01 WARN TaskSetManager: Stage 509 contains a task of very large size (6176 KiB). The maximum recommended task size is 1000 KiB.\n",
      "24/12/03 21:53:01 WARN TaskSetManager: Stage 511 contains a task of very large size (6176 KiB). The maximum recommended task size is 1000 KiB.\n"
     ]
    },
    {
     "name": "stderr",
     "output_type": "stream",
     "text": [
      "                                                                                \r"
     ]
    },
    {
     "name": "stdout",
     "output_type": "stream",
     "text": [
      "24/12/03 21:53:02 WARN TaskSetManager: Stage 513 contains a task of very large size (6176 KiB). The maximum recommended task size is 1000 KiB.\n",
      "24/12/03 21:53:02 WARN TaskSetManager: Stage 515 contains a task of very large size (6176 KiB). The maximum recommended task size is 1000 KiB.\n",
      "24/12/03 21:53:03 WARN TaskSetManager: Stage 517 contains a task of very large size (6176 KiB). The maximum recommended task size is 1000 KiB.\n",
      "24/12/03 21:53:03 WARN TaskSetManager: Stage 519 contains a task of very large size (6176 KiB). The maximum recommended task size is 1000 KiB.\n",
      "24/12/03 21:53:04 WARN DAGScheduler: Broadcasting large task binary with size 1425.4 KiB\n",
      "24/12/03 21:53:04 WARN TaskSetManager: Stage 521 contains a task of very large size (6176 KiB). The maximum recommended task size is 1000 KiB.\n"
     ]
    },
    {
     "name": "stderr",
     "output_type": "stream",
     "text": [
      "                                                                                \r"
     ]
    },
    {
     "name": "stdout",
     "output_type": "stream",
     "text": [
      "24/12/03 21:53:05 WARN DAGScheduler: Broadcasting large task binary with size 2.4 MiB\n",
      "24/12/03 21:53:05 WARN TaskSetManager: Stage 523 contains a task of very large size (6176 KiB). The maximum recommended task size is 1000 KiB.\n"
     ]
    },
    {
     "name": "stderr",
     "output_type": "stream",
     "text": [
      "                                                                                \r"
     ]
    },
    {
     "name": "stdout",
     "output_type": "stream",
     "text": [
      "24/12/03 21:53:06 WARN DAGScheduler: Broadcasting large task binary with size 4.0 MiB\n",
      "24/12/03 21:53:06 WARN TaskSetManager: Stage 525 contains a task of very large size (6176 KiB). The maximum recommended task size is 1000 KiB.\n"
     ]
    },
    {
     "name": "stderr",
     "output_type": "stream",
     "text": [
      "                                                                                \r"
     ]
    },
    {
     "name": "stdout",
     "output_type": "stream",
     "text": [
      "24/12/03 21:53:08 WARN DAGScheduler: Broadcasting large task binary with size 6.4 MiB\n",
      "24/12/03 21:53:08 WARN TaskSetManager: Stage 527 contains a task of very large size (6176 KiB). The maximum recommended task size is 1000 KiB.\n"
     ]
    },
    {
     "name": "stderr",
     "output_type": "stream",
     "text": [
      "[Stage 527:>                                                        (0 + 3) / 3]\r"
     ]
    },
    {
     "name": "stdout",
     "output_type": "stream",
     "text": [
      "24/12/03 21:53:10 WARN DAGScheduler: Broadcasting large task binary with size 1187.3 KiB\n"
     ]
    },
    {
     "name": "stderr",
     "output_type": "stream",
     "text": [
      "                                                                                \r"
     ]
    },
    {
     "name": "stdout",
     "output_type": "stream",
     "text": [
      "24/12/03 21:53:10 WARN DAGScheduler: Broadcasting large task binary with size 9.7 MiB\n",
      "24/12/03 21:53:11 WARN TaskSetManager: Stage 529 contains a task of very large size (6176 KiB). The maximum recommended task size is 1000 KiB.\n"
     ]
    },
    {
     "name": "stderr",
     "output_type": "stream",
     "text": [
      "[Stage 529:===================>                                     (1 + 2) / 3]\r"
     ]
    },
    {
     "name": "stdout",
     "output_type": "stream",
     "text": [
      "24/12/03 21:53:13 WARN DAGScheduler: Broadcasting large task binary with size 1617.9 KiB\n"
     ]
    },
    {
     "name": "stderr",
     "output_type": "stream",
     "text": [
      "                                                                                \r"
     ]
    },
    {
     "name": "stdout",
     "output_type": "stream",
     "text": [
      "24/12/03 21:53:14 WARN DAGScheduler: Broadcasting large task binary with size 14.2 MiB\n",
      "24/12/03 21:53:14 WARN TaskSetManager: Stage 531 contains a task of very large size (6176 KiB). The maximum recommended task size is 1000 KiB.\n"
     ]
    },
    {
     "name": "stderr",
     "output_type": "stream",
     "text": [
      "[Stage 531:======================================>                  (2 + 1) / 3]\r"
     ]
    },
    {
     "name": "stdout",
     "output_type": "stream",
     "text": [
      "24/12/03 21:53:16 WARN DAGScheduler: Broadcasting large task binary with size 2.0 MiB\n"
     ]
    },
    {
     "name": "stderr",
     "output_type": "stream",
     "text": [
      "                                                                                \r"
     ]
    },
    {
     "name": "stdout",
     "output_type": "stream",
     "text": [
      "24/12/03 21:53:18 WARN DAGScheduler: Broadcasting large task binary with size 19.9 MiB\n",
      "24/12/03 21:53:18 WARN TaskSetManager: Stage 533 contains a task of very large size (6176 KiB). The maximum recommended task size is 1000 KiB.\n"
     ]
    },
    {
     "name": "stderr",
     "output_type": "stream",
     "text": [
      "[Stage 533:>                                                        (0 + 3) / 3]\r"
     ]
    },
    {
     "name": "stdout",
     "output_type": "stream",
     "text": [
      "24/12/03 21:53:20 WARN DAGScheduler: Broadcasting large task binary with size 2.5 MiB\n"
     ]
    },
    {
     "name": "stderr",
     "output_type": "stream",
     "text": [
      "[Stage 535:>                                                        (0 + 0) / 3]\r"
     ]
    },
    {
     "name": "stdout",
     "output_type": "stream",
     "text": [
      "24/12/03 21:53:23 WARN DAGScheduler: Broadcasting large task binary with size 26.7 MiB\n",
      "24/12/03 21:53:23 WARN TaskSetManager: Stage 535 contains a task of very large size (6176 KiB). The maximum recommended task size is 1000 KiB.\n"
     ]
    },
    {
     "name": "stderr",
     "output_type": "stream",
     "text": [
      "[Stage 535:===================>                                     (1 + 2) / 3]\r"
     ]
    },
    {
     "name": "stdout",
     "output_type": "stream",
     "text": [
      "24/12/03 21:53:26 WARN DAGScheduler: Broadcasting large task binary with size 2.9 MiB\n"
     ]
    },
    {
     "name": "stderr",
     "output_type": "stream",
     "text": [
      "                                                                                \r"
     ]
    },
    {
     "name": "stdout",
     "output_type": "stream",
     "text": [
      "24/12/03 21:53:28 WARN DAGScheduler: Broadcasting large task binary with size 34.5 MiB\n",
      "24/12/03 21:53:28 WARN TaskSetManager: Stage 537 contains a task of very large size (6176 KiB). The maximum recommended task size is 1000 KiB.\n"
     ]
    },
    {
     "name": "stderr",
     "output_type": "stream",
     "text": [
      "[Stage 537:===================>                                     (1 + 2) / 3]\r"
     ]
    },
    {
     "name": "stdout",
     "output_type": "stream",
     "text": [
      "24/12/03 21:53:32 WARN DAGScheduler: Broadcasting large task binary with size 3.3 MiB\n"
     ]
    },
    {
     "name": "stderr",
     "output_type": "stream",
     "text": [
      "[Stage 539:>                                                        (0 + 0) / 3]\r"
     ]
    },
    {
     "name": "stdout",
     "output_type": "stream",
     "text": [
      "24/12/03 21:53:35 WARN DAGScheduler: Broadcasting large task binary with size 43.3 MiB\n",
      "24/12/03 21:53:35 WARN TaskSetManager: Stage 539 contains a task of very large size (6176 KiB). The maximum recommended task size is 1000 KiB.\n"
     ]
    },
    {
     "name": "stderr",
     "output_type": "stream",
     "text": [
      "[Stage 539:======================================>                  (2 + 1) / 3]\r"
     ]
    },
    {
     "name": "stdout",
     "output_type": "stream",
     "text": [
      "24/12/03 21:53:39 WARN DAGScheduler: Broadcasting large task binary with size 3.6 MiB\n"
     ]
    },
    {
     "name": "stderr",
     "output_type": "stream",
     "text": [
      "                                                                                \r"
     ]
    },
    {
     "name": "stdout",
     "output_type": "stream",
     "text": [
      "24/12/03 21:53:42 WARN DAGScheduler: Broadcasting large task binary with size 27.7 MiB\n",
      "24/12/03 21:53:42 WARN TaskSetManager: Stage 541 contains a task of very large size (6176 KiB). The maximum recommended task size is 1000 KiB.\n"
     ]
    },
    {
     "name": "stderr",
     "output_type": "stream",
     "text": [
      "                                                                                \r"
     ]
    },
    {
     "name": "stdout",
     "output_type": "stream",
     "text": [
      "24/12/03 21:53:44 WARN TaskSetManager: Stage 543 contains a task of very large size (6176 KiB). The maximum recommended task size is 1000 KiB.\n",
      "24/12/03 21:53:44 WARN TaskSetManager: Stage 546 contains a task of very large size (6176 KiB). The maximum recommended task size is 1000 KiB.\n",
      "24/12/03 21:53:45 WARN TaskSetManager: Stage 549 contains a task of very large size (6176 KiB). The maximum recommended task size is 1000 KiB.\n",
      "24/12/03 21:53:45 WARN TaskSetManager: Stage 550 contains a task of very large size (6176 KiB). The maximum recommended task size is 1000 KiB.\n",
      "24/12/03 21:53:45 WARN TaskSetManager: Stage 551 contains a task of very large size (6176 KiB). The maximum recommended task size is 1000 KiB.\n",
      "24/12/03 21:53:46 WARN TaskSetManager: Stage 553 contains a task of very large size (6176 KiB). The maximum recommended task size is 1000 KiB.\n"
     ]
    },
    {
     "name": "stderr",
     "output_type": "stream",
     "text": [
      "                                                                                \r"
     ]
    },
    {
     "name": "stdout",
     "output_type": "stream",
     "text": [
      "24/12/03 21:53:47 WARN TaskSetManager: Stage 555 contains a task of very large size (6176 KiB). The maximum recommended task size is 1000 KiB.\n",
      "24/12/03 21:53:47 WARN TaskSetManager: Stage 557 contains a task of very large size (6176 KiB). The maximum recommended task size is 1000 KiB.\n",
      "24/12/03 21:53:47 WARN TaskSetManager: Stage 559 contains a task of very large size (6176 KiB). The maximum recommended task size is 1000 KiB.\n",
      "24/12/03 21:53:48 WARN TaskSetManager: Stage 561 contains a task of very large size (6176 KiB). The maximum recommended task size is 1000 KiB.\n"
     ]
    },
    {
     "name": "stderr",
     "output_type": "stream",
     "text": [
      "                                                                                \r"
     ]
    },
    {
     "name": "stdout",
     "output_type": "stream",
     "text": [
      "24/12/03 21:53:49 WARN DAGScheduler: Broadcasting large task binary with size 1437.5 KiB\n",
      "24/12/03 21:53:49 WARN TaskSetManager: Stage 563 contains a task of very large size (6176 KiB). The maximum recommended task size is 1000 KiB.\n"
     ]
    },
    {
     "name": "stderr",
     "output_type": "stream",
     "text": [
      "                                                                                \r"
     ]
    },
    {
     "name": "stdout",
     "output_type": "stream",
     "text": [
      "24/12/03 21:53:50 WARN DAGScheduler: Broadcasting large task binary with size 2.4 MiB\n",
      "24/12/03 21:53:50 WARN TaskSetManager: Stage 565 contains a task of very large size (6176 KiB). The maximum recommended task size is 1000 KiB.\n"
     ]
    },
    {
     "name": "stderr",
     "output_type": "stream",
     "text": [
      "                                                                                \r"
     ]
    },
    {
     "name": "stdout",
     "output_type": "stream",
     "text": [
      "24/12/03 21:53:51 WARN DAGScheduler: Broadcasting large task binary with size 4.1 MiB\n",
      "24/12/03 21:53:51 WARN TaskSetManager: Stage 567 contains a task of very large size (6176 KiB). The maximum recommended task size is 1000 KiB.\n"
     ]
    },
    {
     "name": "stderr",
     "output_type": "stream",
     "text": [
      "                                                                                \r"
     ]
    },
    {
     "name": "stdout",
     "output_type": "stream",
     "text": [
      "24/12/03 21:53:53 WARN DAGScheduler: Broadcasting large task binary with size 6.7 MiB\n",
      "24/12/03 21:53:53 WARN TaskSetManager: Stage 569 contains a task of very large size (6176 KiB). The maximum recommended task size is 1000 KiB.\n"
     ]
    },
    {
     "name": "stderr",
     "output_type": "stream",
     "text": [
      "[Stage 569:======================================>                  (2 + 1) / 3]\r"
     ]
    },
    {
     "name": "stdout",
     "output_type": "stream",
     "text": [
      "24/12/03 21:53:54 WARN DAGScheduler: Broadcasting large task binary with size 1295.8 KiB\n"
     ]
    },
    {
     "name": "stderr",
     "output_type": "stream",
     "text": [
      "                                                                                \r"
     ]
    },
    {
     "name": "stdout",
     "output_type": "stream",
     "text": [
      "24/12/03 21:53:55 WARN DAGScheduler: Broadcasting large task binary with size 10.4 MiB\n",
      "24/12/03 21:53:55 WARN TaskSetManager: Stage 571 contains a task of very large size (6176 KiB). The maximum recommended task size is 1000 KiB.\n"
     ]
    },
    {
     "name": "stderr",
     "output_type": "stream",
     "text": [
      "[Stage 571:======================================>                  (2 + 1) / 3]\r"
     ]
    },
    {
     "name": "stdout",
     "output_type": "stream",
     "text": [
      "24/12/03 21:53:57 WARN DAGScheduler: Broadcasting large task binary with size 1799.6 KiB\n"
     ]
    },
    {
     "name": "stderr",
     "output_type": "stream",
     "text": [
      "                                                                                \r"
     ]
    },
    {
     "name": "stdout",
     "output_type": "stream",
     "text": [
      "24/12/03 21:53:58 WARN DAGScheduler: Broadcasting large task binary with size 15.4 MiB\n",
      "24/12/03 21:53:58 WARN TaskSetManager: Stage 573 contains a task of very large size (6176 KiB). The maximum recommended task size is 1000 KiB.\n"
     ]
    },
    {
     "name": "stderr",
     "output_type": "stream",
     "text": [
      "[Stage 573:>                                                        (0 + 3) / 3]\r"
     ]
    },
    {
     "name": "stdout",
     "output_type": "stream",
     "text": [
      "24/12/03 21:54:01 WARN DAGScheduler: Broadcasting large task binary with size 2.3 MiB\n"
     ]
    },
    {
     "name": "stderr",
     "output_type": "stream",
     "text": [
      "                                                                                \r"
     ]
    },
    {
     "name": "stdout",
     "output_type": "stream",
     "text": [
      "24/12/03 21:54:03 WARN DAGScheduler: Broadcasting large task binary with size 21.7 MiB\n",
      "24/12/03 21:54:03 WARN TaskSetManager: Stage 575 contains a task of very large size (6176 KiB). The maximum recommended task size is 1000 KiB.\n"
     ]
    },
    {
     "name": "stderr",
     "output_type": "stream",
     "text": [
      "[Stage 575:======================================>                  (2 + 1) / 3]\r"
     ]
    },
    {
     "name": "stdout",
     "output_type": "stream",
     "text": [
      "24/12/03 21:54:06 WARN DAGScheduler: Broadcasting large task binary with size 2.8 MiB\n"
     ]
    },
    {
     "name": "stderr",
     "output_type": "stream",
     "text": [
      "                                                                                \r"
     ]
    },
    {
     "name": "stdout",
     "output_type": "stream",
     "text": [
      "24/12/03 21:54:08 WARN DAGScheduler: Broadcasting large task binary with size 29.4 MiB\n",
      "24/12/03 21:54:09 WARN TaskSetManager: Stage 577 contains a task of very large size (6176 KiB). The maximum recommended task size is 1000 KiB.\n"
     ]
    },
    {
     "name": "stderr",
     "output_type": "stream",
     "text": [
      "[Stage 577:======================================>                  (2 + 1) / 3]\r"
     ]
    },
    {
     "name": "stdout",
     "output_type": "stream",
     "text": [
      "24/12/03 21:54:12 WARN DAGScheduler: Broadcasting large task binary with size 3.3 MiB\n"
     ]
    },
    {
     "name": "stderr",
     "output_type": "stream",
     "text": [
      "[Stage 579:>                                                        (0 + 2) / 3]\r"
     ]
    },
    {
     "name": "stdout",
     "output_type": "stream",
     "text": [
      "24/12/03 21:54:15 WARN DAGScheduler: Broadcasting large task binary with size 38.3 MiB\n",
      "24/12/03 21:54:15 WARN TaskSetManager: Stage 579 contains a task of very large size (6176 KiB). The maximum recommended task size is 1000 KiB.\n"
     ]
    },
    {
     "name": "stderr",
     "output_type": "stream",
     "text": [
      "[Stage 579:===================>                                     (1 + 2) / 3]\r"
     ]
    },
    {
     "name": "stdout",
     "output_type": "stream",
     "text": [
      "24/12/03 21:54:19 WARN DAGScheduler: Broadcasting large task binary with size 3.7 MiB\n"
     ]
    },
    {
     "name": "stderr",
     "output_type": "stream",
     "text": [
      "[Stage 581:>                                                        (0 + 0) / 3]\r"
     ]
    },
    {
     "name": "stdout",
     "output_type": "stream",
     "text": [
      "24/12/03 21:54:23 WARN DAGScheduler: Broadcasting large task binary with size 48.2 MiB\n",
      "24/12/03 21:54:23 WARN TaskSetManager: Stage 581 contains a task of very large size (6176 KiB). The maximum recommended task size is 1000 KiB.\n"
     ]
    },
    {
     "name": "stderr",
     "output_type": "stream",
     "text": [
      "[Stage 581:======================================>                  (2 + 1) / 3]\r"
     ]
    },
    {
     "name": "stdout",
     "output_type": "stream",
     "text": [
      "24/12/03 21:54:27 WARN DAGScheduler: Broadcasting large task binary with size 4.1 MiB\n"
     ]
    },
    {
     "name": "stderr",
     "output_type": "stream",
     "text": [
      "                                                                                \r"
     ]
    },
    {
     "name": "stdout",
     "output_type": "stream",
     "text": [
      "24/12/03 21:54:31 WARN DAGScheduler: Broadcasting large task binary with size 30.3 MiB\n",
      "24/12/03 21:54:31 WARN TaskSetManager: Stage 583 contains a task of very large size (6176 KiB). The maximum recommended task size is 1000 KiB.\n"
     ]
    },
    {
     "name": "stderr",
     "output_type": "stream",
     "text": [
      "                                                                                \r"
     ]
    },
    {
     "name": "stdout",
     "output_type": "stream",
     "text": [
      "24/12/03 21:54:33 WARN TaskSetManager: Stage 585 contains a task of very large size (6176 KiB). The maximum recommended task size is 1000 KiB.\n",
      "24/12/03 21:54:34 WARN TaskSetManager: Stage 588 contains a task of very large size (6176 KiB). The maximum recommended task size is 1000 KiB.\n"
     ]
    },
    {
     "name": "stderr",
     "output_type": "stream",
     "text": [
      "                                                                                \r"
     ]
    },
    {
     "name": "stdout",
     "output_type": "stream",
     "text": [
      "24/12/03 21:54:35 WARN TaskSetManager: Stage 591 contains a task of very large size (6176 KiB). The maximum recommended task size is 1000 KiB.\n",
      "24/12/03 21:54:35 WARN TaskSetManager: Stage 592 contains a task of very large size (6176 KiB). The maximum recommended task size is 1000 KiB.\n"
     ]
    },
    {
     "name": "stderr",
     "output_type": "stream",
     "text": [
      "                                                                                \r"
     ]
    },
    {
     "name": "stdout",
     "output_type": "stream",
     "text": [
      "24/12/03 21:54:36 WARN TaskSetManager: Stage 593 contains a task of very large size (6176 KiB). The maximum recommended task size is 1000 KiB.\n"
     ]
    },
    {
     "name": "stderr",
     "output_type": "stream",
     "text": [
      "                                                                                \r"
     ]
    },
    {
     "name": "stdout",
     "output_type": "stream",
     "text": [
      "24/12/03 21:54:37 WARN TaskSetManager: Stage 595 contains a task of very large size (6176 KiB). The maximum recommended task size is 1000 KiB.\n"
     ]
    },
    {
     "name": "stderr",
     "output_type": "stream",
     "text": [
      "                                                                                \r"
     ]
    },
    {
     "name": "stdout",
     "output_type": "stream",
     "text": [
      "24/12/03 21:54:39 WARN TaskSetManager: Stage 597 contains a task of very large size (6176 KiB). The maximum recommended task size is 1000 KiB.\n",
      "24/12/03 21:54:39 WARN TaskSetManager: Stage 599 contains a task of very large size (6176 KiB). The maximum recommended task size is 1000 KiB.\n",
      "24/12/03 21:54:39 WARN TaskSetManager: Stage 601 contains a task of very large size (6176 KiB). The maximum recommended task size is 1000 KiB.\n",
      "24/12/03 21:54:40 WARN TaskSetManager: Stage 603 contains a task of very large size (6176 KiB). The maximum recommended task size is 1000 KiB.\n",
      "24/12/03 21:54:40 WARN TaskSetManager: Stage 605 contains a task of very large size (6176 KiB). The maximum recommended task size is 1000 KiB.\n",
      "24/12/03 21:54:41 WARN DAGScheduler: Broadcasting large task binary with size 1372.3 KiB\n",
      "24/12/03 21:54:41 WARN TaskSetManager: Stage 607 contains a task of very large size (6176 KiB). The maximum recommended task size is 1000 KiB.\n",
      "24/12/03 21:54:42 WARN DAGScheduler: Broadcasting large task binary with size 2.2 MiB\n",
      "24/12/03 21:54:42 WARN TaskSetManager: Stage 609 contains a task of very large size (6176 KiB). The maximum recommended task size is 1000 KiB.\n"
     ]
    },
    {
     "name": "stderr",
     "output_type": "stream",
     "text": [
      "                                                                                \r"
     ]
    },
    {
     "name": "stdout",
     "output_type": "stream",
     "text": [
      "24/12/03 21:54:43 WARN DAGScheduler: Broadcasting large task binary with size 3.6 MiB\n",
      "24/12/03 21:54:44 WARN TaskSetManager: Stage 611 contains a task of very large size (6176 KiB). The maximum recommended task size is 1000 KiB.\n"
     ]
    },
    {
     "name": "stderr",
     "output_type": "stream",
     "text": [
      "                                                                                \r"
     ]
    },
    {
     "name": "stdout",
     "output_type": "stream",
     "text": [
      "24/12/03 21:54:45 WARN DAGScheduler: Broadcasting large task binary with size 5.5 MiB\n",
      "24/12/03 21:54:45 WARN TaskSetManager: Stage 613 contains a task of very large size (6176 KiB). The maximum recommended task size is 1000 KiB.\n"
     ]
    },
    {
     "name": "stderr",
     "output_type": "stream",
     "text": [
      "                                                                                \r"
     ]
    },
    {
     "name": "stdout",
     "output_type": "stream",
     "text": [
      "24/12/03 21:54:48 WARN DAGScheduler: Broadcasting large task binary with size 8.2 MiB\n",
      "24/12/03 21:54:48 WARN TaskSetManager: Stage 615 contains a task of very large size (6176 KiB). The maximum recommended task size is 1000 KiB.\n"
     ]
    },
    {
     "name": "stderr",
     "output_type": "stream",
     "text": [
      "[Stage 615:======================================>                  (2 + 1) / 3]\r"
     ]
    },
    {
     "name": "stdout",
     "output_type": "stream",
     "text": [
      "24/12/03 21:54:49 WARN DAGScheduler: Broadcasting large task binary with size 1260.8 KiB\n"
     ]
    },
    {
     "name": "stderr",
     "output_type": "stream",
     "text": [
      "                                                                                \r"
     ]
    },
    {
     "name": "stdout",
     "output_type": "stream",
     "text": [
      "24/12/03 21:54:51 WARN DAGScheduler: Broadcasting large task binary with size 11.6 MiB\n",
      "24/12/03 21:54:51 WARN TaskSetManager: Stage 617 contains a task of very large size (6176 KiB). The maximum recommended task size is 1000 KiB.\n"
     ]
    },
    {
     "name": "stderr",
     "output_type": "stream",
     "text": [
      "[Stage 617:===================>                                     (1 + 2) / 3]\r"
     ]
    },
    {
     "name": "stdout",
     "output_type": "stream",
     "text": [
      "24/12/03 21:54:53 WARN DAGScheduler: Broadcasting large task binary with size 1601.9 KiB\n"
     ]
    },
    {
     "name": "stderr",
     "output_type": "stream",
     "text": [
      "                                                                                \r"
     ]
    },
    {
     "name": "stdout",
     "output_type": "stream",
     "text": [
      "24/12/03 21:54:55 WARN DAGScheduler: Broadcasting large task binary with size 15.9 MiB\n",
      "24/12/03 21:54:55 WARN TaskSetManager: Stage 619 contains a task of very large size (6176 KiB). The maximum recommended task size is 1000 KiB.\n"
     ]
    },
    {
     "name": "stderr",
     "output_type": "stream",
     "text": [
      "[Stage 619:======================================>                  (2 + 1) / 3]\r"
     ]
    },
    {
     "name": "stdout",
     "output_type": "stream",
     "text": [
      "24/12/03 21:54:57 WARN DAGScheduler: Broadcasting large task binary with size 1926.8 KiB\n"
     ]
    },
    {
     "name": "stderr",
     "output_type": "stream",
     "text": [
      "                                                                                \r"
     ]
    },
    {
     "name": "stdout",
     "output_type": "stream",
     "text": [
      "24/12/03 21:54:59 WARN DAGScheduler: Broadcasting large task binary with size 21.0 MiB\n",
      "24/12/03 21:54:59 WARN TaskSetManager: Stage 621 contains a task of very large size (6176 KiB). The maximum recommended task size is 1000 KiB.\n"
     ]
    },
    {
     "name": "stderr",
     "output_type": "stream",
     "text": [
      "[Stage 621:======================================>                  (2 + 1) / 3]\r"
     ]
    },
    {
     "name": "stdout",
     "output_type": "stream",
     "text": [
      "24/12/03 21:55:02 WARN DAGScheduler: Broadcasting large task binary with size 2.2 MiB\n"
     ]
    },
    {
     "name": "stderr",
     "output_type": "stream",
     "text": [
      "[Stage 623:>                                                        (0 + 0) / 3]\r"
     ]
    },
    {
     "name": "stdout",
     "output_type": "stream",
     "text": [
      "24/12/03 21:55:05 WARN DAGScheduler: Broadcasting large task binary with size 26.9 MiB\n",
      "24/12/03 21:55:05 WARN TaskSetManager: Stage 623 contains a task of very large size (6176 KiB). The maximum recommended task size is 1000 KiB.\n"
     ]
    },
    {
     "name": "stderr",
     "output_type": "stream",
     "text": [
      "[Stage 623:===================>                                     (1 + 2) / 3]\r"
     ]
    },
    {
     "name": "stdout",
     "output_type": "stream",
     "text": [
      "24/12/03 21:55:09 WARN DAGScheduler: Broadcasting large task binary with size 2.5 MiB\n"
     ]
    },
    {
     "name": "stderr",
     "output_type": "stream",
     "text": [
      "                                                                                \r"
     ]
    }
   ],
   "source": [
    "# need to replace the empty string in surface\n",
    "df = df.withColumn(\n",
    "    'surface',\n",
    "    F.when(df.surface == '', 'Undefined').otherwise(df.surface)\n",
    ")\n",
    "\n",
    "# fit the model with the hyperparameter search\n",
    "lr_model = tvs.fit(df)"
   ]
  },
  {
   "cell_type": "markdown",
   "id": "1fa9c326-f0aa-4c4e-8602-e0afd32af9bc",
   "metadata": {},
   "source": [
    "### Evaluate the Model"
   ]
  },
  {
   "cell_type": "code",
   "execution_count": 11,
   "id": "379fa92e-0041-48d1-bb80-ba5012951bbd",
   "metadata": {},
   "outputs": [
    {
     "name": "stdout",
     "output_type": "stream",
     "text": [
      "Tuned Parameters of the Best Model:\n",
      "bootstrap: True\n",
      "cacheNodeIds: False\n",
      "checkpointInterval: 10\n",
      "featureSubsetStrategy: auto\n",
      "featuresCol: scaledFeatures\n",
      "impurity: entropy\n",
      "labelCol: play_type_idx\n",
      "leafCol: \n",
      "maxBins: 32\n",
      "maxDepth: 15\n",
      "maxMemoryInMB: 256\n",
      "minInfoGain: 0.0\n",
      "minInstancesPerNode: 1\n",
      "minWeightFractionPerNode: 0.0\n",
      "numTrees: 50\n",
      "predictionCol: prediction\n",
      "probabilityCol: probability\n",
      "rawPredictionCol: rawPrediction\n",
      "seed: 42\n",
      "subsamplingRate: 1.0\n"
     ]
    }
   ],
   "source": [
    "best_model = lr_model.bestModel\n",
    "\n",
    "# Extract the parameter map of the best model\n",
    "best_params = best_model.stages[-1].extractParamMap()\n",
    "\n",
    "# Print the parameters values\n",
    "print(\"Tuned Parameters of the Best Model:\")\n",
    "for param, value in best_params.items():\n",
    "    print(f\"{param.name}: {value}\")"
   ]
  },
  {
   "cell_type": "code",
   "execution_count": 12,
   "id": "b35437ee-aa32-456f-b6cb-c4f3925686d7",
   "metadata": {},
   "outputs": [],
   "source": [
    "# have to change test df instance\n",
    "test_df = test_df.withColumn(\n",
    "    'surface',\n",
    "    F.when(test_df.surface == '', 'Undefined').otherwise(test_df.surface)\n",
    ")\n",
    "\n",
    "prediction = best_model.transform(test_df)\n"
   ]
  },
  {
   "cell_type": "code",
   "execution_count": 13,
   "id": "4c7a9720-fe4d-4c2c-bdd0-02adf1f269e9",
   "metadata": {},
   "outputs": [
    {
     "name": "stdout",
     "output_type": "stream",
     "text": [
      "24/12/03 21:55:27 WARN TaskSetManager: Stage 625 contains a task of very large size (6176 KiB). The maximum recommended task size is 1000 KiB.\n",
      "24/12/03 21:55:28 WARN TaskSetManager: Stage 626 contains a task of very large size (6176 KiB). The maximum recommended task size is 1000 KiB.\n"
     ]
    },
    {
     "name": "stderr",
     "output_type": "stream",
     "text": [
      "[Stage 629:===================>                                     (1 + 2) / 3]\r"
     ]
    },
    {
     "name": "stdout",
     "output_type": "stream",
     "text": [
      "24/12/03 21:55:31 WARN DAGScheduler: Broadcasting large task binary with size 17.1 MiB\n"
     ]
    },
    {
     "name": "stderr",
     "output_type": "stream",
     "text": [
      "                                                                                \r"
     ]
    },
    {
     "name": "stdout",
     "output_type": "stream",
     "text": [
      "24/12/03 21:55:34 WARN TaskSetManager: Stage 635 contains a task of very large size (6176 KiB). The maximum recommended task size is 1000 KiB.\n",
      "24/12/03 21:55:34 WARN TaskSetManager: Stage 636 contains a task of very large size (6176 KiB). The maximum recommended task size is 1000 KiB.\n"
     ]
    },
    {
     "name": "stderr",
     "output_type": "stream",
     "text": [
      "[Stage 639:======================================>                  (2 + 1) / 3]\r"
     ]
    },
    {
     "name": "stdout",
     "output_type": "stream",
     "text": [
      "24/12/03 21:55:36 WARN DAGScheduler: Broadcasting large task binary with size 17.1 MiB\n"
     ]
    },
    {
     "name": "stderr",
     "output_type": "stream",
     "text": [
      "                                                                                \r"
     ]
    },
    {
     "name": "stdout",
     "output_type": "stream",
     "text": [
      "24/12/03 21:55:38 WARN TaskSetManager: Stage 645 contains a task of very large size (6176 KiB). The maximum recommended task size is 1000 KiB.\n",
      "24/12/03 21:55:39 WARN TaskSetManager: Stage 646 contains a task of very large size (6176 KiB). The maximum recommended task size is 1000 KiB.\n"
     ]
    },
    {
     "name": "stderr",
     "output_type": "stream",
     "text": [
      "[Stage 649:===================>                                     (1 + 2) / 3]\r"
     ]
    },
    {
     "name": "stdout",
     "output_type": "stream",
     "text": [
      "24/12/03 21:55:41 WARN DAGScheduler: Broadcasting large task binary with size 17.1 MiB\n"
     ]
    },
    {
     "name": "stderr",
     "output_type": "stream",
     "text": [
      "                                                                                \r"
     ]
    }
   ],
   "source": [
    "f1_evaluator = MulticlassClassificationEvaluator(\n",
    "    labelCol='play_type_idx', predictionCol=\"prediction\",\n",
    "    metricName='f1'\n",
    ")\n",
    "\n",
    "accuracy_evaluator = MulticlassClassificationEvaluator(\n",
    "    labelCol='play_type_idx', predictionCol=\"prediction\",\n",
    "    metricName='accuracy'\n",
    ")\n",
    "\n",
    "precision_by_label_eval = MulticlassClassificationEvaluator(\n",
    "    labelCol='play_type_idx', predictionCol=\"prediction\",\n",
    "    metricName='precisionByLabel'\n",
    ")\n",
    "\n",
    "f1_score = f1_evaluator.evaluate(prediction)\n",
    "accuracy = accuracy_evaluator.evaluate(prediction)\n",
    "precision_by_label = precision_by_label_eval.evaluate(prediction)"
   ]
  },
  {
   "cell_type": "code",
   "execution_count": null,
   "id": "373d502c-6f99-40a5-8c04-13dd353c9cc0",
   "metadata": {},
   "outputs": [],
   "source": [
    "prediction.select([prediction.play_type_idx, prediction.prediction]).show(10)"
   ]
  },
  {
   "cell_type": "code",
   "execution_count": null,
   "id": "93762d04-5930-4435-b6ea-89b4a7410b16",
   "metadata": {},
   "outputs": [],
   "source": [
    "prediction.groupby(prediction.prediction).count().show()"
   ]
  },
  {
   "cell_type": "code",
   "execution_count": null,
   "id": "21cd6c86-2b93-44f5-b611-f4dec6a3fba5",
   "metadata": {},
   "outputs": [],
   "source": [
    "prediction.groupby(prediction.play_type_idx).count().show()"
   ]
  },
  {
   "cell_type": "code",
   "execution_count": 14,
   "id": "fdf18220-4093-4635-ab84-ddfd9284d579",
   "metadata": {},
   "outputs": [
    {
     "name": "stdout",
     "output_type": "stream",
     "text": [
      "24/12/03 21:55:54 WARN TaskSetManager: Stage 655 contains a task of very large size (6176 KiB). The maximum recommended task size is 1000 KiB.\n",
      "24/12/03 21:55:54 WARN TaskSetManager: Stage 656 contains a task of very large size (6176 KiB). The maximum recommended task size is 1000 KiB.\n"
     ]
    },
    {
     "name": "stderr",
     "output_type": "stream",
     "text": [
      "                                                                                \r"
     ]
    }
   ],
   "source": [
    "labels = prediction.select([prediction.play_type, prediction.play_type_idx]).distinct().orderBy(prediction.play_type_idx).select(prediction.play_type).collect()"
   ]
  },
  {
   "cell_type": "code",
   "execution_count": null,
   "id": "e231c8d6-1f67-469b-a6f3-755d82f0ddad",
   "metadata": {},
   "outputs": [],
   "source": [
    "test_df.groupby(test_df.play_type).count().show()"
   ]
  },
  {
   "cell_type": "code",
   "execution_count": 15,
   "id": "23165c0a-c5b9-42c9-9786-fecd21c7df65",
   "metadata": {},
   "outputs": [
    {
     "name": "stdout",
     "output_type": "stream",
     "text": [
      "\n",
      "F1: 0.8823199664705071\n",
      "Accuracy: 0.9038814059137642\n",
      "Precision by Label: 0.9419751738196643\n",
      "\n"
     ]
    }
   ],
   "source": [
    "results = f'''\n",
    "F1: {f1_score}\n",
    "Accuracy: {accuracy}\n",
    "Precision by Label: {precision_by_label}\n",
    "'''\n",
    "\n",
    "print(results)"
   ]
  },
  {
   "cell_type": "code",
   "execution_count": 16,
   "id": "9b00f9b4-0009-4294-9d5d-1ab0d2f1adbc",
   "metadata": {},
   "outputs": [
    {
     "name": "stdout",
     "output_type": "stream",
     "text": [
      "24/12/03 21:56:14 WARN TaskSetManager: Stage 680 contains a task of very large size (6176 KiB). The maximum recommended task size is 1000 KiB.\n",
      "24/12/03 21:56:15 WARN TaskSetManager: Stage 681 contains a task of very large size (6176 KiB). The maximum recommended task size is 1000 KiB.\n"
     ]
    },
    {
     "name": "stderr",
     "output_type": "stream",
     "text": [
      "[Stage 684:======================================>                  (2 + 1) / 3]\r"
     ]
    },
    {
     "name": "stdout",
     "output_type": "stream",
     "text": [
      "24/12/03 21:56:17 WARN DAGScheduler: Broadcasting large task binary with size 17.1 MiB\n"
     ]
    },
    {
     "name": "stderr",
     "output_type": "stream",
     "text": [
      "                                                                                \r"
     ]
    },
    {
     "name": "stdout",
     "output_type": "stream",
     "text": [
      "24/12/03 21:56:20 WARN DAGScheduler: Broadcasting large task binary with size 17.1 MiB\n"
     ]
    },
    {
     "name": "stderr",
     "output_type": "stream",
     "text": [
      "/opt/conda/lib/python3.7/site-packages/pyspark/sql/context.py:159: FutureWarning: Deprecated in 3.0.0. Use SparkSession.builder.getOrCreate() instead.\n",
      "  FutureWarning,\n"
     ]
    },
    {
     "name": "stdout",
     "output_type": "stream",
     "text": [
      "24/12/03 21:56:22 WARN DAGScheduler: Broadcasting large task binary with size 17.0 MiB\n"
     ]
    },
    {
     "name": "stderr",
     "output_type": "stream",
     "text": [
      "                                                                                \r"
     ]
    },
    {
     "name": "stdout",
     "output_type": "stream",
     "text": [
      "24/12/03 21:56:23 WARN DAGScheduler: Broadcasting large task binary with size 17.0 MiB\n",
      "[[2.5877e+04 2.4600e+02 5.4000e+01 9.0000e+00 1.0000e+00]\n",
      " [5.8000e+01 6.1260e+03 6.3000e+01 1.5000e+01 1.0000e+00]\n",
      " [3.7900e+02 4.9300e+02 1.3190e+03 1.8100e+02 0.0000e+00]\n",
      " [2.5100e+02 3.2200e+02 1.7400e+02 7.0100e+02 0.0000e+00]\n",
      " [9.0600e+02 2.7200e+02 1.3400e+02 5.9000e+01 0.0000e+00]]\n"
     ]
    },
    {
     "name": "stderr",
     "output_type": "stream",
     "text": [
      "                                                                                \r"
     ]
    }
   ],
   "source": [
    "from pyspark.sql.types import FloatType\n",
    "from pyspark.mllib.evaluation import MulticlassMetrics\n",
    "\n",
    "#Adapting code from https://www.kaggle.com/code/ashokkumarpalivela/multiclass-classification-using-pyspark for confusion matrix\n",
    "preds_and_labels = prediction.select(['prediction','play_type_idx'])\\\n",
    "                              .withColumn('play_type_idx', col('play_type_idx')\\\n",
    "                              .cast(FloatType()))\\\n",
    "                              .orderBy('prediction')\n",
    "    \n",
    "metrics = MulticlassMetrics(preds_and_labels.rdd.map(tuple))\n",
    "\n",
    "print(metrics.confusionMatrix().toArray())"
   ]
  },
  {
   "cell_type": "code",
   "execution_count": 17,
   "id": "dcf723f4-ec66-4858-89ac-098050470fe0",
   "metadata": {},
   "outputs": [
    {
     "data": {
      "text/plain": [
       "Text(95.5815972222222, 0.5, 'Actual')"
      ]
     },
     "execution_count": 17,
     "metadata": {},
     "output_type": "execute_result"
    },
    {
     "data": {
      "image/png": "[encoded data removed]",
      "text/plain": [
       "<Figure size 1000x1000 with 1 Axes>"
      ]
     },
     "metadata": {},
     "output_type": "display_data"
    }
   ],
   "source": [
    "# labels = [\"field_goal\", \"no_play\", \"pass\", \"punt\", \"run\"]\n",
    "_ = plt.figure(figsize=(10, 10))\n",
    "ax = sns.heatmap(metrics.confusionMatrix().toArray(),\n",
    "            cmap='viridis',\n",
    "            annot=True,fmt='0',\n",
    "            cbar=False, \n",
    "            xticklabels=labels,\n",
    "            yticklabels=labels)\n",
    "\n",
    "plt.title('Confusion Matrix', fontsize = 20) # title with fontsize 20\n",
    "plt.xlabel('Predicted', fontsize = 15) # x-axis label with fontsize 15\n",
    "plt.ylabel('Actual', fontsize = 15) # y-axis label with fontsize 15"
   ]
  },
  {
   "cell_type": "markdown",
   "id": "7866da5a-0f72-4ee7-baf3-6233698931c3",
   "metadata": {},
   "source": [
    "### Conclusions"
   ]
  },
  {
   "cell_type": "markdown",
   "id": "6e28d1a6-06c7-4524-a4d4-f5fb9f8c2e48",
   "metadata": {},
   "source": [
    "Some quick observations:\n",
    "\n",
    "* Much better performance when we don't undersample, could be because everything is a punt\n",
    "* We need to be careful with the labels for the confusion matrix. They were not intially lining up properly with what the idxs are.\n",
    "* I added temp, wind, roof, surface to the predictors"
   ]
  }
 ],
 "metadata": {
  "kernelspec": {
   "display_name": "DS7200 Spark 3.3",
   "language": "python",
   "name": "ds5110_spark3.3"
  },
  "language_info": {
   "codemirror_mode": {
    "name": "ipython",
    "version": 3
   },
   "file_extension": ".py",
   "mimetype": "text/x-python",
   "name": "python",
   "nbconvert_exporter": "python",
   "pygments_lexer": "ipython3",
   "version": "3.7.12"
  }
 },
 "nbformat": 4,
 "nbformat_minor": 5
}
