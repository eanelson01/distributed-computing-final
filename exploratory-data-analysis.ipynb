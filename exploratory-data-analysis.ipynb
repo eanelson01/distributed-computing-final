{
 "cells": [
  {
   "cell_type": "markdown",
   "id": "fb839d95-a02f-49b8-bd32-8cc4cd560759",
   "metadata": {},
   "source": [
    "## Exploratory Data Analysis\n",
    "\n",
    "This is a file for exploring the NFL Data"
   ]
  },
  {
   "cell_type": "code",
   "execution_count": null,
   "id": "171de7fc-a12a-4f8b-a4f9-2be8c330baf9",
   "metadata": {},
   "outputs": [],
   "source": []
  }
 ],
 "metadata": {
  "kernelspec": {
   "display_name": "PyTorch 2.4.0",
   "language": "python",
   "name": "pytorch-2.4.0"
  },
  "language_info": {
   "codemirror_mode": {
    "name": "ipython",
    "version": 3
   },
   "file_extension": ".py",
   "mimetype": "text/x-python",
   "name": "python",
   "nbconvert_exporter": "python",
   "pygments_lexer": "ipython3",
   "version": "3.10.12"
  }
 },
 "nbformat": 4,
 "nbformat_minor": 5
}
